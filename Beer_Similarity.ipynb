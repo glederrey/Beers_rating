{
 "cells": [
  {
   "cell_type": "markdown",
   "metadata": {},
   "source": [
    "# Introduction\n",
    "\n",
    "In this notebook, we want to study the two datasets in `beerAdv_beer_brewery.tsv` and in `rateBeer_beer_brewery.tsv`. The columns of these datasets are like this:\n",
    "\n",
    "                    beer_id ¦ beer_name ¦ brewery_id ¦ brewery_name\n",
    "            \n",
    "The idea of this notebook is to create a similarity measure in order to find the same elements in both these datasets. Once we have this similarity measure, we want to find the limit X such that:\n",
    "- All pairs with a similarity value of $X' > X$ are considered as the same beer\n",
    "- All pairs with a similarity value of $X'' < X$ are not taken into account.\n",
    "\n",
    "In order to achieve this, this notebook is composed of three parts. The first part is some sort of simple Data Analysis. Then there will be the creation of the pairs and the similarity value. Finally the part to find the best value $X$."
   ]
  },
  {
   "cell_type": "code",
   "execution_count": 2,
   "metadata": {
    "collapsed": false
   },
   "outputs": [
    {
     "name": "stderr",
     "output_type": "stream",
     "text": [
      "C:\\Users\\glede\\Anaconda3\\lib\\site-packages\\fuzzywuzzy\\fuzz.py:35: UserWarning: Using slow pure-python SequenceMatcher. Install python-Levenshtein to remove this warning\n",
      "  warnings.warn('Using slow pure-python SequenceMatcher. Install python-Levenshtein to remove this warning')\n"
     ]
    }
   ],
   "source": [
    "# Usefule imports\n",
    "import pandas as pd\n",
    "import numpy as np\n",
    "import codecs\n",
    "from IPython.display import HTML\n",
    "\n",
    "from fuzzywuzzy import fuzz\n",
    "import multiprocessing\n",
    "from joblib import Parallel, delayed\n",
    "import pickle\n",
    "\n",
    "# For the Pyth§on notebook\n",
    "%matplotlib inline\n",
    "%reload_ext autoreload\n",
    "%autoreload 2"
   ]
  },
  {
   "cell_type": "markdown",
   "metadata": {},
   "source": [
    "## Data Analysis\n",
    "\n",
    "First, we need to analyze the data. It's a simple data analysis since we only have two usefull features: `beer_name` and `brewery_name`."
   ]
  },
  {
   "cell_type": "code",
   "execution_count": 59,
   "metadata": {
    "collapsed": true
   },
   "outputs": [],
   "source": [
    "# Datasets\n",
    "beerAdvocate_dataset = './data/beerAdv_beer_brewery.tsv'\n",
    "rateBeer_dataset = './data/rateBeer_beer_brewery.tsv'"
   ]
  },
  {
   "cell_type": "code",
   "execution_count": 60,
   "metadata": {
    "collapsed": true
   },
   "outputs": [],
   "source": [
    "columns = ['beer_id', 'beer_name', 'brewery_id', 'brewery_name']"
   ]
  },
  {
   "cell_type": "code",
   "execution_count": 254,
   "metadata": {
    "collapsed": false
   },
   "outputs": [],
   "source": [
    "# Load the dataset with pandas\n",
    "beerAdvocate = pd.read_table(beerAdvocate_dataset, header=None)\n",
    "beerAdvocate.columns = columns\n",
    "rateBeer = pd.read_table(rateBeer_dataset, header=None, encoding='utf-8')\n",
    "rateBeer.columns = columns"
   ]
  },
  {
   "cell_type": "code",
   "execution_count": 298,
   "metadata": {
    "collapsed": false
   },
   "outputs": [
    {
     "data": {
      "text/plain": [
       "beer_id                                   720\n",
       "beer_name             Gambrinus Premium ?erné\n",
       "brewery_id                                115\n",
       "brewery_name    Plzensky Prazdroj (SABMiller)\n",
       "Name: 9997, dtype: object"
      ]
     },
     "execution_count": 298,
     "metadata": {},
     "output_type": "execute_result"
    }
   ],
   "source": [
    "rateBeer.ix[9997]"
   ]
  },
  {
   "cell_type": "markdown",
   "metadata": {},
   "source": [
    "Print the two datasets"
   ]
  },
  {
   "cell_type": "code",
   "execution_count": 256,
   "metadata": {
    "collapsed": false
   },
   "outputs": [
    {
     "data": {
      "text/html": [
       "<div>\n",
       "<table border=\"1\" class=\"dataframe\">\n",
       "  <thead>\n",
       "    <tr style=\"text-align: right;\">\n",
       "      <th></th>\n",
       "      <th>beer_id</th>\n",
       "      <th>beer_name</th>\n",
       "      <th>brewery_id</th>\n",
       "      <th>brewery_name</th>\n",
       "    </tr>\n",
       "  </thead>\n",
       "  <tbody>\n",
       "    <tr>\n",
       "      <th>0</th>\n",
       "      <td>14348</td>\n",
       "      <td>Eisbrau Czech</td>\n",
       "      <td>1</td>\n",
       "      <td>Plzensky Prazdroj, a. s.</td>\n",
       "    </tr>\n",
       "    <tr>\n",
       "      <th>1</th>\n",
       "      <td>19099</td>\n",
       "      <td>Primus</td>\n",
       "      <td>1</td>\n",
       "      <td>Plzensky Prazdroj, a. s.</td>\n",
       "    </tr>\n",
       "    <tr>\n",
       "      <th>2</th>\n",
       "      <td>19123</td>\n",
       "      <td>Gambrinus Pale</td>\n",
       "      <td>1</td>\n",
       "      <td>Plzensky Prazdroj, a. s.</td>\n",
       "    </tr>\n",
       "    <tr>\n",
       "      <th>3</th>\n",
       "      <td>19274</td>\n",
       "      <td>Urutislav</td>\n",
       "      <td>1</td>\n",
       "      <td>Plzensky Prazdroj, a. s.</td>\n",
       "    </tr>\n",
       "    <tr>\n",
       "      <th>4</th>\n",
       "      <td>41294</td>\n",
       "      <td>Pilsner Urquell 3.5%</td>\n",
       "      <td>1</td>\n",
       "      <td>Plzensky Prazdroj, a. s.</td>\n",
       "    </tr>\n",
       "  </tbody>\n",
       "</table>\n",
       "</div>"
      ],
      "text/plain": [
       "   beer_id             beer_name  brewery_id              brewery_name\n",
       "0    14348         Eisbrau Czech           1  Plzensky Prazdroj, a. s.\n",
       "1    19099                Primus           1  Plzensky Prazdroj, a. s.\n",
       "2    19123        Gambrinus Pale           1  Plzensky Prazdroj, a. s.\n",
       "3    19274             Urutislav           1  Plzensky Prazdroj, a. s.\n",
       "4    41294  Pilsner Urquell 3.5%           1  Plzensky Prazdroj, a. s."
      ]
     },
     "execution_count": 256,
     "metadata": {},
     "output_type": "execute_result"
    }
   ],
   "source": [
    "beerAdvocate.head()"
   ]
  },
  {
   "cell_type": "code",
   "execution_count": 257,
   "metadata": {
    "collapsed": false,
    "scrolled": false
   },
   "outputs": [
    {
     "data": {
      "text/html": [
       "<div>\n",
       "<table border=\"1\" class=\"dataframe\">\n",
       "  <thead>\n",
       "    <tr style=\"text-align: right;\">\n",
       "      <th></th>\n",
       "      <th>beer_id</th>\n",
       "      <th>beer_name</th>\n",
       "      <th>brewery_id</th>\n",
       "      <th>brewery_name</th>\n",
       "    </tr>\n",
       "  </thead>\n",
       "  <tbody>\n",
       "    <tr>\n",
       "      <th>0</th>\n",
       "      <td>4</td>\n",
       "      <td>Abita Bock</td>\n",
       "      <td>1</td>\n",
       "      <td>Abita Brewing Company</td>\n",
       "    </tr>\n",
       "    <tr>\n",
       "      <th>1</th>\n",
       "      <td>10731</td>\n",
       "      <td>Abita Louisiana Red Ale</td>\n",
       "      <td>1</td>\n",
       "      <td>Abita Brewing Company</td>\n",
       "    </tr>\n",
       "    <tr>\n",
       "      <th>2</th>\n",
       "      <td>114065</td>\n",
       "      <td>Abita Select Pecan Brown Ale</td>\n",
       "      <td>1</td>\n",
       "      <td>Abita Brewing Company</td>\n",
       "    </tr>\n",
       "    <tr>\n",
       "      <th>3</th>\n",
       "      <td>114981</td>\n",
       "      <td>Abita Select Amber Ale</td>\n",
       "      <td>1</td>\n",
       "      <td>Abita Brewing Company</td>\n",
       "    </tr>\n",
       "    <tr>\n",
       "      <th>4</th>\n",
       "      <td>117017</td>\n",
       "      <td>Abita American Wheat</td>\n",
       "      <td>1</td>\n",
       "      <td>Abita Brewing Company</td>\n",
       "    </tr>\n",
       "  </tbody>\n",
       "</table>\n",
       "</div>"
      ],
      "text/plain": [
       "   beer_id                     beer_name  brewery_id           brewery_name\n",
       "0        4                    Abita Bock           1  Abita Brewing Company\n",
       "1    10731       Abita Louisiana Red Ale           1  Abita Brewing Company\n",
       "2   114065  Abita Select Pecan Brown Ale           1  Abita Brewing Company\n",
       "3   114981        Abita Select Amber Ale           1  Abita Brewing Company\n",
       "4   117017          Abita American Wheat           1  Abita Brewing Company"
      ]
     },
     "execution_count": 257,
     "metadata": {},
     "output_type": "execute_result"
    }
   ],
   "source": [
    "rateBeer.head()"
   ]
  },
  {
   "cell_type": "markdown",
   "metadata": {},
   "source": [
    "We just stop two minutes here. We can see a problem with the encoding of the file for *beerAdvocate*. "
   ]
  },
  {
   "cell_type": "code",
   "execution_count": 258,
   "metadata": {
    "collapsed": false
   },
   "outputs": [
    {
     "name": "stdout",
     "output_type": "stream",
     "text": [
      "Master PolotmavÃ½ 13Â°\n"
     ]
    }
   ],
   "source": [
    "name = beerAdvocate.ix[12].beer_name\n",
    "print(name)"
   ]
  },
  {
   "cell_type": "markdown",
   "metadata": {},
   "source": [
    "The encoding here is **latin_1**. Therefore, we can find the UTF-8 encoding by doing this:"
   ]
  },
  {
   "cell_type": "code",
   "execution_count": 259,
   "metadata": {
    "collapsed": false
   },
   "outputs": [
    {
     "name": "stdout",
     "output_type": "stream",
     "text": [
      "Master Polotmavý 13°\n"
     ]
    }
   ],
   "source": [
    "new_name = bytes(name,'latin_1').decode('utf-8')\n",
    "print(new_name)"
   ]
  },
  {
   "cell_type": "markdown",
   "metadata": {},
   "source": [
    "Let's do it everywhere for *beerAdvocate*!"
   ]
  },
  {
   "cell_type": "code",
   "execution_count": 260,
   "metadata": {
    "collapsed": true
   },
   "outputs": [],
   "source": [
    "def decode_from_latin_1(string):\n",
    "    try:\n",
    "        return bytes(string ,'latin_1').decode('utf-8')\n",
    "    except:\n",
    "        return string"
   ]
  },
  {
   "cell_type": "code",
   "execution_count": 261,
   "metadata": {
    "collapsed": false
   },
   "outputs": [],
   "source": [
    "for i in range(len(beerAdvocate)):\n",
    "    # Change the name of the beer\n",
    "    beerAdvocate.set_value(i, 'beer_name', decode_from_latin_1(beerAdvocate.ix[i].beer_name))\n",
    "    beerAdvocate.set_value(i, 'brewery_name', decode_from_latin_1(beerAdvocate.ix[i].brewery_name))\n"
   ]
  },
  {
   "cell_type": "code",
   "execution_count": 262,
   "metadata": {
    "collapsed": false
   },
   "outputs": [
    {
     "data": {
      "text/plain": [
       "'Master Polotmavý 13°'"
      ]
     },
     "execution_count": 262,
     "metadata": {},
     "output_type": "execute_result"
    }
   ],
   "source": [
    "beerAdvocate.ix[12].beer_name"
   ]
  },
  {
   "cell_type": "markdown",
   "metadata": {},
   "source": [
    "Let's print the number of entries in each dataset."
   ]
  },
  {
   "cell_type": "code",
   "execution_count": 263,
   "metadata": {
    "collapsed": false
   },
   "outputs": [
    {
     "name": "stdout",
     "output_type": "stream",
     "text": [
      "Number of rows in beerAdvocate: 66056\n",
      "Number of rows in rateBeer: 110359\n"
     ]
    }
   ],
   "source": [
    "print(\"Number of rows in beerAdvocate: %i\"%(len(beerAdvocate)))\n",
    "print(\"Number of rows in rateBeer: %i\"%(len(rateBeer)))"
   ]
  },
  {
   "cell_type": "markdown",
   "metadata": {},
   "source": [
    "Let's check the number of **unique** beers to see if it matches the number of rows in the dataset."
   ]
  },
  {
   "cell_type": "code",
   "execution_count": 264,
   "metadata": {
    "collapsed": false
   },
   "outputs": [
    {
     "name": "stdout",
     "output_type": "stream",
     "text": [
      "Number of unique beers in beerAdvocate: 56855\n",
      "Number of unique beers in rateBeer: 110302\n"
     ]
    }
   ],
   "source": [
    "unique_beers_beerAdvocate = beerAdvocate.beer_name.unique()\n",
    "unique_beers_rateBeer = rateBeer.beer_name.unique()\n",
    "\n",
    "print(\"Number of unique beers in beerAdvocate: %i\"%(len(unique_beers_beerAdvocate)))\n",
    "print(\"Number of unique beers in rateBeer: %i\"%(len(unique_beers_rateBeer)))"
   ]
  },
  {
   "cell_type": "markdown",
   "metadata": {},
   "source": [
    "It's already interesting to see that some beers have the same name in both datasets. Let's take one of them and see if they have the same `brewery_name`."
   ]
  },
  {
   "cell_type": "code",
   "execution_count": 265,
   "metadata": {
    "collapsed": false
   },
   "outputs": [
    {
     "name": "stdout",
     "output_type": "stream",
     "text": [
      "Number of duplicated beer names in beerAdvocate: 2707\n",
      "Number of duplicated beer names in rateBeer: 55\n"
     ]
    }
   ],
   "source": [
    "duplicated_beers_beerAdvocate = beerAdvocate[beerAdvocate.beer_name.duplicated()].beer_name.unique()\n",
    "duplicated_beers_rateBeer = rateBeer[rateBeer.beer_name.duplicated()].beer_name.unique()\n",
    "\n",
    "print(\"Number of duplicated beer names in beerAdvocate: %i\"%(len(duplicated_beers_beerAdvocate)))\n",
    "print(\"Number of duplicated beer names in rateBeer: %i\"%(len(duplicated_beers_rateBeer)))"
   ]
  },
  {
   "cell_type": "code",
   "execution_count": 266,
   "metadata": {
    "collapsed": false
   },
   "outputs": [],
   "source": [
    "dup_beer_dup_brewery = []\n",
    "\n",
    "# Create list of tuples. \n",
    "#   First entry is the name of the duplicated beer\n",
    "#   Second entry is the list of Brewery that is duplicated\n",
    "#   Third entry is the list of indices to remove them easily.\n",
    "for dup_beer in duplicated_beers_beerAdvocate:\n",
    "    subdf = beerAdvocate[beerAdvocate.beer_name == dup_beer]\n",
    "    if any(subdf.brewery_name.duplicated()):\n",
    "        dup_beer_dup_brewery.append((dup_beer, list(subdf[subdf.brewery_name.duplicated()][\"brewery_name\"]), list(subdf[subdf.brewery_name.duplicated()].index)))"
   ]
  },
  {
   "cell_type": "code",
   "execution_count": 267,
   "metadata": {
    "collapsed": false,
    "scrolled": true
   },
   "outputs": [
    {
     "name": "stdout",
     "output_type": "stream",
     "text": [
      "Number of beers with duplicated brewery in beerAdvocate: 286\n"
     ]
    }
   ],
   "source": [
    "print(\"Number of beers with duplicated brewery in beerAdvocate: %i\"%(len(dup_beer_dup_brewery)))"
   ]
  },
  {
   "cell_type": "markdown",
   "metadata": {},
   "source": [
    "Just check how the function `duplicated` works. For example, if we have two times the same brewery, this means that we would have 3 times the same beer and the same brewery in the data set."
   ]
  },
  {
   "cell_type": "code",
   "execution_count": 268,
   "metadata": {
    "collapsed": false
   },
   "outputs": [
    {
     "data": {
      "text/plain": [
       "('Saison',\n",
       " ['Triumph Brewing Company', 'Triumph Brewing Company'],\n",
       " [22563, 43875])"
      ]
     },
     "execution_count": 268,
     "metadata": {},
     "output_type": "execute_result"
    }
   ],
   "source": [
    "dup_beer_dup_brewery[3]"
   ]
  },
  {
   "cell_type": "code",
   "execution_count": 269,
   "metadata": {
    "collapsed": false,
    "scrolled": false
   },
   "outputs": [
    {
     "data": {
      "text/html": [
       "<div>\n",
       "<table border=\"1\" class=\"dataframe\">\n",
       "  <thead>\n",
       "    <tr style=\"text-align: right;\">\n",
       "      <th></th>\n",
       "      <th>beer_id</th>\n",
       "      <th>beer_name</th>\n",
       "      <th>brewery_id</th>\n",
       "      <th>brewery_name</th>\n",
       "    </tr>\n",
       "  </thead>\n",
       "  <tbody>\n",
       "    <tr>\n",
       "      <th>17881</th>\n",
       "      <td>49387</td>\n",
       "      <td>Saison</td>\n",
       "      <td>1317</td>\n",
       "      <td>Triumph Brewing Company</td>\n",
       "    </tr>\n",
       "    <tr>\n",
       "      <th>22563</th>\n",
       "      <td>37383</td>\n",
       "      <td>Saison</td>\n",
       "      <td>15341</td>\n",
       "      <td>Triumph Brewing Company</td>\n",
       "    </tr>\n",
       "    <tr>\n",
       "      <th>43875</th>\n",
       "      <td>24385</td>\n",
       "      <td>Saison</td>\n",
       "      <td>4832</td>\n",
       "      <td>Triumph Brewing Company</td>\n",
       "    </tr>\n",
       "  </tbody>\n",
       "</table>\n",
       "</div>"
      ],
      "text/plain": [
       "       beer_id beer_name  brewery_id             brewery_name\n",
       "17881    49387    Saison        1317  Triumph Brewing Company\n",
       "22563    37383    Saison       15341  Triumph Brewing Company\n",
       "43875    24385    Saison        4832  Triumph Brewing Company"
      ]
     },
     "execution_count": 269,
     "metadata": {},
     "output_type": "execute_result"
    }
   ],
   "source": [
    "beerAdvocate[(beerAdvocate.beer_name == \"Saison\") & (beerAdvocate.brewery_name == \"Triumph Brewing Company\")]"
   ]
  },
  {
   "cell_type": "markdown",
   "metadata": {},
   "source": [
    "At this point, we imagine that the three entries are the same. But we directly see that the brewery_id is different. And if we go check the breweries on beerAdvocate, we see that the three Breweries are different. Therefore, we cannot say that these three beers are the same. In order to get a better similarity measure, we need to add a bit mopre information about the breweries and the beers. Here are the features we scrap from the websites:\n",
    "- For the brewery:\n",
    "    - The address\n",
    "- For the beer:\n",
    "    - The ABV (Alcohol by Volume)\n",
    "    - The Style\n",
    "\n",
    "At this point, we will not scrap the websites nor use other data. This will be done later in the project. Therefore, we just remove the duplicate indices."
   ]
  },
  {
   "cell_type": "code",
   "execution_count": 273,
   "metadata": {
    "collapsed": false
   },
   "outputs": [],
   "source": [
    "indices_to_remove = []\n",
    "for i in range(len(dup_beer_dup_brewery)):\n",
    "    indices_to_remove.extend(dup_beer_dup_brewery[i][2])"
   ]
  },
  {
   "cell_type": "code",
   "execution_count": 274,
   "metadata": {
    "collapsed": false
   },
   "outputs": [
    {
     "data": {
      "text/html": [
       "<div>\n",
       "<table border=\"1\" class=\"dataframe\">\n",
       "  <thead>\n",
       "    <tr style=\"text-align: right;\">\n",
       "      <th></th>\n",
       "      <th>beer_id</th>\n",
       "      <th>beer_name</th>\n",
       "      <th>brewery_id</th>\n",
       "      <th>brewery_name</th>\n",
       "    </tr>\n",
       "  </thead>\n",
       "  <tbody>\n",
       "    <tr>\n",
       "      <th>65668</th>\n",
       "      <td>76042</td>\n",
       "      <td>Foster's Gold</td>\n",
       "      <td>575</td>\n",
       "      <td>Foster's Group Limited</td>\n",
       "    </tr>\n",
       "    <tr>\n",
       "      <th>65669</th>\n",
       "      <td>917</td>\n",
       "      <td>Foster's Special Bitter</td>\n",
       "      <td>575</td>\n",
       "      <td>Foster's Group Limited</td>\n",
       "    </tr>\n",
       "    <tr>\n",
       "      <th>65670</th>\n",
       "      <td>918</td>\n",
       "      <td>Foster's Lager</td>\n",
       "      <td>575</td>\n",
       "      <td>Foster's Group Limited</td>\n",
       "    </tr>\n",
       "    <tr>\n",
       "      <th>65671</th>\n",
       "      <td>52642</td>\n",
       "      <td>Hefe Weissbier</td>\n",
       "      <td>5751</td>\n",
       "      <td>Bayerische Löwenbrauerei</td>\n",
       "    </tr>\n",
       "    <tr>\n",
       "      <th>65672</th>\n",
       "      <td>58058</td>\n",
       "      <td>Hefeweissbier Dunkel</td>\n",
       "      <td>5751</td>\n",
       "      <td>Bayerische Löwenbrauerei</td>\n",
       "    </tr>\n",
       "  </tbody>\n",
       "</table>\n",
       "</div>"
      ],
      "text/plain": [
       "       beer_id                beer_name  brewery_id              brewery_name\n",
       "65668    76042            Foster's Gold         575    Foster's Group Limited\n",
       "65669      917  Foster's Special Bitter         575    Foster's Group Limited\n",
       "65670      918           Foster's Lager         575    Foster's Group Limited\n",
       "65671    52642           Hefe Weissbier        5751  Bayerische Löwenbrauerei\n",
       "65672    58058     Hefeweissbier Dunkel        5751  Bayerische Löwenbrauerei"
      ]
     },
     "execution_count": 274,
     "metadata": {},
     "output_type": "execute_result"
    }
   ],
   "source": [
    "# Remove the indices in the dataset\n",
    "beerAdvocate = beerAdvocate.drop(indices_to_remove, axis=0)\n",
    "beerAdvocate.index = range(len(beerAdvocate))\n",
    "beerAdvocate.tail()"
   ]
  },
  {
   "cell_type": "markdown",
   "metadata": {},
   "source": [
    "Now, we need to the same for the rateBeer dataset."
   ]
  },
  {
   "cell_type": "code",
   "execution_count": 275,
   "metadata": {
    "collapsed": true
   },
   "outputs": [],
   "source": [
    "dup_beer_dup_brewery = []\n",
    "\n",
    "# Create list of tuples. \n",
    "#   First entry is the name of the duplicated beer\n",
    "#   Second entry is the list of Brewery that is duplicated\n",
    "#   Third entry is the list of indices to remove them easily.\n",
    "for dup_beer in duplicated_beers_rateBeer:\n",
    "    subdf = rateBeer[rateBeer.beer_name == dup_beer]\n",
    "    if any(subdf.brewery_name.duplicated()):\n",
    "        dup_beer_dup_brewery.append((dup_beer, list(subdf[subdf.brewery_name.duplicated()][\"brewery_name\"]), list(subdf[subdf.brewery_name.duplicated()].index)))"
   ]
  },
  {
   "cell_type": "code",
   "execution_count": 276,
   "metadata": {
    "collapsed": false
   },
   "outputs": [
    {
     "name": "stdout",
     "output_type": "stream",
     "text": [
      "Number of beers with duplicated brewery in beerRate: 4\n"
     ]
    }
   ],
   "source": [
    "print(\"Number of beers with duplicated brewery in beerRate: %i\"%(len(dup_beer_dup_brewery)))"
   ]
  },
  {
   "cell_type": "code",
   "execution_count": 277,
   "metadata": {
    "collapsed": false
   },
   "outputs": [
    {
     "data": {
      "text/plain": [
       "[('Traugott Simon Export', ['Udo Täubrich Betreuungs'], [9819]),\n",
       " ('Big Horn Saison',\n",
       "  ['Big Horn Brewing Company (Ram International)'],\n",
       "  [19577]),\n",
       " ('Yukon Lead Dog Ale', ['Yukon Brewing Company'], [37365]),\n",
       " ('Prison Brews Winter Ale', ['Prison Brews'], [77632])]"
      ]
     },
     "execution_count": 277,
     "metadata": {},
     "output_type": "execute_result"
    }
   ],
   "source": [
    "dup_beer_dup_brewery"
   ]
  },
  {
   "cell_type": "code",
   "execution_count": 278,
   "metadata": {
    "collapsed": true
   },
   "outputs": [],
   "source": [
    "indices_to_remove = []\n",
    "for i in range(len(dup_beer_dup_brewery)):\n",
    "    indices_to_remove.extend(dup_beer_dup_brewery[i][2])"
   ]
  },
  {
   "cell_type": "code",
   "execution_count": 279,
   "metadata": {
    "collapsed": false
   },
   "outputs": [
    {
     "data": {
      "text/html": [
       "<div>\n",
       "<table border=\"1\" class=\"dataframe\">\n",
       "  <thead>\n",
       "    <tr style=\"text-align: right;\">\n",
       "      <th></th>\n",
       "      <th>beer_id</th>\n",
       "      <th>beer_name</th>\n",
       "      <th>brewery_id</th>\n",
       "      <th>brewery_name</th>\n",
       "    </tr>\n",
       "  </thead>\n",
       "  <tbody>\n",
       "    <tr>\n",
       "      <th>110350</th>\n",
       "      <td>77397</td>\n",
       "      <td>Jelling Bryghus Frode Fredegod</td>\n",
       "      <td>8804</td>\n",
       "      <td>Jelling Bryghus</td>\n",
       "    </tr>\n",
       "    <tr>\n",
       "      <th>110351</th>\n",
       "      <td>77398</td>\n",
       "      <td>Jelling Bryghus Poppo</td>\n",
       "      <td>8804</td>\n",
       "      <td>Jelling Bryghus</td>\n",
       "    </tr>\n",
       "    <tr>\n",
       "      <th>110352</th>\n",
       "      <td>77399</td>\n",
       "      <td>Jelling Bryghus Jelling Jól</td>\n",
       "      <td>8804</td>\n",
       "      <td>Jelling Bryghus</td>\n",
       "    </tr>\n",
       "    <tr>\n",
       "      <th>110353</th>\n",
       "      <td>89887</td>\n",
       "      <td>Jelling Bryghus Jalunki</td>\n",
       "      <td>8804</td>\n",
       "      <td>Jelling Bryghus</td>\n",
       "    </tr>\n",
       "    <tr>\n",
       "      <th>110354</th>\n",
       "      <td>97191</td>\n",
       "      <td>Jelling Bryghus Sildeglimt</td>\n",
       "      <td>8804</td>\n",
       "      <td>Jelling Bryghus</td>\n",
       "    </tr>\n",
       "  </tbody>\n",
       "</table>\n",
       "</div>"
      ],
      "text/plain": [
       "        beer_id                       beer_name  brewery_id     brewery_name\n",
       "110350    77397  Jelling Bryghus Frode Fredegod        8804  Jelling Bryghus\n",
       "110351    77398           Jelling Bryghus Poppo        8804  Jelling Bryghus\n",
       "110352    77399     Jelling Bryghus Jelling Jól        8804  Jelling Bryghus\n",
       "110353    89887         Jelling Bryghus Jalunki        8804  Jelling Bryghus\n",
       "110354    97191      Jelling Bryghus Sildeglimt        8804  Jelling Bryghus"
      ]
     },
     "execution_count": 279,
     "metadata": {},
     "output_type": "execute_result"
    }
   ],
   "source": [
    "# Remove the indices in the dataset\n",
    "rateBeer = rateBeer.drop(indices_to_remove, axis=0)\n",
    "rateBeer.index = range(len(rateBeer))\n",
    "rateBeer.tail()"
   ]
  },
  {
   "cell_type": "markdown",
   "metadata": {},
   "source": [
    "### Save the cleaned data set\n",
    "\n",
    "Now that the datasets are cleaned, we can save them in a CSV format."
   ]
  },
  {
   "cell_type": "code",
   "execution_count": 280,
   "metadata": {
    "collapsed": false
   },
   "outputs": [],
   "source": [
    "beerAdvocate.to_csv('./data/beerAdvocate_cleaned.csv', index=False, encoding='utf-8')\n",
    "rateBeer.to_csv('./data/rateBeer_cleaned.csv', index=False, encoding='utf-8')"
   ]
  },
  {
   "cell_type": "markdown",
   "metadata": {},
   "source": [
    "# Similarity\n",
    "\n",
    "** YOU CAN DIRECTLY START FROM HERE. NO NEED TO REDO THE CLEANING OF THE DATASETS! **\n",
    "\n",
    "Now, we want to match beers between the two different datasets. Let's load them first. Then, we will create a matrix of size $N\\times M$, $N$ being the size of *RateBeer* dataset and $M$ being the size of *BeerAdvocate* dataset. Since $M < N$, we want to get a vector of size $M\\times 5$. (5 because we will aggregate the text columns and the id columns for each dataset and the similarity value.)"
   ]
  },
  {
   "cell_type": "code",
   "execution_count": 3,
   "metadata": {
    "collapsed": false
   },
   "outputs": [],
   "source": [
    "beerAdvocate = pd.read_csv('./data/beerAdvocate_cleaned.csv', dtype=str)\n",
    "rateBeer = pd.read_csv('./data/rateBeer_cleaned.csv', dtype=str)"
   ]
  },
  {
   "cell_type": "code",
   "execution_count": 4,
   "metadata": {
    "collapsed": false
   },
   "outputs": [
    {
     "data": {
      "text/html": [
       "<div>\n",
       "<table border=\"1\" class=\"dataframe\">\n",
       "  <thead>\n",
       "    <tr style=\"text-align: right;\">\n",
       "      <th></th>\n",
       "      <th>beer_id</th>\n",
       "      <th>beer_name</th>\n",
       "      <th>brewery_id</th>\n",
       "      <th>brewery_name</th>\n",
       "    </tr>\n",
       "  </thead>\n",
       "  <tbody>\n",
       "    <tr>\n",
       "      <th>0</th>\n",
       "      <td>14348</td>\n",
       "      <td>Eisbrau Czech</td>\n",
       "      <td>1</td>\n",
       "      <td>Plzensky Prazdroj, a. s.</td>\n",
       "    </tr>\n",
       "    <tr>\n",
       "      <th>1</th>\n",
       "      <td>19099</td>\n",
       "      <td>Primus</td>\n",
       "      <td>1</td>\n",
       "      <td>Plzensky Prazdroj, a. s.</td>\n",
       "    </tr>\n",
       "    <tr>\n",
       "      <th>2</th>\n",
       "      <td>19123</td>\n",
       "      <td>Gambrinus Pale</td>\n",
       "      <td>1</td>\n",
       "      <td>Plzensky Prazdroj, a. s.</td>\n",
       "    </tr>\n",
       "    <tr>\n",
       "      <th>3</th>\n",
       "      <td>19274</td>\n",
       "      <td>Urutislav</td>\n",
       "      <td>1</td>\n",
       "      <td>Plzensky Prazdroj, a. s.</td>\n",
       "    </tr>\n",
       "    <tr>\n",
       "      <th>4</th>\n",
       "      <td>41294</td>\n",
       "      <td>Pilsner Urquell 3.5%</td>\n",
       "      <td>1</td>\n",
       "      <td>Plzensky Prazdroj, a. s.</td>\n",
       "    </tr>\n",
       "  </tbody>\n",
       "</table>\n",
       "</div>"
      ],
      "text/plain": [
       "  beer_id             beer_name brewery_id              brewery_name\n",
       "0   14348         Eisbrau Czech          1  Plzensky Prazdroj, a. s.\n",
       "1   19099                Primus          1  Plzensky Prazdroj, a. s.\n",
       "2   19123        Gambrinus Pale          1  Plzensky Prazdroj, a. s.\n",
       "3   19274             Urutislav          1  Plzensky Prazdroj, a. s.\n",
       "4   41294  Pilsner Urquell 3.5%          1  Plzensky Prazdroj, a. s."
      ]
     },
     "execution_count": 4,
     "metadata": {},
     "output_type": "execute_result"
    }
   ],
   "source": [
    "beerAdvocate.head()"
   ]
  },
  {
   "cell_type": "code",
   "execution_count": 5,
   "metadata": {
    "collapsed": false,
    "scrolled": false
   },
   "outputs": [
    {
     "data": {
      "text/html": [
       "<div>\n",
       "<table border=\"1\" class=\"dataframe\">\n",
       "  <thead>\n",
       "    <tr style=\"text-align: right;\">\n",
       "      <th></th>\n",
       "      <th>beer_id</th>\n",
       "      <th>beer_name</th>\n",
       "      <th>brewery_id</th>\n",
       "      <th>brewery_name</th>\n",
       "    </tr>\n",
       "  </thead>\n",
       "  <tbody>\n",
       "    <tr>\n",
       "      <th>0</th>\n",
       "      <td>4</td>\n",
       "      <td>Abita Bock</td>\n",
       "      <td>1</td>\n",
       "      <td>Abita Brewing Company</td>\n",
       "    </tr>\n",
       "    <tr>\n",
       "      <th>1</th>\n",
       "      <td>10731</td>\n",
       "      <td>Abita Louisiana Red Ale</td>\n",
       "      <td>1</td>\n",
       "      <td>Abita Brewing Company</td>\n",
       "    </tr>\n",
       "    <tr>\n",
       "      <th>2</th>\n",
       "      <td>114065</td>\n",
       "      <td>Abita Select Pecan Brown Ale</td>\n",
       "      <td>1</td>\n",
       "      <td>Abita Brewing Company</td>\n",
       "    </tr>\n",
       "    <tr>\n",
       "      <th>3</th>\n",
       "      <td>114981</td>\n",
       "      <td>Abita Select Amber Ale</td>\n",
       "      <td>1</td>\n",
       "      <td>Abita Brewing Company</td>\n",
       "    </tr>\n",
       "    <tr>\n",
       "      <th>4</th>\n",
       "      <td>117017</td>\n",
       "      <td>Abita American Wheat</td>\n",
       "      <td>1</td>\n",
       "      <td>Abita Brewing Company</td>\n",
       "    </tr>\n",
       "  </tbody>\n",
       "</table>\n",
       "</div>"
      ],
      "text/plain": [
       "  beer_id                     beer_name brewery_id           brewery_name\n",
       "0       4                    Abita Bock          1  Abita Brewing Company\n",
       "1   10731       Abita Louisiana Red Ale          1  Abita Brewing Company\n",
       "2  114065  Abita Select Pecan Brown Ale          1  Abita Brewing Company\n",
       "3  114981        Abita Select Amber Ale          1  Abita Brewing Company\n",
       "4  117017          Abita American Wheat          1  Abita Brewing Company"
      ]
     },
     "execution_count": 5,
     "metadata": {},
     "output_type": "execute_result"
    }
   ],
   "source": [
    "rateBeer.head()"
   ]
  },
  {
   "cell_type": "code",
   "execution_count": 6,
   "metadata": {
    "collapsed": false
   },
   "outputs": [],
   "source": [
    "unique_rateBeer_breweries = rateBeer.brewery_name.unique()"
   ]
  },
  {
   "cell_type": "markdown",
   "metadata": {},
   "source": [
    "We can now try to see the similarity between two strings."
   ]
  },
  {
   "cell_type": "code",
   "execution_count": 172,
   "metadata": {
    "collapsed": false
   },
   "outputs": [],
   "source": [
    "def similarity_lines(line_1, line_2): \n",
    "    beer_val = fuzz.token_set_ratio(line_1.beer_name, line_2.beer_name)/100\n",
    "    brewery_val = fuzz.token_set_ratio(line_1.brewery_name, line_2.brewery_name)/100\n",
    "    return (beer_val*brewery_val)\n",
    "\n",
    "def similarity(test):\n",
    "    brewery = test.brewery_name.replace(\"'\", \"\")\n",
    "    beer = test.beer_name.replace(\"'\", \"\")\n",
    "    \n",
    "    brewery_sim = np.zeros(len(unique_rateBeer_breweries))\n",
    "    for i in range(len(unique_rateBeer_breweries)):\n",
    "        brewery_sim[i] = fuzz.token_set_ratio(brewery, unique_rateBeer_breweries[i])/100.0\n",
    "        \n",
    "    idx_best_match_brewery = np.argmax(brewery_sim)\n",
    "    best_match_brewery = np.max(brewery_sim)\n",
    "    \n",
    "    beer_names = list(rateBeer[rateBeer.brewery_name == unique_rateBeer_breweries[idx_best_match_brewery]].beer_name)\n",
    "        \n",
    "    N = len(beer_names)\n",
    "\n",
    "    test_beers = np.zeros(N)\n",
    "    for i in range(N):\n",
    "        val1 = fuzz.token_set_ratio(beer, beer_names[i])/100.0\n",
    "        val2 = fuzz.partial_ratio(beer, beer_names[i])/100.0\n",
    "        test_beers[i] = 0.75*val1+0.25*val2\n",
    "        \n",
    "    best_idx = np.argsort(test_beers)[::-1]\n",
    "    \n",
    "    nbr_match = 5\n",
    "    if N < 5:\n",
    "        nbr_match = N\n",
    "    \n",
    "    matches = []\n",
    "    for i in range(nbr_match):\n",
    "        matches.append((beer_names[best_idx[i]], \n",
    "                        unique_rateBeer_breweries[idx_best_match_brewery], \n",
    "                        test_beers[best_idx[i]]*best_match_brewery))\n",
    "        \n",
    "    ## Double check \n",
    "    # If the elements have the same best values, but the string is longer,\n",
    "    # we have to put it first. (Problem with this algo)\n",
    "    \n",
    "    best_sim = matches[0][2]\n",
    "    idx = [0]\n",
    "    diff_length_beer_name = [abs(len(matches[0][0])-len(beer))]\n",
    "    for i in range(1,nbr_match):\n",
    "        if matches[i][2] == best_sim:\n",
    "            idx.append(i)\n",
    "            diff_length_beer_name.append(abs(len(matches[i][0])-len(beer)))\n",
    "            \n",
    "    best_idx = np.argsort(diff_length_beer_name)\n",
    "    idx = np.asarray(idx)\n",
    "    \n",
    "    matches = np.asarray(matches)\n",
    "    \n",
    "    matches[idx] = matches[best_idx]\n",
    "            \n",
    "    return matches"
   ]
  },
  {
   "cell_type": "code",
   "execution_count": 173,
   "metadata": {
    "collapsed": false
   },
   "outputs": [
    {
     "data": {
      "text/plain": [
       "8"
      ]
     },
     "execution_count": 173,
     "metadata": {},
     "output_type": "execute_result"
    }
   ],
   "source": [
    "nbr_jobs = multiprocessing.cpu_count()\n",
    "nbr_jobs"
   ]
  },
  {
   "cell_type": "markdown",
   "metadata": {},
   "source": [
    "** YOU CAN SKIP THIS PART AND SIMPLY UNZIP THE FILE `similarity.zip` IN DATA**"
   ]
  },
  {
   "cell_type": "code",
   "execution_count": null,
   "metadata": {
    "collapsed": false,
    "scrolled": true
   },
   "outputs": [],
   "source": [
    "%%time\n",
    "M = len(beerAdvocate)\n",
    "N = len(rateBeer)\n",
    "\n",
    "sim = Parallel(n_jobs=nbr_jobs)(delayed(similarity)(beerAdvocate.ix[idx]) for idx in range(M))"
   ]
  },
  {
   "cell_type": "code",
   "execution_count": null,
   "metadata": {
    "collapsed": true
   },
   "outputs": [],
   "source": [
    "pickle.dump(sim, open('./data/similarity.pickle', \"wb\"))"
   ]
  },
  {
   "cell_type": "markdown",
   "metadata": {},
   "source": [
    "** CONTINUE HERE **"
   ]
  },
  {
   "cell_type": "code",
   "execution_count": 8,
   "metadata": {
    "collapsed": true
   },
   "outputs": [],
   "source": [
    "sim = pickle.load(open('./data/similarity.pickle', \"rb\"))"
   ]
  },
  {
   "cell_type": "code",
   "execution_count": 15,
   "metadata": {
    "collapsed": false
   },
   "outputs": [
    {
     "data": {
      "text/plain": [
       "array([['Eisbrau Czech', 'Plzensky Prazdroj (SABMiller)', '0.89'],\n",
       "       ['Gambrinus 11° Excelent', 'Plzensky Prazdroj (SABMiller)', '0.3115'],\n",
       "       ['Gambrinus Premium ?erné', 'Plzensky Prazdroj (SABMiller)',\n",
       "        '0.3115'],\n",
       "       ['Gambrinus 13° Excelent', 'Plzensky Prazdroj (SABMiller)', '0.3115'],\n",
       "       ['Eger Urbier', 'Plzensky Prazdroj (SABMiller)', '0.2937']], \n",
       "      dtype='<U29')"
      ]
     },
     "execution_count": 15,
     "metadata": {},
     "output_type": "execute_result"
    }
   ],
   "source": [
    "sim[0]"
   ]
  },
  {
   "cell_type": "code",
   "execution_count": 18,
   "metadata": {
    "collapsed": false
   },
   "outputs": [],
   "source": [
    "best_sim = np.zeros(len(sim))\n",
    "best_match_beer = []\n",
    "best_match_brewery = []"
   ]
  },
  {
   "cell_type": "code",
   "execution_count": 19,
   "metadata": {
    "collapsed": false
   },
   "outputs": [],
   "source": [
    "for i in range(len(sim)):\n",
    "    best_sim[i] = sim[i][0][2]\n",
    "    best_match_beer.append(sim[i][0][0])\n",
    "    best_match_brewery.append(sim[i][0][1])"
   ]
  },
  {
   "cell_type": "code",
   "execution_count": 36,
   "metadata": {
    "collapsed": true
   },
   "outputs": [],
   "source": [
    "matching_beers = beerAdvocate.copy()"
   ]
  },
  {
   "cell_type": "code",
   "execution_count": 37,
   "metadata": {
    "collapsed": false
   },
   "outputs": [],
   "source": [
    "matching_beers.columns = [s + '_beerAdvocate' for s in matching_beers.columns]"
   ]
  },
  {
   "cell_type": "code",
   "execution_count": 38,
   "metadata": {
    "collapsed": false
   },
   "outputs": [
    {
     "data": {
      "text/html": [
       "<div>\n",
       "<table border=\"1\" class=\"dataframe\">\n",
       "  <thead>\n",
       "    <tr style=\"text-align: right;\">\n",
       "      <th></th>\n",
       "      <th>beer_id_beerAdvocate</th>\n",
       "      <th>beer_name_beerAdvocate</th>\n",
       "      <th>brewery_id_beerAdvocate</th>\n",
       "      <th>brewery_name_beerAdvocate</th>\n",
       "    </tr>\n",
       "  </thead>\n",
       "  <tbody>\n",
       "    <tr>\n",
       "      <th>0</th>\n",
       "      <td>14348</td>\n",
       "      <td>Eisbrau Czech</td>\n",
       "      <td>1</td>\n",
       "      <td>Plzensky Prazdroj, a. s.</td>\n",
       "    </tr>\n",
       "    <tr>\n",
       "      <th>1</th>\n",
       "      <td>19099</td>\n",
       "      <td>Primus</td>\n",
       "      <td>1</td>\n",
       "      <td>Plzensky Prazdroj, a. s.</td>\n",
       "    </tr>\n",
       "    <tr>\n",
       "      <th>2</th>\n",
       "      <td>19123</td>\n",
       "      <td>Gambrinus Pale</td>\n",
       "      <td>1</td>\n",
       "      <td>Plzensky Prazdroj, a. s.</td>\n",
       "    </tr>\n",
       "    <tr>\n",
       "      <th>3</th>\n",
       "      <td>19274</td>\n",
       "      <td>Urutislav</td>\n",
       "      <td>1</td>\n",
       "      <td>Plzensky Prazdroj, a. s.</td>\n",
       "    </tr>\n",
       "    <tr>\n",
       "      <th>4</th>\n",
       "      <td>41294</td>\n",
       "      <td>Pilsner Urquell 3.5%</td>\n",
       "      <td>1</td>\n",
       "      <td>Plzensky Prazdroj, a. s.</td>\n",
       "    </tr>\n",
       "  </tbody>\n",
       "</table>\n",
       "</div>"
      ],
      "text/plain": [
       "  beer_id_beerAdvocate beer_name_beerAdvocate brewery_id_beerAdvocate  \\\n",
       "0                14348          Eisbrau Czech                       1   \n",
       "1                19099                 Primus                       1   \n",
       "2                19123         Gambrinus Pale                       1   \n",
       "3                19274              Urutislav                       1   \n",
       "4                41294   Pilsner Urquell 3.5%                       1   \n",
       "\n",
       "  brewery_name_beerAdvocate  \n",
       "0  Plzensky Prazdroj, a. s.  \n",
       "1  Plzensky Prazdroj, a. s.  \n",
       "2  Plzensky Prazdroj, a. s.  \n",
       "3  Plzensky Prazdroj, a. s.  \n",
       "4  Plzensky Prazdroj, a. s.  "
      ]
     },
     "execution_count": 38,
     "metadata": {},
     "output_type": "execute_result"
    }
   ],
   "source": [
    "matching_beers.head()"
   ]
  },
  {
   "cell_type": "code",
   "execution_count": 40,
   "metadata": {
    "collapsed": true
   },
   "outputs": [],
   "source": [
    "matching_beers['beer_name_rateBeer'] = best_match_beer\n",
    "matching_beers['brewery_name_rateBeer'] = best_match_brewery\n",
    "matching_beers['similarity'] = best_sim"
   ]
  },
  {
   "cell_type": "code",
   "execution_count": 41,
   "metadata": {
    "collapsed": false
   },
   "outputs": [
    {
     "data": {
      "text/html": [
       "<div>\n",
       "<table border=\"1\" class=\"dataframe\">\n",
       "  <thead>\n",
       "    <tr style=\"text-align: right;\">\n",
       "      <th></th>\n",
       "      <th>beer_id_beerAdvocate</th>\n",
       "      <th>beer_name_beerAdvocate</th>\n",
       "      <th>brewery_id_beerAdvocate</th>\n",
       "      <th>brewery_name_beerAdvocate</th>\n",
       "      <th>beer_name_rateBeer</th>\n",
       "      <th>brewery_name_rateBeer</th>\n",
       "      <th>similarity</th>\n",
       "    </tr>\n",
       "  </thead>\n",
       "  <tbody>\n",
       "    <tr>\n",
       "      <th>0</th>\n",
       "      <td>14348</td>\n",
       "      <td>Eisbrau Czech</td>\n",
       "      <td>1</td>\n",
       "      <td>Plzensky Prazdroj, a. s.</td>\n",
       "      <td>Eisbrau Czech</td>\n",
       "      <td>Plzensky Prazdroj (SABMiller)</td>\n",
       "      <td>0.8900</td>\n",
       "    </tr>\n",
       "    <tr>\n",
       "      <th>1</th>\n",
       "      <td>19099</td>\n",
       "      <td>Primus</td>\n",
       "      <td>1</td>\n",
       "      <td>Plzensky Prazdroj, a. s.</td>\n",
       "      <td>Primus Sv&amp;#283tlé (Pale)</td>\n",
       "      <td>Plzensky Prazdroj (SABMiller)</td>\n",
       "      <td>0.8900</td>\n",
       "    </tr>\n",
       "    <tr>\n",
       "      <th>2</th>\n",
       "      <td>19123</td>\n",
       "      <td>Gambrinus Pale</td>\n",
       "      <td>1</td>\n",
       "      <td>Plzensky Prazdroj, a. s.</td>\n",
       "      <td>Gambrinus Bílé</td>\n",
       "      <td>Plzensky Prazdroj (SABMiller)</td>\n",
       "      <td>0.7654</td>\n",
       "    </tr>\n",
       "    <tr>\n",
       "      <th>3</th>\n",
       "      <td>19274</td>\n",
       "      <td>Urutislav</td>\n",
       "      <td>1</td>\n",
       "      <td>Plzensky Prazdroj, a. s.</td>\n",
       "      <td>Gambrinus Braustolz</td>\n",
       "      <td>Plzensky Prazdroj (SABMiller)</td>\n",
       "      <td>0.3204</td>\n",
       "    </tr>\n",
       "    <tr>\n",
       "      <th>4</th>\n",
       "      <td>41294</td>\n",
       "      <td>Pilsner Urquell 3.5%</td>\n",
       "      <td>1</td>\n",
       "      <td>Plzensky Prazdroj, a. s.</td>\n",
       "      <td>Pilsner Urquell 3.5%</td>\n",
       "      <td>Plzensky Prazdroj (SABMiller)</td>\n",
       "      <td>0.8900</td>\n",
       "    </tr>\n",
       "  </tbody>\n",
       "</table>\n",
       "</div>"
      ],
      "text/plain": [
       "  beer_id_beerAdvocate beer_name_beerAdvocate brewery_id_beerAdvocate  \\\n",
       "0                14348          Eisbrau Czech                       1   \n",
       "1                19099                 Primus                       1   \n",
       "2                19123         Gambrinus Pale                       1   \n",
       "3                19274              Urutislav                       1   \n",
       "4                41294   Pilsner Urquell 3.5%                       1   \n",
       "\n",
       "  brewery_name_beerAdvocate        beer_name_rateBeer  \\\n",
       "0  Plzensky Prazdroj, a. s.             Eisbrau Czech   \n",
       "1  Plzensky Prazdroj, a. s.  Primus Sv&#283tlé (Pale)   \n",
       "2  Plzensky Prazdroj, a. s.            Gambrinus Bílé   \n",
       "3  Plzensky Prazdroj, a. s.       Gambrinus Braustolz   \n",
       "4  Plzensky Prazdroj, a. s.      Pilsner Urquell 3.5%   \n",
       "\n",
       "           brewery_name_rateBeer  similarity  \n",
       "0  Plzensky Prazdroj (SABMiller)      0.8900  \n",
       "1  Plzensky Prazdroj (SABMiller)      0.8900  \n",
       "2  Plzensky Prazdroj (SABMiller)      0.7654  \n",
       "3  Plzensky Prazdroj (SABMiller)      0.3204  \n",
       "4  Plzensky Prazdroj (SABMiller)      0.8900  "
      ]
     },
     "execution_count": 41,
     "metadata": {},
     "output_type": "execute_result"
    }
   ],
   "source": [
    "matching_beers.head()\n"
   ]
  },
  {
   "cell_type": "code",
   "execution_count": 53,
   "metadata": {
    "collapsed": false
   },
   "outputs": [
    {
     "data": {
      "text/plain": [
       "34772"
      ]
     },
     "execution_count": 53,
     "metadata": {},
     "output_type": "execute_result"
    }
   ],
   "source": [
    "len(matching_beers[matching_beers.beer_name_rateBeer.duplicated(keep=False)])"
   ]
  },
  {
   "cell_type": "code",
   "execution_count": 138,
   "metadata": {
    "collapsed": false
   },
   "outputs": [
    {
     "data": {
      "text/html": [
       "<div>\n",
       "<table border=\"1\" class=\"dataframe\">\n",
       "  <thead>\n",
       "    <tr style=\"text-align: right;\">\n",
       "      <th></th>\n",
       "      <th>beer_id_beerAdvocate</th>\n",
       "      <th>beer_name_beerAdvocate</th>\n",
       "      <th>brewery_id_beerAdvocate</th>\n",
       "      <th>brewery_name_beerAdvocate</th>\n",
       "      <th>beer_name_rateBeer</th>\n",
       "      <th>brewery_name_rateBeer</th>\n",
       "      <th>similarity</th>\n",
       "    </tr>\n",
       "  </thead>\n",
       "  <tbody>\n",
       "    <tr>\n",
       "      <th>2</th>\n",
       "      <td>19123</td>\n",
       "      <td>Gambrinus Pale</td>\n",
       "      <td>1</td>\n",
       "      <td>Plzensky Prazdroj, a. s.</td>\n",
       "      <td>Gambrinus Bílé</td>\n",
       "      <td>Plzensky Prazdroj (SABMiller)</td>\n",
       "      <td>0.7654</td>\n",
       "    </tr>\n",
       "    <tr>\n",
       "      <th>8</th>\n",
       "      <td>51575</td>\n",
       "      <td>Gambrinus Svetly</td>\n",
       "      <td>1</td>\n",
       "      <td>Plzensky Prazdroj, a. s.</td>\n",
       "      <td>Gambrinus Bílé</td>\n",
       "      <td>Plzensky Prazdroj (SABMiller)</td>\n",
       "      <td>0.7654</td>\n",
       "    </tr>\n",
       "    <tr>\n",
       "      <th>9</th>\n",
       "      <td>5916</td>\n",
       "      <td>Gambrinus</td>\n",
       "      <td>1</td>\n",
       "      <td>Plzensky Prazdroj, a. s.</td>\n",
       "      <td>Gambrinus Bílé</td>\n",
       "      <td>Plzensky Prazdroj (SABMiller)</td>\n",
       "      <td>0.8900</td>\n",
       "    </tr>\n",
       "    <tr>\n",
       "      <th>10</th>\n",
       "      <td>59315</td>\n",
       "      <td>Master Zlatý 15°</td>\n",
       "      <td>1</td>\n",
       "      <td>Plzensky Prazdroj, a. s.</td>\n",
       "      <td>Gambrinus Master</td>\n",
       "      <td>Plzensky Prazdroj (SABMiller)</td>\n",
       "      <td>0.5340</td>\n",
       "    </tr>\n",
       "    <tr>\n",
       "      <th>11</th>\n",
       "      <td>67962</td>\n",
       "      <td>Master Tmavý 18°</td>\n",
       "      <td>1</td>\n",
       "      <td>Plzensky Prazdroj, a. s.</td>\n",
       "      <td>Gambrinus Master</td>\n",
       "      <td>Plzensky Prazdroj (SABMiller)</td>\n",
       "      <td>0.5340</td>\n",
       "    </tr>\n",
       "    <tr>\n",
       "      <th>12</th>\n",
       "      <td>69068</td>\n",
       "      <td>Master Polotmavý 13°</td>\n",
       "      <td>1</td>\n",
       "      <td>Plzensky Prazdroj, a. s.</td>\n",
       "      <td>Gambrinus Master</td>\n",
       "      <td>Plzensky Prazdroj (SABMiller)</td>\n",
       "      <td>0.4895</td>\n",
       "    </tr>\n",
       "    <tr>\n",
       "      <th>21</th>\n",
       "      <td>12912</td>\n",
       "      <td>McNeill's Doc Feelgood's Pils</td>\n",
       "      <td>100</td>\n",
       "      <td>McNeill's Brewery</td>\n",
       "      <td>McNeills Kölsch</td>\n",
       "      <td>McNeills Brewery</td>\n",
       "      <td>0.7300</td>\n",
       "    </tr>\n",
       "    <tr>\n",
       "      <th>26</th>\n",
       "      <td>12918</td>\n",
       "      <td>McNeill's Tartan Export</td>\n",
       "      <td>100</td>\n",
       "      <td>McNeill's Brewery</td>\n",
       "      <td>McNeills Tartan Export Ale</td>\n",
       "      <td>McNeills Brewery</td>\n",
       "      <td>1.0000</td>\n",
       "    </tr>\n",
       "    <tr>\n",
       "      <th>35</th>\n",
       "      <td>2187</td>\n",
       "      <td>McNeill's Old Ringworm</td>\n",
       "      <td>100</td>\n",
       "      <td>McNeill's Brewery</td>\n",
       "      <td>McNeills Old Ringworm</td>\n",
       "      <td>McNeills Brewery</td>\n",
       "      <td>1.0000</td>\n",
       "    </tr>\n",
       "    <tr>\n",
       "      <th>41</th>\n",
       "      <td>33212</td>\n",
       "      <td>McNeill's Imperial IPA</td>\n",
       "      <td>100</td>\n",
       "      <td>McNeill's Brewery</td>\n",
       "      <td>McNeills Warlord Imperial IPA</td>\n",
       "      <td>McNeills Brewery</td>\n",
       "      <td>1.0000</td>\n",
       "    </tr>\n",
       "    <tr>\n",
       "      <th>42</th>\n",
       "      <td>42457</td>\n",
       "      <td>McNeill's Summer Brown Ale</td>\n",
       "      <td>100</td>\n",
       "      <td>McNeill's Brewery</td>\n",
       "      <td>McNeills Summer Brown Ale</td>\n",
       "      <td>McNeills Brewery</td>\n",
       "      <td>1.0000</td>\n",
       "    </tr>\n",
       "    <tr>\n",
       "      <th>44</th>\n",
       "      <td>4787</td>\n",
       "      <td>McNeill's Slopbucket Brown</td>\n",
       "      <td>100</td>\n",
       "      <td>McNeill's Brewery</td>\n",
       "      <td>McNeills Kölsch</td>\n",
       "      <td>McNeills Brewery</td>\n",
       "      <td>0.7300</td>\n",
       "    </tr>\n",
       "    <tr>\n",
       "      <th>46</th>\n",
       "      <td>48798</td>\n",
       "      <td>McNeill's Warlord Imperial IPA</td>\n",
       "      <td>100</td>\n",
       "      <td>McNeill's Brewery</td>\n",
       "      <td>McNeills Warlord Imperial IPA</td>\n",
       "      <td>McNeills Brewery</td>\n",
       "      <td>1.0000</td>\n",
       "    </tr>\n",
       "    <tr>\n",
       "      <th>52</th>\n",
       "      <td>621</td>\n",
       "      <td>McNeill's Kölsch</td>\n",
       "      <td>100</td>\n",
       "      <td>McNeill's Brewery</td>\n",
       "      <td>McNeills Kölsch</td>\n",
       "      <td>McNeills Brewery</td>\n",
       "      <td>1.0000</td>\n",
       "    </tr>\n",
       "    <tr>\n",
       "      <th>53</th>\n",
       "      <td>63333</td>\n",
       "      <td>Old Ringy (Oak Aged)</td>\n",
       "      <td>100</td>\n",
       "      <td>McNeill's Brewery</td>\n",
       "      <td>McNeills Old Ringworm</td>\n",
       "      <td>McNeills Brewery</td>\n",
       "      <td>0.5100</td>\n",
       "    </tr>\n",
       "    <tr>\n",
       "      <th>55</th>\n",
       "      <td>76714</td>\n",
       "      <td>McNeill's Tartan Ale</td>\n",
       "      <td>100</td>\n",
       "      <td>McNeill's Brewery</td>\n",
       "      <td>McNeills Tartan Export Ale</td>\n",
       "      <td>McNeills Brewery</td>\n",
       "      <td>1.0000</td>\n",
       "    </tr>\n",
       "    <tr>\n",
       "      <th>58</th>\n",
       "      <td>9728</td>\n",
       "      <td>McNeill's 80 Shilling (aka Summer Brown)</td>\n",
       "      <td>100</td>\n",
       "      <td>McNeill's Brewery</td>\n",
       "      <td>McNeills Summer Brown Ale</td>\n",
       "      <td>McNeills Brewery</td>\n",
       "      <td>0.9100</td>\n",
       "    </tr>\n",
       "    <tr>\n",
       "      <th>68</th>\n",
       "      <td>5229</td>\n",
       "      <td>Brewer's Alley Oatmeal Stout</td>\n",
       "      <td>1000</td>\n",
       "      <td>Brewer's Alley Restaurant &amp; Brewery</td>\n",
       "      <td>Brewers Alley Oatmeal Stout</td>\n",
       "      <td>Brewers Alley Restaurant &amp; Brewery</td>\n",
       "      <td>1.0000</td>\n",
       "    </tr>\n",
       "    <tr>\n",
       "      <th>77</th>\n",
       "      <td>5239</td>\n",
       "      <td>Brewer's Alley Barleywine</td>\n",
       "      <td>1000</td>\n",
       "      <td>Brewer's Alley Restaurant &amp; Brewery</td>\n",
       "      <td>Brewers Alley IPA</td>\n",
       "      <td>Brewers Alley Restaurant &amp; Brewery</td>\n",
       "      <td>0.8700</td>\n",
       "    </tr>\n",
       "    <tr>\n",
       "      <th>78</th>\n",
       "      <td>58159</td>\n",
       "      <td>Brewer's Alley Oatmeal Vanilla Bean Stout</td>\n",
       "      <td>1000</td>\n",
       "      <td>Brewer's Alley Restaurant &amp; Brewery</td>\n",
       "      <td>Brewers Alley Oatmeal Stout</td>\n",
       "      <td>Brewers Alley Restaurant &amp; Brewery</td>\n",
       "      <td>1.0000</td>\n",
       "    </tr>\n",
       "    <tr>\n",
       "      <th>79</th>\n",
       "      <td>58160</td>\n",
       "      <td>Brewer's Alley Wild Cherry Lager</td>\n",
       "      <td>1000</td>\n",
       "      <td>Brewer's Alley Restaurant &amp; Brewery</td>\n",
       "      <td>Brewers Alley IPA</td>\n",
       "      <td>Brewers Alley Restaurant &amp; Brewery</td>\n",
       "      <td>0.8700</td>\n",
       "    </tr>\n",
       "    <tr>\n",
       "      <th>82</th>\n",
       "      <td>60672</td>\n",
       "      <td>Brewer's Alley \"Live Free\" Lager</td>\n",
       "      <td>1000</td>\n",
       "      <td>Brewer's Alley Restaurant &amp; Brewery</td>\n",
       "      <td>Brewers Alley IPA</td>\n",
       "      <td>Brewers Alley Restaurant &amp; Brewery</td>\n",
       "      <td>0.8700</td>\n",
       "    </tr>\n",
       "    <tr>\n",
       "      <th>87</th>\n",
       "      <td>19288</td>\n",
       "      <td>Hockley Dark</td>\n",
       "      <td>10001</td>\n",
       "      <td>Hockley Valley Brewing Co.</td>\n",
       "      <td>Hockley Valley Dark</td>\n",
       "      <td>Hockley Valley Brewing &amp; Malting Company</td>\n",
       "      <td>0.9400</td>\n",
       "    </tr>\n",
       "    <tr>\n",
       "      <th>96</th>\n",
       "      <td>62906</td>\n",
       "      <td>Hockley Valley Traditional English Ale</td>\n",
       "      <td>10001</td>\n",
       "      <td>Hockley Valley Brewing Co.</td>\n",
       "      <td>Hockley Valley Dark</td>\n",
       "      <td>Hockley Valley Brewing &amp; Malting Company</td>\n",
       "      <td>0.7990</td>\n",
       "    </tr>\n",
       "    <tr>\n",
       "      <th>98</th>\n",
       "      <td>19312</td>\n",
       "      <td>Blanche Du Mont Blanc</td>\n",
       "      <td>10004</td>\n",
       "      <td>Brasserie Distillerie Du Mont Blanc</td>\n",
       "      <td>Kaouët Blonde Dorée</td>\n",
       "      <td>Brasserie du Caou</td>\n",
       "      <td>0.3901</td>\n",
       "    </tr>\n",
       "    <tr>\n",
       "      <th>99</th>\n",
       "      <td>19313</td>\n",
       "      <td>Verte Du Mont Blanc</td>\n",
       "      <td>10004</td>\n",
       "      <td>Brasserie Distillerie Du Mont Blanc</td>\n",
       "      <td>Kaouët Cuvée de Printemps</td>\n",
       "      <td>Brasserie du Caou</td>\n",
       "      <td>0.3984</td>\n",
       "    </tr>\n",
       "    <tr>\n",
       "      <th>100</th>\n",
       "      <td>30177</td>\n",
       "      <td>Violette Du Mont Blanc</td>\n",
       "      <td>10004</td>\n",
       "      <td>Brasserie Distillerie Du Mont Blanc</td>\n",
       "      <td>Kaouët Cuvée de Noël</td>\n",
       "      <td>Brasserie du Caou</td>\n",
       "      <td>0.3818</td>\n",
       "    </tr>\n",
       "    <tr>\n",
       "      <th>101</th>\n",
       "      <td>36161</td>\n",
       "      <td>Blonde Du Mont Blanc</td>\n",
       "      <td>10004</td>\n",
       "      <td>Brasserie Distillerie Du Mont Blanc</td>\n",
       "      <td>Kaouët Blonde Cuivrée</td>\n",
       "      <td>Brasserie du Caou</td>\n",
       "      <td>0.5146</td>\n",
       "    </tr>\n",
       "    <tr>\n",
       "      <th>102</th>\n",
       "      <td>69056</td>\n",
       "      <td>La Rousse</td>\n",
       "      <td>10004</td>\n",
       "      <td>Brasserie Distillerie Du Mont Blanc</td>\n",
       "      <td>Kaouët Triple</td>\n",
       "      <td>Brasserie du Caou</td>\n",
       "      <td>0.3154</td>\n",
       "    </tr>\n",
       "    <tr>\n",
       "      <th>111</th>\n",
       "      <td>11831</td>\n",
       "      <td>Firehouse Light</td>\n",
       "      <td>1001</td>\n",
       "      <td>Firehouse Brewing Co.</td>\n",
       "      <td>FireHouse Spotted Dog Pale Ale</td>\n",
       "      <td>FireHouse Restaurant &amp; Brewing Co. (IL)</td>\n",
       "      <td>0.7500</td>\n",
       "    </tr>\n",
       "    <tr>\n",
       "      <th>...</th>\n",
       "      <td>...</td>\n",
       "      <td>...</td>\n",
       "      <td>...</td>\n",
       "      <td>...</td>\n",
       "      <td>...</td>\n",
       "      <td>...</td>\n",
       "      <td>...</td>\n",
       "    </tr>\n",
       "    <tr>\n",
       "      <th>65614</th>\n",
       "      <td>18625</td>\n",
       "      <td>Arcobräu Bavarian Wheat Beer</td>\n",
       "      <td>5709</td>\n",
       "      <td>Arcobräu Gräfliches Brauhaus</td>\n",
       "      <td>Marks &amp; Spencer Bavarian Winterfest Wheat Beer</td>\n",
       "      <td>Arcobräu Gräfliches Brauhaus</td>\n",
       "      <td>0.8300</td>\n",
       "    </tr>\n",
       "    <tr>\n",
       "      <th>65615</th>\n",
       "      <td>18627</td>\n",
       "      <td>Arcobräu Bavarian Dark Wheat Beer</td>\n",
       "      <td>5709</td>\n",
       "      <td>Arcobräu Gräfliches Brauhaus</td>\n",
       "      <td>Marks &amp; Spencer Bavarian Winterfest Wheat Beer</td>\n",
       "      <td>Arcobräu Gräfliches Brauhaus</td>\n",
       "      <td>0.7500</td>\n",
       "    </tr>\n",
       "    <tr>\n",
       "      <th>65624</th>\n",
       "      <td>1553</td>\n",
       "      <td>Radegast Premium</td>\n",
       "      <td>571</td>\n",
       "      <td>Pivovar Radegast a.s.</td>\n",
       "      <td>Bon 14° Tmavý Le?ák Speciál</td>\n",
       "      <td>Pivovar Bon</td>\n",
       "      <td>0.2028</td>\n",
       "    </tr>\n",
       "    <tr>\n",
       "      <th>65625</th>\n",
       "      <td>17012</td>\n",
       "      <td>Radegast Originál</td>\n",
       "      <td>571</td>\n",
       "      <td>Pivovar Radegast a.s.</td>\n",
       "      <td>Bon Weisse</td>\n",
       "      <td>Pivovar Bon</td>\n",
       "      <td>0.2964</td>\n",
       "    </tr>\n",
       "    <tr>\n",
       "      <th>65626</th>\n",
       "      <td>19119</td>\n",
       "      <td>Radegast Klasik</td>\n",
       "      <td>571</td>\n",
       "      <td>Pivovar Radegast a.s.</td>\n",
       "      <td>Bon 14° Tmavý Le?ák Speciál</td>\n",
       "      <td>Pivovar Bon</td>\n",
       "      <td>0.2496</td>\n",
       "    </tr>\n",
       "    <tr>\n",
       "      <th>65627</th>\n",
       "      <td>30800</td>\n",
       "      <td>Radegast Birell</td>\n",
       "      <td>571</td>\n",
       "      <td>Pivovar Radegast a.s.</td>\n",
       "      <td>Bon Weisse</td>\n",
       "      <td>Pivovar Bon</td>\n",
       "      <td>0.2496</td>\n",
       "    </tr>\n",
       "    <tr>\n",
       "      <th>65628</th>\n",
       "      <td>6090</td>\n",
       "      <td>Czechoslovakian Original Lager</td>\n",
       "      <td>571</td>\n",
       "      <td>Pivovar Radegast a.s.</td>\n",
       "      <td>Bon 14° Tmavý Le?ák Speciál</td>\n",
       "      <td>Pivovar Bon</td>\n",
       "      <td>0.2340</td>\n",
       "    </tr>\n",
       "    <tr>\n",
       "      <th>65629</th>\n",
       "      <td>65828</td>\n",
       "      <td>Radegast Extra Ho&amp;#345;ký</td>\n",
       "      <td>571</td>\n",
       "      <td>Pivovar Radegast a.s.</td>\n",
       "      <td>Bon 12° Sv?tlý Le?ák</td>\n",
       "      <td>Pivovar Bon</td>\n",
       "      <td>0.3120</td>\n",
       "    </tr>\n",
       "    <tr>\n",
       "      <th>65630</th>\n",
       "      <td>26700</td>\n",
       "      <td>Augusta Bräu Schwarzbier</td>\n",
       "      <td>5711</td>\n",
       "      <td>Augusta Bräu</td>\n",
       "      <td>Bru IPA</td>\n",
       "      <td>Bru</td>\n",
       "      <td>0.6000</td>\n",
       "    </tr>\n",
       "    <tr>\n",
       "      <th>65631</th>\n",
       "      <td>27196</td>\n",
       "      <td>Augusta Bräu Privat</td>\n",
       "      <td>5711</td>\n",
       "      <td>Augusta Bräu</td>\n",
       "      <td>Bru IPA</td>\n",
       "      <td>Bru</td>\n",
       "      <td>0.6000</td>\n",
       "    </tr>\n",
       "    <tr>\n",
       "      <th>65632</th>\n",
       "      <td>27519</td>\n",
       "      <td>Augusta Bräu Hunnen-Bock</td>\n",
       "      <td>5711</td>\n",
       "      <td>Augusta Bräu</td>\n",
       "      <td>Bru IPA</td>\n",
       "      <td>Bru</td>\n",
       "      <td>0.6000</td>\n",
       "    </tr>\n",
       "    <tr>\n",
       "      <th>65637</th>\n",
       "      <td>1529</td>\n",
       "      <td>XXXX DL Lager</td>\n",
       "      <td>572</td>\n",
       "      <td>Castlemaine Perkins</td>\n",
       "      <td>Castle Rock Large</td>\n",
       "      <td>Castle Rock</td>\n",
       "      <td>0.2820</td>\n",
       "    </tr>\n",
       "    <tr>\n",
       "      <th>65640</th>\n",
       "      <td>37057</td>\n",
       "      <td>Gulf Lager</td>\n",
       "      <td>572</td>\n",
       "      <td>Castlemaine Perkins</td>\n",
       "      <td>Castle Rock Large</td>\n",
       "      <td>Castle Rock</td>\n",
       "      <td>0.3120</td>\n",
       "    </tr>\n",
       "    <tr>\n",
       "      <th>65647</th>\n",
       "      <td>1532</td>\n",
       "      <td>Hahn Premium</td>\n",
       "      <td>573</td>\n",
       "      <td>Hahn Brewing Co. Pty. Ltd.</td>\n",
       "      <td>SLO Sapp Head Imperial Stout</td>\n",
       "      <td>SLO Brewing Co.</td>\n",
       "      <td>0.2905</td>\n",
       "    </tr>\n",
       "    <tr>\n",
       "      <th>65648</th>\n",
       "      <td>1533</td>\n",
       "      <td>Hahn Premium Light</td>\n",
       "      <td>573</td>\n",
       "      <td>Hahn Brewing Co. Pty. Ltd.</td>\n",
       "      <td>SLO Original Red Ale</td>\n",
       "      <td>SLO Brewing Co.</td>\n",
       "      <td>0.3071</td>\n",
       "    </tr>\n",
       "    <tr>\n",
       "      <th>65649</th>\n",
       "      <td>1534</td>\n",
       "      <td>Hahn Ice</td>\n",
       "      <td>573</td>\n",
       "      <td>Hahn Brewing Co. Pty. Ltd.</td>\n",
       "      <td>SLO Ginger Ale</td>\n",
       "      <td>SLO Brewing Co.</td>\n",
       "      <td>0.2988</td>\n",
       "    </tr>\n",
       "    <tr>\n",
       "      <th>65650</th>\n",
       "      <td>21208</td>\n",
       "      <td>Special Vintage 2000</td>\n",
       "      <td>573</td>\n",
       "      <td>Hahn Brewing Co. Pty. Ltd.</td>\n",
       "      <td>SLO Ginger Ale</td>\n",
       "      <td>SLO Brewing Co.</td>\n",
       "      <td>0.3403</td>\n",
       "    </tr>\n",
       "    <tr>\n",
       "      <th>65651</th>\n",
       "      <td>30405</td>\n",
       "      <td>Hahn Vienna Red</td>\n",
       "      <td>573</td>\n",
       "      <td>Hahn Brewing Co. Pty. Ltd.</td>\n",
       "      <td>SLO Original Red Ale</td>\n",
       "      <td>SLO Brewing Co.</td>\n",
       "      <td>0.4233</td>\n",
       "    </tr>\n",
       "    <tr>\n",
       "      <th>65652</th>\n",
       "      <td>31455</td>\n",
       "      <td>Hahn Pale Ale</td>\n",
       "      <td>573</td>\n",
       "      <td>Hahn Brewing Co. Pty. Ltd.</td>\n",
       "      <td>SLO Extra Pale Ale</td>\n",
       "      <td>SLO Brewing Co.</td>\n",
       "      <td>0.6308</td>\n",
       "    </tr>\n",
       "    <tr>\n",
       "      <th>65653</th>\n",
       "      <td>31928</td>\n",
       "      <td>Special Vintage 1999</td>\n",
       "      <td>573</td>\n",
       "      <td>Hahn Brewing Co. Pty. Ltd.</td>\n",
       "      <td>SLO Ginger Ale</td>\n",
       "      <td>SLO Brewing Co.</td>\n",
       "      <td>0.3403</td>\n",
       "    </tr>\n",
       "    <tr>\n",
       "      <th>65654</th>\n",
       "      <td>33053</td>\n",
       "      <td>Hahn Super Dry</td>\n",
       "      <td>573</td>\n",
       "      <td>Hahn Brewing Co. Pty. Ltd.</td>\n",
       "      <td>SLO Triple Eye Double IPA</td>\n",
       "      <td>SLO Brewing Co.</td>\n",
       "      <td>0.3403</td>\n",
       "    </tr>\n",
       "    <tr>\n",
       "      <th>65655</th>\n",
       "      <td>3774</td>\n",
       "      <td>Hahn Witbier</td>\n",
       "      <td>573</td>\n",
       "      <td>Hahn Brewing Co. Pty. Ltd.</td>\n",
       "      <td>SLO Amber Ale</td>\n",
       "      <td>SLO Brewing Co.</td>\n",
       "      <td>0.3320</td>\n",
       "    </tr>\n",
       "    <tr>\n",
       "      <th>65656</th>\n",
       "      <td>55780</td>\n",
       "      <td>Hahn Super Dry 3.5</td>\n",
       "      <td>573</td>\n",
       "      <td>Hahn Brewing Co. Pty. Ltd.</td>\n",
       "      <td>SLO Triple Eye Double IPA</td>\n",
       "      <td>SLO Brewing Co.</td>\n",
       "      <td>0.3071</td>\n",
       "    </tr>\n",
       "    <tr>\n",
       "      <th>65657</th>\n",
       "      <td>65938</td>\n",
       "      <td>Hahn White</td>\n",
       "      <td>573</td>\n",
       "      <td>Hahn Brewing Co. Pty. Ltd.</td>\n",
       "      <td>SLO Wheat</td>\n",
       "      <td>SLO Brewing Co.</td>\n",
       "      <td>0.3486</td>\n",
       "    </tr>\n",
       "    <tr>\n",
       "      <th>65664</th>\n",
       "      <td>3191</td>\n",
       "      <td>Foster's LightIce</td>\n",
       "      <td>575</td>\n",
       "      <td>Foster's Group Limited</td>\n",
       "      <td>Hunters Pure Gold</td>\n",
       "      <td>Distell Group Limited</td>\n",
       "      <td>0.3402</td>\n",
       "    </tr>\n",
       "    <tr>\n",
       "      <th>65665</th>\n",
       "      <td>40506</td>\n",
       "      <td>Foster's Export Premium Lager</td>\n",
       "      <td>575</td>\n",
       "      <td>Foster's Group Limited</td>\n",
       "      <td>Hunters Export Extra Matured</td>\n",
       "      <td>Distell Group Limited</td>\n",
       "      <td>0.4374</td>\n",
       "    </tr>\n",
       "    <tr>\n",
       "      <th>65666</th>\n",
       "      <td>43121</td>\n",
       "      <td>Foster's Premium Ale</td>\n",
       "      <td>575</td>\n",
       "      <td>Foster's Group Limited</td>\n",
       "      <td>Burchell Premium Cider</td>\n",
       "      <td>Distell Group Limited</td>\n",
       "      <td>0.4779</td>\n",
       "    </tr>\n",
       "    <tr>\n",
       "      <th>65667</th>\n",
       "      <td>58311</td>\n",
       "      <td>Foster's Export</td>\n",
       "      <td>575</td>\n",
       "      <td>Foster's Group Limited</td>\n",
       "      <td>Hunters Export Extra Matured</td>\n",
       "      <td>Distell Group Limited</td>\n",
       "      <td>0.4860</td>\n",
       "    </tr>\n",
       "    <tr>\n",
       "      <th>65668</th>\n",
       "      <td>76042</td>\n",
       "      <td>Foster's Gold</td>\n",
       "      <td>575</td>\n",
       "      <td>Foster's Group Limited</td>\n",
       "      <td>Hunters Pure Gold</td>\n",
       "      <td>Distell Group Limited</td>\n",
       "      <td>0.5022</td>\n",
       "    </tr>\n",
       "    <tr>\n",
       "      <th>65670</th>\n",
       "      <td>918</td>\n",
       "      <td>Foster's Lager</td>\n",
       "      <td>575</td>\n",
       "      <td>Foster's Group Limited</td>\n",
       "      <td>Hunters Pure Gold</td>\n",
       "      <td>Distell Group Limited</td>\n",
       "      <td>0.3807</td>\n",
       "    </tr>\n",
       "  </tbody>\n",
       "</table>\n",
       "<p>34772 rows × 7 columns</p>\n",
       "</div>"
      ],
      "text/plain": [
       "      beer_id_beerAdvocate                     beer_name_beerAdvocate  \\\n",
       "2                    19123                             Gambrinus Pale   \n",
       "8                    51575                           Gambrinus Svetly   \n",
       "9                     5916                                  Gambrinus   \n",
       "10                   59315                           Master Zlatý 15°   \n",
       "11                   67962                           Master Tmavý 18°   \n",
       "12                   69068                       Master Polotmavý 13°   \n",
       "21                   12912              McNeill's Doc Feelgood's Pils   \n",
       "26                   12918                    McNeill's Tartan Export   \n",
       "35                    2187                     McNeill's Old Ringworm   \n",
       "41                   33212                     McNeill's Imperial IPA   \n",
       "42                   42457                 McNeill's Summer Brown Ale   \n",
       "44                    4787                 McNeill's Slopbucket Brown   \n",
       "46                   48798             McNeill's Warlord Imperial IPA   \n",
       "52                     621                           McNeill's Kölsch   \n",
       "53                   63333                       Old Ringy (Oak Aged)   \n",
       "55                   76714                       McNeill's Tartan Ale   \n",
       "58                    9728   McNeill's 80 Shilling (aka Summer Brown)   \n",
       "68                    5229               Brewer's Alley Oatmeal Stout   \n",
       "77                    5239                  Brewer's Alley Barleywine   \n",
       "78                   58159  Brewer's Alley Oatmeal Vanilla Bean Stout   \n",
       "79                   58160           Brewer's Alley Wild Cherry Lager   \n",
       "82                   60672           Brewer's Alley \"Live Free\" Lager   \n",
       "87                   19288                               Hockley Dark   \n",
       "96                   62906     Hockley Valley Traditional English Ale   \n",
       "98                   19312                      Blanche Du Mont Blanc   \n",
       "99                   19313                        Verte Du Mont Blanc   \n",
       "100                  30177                     Violette Du Mont Blanc   \n",
       "101                  36161                       Blonde Du Mont Blanc   \n",
       "102                  69056                                  La Rousse   \n",
       "111                  11831                            Firehouse Light   \n",
       "...                    ...                                        ...   \n",
       "65614                18625               Arcobräu Bavarian Wheat Beer   \n",
       "65615                18627          Arcobräu Bavarian Dark Wheat Beer   \n",
       "65624                 1553                           Radegast Premium   \n",
       "65625                17012                          Radegast Originál   \n",
       "65626                19119                            Radegast Klasik   \n",
       "65627                30800                            Radegast Birell   \n",
       "65628                 6090             Czechoslovakian Original Lager   \n",
       "65629                65828                  Radegast Extra Ho&#345;ký   \n",
       "65630                26700                   Augusta Bräu Schwarzbier   \n",
       "65631                27196                        Augusta Bräu Privat   \n",
       "65632                27519                   Augusta Bräu Hunnen-Bock   \n",
       "65637                 1529                              XXXX DL Lager   \n",
       "65640                37057                                 Gulf Lager   \n",
       "65647                 1532                               Hahn Premium   \n",
       "65648                 1533                         Hahn Premium Light   \n",
       "65649                 1534                                   Hahn Ice   \n",
       "65650                21208                       Special Vintage 2000   \n",
       "65651                30405                            Hahn Vienna Red   \n",
       "65652                31455                              Hahn Pale Ale   \n",
       "65653                31928                       Special Vintage 1999   \n",
       "65654                33053                             Hahn Super Dry   \n",
       "65655                 3774                               Hahn Witbier   \n",
       "65656                55780                         Hahn Super Dry 3.5   \n",
       "65657                65938                                 Hahn White   \n",
       "65664                 3191                          Foster's LightIce   \n",
       "65665                40506              Foster's Export Premium Lager   \n",
       "65666                43121                       Foster's Premium Ale   \n",
       "65667                58311                            Foster's Export   \n",
       "65668                76042                              Foster's Gold   \n",
       "65670                  918                             Foster's Lager   \n",
       "\n",
       "      brewery_id_beerAdvocate            brewery_name_beerAdvocate  \\\n",
       "2                           1             Plzensky Prazdroj, a. s.   \n",
       "8                           1             Plzensky Prazdroj, a. s.   \n",
       "9                           1             Plzensky Prazdroj, a. s.   \n",
       "10                          1             Plzensky Prazdroj, a. s.   \n",
       "11                          1             Plzensky Prazdroj, a. s.   \n",
       "12                          1             Plzensky Prazdroj, a. s.   \n",
       "21                        100                    McNeill's Brewery   \n",
       "26                        100                    McNeill's Brewery   \n",
       "35                        100                    McNeill's Brewery   \n",
       "41                        100                    McNeill's Brewery   \n",
       "42                        100                    McNeill's Brewery   \n",
       "44                        100                    McNeill's Brewery   \n",
       "46                        100                    McNeill's Brewery   \n",
       "52                        100                    McNeill's Brewery   \n",
       "53                        100                    McNeill's Brewery   \n",
       "55                        100                    McNeill's Brewery   \n",
       "58                        100                    McNeill's Brewery   \n",
       "68                       1000  Brewer's Alley Restaurant & Brewery   \n",
       "77                       1000  Brewer's Alley Restaurant & Brewery   \n",
       "78                       1000  Brewer's Alley Restaurant & Brewery   \n",
       "79                       1000  Brewer's Alley Restaurant & Brewery   \n",
       "82                       1000  Brewer's Alley Restaurant & Brewery   \n",
       "87                      10001           Hockley Valley Brewing Co.   \n",
       "96                      10001           Hockley Valley Brewing Co.   \n",
       "98                      10004  Brasserie Distillerie Du Mont Blanc   \n",
       "99                      10004  Brasserie Distillerie Du Mont Blanc   \n",
       "100                     10004  Brasserie Distillerie Du Mont Blanc   \n",
       "101                     10004  Brasserie Distillerie Du Mont Blanc   \n",
       "102                     10004  Brasserie Distillerie Du Mont Blanc   \n",
       "111                      1001                Firehouse Brewing Co.   \n",
       "...                       ...                                  ...   \n",
       "65614                    5709         Arcobräu Gräfliches Brauhaus   \n",
       "65615                    5709         Arcobräu Gräfliches Brauhaus   \n",
       "65624                     571                Pivovar Radegast a.s.   \n",
       "65625                     571                Pivovar Radegast a.s.   \n",
       "65626                     571                Pivovar Radegast a.s.   \n",
       "65627                     571                Pivovar Radegast a.s.   \n",
       "65628                     571                Pivovar Radegast a.s.   \n",
       "65629                     571                Pivovar Radegast a.s.   \n",
       "65630                    5711                         Augusta Bräu   \n",
       "65631                    5711                         Augusta Bräu   \n",
       "65632                    5711                         Augusta Bräu   \n",
       "65637                     572                  Castlemaine Perkins   \n",
       "65640                     572                  Castlemaine Perkins   \n",
       "65647                     573           Hahn Brewing Co. Pty. Ltd.   \n",
       "65648                     573           Hahn Brewing Co. Pty. Ltd.   \n",
       "65649                     573           Hahn Brewing Co. Pty. Ltd.   \n",
       "65650                     573           Hahn Brewing Co. Pty. Ltd.   \n",
       "65651                     573           Hahn Brewing Co. Pty. Ltd.   \n",
       "65652                     573           Hahn Brewing Co. Pty. Ltd.   \n",
       "65653                     573           Hahn Brewing Co. Pty. Ltd.   \n",
       "65654                     573           Hahn Brewing Co. Pty. Ltd.   \n",
       "65655                     573           Hahn Brewing Co. Pty. Ltd.   \n",
       "65656                     573           Hahn Brewing Co. Pty. Ltd.   \n",
       "65657                     573           Hahn Brewing Co. Pty. Ltd.   \n",
       "65664                     575               Foster's Group Limited   \n",
       "65665                     575               Foster's Group Limited   \n",
       "65666                     575               Foster's Group Limited   \n",
       "65667                     575               Foster's Group Limited   \n",
       "65668                     575               Foster's Group Limited   \n",
       "65670                     575               Foster's Group Limited   \n",
       "\n",
       "                                   beer_name_rateBeer  \\\n",
       "2                                      Gambrinus Bílé   \n",
       "8                                      Gambrinus Bílé   \n",
       "9                                      Gambrinus Bílé   \n",
       "10                                   Gambrinus Master   \n",
       "11                                   Gambrinus Master   \n",
       "12                                   Gambrinus Master   \n",
       "21                                    McNeills Kölsch   \n",
       "26                         McNeills Tartan Export Ale   \n",
       "35                              McNeills Old Ringworm   \n",
       "41                      McNeills Warlord Imperial IPA   \n",
       "42                          McNeills Summer Brown Ale   \n",
       "44                                    McNeills Kölsch   \n",
       "46                      McNeills Warlord Imperial IPA   \n",
       "52                                    McNeills Kölsch   \n",
       "53                              McNeills Old Ringworm   \n",
       "55                         McNeills Tartan Export Ale   \n",
       "58                          McNeills Summer Brown Ale   \n",
       "68                        Brewers Alley Oatmeal Stout   \n",
       "77                                  Brewers Alley IPA   \n",
       "78                        Brewers Alley Oatmeal Stout   \n",
       "79                                  Brewers Alley IPA   \n",
       "82                                  Brewers Alley IPA   \n",
       "87                                Hockley Valley Dark   \n",
       "96                                Hockley Valley Dark   \n",
       "98                                Kaouët Blonde Dorée   \n",
       "99                          Kaouët Cuvée de Printemps   \n",
       "100                              Kaouët Cuvée de Noël   \n",
       "101                             Kaouët Blonde Cuivrée   \n",
       "102                                     Kaouët Triple   \n",
       "111                    FireHouse Spotted Dog Pale Ale   \n",
       "...                                               ...   \n",
       "65614  Marks & Spencer Bavarian Winterfest Wheat Beer   \n",
       "65615  Marks & Spencer Bavarian Winterfest Wheat Beer   \n",
       "65624                     Bon 14° Tmavý Le?ák Speciál   \n",
       "65625                                     Bon Weisse    \n",
       "65626                     Bon 14° Tmavý Le?ák Speciál   \n",
       "65627                                     Bon Weisse    \n",
       "65628                     Bon 14° Tmavý Le?ák Speciál   \n",
       "65629                            Bon 12° Sv?tlý Le?ák   \n",
       "65630                                         Bru IPA   \n",
       "65631                                         Bru IPA   \n",
       "65632                                         Bru IPA   \n",
       "65637                               Castle Rock Large   \n",
       "65640                               Castle Rock Large   \n",
       "65647                    SLO Sapp Head Imperial Stout   \n",
       "65648                            SLO Original Red Ale   \n",
       "65649                                 SLO Ginger Ale    \n",
       "65650                                 SLO Ginger Ale    \n",
       "65651                            SLO Original Red Ale   \n",
       "65652                              SLO Extra Pale Ale   \n",
       "65653                                 SLO Ginger Ale    \n",
       "65654                       SLO Triple Eye Double IPA   \n",
       "65655                                   SLO Amber Ale   \n",
       "65656                       SLO Triple Eye Double IPA   \n",
       "65657                                       SLO Wheat   \n",
       "65664                               Hunters Pure Gold   \n",
       "65665                    Hunters Export Extra Matured   \n",
       "65666                          Burchell Premium Cider   \n",
       "65667                    Hunters Export Extra Matured   \n",
       "65668                               Hunters Pure Gold   \n",
       "65670                               Hunters Pure Gold   \n",
       "\n",
       "                          brewery_name_rateBeer  similarity  \n",
       "2                 Plzensky Prazdroj (SABMiller)      0.7654  \n",
       "8                 Plzensky Prazdroj (SABMiller)      0.7654  \n",
       "9                 Plzensky Prazdroj (SABMiller)      0.8900  \n",
       "10                Plzensky Prazdroj (SABMiller)      0.5340  \n",
       "11                Plzensky Prazdroj (SABMiller)      0.5340  \n",
       "12                Plzensky Prazdroj (SABMiller)      0.4895  \n",
       "21                             McNeills Brewery      0.7300  \n",
       "26                             McNeills Brewery      1.0000  \n",
       "35                             McNeills Brewery      1.0000  \n",
       "41                             McNeills Brewery      1.0000  \n",
       "42                             McNeills Brewery      1.0000  \n",
       "44                             McNeills Brewery      0.7300  \n",
       "46                             McNeills Brewery      1.0000  \n",
       "52                             McNeills Brewery      1.0000  \n",
       "53                             McNeills Brewery      0.5100  \n",
       "55                             McNeills Brewery      1.0000  \n",
       "58                             McNeills Brewery      0.9100  \n",
       "68           Brewers Alley Restaurant & Brewery      1.0000  \n",
       "77           Brewers Alley Restaurant & Brewery      0.8700  \n",
       "78           Brewers Alley Restaurant & Brewery      1.0000  \n",
       "79           Brewers Alley Restaurant & Brewery      0.8700  \n",
       "82           Brewers Alley Restaurant & Brewery      0.8700  \n",
       "87     Hockley Valley Brewing & Malting Company      0.9400  \n",
       "96     Hockley Valley Brewing & Malting Company      0.7990  \n",
       "98                            Brasserie du Caou      0.3901  \n",
       "99                            Brasserie du Caou      0.3984  \n",
       "100                           Brasserie du Caou      0.3818  \n",
       "101                           Brasserie du Caou      0.5146  \n",
       "102                           Brasserie du Caou      0.3154  \n",
       "111     FireHouse Restaurant & Brewing Co. (IL)      0.7500  \n",
       "...                                         ...         ...  \n",
       "65614              Arcobräu Gräfliches Brauhaus      0.8300  \n",
       "65615              Arcobräu Gräfliches Brauhaus      0.7500  \n",
       "65624                               Pivovar Bon      0.2028  \n",
       "65625                               Pivovar Bon      0.2964  \n",
       "65626                               Pivovar Bon      0.2496  \n",
       "65627                               Pivovar Bon      0.2496  \n",
       "65628                               Pivovar Bon      0.2340  \n",
       "65629                               Pivovar Bon      0.3120  \n",
       "65630                                       Bru      0.6000  \n",
       "65631                                       Bru      0.6000  \n",
       "65632                                       Bru      0.6000  \n",
       "65637                               Castle Rock      0.2820  \n",
       "65640                               Castle Rock      0.3120  \n",
       "65647                           SLO Brewing Co.      0.2905  \n",
       "65648                           SLO Brewing Co.      0.3071  \n",
       "65649                           SLO Brewing Co.      0.2988  \n",
       "65650                           SLO Brewing Co.      0.3403  \n",
       "65651                           SLO Brewing Co.      0.4233  \n",
       "65652                           SLO Brewing Co.      0.6308  \n",
       "65653                           SLO Brewing Co.      0.3403  \n",
       "65654                           SLO Brewing Co.      0.3403  \n",
       "65655                           SLO Brewing Co.      0.3320  \n",
       "65656                           SLO Brewing Co.      0.3071  \n",
       "65657                           SLO Brewing Co.      0.3486  \n",
       "65664                     Distell Group Limited      0.3402  \n",
       "65665                     Distell Group Limited      0.4374  \n",
       "65666                     Distell Group Limited      0.4779  \n",
       "65667                     Distell Group Limited      0.4860  \n",
       "65668                     Distell Group Limited      0.5022  \n",
       "65670                     Distell Group Limited      0.3807  \n",
       "\n",
       "[34772 rows x 7 columns]"
      ]
     },
     "execution_count": 138,
     "metadata": {},
     "output_type": "execute_result"
    }
   ],
   "source": [
    "matching_beers[matching_beers.beer_name_rateBeer.duplicated(keep=False)]"
   ]
  },
  {
   "cell_type": "code",
   "execution_count": null,
   "metadata": {
    "collapsed": true
   },
   "outputs": [],
   "source": []
  }
 ],
 "metadata": {
  "anaconda-cloud": {},
  "kernelspec": {
   "display_name": "Python [conda root]",
   "language": "python",
   "name": "conda-root-py"
  },
  "language_info": {
   "codemirror_mode": {
    "name": "ipython",
    "version": 3
   },
   "file_extension": ".py",
   "mimetype": "text/x-python",
   "name": "python",
   "nbconvert_exporter": "python",
   "pygments_lexer": "ipython3",
   "version": "3.5.2"
  }
 },
 "nbformat": 4,
 "nbformat_minor": 1
}
