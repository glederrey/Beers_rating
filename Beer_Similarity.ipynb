{
 "cells": [
  {
   "cell_type": "markdown",
   "metadata": {},
   "source": [
    "# Introduction\n",
    "\n",
    "In this notebook, we want to study the two datasets in `beerAdv_beer_brewery.tsv` and in `rateBeer_beer_brewery.tsv`. The columns of these datasets are like this:\n",
    "\n",
    "              beer_id ¦ beer_name ¦ brewery_id ¦ brewery_name\n",
    "            \n",
    "The idea of this notebook is to create a similarity measure in order to find the same elements in both these datasets. Once we have this similarity measure, we want to find the limit X such that:\n",
    "- All pairs with a similarity value of $X' > X$ are considered as the same beer\n",
    "- All pairs with a similarity value of $X'' < X$ are not taken into account.\n",
    "\n",
    "In order to achieve this, this notebook is composed of three parts. The first part is some sort of simple Data Analysis. Then there will be the creation of the pairs and the similarity value. Finally the part to find the best value $X$.\n",
    "\n",
    "## Table of contents\n",
    "\n",
    "1. [Data Analysis](#data_analysis)\n",
    "2. [Similarity Measure](#similarity)\n",
    "3. [Matching the beers](#matching) \n",
    "\n",
    "Each parts is separated. Therefore, you don't have to run the previous parts in order to run a specific part."
   ]
  },
  {
   "cell_type": "code",
   "execution_count": 1,
   "metadata": {
    "collapsed": false
   },
   "outputs": [],
   "source": [
    "# Usefule imports\n",
    "import pandas as pd\n",
    "import numpy as np\n",
    "import codecs\n",
    "from IPython.display import HTML\n",
    "import matplotlib.pyplot as plt\n",
    "\n",
    "from fuzzywuzzy import fuzz\n",
    "import multiprocessing\n",
    "from joblib import Parallel, delayed\n",
    "import pickle\n",
    "\n",
    "# For the Pyth§on notebook\n",
    "%matplotlib inline\n",
    "%reload_ext autoreload\n",
    "%autoreload 2"
   ]
  },
  {
   "cell_type": "markdown",
   "metadata": {},
   "source": [
    "<a id='data_analysis'></a>\n",
    "\n",
    "## Data Analysis\n",
    "\n",
    "First, we need to analyze the data. It's a simple data analysis since we only have two usefull features: `beer_name` and `brewery_name`."
   ]
  },
  {
   "cell_type": "code",
   "execution_count": 2,
   "metadata": {
    "collapsed": true
   },
   "outputs": [],
   "source": [
    "# Datasets\n",
    "beerAdvocate_dataset = './data/beerAdv_beer_brewery.tsv'\n",
    "rateBeer_dataset = './data/rateBeer_beer_brewery.tsv'"
   ]
  },
  {
   "cell_type": "code",
   "execution_count": 3,
   "metadata": {
    "collapsed": true
   },
   "outputs": [],
   "source": [
    "columns = ['beer_id', 'beer_name', 'brewery_id', 'brewery_name']"
   ]
  },
  {
   "cell_type": "code",
   "execution_count": 4,
   "metadata": {
    "collapsed": false
   },
   "outputs": [],
   "source": [
    "# Load the dataset with pandas\n",
    "beerAdvocate = pd.read_table(beerAdvocate_dataset, header=None)\n",
    "beerAdvocate.columns = columns\n",
    "rateBeer = pd.read_table(rateBeer_dataset, header=None, encoding='utf-8')\n",
    "rateBeer.columns = columns"
   ]
  },
  {
   "cell_type": "markdown",
   "metadata": {},
   "source": [
    "Print the two datasets"
   ]
  },
  {
   "cell_type": "code",
   "execution_count": 6,
   "metadata": {
    "collapsed": false
   },
   "outputs": [
    {
     "data": {
      "text/html": [
       "<div>\n",
       "<table border=\"1\" class=\"dataframe\">\n",
       "  <thead>\n",
       "    <tr style=\"text-align: right;\">\n",
       "      <th></th>\n",
       "      <th>beer_id</th>\n",
       "      <th>beer_name</th>\n",
       "      <th>brewery_id</th>\n",
       "      <th>brewery_name</th>\n",
       "    </tr>\n",
       "  </thead>\n",
       "  <tbody>\n",
       "    <tr>\n",
       "      <th>0</th>\n",
       "      <td>14348</td>\n",
       "      <td>Eisbrau Czech</td>\n",
       "      <td>1</td>\n",
       "      <td>Plzensky Prazdroj, a. s.</td>\n",
       "    </tr>\n",
       "    <tr>\n",
       "      <th>1</th>\n",
       "      <td>19099</td>\n",
       "      <td>Primus</td>\n",
       "      <td>1</td>\n",
       "      <td>Plzensky Prazdroj, a. s.</td>\n",
       "    </tr>\n",
       "    <tr>\n",
       "      <th>2</th>\n",
       "      <td>19123</td>\n",
       "      <td>Gambrinus Pale</td>\n",
       "      <td>1</td>\n",
       "      <td>Plzensky Prazdroj, a. s.</td>\n",
       "    </tr>\n",
       "    <tr>\n",
       "      <th>3</th>\n",
       "      <td>19274</td>\n",
       "      <td>Urutislav</td>\n",
       "      <td>1</td>\n",
       "      <td>Plzensky Prazdroj, a. s.</td>\n",
       "    </tr>\n",
       "    <tr>\n",
       "      <th>4</th>\n",
       "      <td>41294</td>\n",
       "      <td>Pilsner Urquell 3.5%</td>\n",
       "      <td>1</td>\n",
       "      <td>Plzensky Prazdroj, a. s.</td>\n",
       "    </tr>\n",
       "  </tbody>\n",
       "</table>\n",
       "</div>"
      ],
      "text/plain": [
       "   beer_id             beer_name  brewery_id              brewery_name\n",
       "0    14348         Eisbrau Czech           1  Plzensky Prazdroj, a. s.\n",
       "1    19099                Primus           1  Plzensky Prazdroj, a. s.\n",
       "2    19123        Gambrinus Pale           1  Plzensky Prazdroj, a. s.\n",
       "3    19274             Urutislav           1  Plzensky Prazdroj, a. s.\n",
       "4    41294  Pilsner Urquell 3.5%           1  Plzensky Prazdroj, a. s."
      ]
     },
     "execution_count": 6,
     "metadata": {},
     "output_type": "execute_result"
    }
   ],
   "source": [
    "beerAdvocate.head()"
   ]
  },
  {
   "cell_type": "code",
   "execution_count": 7,
   "metadata": {
    "collapsed": false,
    "scrolled": false
   },
   "outputs": [
    {
     "data": {
      "text/html": [
       "<div>\n",
       "<table border=\"1\" class=\"dataframe\">\n",
       "  <thead>\n",
       "    <tr style=\"text-align: right;\">\n",
       "      <th></th>\n",
       "      <th>beer_id</th>\n",
       "      <th>beer_name</th>\n",
       "      <th>brewery_id</th>\n",
       "      <th>brewery_name</th>\n",
       "    </tr>\n",
       "  </thead>\n",
       "  <tbody>\n",
       "    <tr>\n",
       "      <th>0</th>\n",
       "      <td>4</td>\n",
       "      <td>Abita Bock</td>\n",
       "      <td>1</td>\n",
       "      <td>Abita Brewing Company</td>\n",
       "    </tr>\n",
       "    <tr>\n",
       "      <th>1</th>\n",
       "      <td>10731</td>\n",
       "      <td>Abita Louisiana Red Ale</td>\n",
       "      <td>1</td>\n",
       "      <td>Abita Brewing Company</td>\n",
       "    </tr>\n",
       "    <tr>\n",
       "      <th>2</th>\n",
       "      <td>114065</td>\n",
       "      <td>Abita Select Pecan Brown Ale</td>\n",
       "      <td>1</td>\n",
       "      <td>Abita Brewing Company</td>\n",
       "    </tr>\n",
       "    <tr>\n",
       "      <th>3</th>\n",
       "      <td>114981</td>\n",
       "      <td>Abita Select Amber Ale</td>\n",
       "      <td>1</td>\n",
       "      <td>Abita Brewing Company</td>\n",
       "    </tr>\n",
       "    <tr>\n",
       "      <th>4</th>\n",
       "      <td>117017</td>\n",
       "      <td>Abita American Wheat</td>\n",
       "      <td>1</td>\n",
       "      <td>Abita Brewing Company</td>\n",
       "    </tr>\n",
       "  </tbody>\n",
       "</table>\n",
       "</div>"
      ],
      "text/plain": [
       "   beer_id                     beer_name  brewery_id           brewery_name\n",
       "0        4                    Abita Bock           1  Abita Brewing Company\n",
       "1    10731       Abita Louisiana Red Ale           1  Abita Brewing Company\n",
       "2   114065  Abita Select Pecan Brown Ale           1  Abita Brewing Company\n",
       "3   114981        Abita Select Amber Ale           1  Abita Brewing Company\n",
       "4   117017          Abita American Wheat           1  Abita Brewing Company"
      ]
     },
     "execution_count": 7,
     "metadata": {},
     "output_type": "execute_result"
    }
   ],
   "source": [
    "rateBeer.head()"
   ]
  },
  {
   "cell_type": "markdown",
   "metadata": {},
   "source": [
    "We just stop two minutes here. We can see a problem with the encoding of the file for *beerAdvocate*. "
   ]
  },
  {
   "cell_type": "code",
   "execution_count": 8,
   "metadata": {
    "collapsed": false
   },
   "outputs": [
    {
     "name": "stdout",
     "output_type": "stream",
     "text": [
      "Master PolotmavÃ½ 13Â°\n"
     ]
    }
   ],
   "source": [
    "name = beerAdvocate.ix[12].beer_name\n",
    "print(name)"
   ]
  },
  {
   "cell_type": "markdown",
   "metadata": {},
   "source": [
    "The encoding here is **latin_1**. Therefore, we can find the UTF-8 encoding by doing this:"
   ]
  },
  {
   "cell_type": "code",
   "execution_count": 9,
   "metadata": {
    "collapsed": false
   },
   "outputs": [
    {
     "name": "stdout",
     "output_type": "stream",
     "text": [
      "Master Polotmavý 13°\n"
     ]
    }
   ],
   "source": [
    "new_name = bytes(name,'latin_1').decode('utf-8')\n",
    "print(new_name)"
   ]
  },
  {
   "cell_type": "markdown",
   "metadata": {},
   "source": [
    "Let's do it everywhere for *beerAdvocate*!"
   ]
  },
  {
   "cell_type": "code",
   "execution_count": 10,
   "metadata": {
    "collapsed": true
   },
   "outputs": [],
   "source": [
    "def decode_from_latin_1(string):\n",
    "    try:\n",
    "        return bytes(string ,'latin_1').decode('utf-8')\n",
    "    except:\n",
    "        return string"
   ]
  },
  {
   "cell_type": "code",
   "execution_count": 11,
   "metadata": {
    "collapsed": false
   },
   "outputs": [],
   "source": [
    "for i in range(len(beerAdvocate)):\n",
    "    # Change the name of the beer\n",
    "    beerAdvocate.set_value(i, 'beer_name', decode_from_latin_1(beerAdvocate.ix[i].beer_name))\n",
    "    beerAdvocate.set_value(i, 'brewery_name', decode_from_latin_1(beerAdvocate.ix[i].brewery_name))\n"
   ]
  },
  {
   "cell_type": "code",
   "execution_count": 12,
   "metadata": {
    "collapsed": false
   },
   "outputs": [
    {
     "data": {
      "text/plain": [
       "'Master Polotmavý 13°'"
      ]
     },
     "execution_count": 12,
     "metadata": {},
     "output_type": "execute_result"
    }
   ],
   "source": [
    "beerAdvocate.ix[12].beer_name"
   ]
  },
  {
   "cell_type": "markdown",
   "metadata": {},
   "source": [
    "Let's print the number of entries in each dataset."
   ]
  },
  {
   "cell_type": "code",
   "execution_count": 13,
   "metadata": {
    "collapsed": false
   },
   "outputs": [
    {
     "name": "stdout",
     "output_type": "stream",
     "text": [
      "Number of rows in beerAdvocate: 66056\n",
      "Number of rows in rateBeer: 110359\n"
     ]
    }
   ],
   "source": [
    "print(\"Number of rows in beerAdvocate: %i\"%(len(beerAdvocate)))\n",
    "print(\"Number of rows in rateBeer: %i\"%(len(rateBeer)))"
   ]
  },
  {
   "cell_type": "markdown",
   "metadata": {},
   "source": [
    "Let's check the number of **unique** beers to see if it matches the number of rows in the dataset."
   ]
  },
  {
   "cell_type": "code",
   "execution_count": 14,
   "metadata": {
    "collapsed": false
   },
   "outputs": [
    {
     "name": "stdout",
     "output_type": "stream",
     "text": [
      "Number of unique beers in beerAdvocate: 56855\n",
      "Number of unique beers in rateBeer: 110302\n"
     ]
    }
   ],
   "source": [
    "unique_beers_beerAdvocate = beerAdvocate.beer_name.unique()\n",
    "unique_beers_rateBeer = rateBeer.beer_name.unique()\n",
    "\n",
    "print(\"Number of unique beers in beerAdvocate: %i\"%(len(unique_beers_beerAdvocate)))\n",
    "print(\"Number of unique beers in rateBeer: %i\"%(len(unique_beers_rateBeer)))"
   ]
  },
  {
   "cell_type": "markdown",
   "metadata": {},
   "source": [
    "It's already interesting to see that some beers have the same name in both datasets. Let's take one of them and see if they have the same `brewery_name`."
   ]
  },
  {
   "cell_type": "code",
   "execution_count": 15,
   "metadata": {
    "collapsed": false
   },
   "outputs": [
    {
     "name": "stdout",
     "output_type": "stream",
     "text": [
      "Number of duplicated beer names in beerAdvocate: 2707\n",
      "Number of duplicated beer names in rateBeer: 55\n"
     ]
    }
   ],
   "source": [
    "duplicated_beers_beerAdvocate = beerAdvocate[beerAdvocate.beer_name.duplicated()].beer_name.unique()\n",
    "duplicated_beers_rateBeer = rateBeer[rateBeer.beer_name.duplicated()].beer_name.unique()\n",
    "\n",
    "print(\"Number of duplicated beer names in beerAdvocate: %i\"%(len(duplicated_beers_beerAdvocate)))\n",
    "print(\"Number of duplicated beer names in rateBeer: %i\"%(len(duplicated_beers_rateBeer)))"
   ]
  },
  {
   "cell_type": "code",
   "execution_count": 16,
   "metadata": {
    "collapsed": false
   },
   "outputs": [],
   "source": [
    "dup_beer_dup_brewery = []\n",
    "\n",
    "# Create list of tuples. \n",
    "#   First entry is the name of the duplicated beer\n",
    "#   Second entry is the list of Brewery that is duplicated\n",
    "#   Third entry is the list of indices to remove them easily.\n",
    "for dup_beer in duplicated_beers_beerAdvocate:\n",
    "    subdf = beerAdvocate[beerAdvocate.beer_name == dup_beer]\n",
    "    if any(subdf.brewery_name.duplicated()):\n",
    "        dup_beer_dup_brewery.append((dup_beer, list(subdf[subdf.brewery_name.duplicated()][\"brewery_name\"]), list(subdf[subdf.brewery_name.duplicated()].index)))"
   ]
  },
  {
   "cell_type": "code",
   "execution_count": 17,
   "metadata": {
    "collapsed": false,
    "scrolled": true
   },
   "outputs": [
    {
     "name": "stdout",
     "output_type": "stream",
     "text": [
      "Number of beers with duplicated brewery in beerAdvocate: 286\n"
     ]
    }
   ],
   "source": [
    "print(\"Number of beers with duplicated brewery in beerAdvocate: %i\"%(len(dup_beer_dup_brewery)))"
   ]
  },
  {
   "cell_type": "markdown",
   "metadata": {},
   "source": [
    "Just check how the function `duplicated` works. For example, if we have two times the same brewery, this means that we would have 3 times the same beer and the same brewery in the data set."
   ]
  },
  {
   "cell_type": "code",
   "execution_count": 18,
   "metadata": {
    "collapsed": false
   },
   "outputs": [
    {
     "data": {
      "text/plain": [
       "('Saison',\n",
       " ['Triumph Brewing Company', 'Triumph Brewing Company'],\n",
       " [22563, 43875])"
      ]
     },
     "execution_count": 18,
     "metadata": {},
     "output_type": "execute_result"
    }
   ],
   "source": [
    "dup_beer_dup_brewery[3]"
   ]
  },
  {
   "cell_type": "code",
   "execution_count": 19,
   "metadata": {
    "collapsed": false,
    "scrolled": false
   },
   "outputs": [
    {
     "data": {
      "text/html": [
       "<div>\n",
       "<table border=\"1\" class=\"dataframe\">\n",
       "  <thead>\n",
       "    <tr style=\"text-align: right;\">\n",
       "      <th></th>\n",
       "      <th>beer_id</th>\n",
       "      <th>beer_name</th>\n",
       "      <th>brewery_id</th>\n",
       "      <th>brewery_name</th>\n",
       "    </tr>\n",
       "  </thead>\n",
       "  <tbody>\n",
       "    <tr>\n",
       "      <th>17881</th>\n",
       "      <td>49387</td>\n",
       "      <td>Saison</td>\n",
       "      <td>1317</td>\n",
       "      <td>Triumph Brewing Company</td>\n",
       "    </tr>\n",
       "    <tr>\n",
       "      <th>22563</th>\n",
       "      <td>37383</td>\n",
       "      <td>Saison</td>\n",
       "      <td>15341</td>\n",
       "      <td>Triumph Brewing Company</td>\n",
       "    </tr>\n",
       "    <tr>\n",
       "      <th>43875</th>\n",
       "      <td>24385</td>\n",
       "      <td>Saison</td>\n",
       "      <td>4832</td>\n",
       "      <td>Triumph Brewing Company</td>\n",
       "    </tr>\n",
       "  </tbody>\n",
       "</table>\n",
       "</div>"
      ],
      "text/plain": [
       "       beer_id beer_name  brewery_id             brewery_name\n",
       "17881    49387    Saison        1317  Triumph Brewing Company\n",
       "22563    37383    Saison       15341  Triumph Brewing Company\n",
       "43875    24385    Saison        4832  Triumph Brewing Company"
      ]
     },
     "execution_count": 19,
     "metadata": {},
     "output_type": "execute_result"
    }
   ],
   "source": [
    "beerAdvocate[(beerAdvocate.beer_name == \"Saison\") & (beerAdvocate.brewery_name == \"Triumph Brewing Company\")]"
   ]
  },
  {
   "cell_type": "markdown",
   "metadata": {},
   "source": [
    "At this point, we imagine that the three entries are the same. But we directly see that the brewery_id is different. And if we go check the breweries on beerAdvocate, we see that the three Breweries are not at the same place but they have the same name. Therefore, we cannot say that these three beers are the same. In order to get a better similarity measure, we need to add a bit mopre information about the breweries and the beers. Here are the features we scrap from the websites:\n",
    "- For the brewery:\n",
    "    - The address\n",
    "- For the beer:\n",
    "    - The ABV (Alcohol by Volume)\n",
    "    - The Style\n",
    "\n",
    "At this point, we will not scrap the websites nor use other data. This will be done later in the project. Therefore, we just remove the duplicate indices."
   ]
  },
  {
   "cell_type": "code",
   "execution_count": 20,
   "metadata": {
    "collapsed": false
   },
   "outputs": [],
   "source": [
    "indices_to_remove = []\n",
    "for i in range(len(dup_beer_dup_brewery)):\n",
    "    indices_to_remove.extend(dup_beer_dup_brewery[i][2])"
   ]
  },
  {
   "cell_type": "code",
   "execution_count": 21,
   "metadata": {
    "collapsed": false
   },
   "outputs": [
    {
     "data": {
      "text/html": [
       "<div>\n",
       "<table border=\"1\" class=\"dataframe\">\n",
       "  <thead>\n",
       "    <tr style=\"text-align: right;\">\n",
       "      <th></th>\n",
       "      <th>beer_id</th>\n",
       "      <th>beer_name</th>\n",
       "      <th>brewery_id</th>\n",
       "      <th>brewery_name</th>\n",
       "    </tr>\n",
       "  </thead>\n",
       "  <tbody>\n",
       "    <tr>\n",
       "      <th>65668</th>\n",
       "      <td>76042</td>\n",
       "      <td>Foster's Gold</td>\n",
       "      <td>575</td>\n",
       "      <td>Foster's Group Limited</td>\n",
       "    </tr>\n",
       "    <tr>\n",
       "      <th>65669</th>\n",
       "      <td>917</td>\n",
       "      <td>Foster's Special Bitter</td>\n",
       "      <td>575</td>\n",
       "      <td>Foster's Group Limited</td>\n",
       "    </tr>\n",
       "    <tr>\n",
       "      <th>65670</th>\n",
       "      <td>918</td>\n",
       "      <td>Foster's Lager</td>\n",
       "      <td>575</td>\n",
       "      <td>Foster's Group Limited</td>\n",
       "    </tr>\n",
       "    <tr>\n",
       "      <th>65671</th>\n",
       "      <td>52642</td>\n",
       "      <td>Hefe Weissbier</td>\n",
       "      <td>5751</td>\n",
       "      <td>Bayerische Löwenbrauerei</td>\n",
       "    </tr>\n",
       "    <tr>\n",
       "      <th>65672</th>\n",
       "      <td>58058</td>\n",
       "      <td>Hefeweissbier Dunkel</td>\n",
       "      <td>5751</td>\n",
       "      <td>Bayerische Löwenbrauerei</td>\n",
       "    </tr>\n",
       "  </tbody>\n",
       "</table>\n",
       "</div>"
      ],
      "text/plain": [
       "       beer_id                beer_name  brewery_id              brewery_name\n",
       "65668    76042            Foster's Gold         575    Foster's Group Limited\n",
       "65669      917  Foster's Special Bitter         575    Foster's Group Limited\n",
       "65670      918           Foster's Lager         575    Foster's Group Limited\n",
       "65671    52642           Hefe Weissbier        5751  Bayerische Löwenbrauerei\n",
       "65672    58058     Hefeweissbier Dunkel        5751  Bayerische Löwenbrauerei"
      ]
     },
     "execution_count": 21,
     "metadata": {},
     "output_type": "execute_result"
    }
   ],
   "source": [
    "# Remove the indices in the dataset\n",
    "beerAdvocate = beerAdvocate.drop(indices_to_remove, axis=0)\n",
    "beerAdvocate.index = range(len(beerAdvocate))\n",
    "beerAdvocate.tail()"
   ]
  },
  {
   "cell_type": "markdown",
   "metadata": {},
   "source": [
    "Now, we need to the same for the rateBeer dataset."
   ]
  },
  {
   "cell_type": "code",
   "execution_count": 22,
   "metadata": {
    "collapsed": true
   },
   "outputs": [],
   "source": [
    "dup_beer_dup_brewery = []\n",
    "\n",
    "# Create list of tuples. \n",
    "#   First entry is the name of the duplicated beer\n",
    "#   Second entry is the list of Brewery that is duplicated\n",
    "#   Third entry is the list of indices to remove them easily.\n",
    "for dup_beer in duplicated_beers_rateBeer:\n",
    "    subdf = rateBeer[rateBeer.beer_name == dup_beer]\n",
    "    if any(subdf.brewery_name.duplicated()):\n",
    "        dup_beer_dup_brewery.append((dup_beer, list(subdf[subdf.brewery_name.duplicated()][\"brewery_name\"]), list(subdf[subdf.brewery_name.duplicated()].index)))"
   ]
  },
  {
   "cell_type": "code",
   "execution_count": 23,
   "metadata": {
    "collapsed": false
   },
   "outputs": [
    {
     "name": "stdout",
     "output_type": "stream",
     "text": [
      "Number of beers with duplicated brewery in beerRate: 4\n"
     ]
    }
   ],
   "source": [
    "print(\"Number of beers with duplicated brewery in beerRate: %i\"%(len(dup_beer_dup_brewery)))"
   ]
  },
  {
   "cell_type": "code",
   "execution_count": 24,
   "metadata": {
    "collapsed": false
   },
   "outputs": [
    {
     "data": {
      "text/plain": [
       "[('Traugott Simon Export', ['Udo Täubrich Betreuungs'], [9819]),\n",
       " ('Big Horn Saison',\n",
       "  ['Big Horn Brewing Company (Ram International)'],\n",
       "  [19577]),\n",
       " ('Yukon Lead Dog Ale', ['Yukon Brewing Company'], [37365]),\n",
       " ('Prison Brews Winter Ale', ['Prison Brews'], [77632])]"
      ]
     },
     "execution_count": 24,
     "metadata": {},
     "output_type": "execute_result"
    }
   ],
   "source": [
    "dup_beer_dup_brewery"
   ]
  },
  {
   "cell_type": "code",
   "execution_count": 25,
   "metadata": {
    "collapsed": true
   },
   "outputs": [],
   "source": [
    "indices_to_remove = []\n",
    "for i in range(len(dup_beer_dup_brewery)):\n",
    "    indices_to_remove.extend(dup_beer_dup_brewery[i][2])"
   ]
  },
  {
   "cell_type": "code",
   "execution_count": 26,
   "metadata": {
    "collapsed": false
   },
   "outputs": [
    {
     "data": {
      "text/html": [
       "<div>\n",
       "<table border=\"1\" class=\"dataframe\">\n",
       "  <thead>\n",
       "    <tr style=\"text-align: right;\">\n",
       "      <th></th>\n",
       "      <th>beer_id</th>\n",
       "      <th>beer_name</th>\n",
       "      <th>brewery_id</th>\n",
       "      <th>brewery_name</th>\n",
       "    </tr>\n",
       "  </thead>\n",
       "  <tbody>\n",
       "    <tr>\n",
       "      <th>110350</th>\n",
       "      <td>77397</td>\n",
       "      <td>Jelling Bryghus Frode Fredegod</td>\n",
       "      <td>8804</td>\n",
       "      <td>Jelling Bryghus</td>\n",
       "    </tr>\n",
       "    <tr>\n",
       "      <th>110351</th>\n",
       "      <td>77398</td>\n",
       "      <td>Jelling Bryghus Poppo</td>\n",
       "      <td>8804</td>\n",
       "      <td>Jelling Bryghus</td>\n",
       "    </tr>\n",
       "    <tr>\n",
       "      <th>110352</th>\n",
       "      <td>77399</td>\n",
       "      <td>Jelling Bryghus Jelling Jól</td>\n",
       "      <td>8804</td>\n",
       "      <td>Jelling Bryghus</td>\n",
       "    </tr>\n",
       "    <tr>\n",
       "      <th>110353</th>\n",
       "      <td>89887</td>\n",
       "      <td>Jelling Bryghus Jalunki</td>\n",
       "      <td>8804</td>\n",
       "      <td>Jelling Bryghus</td>\n",
       "    </tr>\n",
       "    <tr>\n",
       "      <th>110354</th>\n",
       "      <td>97191</td>\n",
       "      <td>Jelling Bryghus Sildeglimt</td>\n",
       "      <td>8804</td>\n",
       "      <td>Jelling Bryghus</td>\n",
       "    </tr>\n",
       "  </tbody>\n",
       "</table>\n",
       "</div>"
      ],
      "text/plain": [
       "        beer_id                       beer_name  brewery_id     brewery_name\n",
       "110350    77397  Jelling Bryghus Frode Fredegod        8804  Jelling Bryghus\n",
       "110351    77398           Jelling Bryghus Poppo        8804  Jelling Bryghus\n",
       "110352    77399     Jelling Bryghus Jelling Jól        8804  Jelling Bryghus\n",
       "110353    89887         Jelling Bryghus Jalunki        8804  Jelling Bryghus\n",
       "110354    97191      Jelling Bryghus Sildeglimt        8804  Jelling Bryghus"
      ]
     },
     "execution_count": 26,
     "metadata": {},
     "output_type": "execute_result"
    }
   ],
   "source": [
    "# Remove the indices in the dataset\n",
    "rateBeer = rateBeer.drop(indices_to_remove, axis=0)\n",
    "rateBeer.index = range(len(rateBeer))\n",
    "rateBeer.tail()"
   ]
  },
  {
   "cell_type": "markdown",
   "metadata": {},
   "source": [
    "### Save the cleaned data set\n",
    "\n",
    "Now that the datasets are cleaned, we can save them in a CSV format."
   ]
  },
  {
   "cell_type": "code",
   "execution_count": 27,
   "metadata": {
    "collapsed": false
   },
   "outputs": [],
   "source": [
    "beerAdvocate.to_csv('./data/beerAdvocate_cleaned.csv', index=False, encoding='utf-8')\n",
    "rateBeer.to_csv('./data/rateBeer_cleaned.csv', index=False, encoding='utf-8')"
   ]
  },
  {
   "cell_type": "markdown",
   "metadata": {},
   "source": [
    "<a id='similarity'></a>\n",
    "# Similarity\n",
    "\n",
    "In this part, we want to create a similarity measure of the beers between the two datasets. Ideally, we would create a matrix of size $N\\times M$, $N$ being the size of *RateBeer* dataset and $M$ being the size of *BeerAdvocate* dataset. But given the size of the two datasets, it's not possible. Therefore, the similarity function given [here](#sim_func) will return the five most similar objects. "
   ]
  },
  {
   "cell_type": "code",
   "execution_count": 28,
   "metadata": {
    "collapsed": false
   },
   "outputs": [],
   "source": [
    "# Read the cleaned datasets\n",
    "beerAdvocate = pd.read_csv('./data/beerAdvocate_cleaned.csv', dtype=str)\n",
    "rateBeer = pd.read_csv('./data/rateBeer_cleaned.csv', dtype=str)"
   ]
  },
  {
   "cell_type": "code",
   "execution_count": 29,
   "metadata": {
    "collapsed": false
   },
   "outputs": [
    {
     "data": {
      "text/html": [
       "<div>\n",
       "<table border=\"1\" class=\"dataframe\">\n",
       "  <thead>\n",
       "    <tr style=\"text-align: right;\">\n",
       "      <th></th>\n",
       "      <th>beer_id</th>\n",
       "      <th>beer_name</th>\n",
       "      <th>brewery_id</th>\n",
       "      <th>brewery_name</th>\n",
       "    </tr>\n",
       "  </thead>\n",
       "  <tbody>\n",
       "    <tr>\n",
       "      <th>0</th>\n",
       "      <td>14348</td>\n",
       "      <td>Eisbrau Czech</td>\n",
       "      <td>1</td>\n",
       "      <td>Plzensky Prazdroj, a. s.</td>\n",
       "    </tr>\n",
       "    <tr>\n",
       "      <th>1</th>\n",
       "      <td>19099</td>\n",
       "      <td>Primus</td>\n",
       "      <td>1</td>\n",
       "      <td>Plzensky Prazdroj, a. s.</td>\n",
       "    </tr>\n",
       "    <tr>\n",
       "      <th>2</th>\n",
       "      <td>19123</td>\n",
       "      <td>Gambrinus Pale</td>\n",
       "      <td>1</td>\n",
       "      <td>Plzensky Prazdroj, a. s.</td>\n",
       "    </tr>\n",
       "    <tr>\n",
       "      <th>3</th>\n",
       "      <td>19274</td>\n",
       "      <td>Urutislav</td>\n",
       "      <td>1</td>\n",
       "      <td>Plzensky Prazdroj, a. s.</td>\n",
       "    </tr>\n",
       "    <tr>\n",
       "      <th>4</th>\n",
       "      <td>41294</td>\n",
       "      <td>Pilsner Urquell 3.5%</td>\n",
       "      <td>1</td>\n",
       "      <td>Plzensky Prazdroj, a. s.</td>\n",
       "    </tr>\n",
       "  </tbody>\n",
       "</table>\n",
       "</div>"
      ],
      "text/plain": [
       "  beer_id             beer_name brewery_id              brewery_name\n",
       "0   14348         Eisbrau Czech          1  Plzensky Prazdroj, a. s.\n",
       "1   19099                Primus          1  Plzensky Prazdroj, a. s.\n",
       "2   19123        Gambrinus Pale          1  Plzensky Prazdroj, a. s.\n",
       "3   19274             Urutislav          1  Plzensky Prazdroj, a. s.\n",
       "4   41294  Pilsner Urquell 3.5%          1  Plzensky Prazdroj, a. s."
      ]
     },
     "execution_count": 29,
     "metadata": {},
     "output_type": "execute_result"
    }
   ],
   "source": [
    "beerAdvocate.head()"
   ]
  },
  {
   "cell_type": "code",
   "execution_count": 30,
   "metadata": {
    "collapsed": false,
    "scrolled": false
   },
   "outputs": [
    {
     "data": {
      "text/html": [
       "<div>\n",
       "<table border=\"1\" class=\"dataframe\">\n",
       "  <thead>\n",
       "    <tr style=\"text-align: right;\">\n",
       "      <th></th>\n",
       "      <th>beer_id</th>\n",
       "      <th>beer_name</th>\n",
       "      <th>brewery_id</th>\n",
       "      <th>brewery_name</th>\n",
       "    </tr>\n",
       "  </thead>\n",
       "  <tbody>\n",
       "    <tr>\n",
       "      <th>0</th>\n",
       "      <td>4</td>\n",
       "      <td>Abita Bock</td>\n",
       "      <td>1</td>\n",
       "      <td>Abita Brewing Company</td>\n",
       "    </tr>\n",
       "    <tr>\n",
       "      <th>1</th>\n",
       "      <td>10731</td>\n",
       "      <td>Abita Louisiana Red Ale</td>\n",
       "      <td>1</td>\n",
       "      <td>Abita Brewing Company</td>\n",
       "    </tr>\n",
       "    <tr>\n",
       "      <th>2</th>\n",
       "      <td>114065</td>\n",
       "      <td>Abita Select Pecan Brown Ale</td>\n",
       "      <td>1</td>\n",
       "      <td>Abita Brewing Company</td>\n",
       "    </tr>\n",
       "    <tr>\n",
       "      <th>3</th>\n",
       "      <td>114981</td>\n",
       "      <td>Abita Select Amber Ale</td>\n",
       "      <td>1</td>\n",
       "      <td>Abita Brewing Company</td>\n",
       "    </tr>\n",
       "    <tr>\n",
       "      <th>4</th>\n",
       "      <td>117017</td>\n",
       "      <td>Abita American Wheat</td>\n",
       "      <td>1</td>\n",
       "      <td>Abita Brewing Company</td>\n",
       "    </tr>\n",
       "  </tbody>\n",
       "</table>\n",
       "</div>"
      ],
      "text/plain": [
       "  beer_id                     beer_name brewery_id           brewery_name\n",
       "0       4                    Abita Bock          1  Abita Brewing Company\n",
       "1   10731       Abita Louisiana Red Ale          1  Abita Brewing Company\n",
       "2  114065  Abita Select Pecan Brown Ale          1  Abita Brewing Company\n",
       "3  114981        Abita Select Amber Ale          1  Abita Brewing Company\n",
       "4  117017          Abita American Wheat          1  Abita Brewing Company"
      ]
     },
     "execution_count": 30,
     "metadata": {},
     "output_type": "execute_result"
    }
   ],
   "source": [
    "rateBeer.head()"
   ]
  },
  {
   "cell_type": "code",
   "execution_count": 31,
   "metadata": {
    "collapsed": false
   },
   "outputs": [],
   "source": [
    "unique_rateBeer_breweries = rateBeer.brewery_name.unique()"
   ]
  },
  {
   "cell_type": "markdown",
   "metadata": {},
   "source": [
    "<a id='sim_func'></a>\n",
    "## Similarity measure\n",
    "\n",
    "The similarity measure has been thought to be the most efficient possible. Instead of computing the whole matrix of similarities, we compute the similarities using the two features separately. This function takes a line of the *beerAdvocate* dataset and test it against the *rateBeer* dataset.\n",
    "\n",
    "First, we start with the `brewery_name`. Indeed, it is possible to have beers with the same name but with different brewery. If it's the case, we cannot consider that they are the same. Therefore, we simply get the most similar `brewery_name` in the *rateBeer* dataset to the given entry of the *beerAdvocate* dataset. Then, we compute the similarity of the `beer_name` between the beers of the most similar brewery in *rateBeer* and the entry of the *beerAdvocate* dataset.\n",
    "\n",
    "To compute the similarities, we use the library [fuzzywuzzy](https://github.com/seatgeek/fuzzywuzzy). For the `brewery_name`, it's enough to use the function `token_set_ratio`. But for the beer, it's a little more complex due to all kind of changes in the name. First, we use the function `token_set_ratio`. Then, given if the name of the beer is a unique \"generic\" name or not, we use the function `ratio` or `partial_ratio` respectively. This helps to remove the elements matching together just by tokens.\n"
   ]
  },
  {
   "cell_type": "code",
   "execution_count": 40,
   "metadata": {
    "collapsed": false
   },
   "outputs": [],
   "source": [
    "def similarity(test):\n",
    "    # Get brewery and beer name from beerAdvocate\n",
    "    brewery = test.brewery_name.replace(\"'\", \"\")\n",
    "    beer = test.beer_name.replace(\"'\", \"\")\n",
    "    \n",
    "    # Similarity of brewery_name\n",
    "    brewery_sim = np.zeros(len(unique_rateBeer_breweries))\n",
    "    for i in range(len(unique_rateBeer_breweries)):\n",
    "        brewery_sim[i] = fuzz.token_set_ratio(brewery, unique_rateBeer_breweries[i])/100.0\n",
    "        \n",
    "    # Get the best match\n",
    "    idx_best_match_brewery = np.argmax(brewery_sim)\n",
    "    best_match_brewery = np.max(brewery_sim)\n",
    "    \n",
    "    # List of beers in rateBeer with the brewery being the best match\n",
    "    beer_names = list(rateBeer[rateBeer.brewery_name == unique_rateBeer_breweries[idx_best_match_brewery]].beer_name)\n",
    "        \n",
    "    N = len(beer_names)\n",
    "\n",
    "    # Test the beers in previous list against beer from beerAdvocate\n",
    "    test_beers = np.zeros(N)\n",
    "    for i in range(N):\n",
    "        val1 = fuzz.token_set_ratio(beer, beer_names[i])/100.0\n",
    "        if \" \" in beer:\n",
    "            val2 = fuzz.partial_ratio(beer, beer_names[i])/100.0\n",
    "        else:\n",
    "            val2 = fuzz.ratio(beer, beer_names[i])/100.0\n",
    "            if val2 < 1.0:\n",
    "                val2 = val2/2.0\n",
    "\n",
    "        test_beers[i] = val1*val2\n",
    "    \n",
    "    # Get the best similarities\n",
    "    best_idx = np.argsort(test_beers)[::-1]\n",
    "    \n",
    "    nbr_match = 5\n",
    "    if N < 5:\n",
    "        nbr_match = N\n",
    "    \n",
    "    # Get the 5 best matches\n",
    "    matches = []\n",
    "    for i in range(nbr_match):\n",
    "        matches.append((beer_names[best_idx[i]], \n",
    "                        unique_rateBeer_breweries[idx_best_match_brewery], \n",
    "                        test_beers[best_idx[i]]*best_match_brewery))\n",
    "        \n",
    "    ## Double check \n",
    "    # If the elements have the same best values, we sort them by the \n",
    "    # difference of length between the beer names. \n",
    "    # This problem comes from the tokenisation for the similarity\n",
    "    best_sim = matches[0][2]\n",
    "    idx = [0]\n",
    "    diff_length_beer_name = [abs(len(matches[0][0])-len(beer))]\n",
    "    for i in range(1,nbr_match):\n",
    "        if matches[i][2] == best_sim:\n",
    "            idx.append(i)\n",
    "            diff_length_beer_name.append(abs(len(matches[i][0])-len(beer)))\n",
    "            \n",
    "    best_idx = np.argsort(diff_length_beer_name)\n",
    "    idx = np.asarray(idx)\n",
    "    \n",
    "    matches = np.asarray(matches)\n",
    "    \n",
    "    matches[idx] = matches[best_idx]\n",
    "                \n",
    "    return matches"
   ]
  },
  {
   "cell_type": "markdown",
   "metadata": {},
   "source": [
    "We can test here the similarity measure on single line of the *beerAdvocate* dataset."
   ]
  },
  {
   "cell_type": "code",
   "execution_count": 33,
   "metadata": {
    "collapsed": false
   },
   "outputs": [
    {
     "name": "stdout",
     "output_type": "stream",
     "text": [
      "beer_id                               1814\n",
      "beer_name       McNeill's Pullman's Porter\n",
      "brewery_id                             100\n",
      "brewery_name             McNeill's Brewery\n",
      "Name: 32, dtype: object\n",
      "\n",
      "[['McNeills Pullmans Porter' 'McNeills Brewery' '1.0']\n",
      " ['McNeills Troll' 'McNeills Brewery' '0.5767']\n",
      " ['McNeills Dubbel' 'McNeills Brewery' '0.511']\n",
      " ['McNeills Pilsner' 'McNeills Brewery' '0.5025']\n",
      " ['McNeills Kölsch' 'McNeills Brewery' '0.4891']]\n"
     ]
    }
   ],
   "source": [
    "bb=32\n",
    "print(beerAdvocate.ix[bb])\n",
    "print()\n",
    "print(similarity(beerAdvocate.ix[bb]))"
   ]
  },
  {
   "cell_type": "markdown",
   "metadata": {},
   "source": [
    "Prepare the Parallel implementation"
   ]
  },
  {
   "cell_type": "code",
   "execution_count": 34,
   "metadata": {
    "collapsed": false
   },
   "outputs": [
    {
     "data": {
      "text/plain": [
       "8"
      ]
     },
     "execution_count": 34,
     "metadata": {},
     "output_type": "execute_result"
    }
   ],
   "source": [
    "nbr_jobs = multiprocessing.cpu_count()\n",
    "nbr_jobs"
   ]
  },
  {
   "cell_type": "markdown",
   "metadata": {},
   "source": [
    "Compute the list of similarities. **Warning**: On a Intel i7-6820HK CPU with 4 cores and 8 threads, it took 45 minutes."
   ]
  },
  {
   "cell_type": "code",
   "execution_count": null,
   "metadata": {
    "collapsed": false,
    "scrolled": true
   },
   "outputs": [],
   "source": [
    "%%time\n",
    "M = len(beerAdvocate)\n",
    "N = len(rateBeer)\n",
    "\n",
    "sim = Parallel(n_jobs=nbr_jobs)(delayed(similarity)(beerAdvocate.ix[idx]) for idx in range(M))"
   ]
  },
  {
   "cell_type": "markdown",
   "metadata": {},
   "source": [
    "Save the list as a pickle file."
   ]
  },
  {
   "cell_type": "code",
   "execution_count": null,
   "metadata": {
    "collapsed": true
   },
   "outputs": [],
   "source": [
    "pickle.dump(sim, open('./data/similarity.pickle', \"wb\"))"
   ]
  },
  {
   "cell_type": "markdown",
   "metadata": {},
   "source": [
    "<a id='matching'></a>\n",
    "# Matching the beers\n",
    "\n",
    "Now, we want to match the beers together and create a new pandas DataFrame with the beers that are the same in the two datasets.\n",
    "\n",
    "First, we can load the pickle file. **Warning**: Don't forget to unzip it if you did not run the [similarity](#similarity) section."
   ]
  },
  {
   "cell_type": "code",
   "execution_count": 35,
   "metadata": {
    "collapsed": true
   },
   "outputs": [],
   "source": [
    "sim = pickle.load(open('./data/similarity.pickle', \"rb\"))"
   ]
  },
  {
   "cell_type": "markdown",
   "metadata": {},
   "source": [
    "Print an example of the `sim` vector."
   ]
  },
  {
   "cell_type": "code",
   "execution_count": 39,
   "metadata": {
    "collapsed": false
   },
   "outputs": [
    {
     "data": {
      "text/plain": [
       "array([['Gambrinus Svetlý 10° (Desítka)', 'Plzensky Prazdroj (SABMiller)',\n",
       "        '0.610718'],\n",
       "       ['Gambrinus Dry', 'Plzensky Prazdroj (SABMiller)', '0.561946'],\n",
       "       ['Gambrinus Bílé', 'Plzensky Prazdroj (SABMiller)', '0.543434'],\n",
       "       ['Gambrinus Nefiltrované Sv?tlé', 'Plzensky Prazdroj (SABMiller)',\n",
       "        '0.4806'],\n",
       "       ['Gambrinus Master', 'Plzensky Prazdroj (SABMiller)', '0.460575']], \n",
       "      dtype='<U30')"
      ]
     },
     "execution_count": 39,
     "metadata": {},
     "output_type": "execute_result"
    }
   ],
   "source": [
    "sim[8]"
   ]
  },
  {
   "cell_type": "markdown",
   "metadata": {},
   "source": [
    "Here, we can choose to check the first and second (or even more) best matches. But after checking many different examples, we see that if we also use the second element it won't be better. Therefore, we simply want to create the array of best maching beers and breweries by taking the first element in the `sim` list."
   ]
  },
  {
   "cell_type": "code",
   "execution_count": 41,
   "metadata": {
    "collapsed": false
   },
   "outputs": [],
   "source": [
    "best_sim = np.zeros(len(sim))\n",
    "best_match_beer = []\n",
    "best_match_brewery = []"
   ]
  },
  {
   "cell_type": "code",
   "execution_count": 42,
   "metadata": {
    "collapsed": false
   },
   "outputs": [],
   "source": [
    "for i in range(len(sim)):\n",
    "    best_sim[i] = sim[i][0][2]\n",
    "    best_match_beer.append(sim[i][0][0])\n",
    "    best_match_brewery.append(sim[i][0][1])"
   ]
  },
  {
   "cell_type": "markdown",
   "metadata": {},
   "source": [
    "Create a new DataFrame."
   ]
  },
  {
   "cell_type": "code",
   "execution_count": 43,
   "metadata": {
    "collapsed": true
   },
   "outputs": [],
   "source": [
    "matching_beers = beerAdvocate.copy()"
   ]
  },
  {
   "cell_type": "code",
   "execution_count": 44,
   "metadata": {
    "collapsed": false
   },
   "outputs": [],
   "source": [
    "matching_beers.columns = [s + '_beerAdvocate' for s in matching_beers.columns]"
   ]
  },
  {
   "cell_type": "code",
   "execution_count": 46,
   "metadata": {
    "collapsed": true
   },
   "outputs": [],
   "source": [
    "matching_beers['beer_name_rateBeer'] = best_match_beer\n",
    "matching_beers['brewery_name_rateBeer'] = best_match_brewery\n",
    "matching_beers['similarity'] = best_sim"
   ]
  },
  {
   "cell_type": "code",
   "execution_count": 47,
   "metadata": {
    "collapsed": false,
    "scrolled": false
   },
   "outputs": [
    {
     "data": {
      "text/html": [
       "<div>\n",
       "<table border=\"1\" class=\"dataframe\">\n",
       "  <thead>\n",
       "    <tr style=\"text-align: right;\">\n",
       "      <th></th>\n",
       "      <th>beer_id_beerAdvocate</th>\n",
       "      <th>beer_name_beerAdvocate</th>\n",
       "      <th>brewery_id_beerAdvocate</th>\n",
       "      <th>brewery_name_beerAdvocate</th>\n",
       "      <th>beer_name_rateBeer</th>\n",
       "      <th>brewery_name_rateBeer</th>\n",
       "      <th>similarity</th>\n",
       "    </tr>\n",
       "  </thead>\n",
       "  <tbody>\n",
       "    <tr>\n",
       "      <th>0</th>\n",
       "      <td>14348</td>\n",
       "      <td>Eisbrau Czech</td>\n",
       "      <td>1</td>\n",
       "      <td>Plzensky Prazdroj, a. s.</td>\n",
       "      <td>Eisbrau Czech</td>\n",
       "      <td>Plzensky Prazdroj (SABMiller)</td>\n",
       "      <td>0.890000</td>\n",
       "    </tr>\n",
       "    <tr>\n",
       "      <th>1</th>\n",
       "      <td>19099</td>\n",
       "      <td>Primus</td>\n",
       "      <td>1</td>\n",
       "      <td>Plzensky Prazdroj, a. s.</td>\n",
       "      <td>Primus Sv&amp;#283tlé (Pale)</td>\n",
       "      <td>Plzensky Prazdroj (SABMiller)</td>\n",
       "      <td>0.178000</td>\n",
       "    </tr>\n",
       "    <tr>\n",
       "      <th>2</th>\n",
       "      <td>19123</td>\n",
       "      <td>Gambrinus Pale</td>\n",
       "      <td>1</td>\n",
       "      <td>Plzensky Prazdroj, a. s.</td>\n",
       "      <td>Gambrinus Bílé</td>\n",
       "      <td>Plzensky Prazdroj (SABMiller)</td>\n",
       "      <td>0.604666</td>\n",
       "    </tr>\n",
       "    <tr>\n",
       "      <th>3</th>\n",
       "      <td>19274</td>\n",
       "      <td>Urutislav</td>\n",
       "      <td>1</td>\n",
       "      <td>Plzensky Prazdroj, a. s.</td>\n",
       "      <td>Pilsner Urquell</td>\n",
       "      <td>Plzensky Prazdroj (SABMiller)</td>\n",
       "      <td>0.046992</td>\n",
       "    </tr>\n",
       "    <tr>\n",
       "      <th>4</th>\n",
       "      <td>41294</td>\n",
       "      <td>Pilsner Urquell 3.5%</td>\n",
       "      <td>1</td>\n",
       "      <td>Plzensky Prazdroj, a. s.</td>\n",
       "      <td>Pilsner Urquell 3.5%</td>\n",
       "      <td>Plzensky Prazdroj (SABMiller)</td>\n",
       "      <td>0.890000</td>\n",
       "    </tr>\n",
       "  </tbody>\n",
       "</table>\n",
       "</div>"
      ],
      "text/plain": [
       "  beer_id_beerAdvocate beer_name_beerAdvocate brewery_id_beerAdvocate  \\\n",
       "0                14348          Eisbrau Czech                       1   \n",
       "1                19099                 Primus                       1   \n",
       "2                19123         Gambrinus Pale                       1   \n",
       "3                19274              Urutislav                       1   \n",
       "4                41294   Pilsner Urquell 3.5%                       1   \n",
       "\n",
       "  brewery_name_beerAdvocate        beer_name_rateBeer  \\\n",
       "0  Plzensky Prazdroj, a. s.             Eisbrau Czech   \n",
       "1  Plzensky Prazdroj, a. s.  Primus Sv&#283tlé (Pale)   \n",
       "2  Plzensky Prazdroj, a. s.            Gambrinus Bílé   \n",
       "3  Plzensky Prazdroj, a. s.          Pilsner Urquell    \n",
       "4  Plzensky Prazdroj, a. s.      Pilsner Urquell 3.5%   \n",
       "\n",
       "           brewery_name_rateBeer  similarity  \n",
       "0  Plzensky Prazdroj (SABMiller)    0.890000  \n",
       "1  Plzensky Prazdroj (SABMiller)    0.178000  \n",
       "2  Plzensky Prazdroj (SABMiller)    0.604666  \n",
       "3  Plzensky Prazdroj (SABMiller)    0.046992  \n",
       "4  Plzensky Prazdroj (SABMiller)    0.890000  "
      ]
     },
     "execution_count": 47,
     "metadata": {},
     "output_type": "execute_result"
    }
   ],
   "source": [
    "matching_beers.head()\n"
   ]
  },
  {
   "cell_type": "markdown",
   "metadata": {},
   "source": [
    "Let's sort the DataFrame by the similarity value."
   ]
  },
  {
   "cell_type": "code",
   "execution_count": 50,
   "metadata": {
    "collapsed": false
   },
   "outputs": [],
   "source": [
    "matching_beers.sort_values(by='similarity', ascending=False, inplace=True)"
   ]
  },
  {
   "cell_type": "code",
   "execution_count": 51,
   "metadata": {
    "collapsed": false,
    "scrolled": true
   },
   "outputs": [
    {
     "data": {
      "text/plain": [
       "count    65673.000000\n",
       "mean         0.537842\n",
       "std          0.371836\n",
       "min          0.000000\n",
       "25%          0.172200\n",
       "50%          0.474500\n",
       "75%          1.000000\n",
       "max          1.000000\n",
       "Name: similarity, dtype: float64"
      ]
     },
     "execution_count": 51,
     "metadata": {},
     "output_type": "execute_result"
    }
   ],
   "source": [
    "matching_beers.similarity.describe()"
   ]
  },
  {
   "cell_type": "markdown",
   "metadata": {},
   "source": [
    "Let's plot the histogram of the similarity values."
   ]
  },
  {
   "cell_type": "code",
   "execution_count": 53,
   "metadata": {
    "collapsed": false,
    "scrolled": false
   },
   "outputs": [
    {
     "data": {
      "text/plain": [
       "<function matplotlib.pyplot.show>"
      ]
     },
     "execution_count": 53,
     "metadata": {},
     "output_type": "execute_result"
    },
    {
     "data": {
      "image/png": "[encoded data removed]",
      "text/plain": [
       "<matplotlib.figure.Figure at 0x7fc856d1fb38>"
      ]
     },
     "metadata": {},
     "output_type": "display_data"
    }
   ],
   "source": [
    "plt.hist(list(matching_beers.similarity), 20)\n",
    "plt.xlabel('Similarity value')\n",
    "plt.ylabel('Number of entries')\n",
    "plt.show"
   ]
  },
  {
   "cell_type": "markdown",
   "metadata": {},
   "source": [
    "This histogram is really interesting. We see that we have a lot of beers where the matching is really good. So, if we want to be sure with a very high probability that the beers are the same, then we can choose to take only the entries with a similarity value of 1. But we will loose some beers. Therefore, we can empirically test different threshold value and choose a good threshold value.\n",
    "\n",
    "Ideally, we would do a precision and recall to get a better idea about this threshold. But it's a long and painful process since we have more than 60'000 beers in the `matching_beers` DataFrame."
   ]
  },
  {
   "cell_type": "code",
   "execution_count": 54,
   "metadata": {
    "collapsed": false
   },
   "outputs": [
    {
     "data": {
      "text/html": [
       "<div>\n",
       "<table border=\"1\" class=\"dataframe\">\n",
       "  <thead>\n",
       "    <tr style=\"text-align: right;\">\n",
       "      <th></th>\n",
       "      <th>beer_id_beerAdvocate</th>\n",
       "      <th>beer_name_beerAdvocate</th>\n",
       "      <th>brewery_id_beerAdvocate</th>\n",
       "      <th>brewery_name_beerAdvocate</th>\n",
       "      <th>beer_name_rateBeer</th>\n",
       "      <th>brewery_name_rateBeer</th>\n",
       "      <th>similarity</th>\n",
       "    </tr>\n",
       "  </thead>\n",
       "  <tbody>\n",
       "    <tr>\n",
       "      <th>33970</th>\n",
       "      <td>53146</td>\n",
       "      <td>Terrapin Pumpkinfest</td>\n",
       "      <td>2372</td>\n",
       "      <td>Terrapin Beer Company</td>\n",
       "      <td>Terrapin Side Project Pumpkinfest</td>\n",
       "      <td>Terrapin Beer Company</td>\n",
       "      <td>0.65</td>\n",
       "    </tr>\n",
       "    <tr>\n",
       "      <th>41650</th>\n",
       "      <td>63692</td>\n",
       "      <td>Ramstein India Pale Ale</td>\n",
       "      <td>607</td>\n",
       "      <td>High Point Brewing Company</td>\n",
       "      <td>Ramstein Pale Ale</td>\n",
       "      <td>High Point Brewing Company</td>\n",
       "      <td>0.65</td>\n",
       "    </tr>\n",
       "    <tr>\n",
       "      <th>10201</th>\n",
       "      <td>2638</td>\n",
       "      <td>Brew Moon Scotch Ale</td>\n",
       "      <td>1567</td>\n",
       "      <td>Brew Moon Restaurant &amp; Microbrewery</td>\n",
       "      <td>Brew Moon Supernova Scotch Ale</td>\n",
       "      <td>Brew Moon Restaurant &amp; Microbrewery</td>\n",
       "      <td>0.65</td>\n",
       "    </tr>\n",
       "    <tr>\n",
       "      <th>16828</th>\n",
       "      <td>28250</td>\n",
       "      <td>Marietta Brewing Pale Ale</td>\n",
       "      <td>597</td>\n",
       "      <td>Marietta Brewing Company</td>\n",
       "      <td>Marietta Pale Ale</td>\n",
       "      <td>Marietta Brewing Company</td>\n",
       "      <td>0.65</td>\n",
       "    </tr>\n",
       "    <tr>\n",
       "      <th>16845</th>\n",
       "      <td>26954</td>\n",
       "      <td>Bourbon Cherry Stout</td>\n",
       "      <td>598</td>\n",
       "      <td>Onion Pub &amp; Brewery</td>\n",
       "      <td>Onion Cherry Bourbon Stout</td>\n",
       "      <td>Wild Onion Pub and Brewery</td>\n",
       "      <td>0.65</td>\n",
       "    </tr>\n",
       "    <tr>\n",
       "      <th>1719</th>\n",
       "      <td>33894</td>\n",
       "      <td>Schlafly Reserve - Imperial Stout</td>\n",
       "      <td>583</td>\n",
       "      <td>Saint Louis Brewery / Schlafly Tap Room</td>\n",
       "      <td>Schlafly Imperial Stout</td>\n",
       "      <td>Saint Louis Brewery</td>\n",
       "      <td>0.65</td>\n",
       "    </tr>\n",
       "    <tr>\n",
       "      <th>1723</th>\n",
       "      <td>36290</td>\n",
       "      <td>Schlafly Dry-Hopped American Pale Ale</td>\n",
       "      <td>583</td>\n",
       "      <td>Saint Louis Brewery / Schlafly Tap Room</td>\n",
       "      <td>Schlafly Pale Ale</td>\n",
       "      <td>Saint Louis Brewery</td>\n",
       "      <td>0.65</td>\n",
       "    </tr>\n",
       "    <tr>\n",
       "      <th>51186</th>\n",
       "      <td>9760</td>\n",
       "      <td>Extra Lager Rouge</td>\n",
       "      <td>1144</td>\n",
       "      <td>Le Cheval Blanc</td>\n",
       "      <td>Le Cheval Blanc Lager Extra-Rouge</td>\n",
       "      <td>Le Cheval Blanc</td>\n",
       "      <td>0.65</td>\n",
       "    </tr>\n",
       "    <tr>\n",
       "      <th>62847</th>\n",
       "      <td>64746</td>\n",
       "      <td>Barrel Aged Keyser Soze</td>\n",
       "      <td>632</td>\n",
       "      <td>Triple Rock Brewery &amp; Alehouse</td>\n",
       "      <td>Triple Rock Keyser Soze (Bourbon Barrel Aged)</td>\n",
       "      <td>Triple Rock Brewery &amp; Alehouse</td>\n",
       "      <td>0.65</td>\n",
       "    </tr>\n",
       "    <tr>\n",
       "      <th>5104</th>\n",
       "      <td>63244</td>\n",
       "      <td>Gatekeeper (Sour)</td>\n",
       "      <td>18915</td>\n",
       "      <td>Indigo Imp Brewery</td>\n",
       "      <td>Indigo Imp Gatekeeper Limited Release Special ...</td>\n",
       "      <td>Indigo Imp</td>\n",
       "      <td>0.65</td>\n",
       "    </tr>\n",
       "    <tr>\n",
       "      <th>53298</th>\n",
       "      <td>8729</td>\n",
       "      <td>Ã?phÃ©mÃ¨re (Peach)</td>\n",
       "      <td>22</td>\n",
       "      <td>Unibroue</td>\n",
       "      <td>Unibroue Éphémère Peach</td>\n",
       "      <td>Unibroue (Sapporo)</td>\n",
       "      <td>0.65</td>\n",
       "    </tr>\n",
       "    <tr>\n",
       "      <th>8041</th>\n",
       "      <td>73068</td>\n",
       "      <td>Rule Of Thirds (Import Series Vol. 4)</td>\n",
       "      <td>22150</td>\n",
       "      <td>Stillwater Artisanal Ales</td>\n",
       "      <td>Stillwater Import Series Vol. 4 'Rule of Thirds'</td>\n",
       "      <td>Stillwater Artisanal Ales</td>\n",
       "      <td>0.65</td>\n",
       "    </tr>\n",
       "    <tr>\n",
       "      <th>1309</th>\n",
       "      <td>11874</td>\n",
       "      <td>Carolina Cask Conditioned Pale Ale</td>\n",
       "      <td>1499</td>\n",
       "      <td>Carolina Brewing Company</td>\n",
       "      <td>Carolina Pale Ale</td>\n",
       "      <td>Carolina Brewing Company</td>\n",
       "      <td>0.65</td>\n",
       "    </tr>\n",
       "    <tr>\n",
       "      <th>43781</th>\n",
       "      <td>4555</td>\n",
       "      <td>Oatmeal Stout</td>\n",
       "      <td>485</td>\n",
       "      <td>Humboldt Brews LLC</td>\n",
       "      <td>Cumberland Oatmeal Stout</td>\n",
       "      <td>Cumberland Brews</td>\n",
       "      <td>0.65</td>\n",
       "    </tr>\n",
       "    <tr>\n",
       "      <th>36620</th>\n",
       "      <td>24002</td>\n",
       "      <td>Altöttinger Naturtrub Zwickelbier</td>\n",
       "      <td>5139</td>\n",
       "      <td>Altöttinger Hell-Bräu GmbH</td>\n",
       "      <td>Altöttinger Zwickelbier</td>\n",
       "      <td>Altöttinger Hell-Bräu</td>\n",
       "      <td>0.65</td>\n",
       "    </tr>\n",
       "    <tr>\n",
       "      <th>53039</th>\n",
       "      <td>39578</td>\n",
       "      <td>Milly's Burton Ale</td>\n",
       "      <td>1285</td>\n",
       "      <td>Milly's Tavern</td>\n",
       "      <td>Millys Tavern Burton Ale</td>\n",
       "      <td>Millys Tavern</td>\n",
       "      <td>0.65</td>\n",
       "    </tr>\n",
       "    <tr>\n",
       "      <th>53283</th>\n",
       "      <td>3523</td>\n",
       "      <td>Ã?phÃ©mÃ¨re (Apple)</td>\n",
       "      <td>22</td>\n",
       "      <td>Unibroue</td>\n",
       "      <td>Unibroue Éphémère Apple</td>\n",
       "      <td>Unibroue (Sapporo)</td>\n",
       "      <td>0.65</td>\n",
       "    </tr>\n",
       "    <tr>\n",
       "      <th>57923</th>\n",
       "      <td>58658</td>\n",
       "      <td>MateVeza Organic Black Lager</td>\n",
       "      <td>15886</td>\n",
       "      <td>Mateveza Brewing Company</td>\n",
       "      <td>Mateveza Black Lager</td>\n",
       "      <td>MateVeza Brewing Company</td>\n",
       "      <td>0.65</td>\n",
       "    </tr>\n",
       "    <tr>\n",
       "      <th>29974</th>\n",
       "      <td>49971</td>\n",
       "      <td>Big River Maibock</td>\n",
       "      <td>2617</td>\n",
       "      <td>Big River Grille &amp; Brewing Works</td>\n",
       "      <td>Big River Grille Disney World Maibock</td>\n",
       "      <td>Big River Grille &amp; Brewing Works Lake Buena Vi...</td>\n",
       "      <td>0.65</td>\n",
       "    </tr>\n",
       "    <tr>\n",
       "      <th>60448</th>\n",
       "      <td>572</td>\n",
       "      <td>Samuel Smith's, The Famous Taddy Porter</td>\n",
       "      <td>113</td>\n",
       "      <td>Samuel Smith Old Brewery (Tadcaster)</td>\n",
       "      <td>Samuel Smiths Taddy Porter</td>\n",
       "      <td>Samuel Smith</td>\n",
       "      <td>0.65</td>\n",
       "    </tr>\n",
       "  </tbody>\n",
       "</table>\n",
       "</div>"
      ],
      "text/plain": [
       "      beer_id_beerAdvocate                   beer_name_beerAdvocate  \\\n",
       "33970                53146                     Terrapin Pumpkinfest   \n",
       "41650                63692                  Ramstein India Pale Ale   \n",
       "10201                 2638                     Brew Moon Scotch Ale   \n",
       "16828                28250                Marietta Brewing Pale Ale   \n",
       "16845                26954                     Bourbon Cherry Stout   \n",
       "1719                 33894        Schlafly Reserve - Imperial Stout   \n",
       "1723                 36290    Schlafly Dry-Hopped American Pale Ale   \n",
       "51186                 9760                        Extra Lager Rouge   \n",
       "62847                64746                  Barrel Aged Keyser Soze   \n",
       "5104                 63244                        Gatekeeper (Sour)   \n",
       "53298                 8729                      Ã?phÃ©mÃ¨re (Peach)   \n",
       "8041                 73068    Rule Of Thirds (Import Series Vol. 4)   \n",
       "1309                 11874       Carolina Cask Conditioned Pale Ale   \n",
       "43781                 4555                            Oatmeal Stout   \n",
       "36620                24002        Altöttinger Naturtrub Zwickelbier   \n",
       "53039                39578                       Milly's Burton Ale   \n",
       "53283                 3523                      Ã?phÃ©mÃ¨re (Apple)   \n",
       "57923                58658             MateVeza Organic Black Lager   \n",
       "29974                49971                        Big River Maibock   \n",
       "60448                  572  Samuel Smith's, The Famous Taddy Porter   \n",
       "\n",
       "      brewery_id_beerAdvocate                brewery_name_beerAdvocate  \\\n",
       "33970                    2372                    Terrapin Beer Company   \n",
       "41650                     607               High Point Brewing Company   \n",
       "10201                    1567      Brew Moon Restaurant & Microbrewery   \n",
       "16828                     597                 Marietta Brewing Company   \n",
       "16845                     598                      Onion Pub & Brewery   \n",
       "1719                      583  Saint Louis Brewery / Schlafly Tap Room   \n",
       "1723                      583  Saint Louis Brewery / Schlafly Tap Room   \n",
       "51186                    1144                          Le Cheval Blanc   \n",
       "62847                     632           Triple Rock Brewery & Alehouse   \n",
       "5104                    18915                       Indigo Imp Brewery   \n",
       "53298                      22                                 Unibroue   \n",
       "8041                    22150                Stillwater Artisanal Ales   \n",
       "1309                     1499                 Carolina Brewing Company   \n",
       "43781                     485                       Humboldt Brews LLC   \n",
       "36620                    5139               Altöttinger Hell-Bräu GmbH   \n",
       "53039                    1285                           Milly's Tavern   \n",
       "53283                      22                                 Unibroue   \n",
       "57923                   15886                 Mateveza Brewing Company   \n",
       "29974                    2617         Big River Grille & Brewing Works   \n",
       "60448                     113     Samuel Smith Old Brewery (Tadcaster)   \n",
       "\n",
       "                                      beer_name_rateBeer  \\\n",
       "33970                  Terrapin Side Project Pumpkinfest   \n",
       "41650                                  Ramstein Pale Ale   \n",
       "10201                     Brew Moon Supernova Scotch Ale   \n",
       "16828                                  Marietta Pale Ale   \n",
       "16845                         Onion Cherry Bourbon Stout   \n",
       "1719                             Schlafly Imperial Stout   \n",
       "1723                                   Schlafly Pale Ale   \n",
       "51186                  Le Cheval Blanc Lager Extra-Rouge   \n",
       "62847      Triple Rock Keyser Soze (Bourbon Barrel Aged)   \n",
       "5104   Indigo Imp Gatekeeper Limited Release Special ...   \n",
       "53298                            Unibroue Éphémère Peach   \n",
       "8041    Stillwater Import Series Vol. 4 'Rule of Thirds'   \n",
       "1309                                   Carolina Pale Ale   \n",
       "43781                           Cumberland Oatmeal Stout   \n",
       "36620                            Altöttinger Zwickelbier   \n",
       "53039                           Millys Tavern Burton Ale   \n",
       "53283                            Unibroue Éphémère Apple   \n",
       "57923                               Mateveza Black Lager   \n",
       "29974              Big River Grille Disney World Maibock   \n",
       "60448                         Samuel Smiths Taddy Porter   \n",
       "\n",
       "                                   brewery_name_rateBeer  similarity  \n",
       "33970                              Terrapin Beer Company        0.65  \n",
       "41650                         High Point Brewing Company        0.65  \n",
       "10201                Brew Moon Restaurant & Microbrewery        0.65  \n",
       "16828                           Marietta Brewing Company        0.65  \n",
       "16845                         Wild Onion Pub and Brewery        0.65  \n",
       "1719                                 Saint Louis Brewery        0.65  \n",
       "1723                                 Saint Louis Brewery        0.65  \n",
       "51186                                    Le Cheval Blanc        0.65  \n",
       "62847                     Triple Rock Brewery & Alehouse        0.65  \n",
       "5104                                          Indigo Imp        0.65  \n",
       "53298                                 Unibroue (Sapporo)        0.65  \n",
       "8041                           Stillwater Artisanal Ales        0.65  \n",
       "1309                            Carolina Brewing Company        0.65  \n",
       "43781                                   Cumberland Brews        0.65  \n",
       "36620                              Altöttinger Hell-Bräu        0.65  \n",
       "53039                                      Millys Tavern        0.65  \n",
       "53283                                 Unibroue (Sapporo)        0.65  \n",
       "57923                           MateVeza Brewing Company        0.65  \n",
       "29974  Big River Grille & Brewing Works Lake Buena Vi...        0.65  \n",
       "60448                                       Samuel Smith        0.65  "
      ]
     },
     "execution_count": 54,
     "metadata": {},
     "output_type": "execute_result"
    }
   ],
   "source": [
    "matching_beers[matching_beers.similarity >= 0.65].tail(20)\n"
   ]
  },
  {
   "cell_type": "markdown",
   "metadata": {},
   "source": [
    "We found that if the similarity value is above or equal to **0.65**, the matching is pretty good. If we use a threshold of 0.6, the beers are not matching well already. "
   ]
  },
  {
   "cell_type": "code",
   "execution_count": 56,
   "metadata": {
    "collapsed": false
   },
   "outputs": [
    {
     "name": "stdout",
     "output_type": "stream",
     "text": [
      "Number of good matching beers: 28208\n"
     ]
    }
   ],
   "source": [
    "threshold = 0.65 # Chosen empirically\n",
    "good_matching_beers = matching_beers[matching_beers.similarity >= threshold]\n",
    "good_matching_beers.index = range(len(good_matching_beers))\n",
    "print(\"Number of good matching beers: %i\"%len(good_matching_beers))"
   ]
  },
  {
   "cell_type": "markdown",
   "metadata": {},
   "source": [
    "Now, we want to be sure that we don't have duplicated values."
   ]
  },
  {
   "cell_type": "code",
   "execution_count": 59,
   "metadata": {
    "collapsed": false
   },
   "outputs": [
    {
     "data": {
      "text/plain": [
       "1608"
      ]
     },
     "execution_count": 59,
     "metadata": {},
     "output_type": "execute_result"
    }
   ],
   "source": [
    "len(good_matching_beers[good_matching_beers.beer_name_rateBeer.duplicated()])"
   ]
  },
  {
   "cell_type": "markdown",
   "metadata": {},
   "source": [
    "Sadly, we have some duplicated values for the `beer_name_rateBeer`. Therefore, we need to find a way to remove them."
   ]
  },
  {
   "cell_type": "code",
   "execution_count": 60,
   "metadata": {
    "collapsed": true
   },
   "outputs": [],
   "source": [
    "duplicated_beer_names = good_matching_beers[good_matching_beers.beer_name_rateBeer.duplicated()].beer_name_rateBeer.unique()"
   ]
  },
  {
   "cell_type": "markdown",
   "metadata": {},
   "source": [
    "We decide that we will class the duplicated beers using the function `ratio` of the `fuzzywuzzy` library. The entry with the best ratio on the `beer_name` and the `brewery_name` will stay. The other entries will be deleted.\n",
    "\n",
    "There's just a special case. The beers with a \"generic\" name. We decide that we remove all of them if the ratio is smaller then 90%. The reason is that if we don't do that, it will match the generic name to a beer with the generic name and the smallest addition. For example, the generic name being *Heineken*, the beer *Heineken dry* will be more similary than the beer *Heineken white*. And both these beers are different from the beer with the generic name."
   ]
  },
  {
   "cell_type": "code",
   "execution_count": 61,
   "metadata": {
    "collapsed": false,
    "scrolled": false
   },
   "outputs": [
    {
     "name": "stderr",
     "output_type": "stream",
     "text": [
      "/home/gael/anaconda3/lib/python3.5/site-packages/ipykernel/__main__.py:9: SettingWithCopyWarning: \n",
      "A value is trying to be set on a copy of a slice from a DataFrame.\n",
      "Try using .loc[row_indexer,col_indexer] = value instead\n",
      "\n",
      "See the caveats in the documentation: http://pandas.pydata.org/pandas-docs/stable/indexing.html#indexing-view-versus-copy\n"
     ]
    }
   ],
   "source": [
    "index_to_remove = []\n",
    "for bn in duplicated_beer_names:\n",
    "    df = good_matching_beers[good_matching_beers.beer_name_rateBeer == bn]\n",
    "    ratio = []\n",
    "    for i in df.index:\n",
    "        val1 = fuzz.ratio(df.ix[i]['beer_name_beerAdvocate'], df.ix[i]['beer_name_rateBeer'])/100\n",
    "        val2 = fuzz.ratio(df.ix[i]['brewery_name_beerAdvocate'], df.ix[i]['brewery_name_rateBeer'])/100\n",
    "        ratio.append(val1*val2)\n",
    "    df['ratio'] = ratio\n",
    "    max_ratio = np.max(ratio)\n",
    "    beer_test = df.ix[df.index[0]].beer_name_rateBeer\n",
    "    if \" \" in beer_test:\n",
    "        index_to_remove.extend(list(df[df.ratio != max_ratio].index))\n",
    "    else:\n",
    "        if max_ratio < 0.9:\n",
    "            index_to_remove.extend(list(df.index))\n",
    "        else:\n",
    "            index_to_remove.extend(list(df[df.ratio != max_ratio].index))"
   ]
  },
  {
   "cell_type": "code",
   "execution_count": 62,
   "metadata": {
    "collapsed": false
   },
   "outputs": [],
   "source": [
    "good_matching_beers = good_matching_beers.drop(index_to_remove)\n",
    "good_matching_beers.index = range(len(good_matching_beers))"
   ]
  },
  {
   "cell_type": "markdown",
   "metadata": {},
   "source": [
    "Now that we removed some duplicated beers, we will only have the beers with the same ratio left. So, let's check the duplicated beers again."
   ]
  },
  {
   "cell_type": "code",
   "execution_count": 63,
   "metadata": {
    "collapsed": false
   },
   "outputs": [
    {
     "data": {
      "text/plain": [
       "69"
      ]
     },
     "execution_count": 63,
     "metadata": {},
     "output_type": "execute_result"
    }
   ],
   "source": [
    "len(good_matching_beers[good_matching_beers.beer_name_rateBeer.duplicated()])"
   ]
  },
  {
   "cell_type": "code",
   "execution_count": 64,
   "metadata": {
    "collapsed": true
   },
   "outputs": [],
   "source": [
    "duplicated_beer_names = good_matching_beers[good_matching_beers.beer_name_rateBeer.duplicated()].beer_name_rateBeer.unique()"
   ]
  },
  {
   "cell_type": "markdown",
   "metadata": {},
   "source": [
    "Print the duplicated beers that remain to see what is the problem."
   ]
  },
  {
   "cell_type": "code",
   "execution_count": 67,
   "metadata": {
    "collapsed": false
   },
   "outputs": [
    {
     "name": "stderr",
     "output_type": "stream",
     "text": [
      "/home/gael/anaconda3/lib/python3.5/site-packages/ipykernel/__main__.py:9: SettingWithCopyWarning: \n",
      "A value is trying to be set on a copy of a slice from a DataFrame.\n",
      "Try using .loc[row_indexer,col_indexer] = value instead\n",
      "\n",
      "See the caveats in the documentation: http://pandas.pydata.org/pandas-docs/stable/indexing.html#indexing-view-versus-copy\n"
     ]
    },
    {
     "name": "stdout",
     "output_type": "stream",
     "text": [
      "          beer_name_rateBeer                  beer_name_beerAdvocate  \\\n",
      "257  KB Double Chocolate Ale  KB Double Chocolate Ale  First Edition   \n",
      "258  KB Double Chocolate Ale  KB Double Chocolate Ale Second Edition   \n",
      "\n",
      "     similarity   ratio  \n",
      "257         1.0  0.5625  \n",
      "258         1.0  0.5625  \n",
      "\n",
      "          beer_name_rateBeer beer_name_beerAdvocate  similarity   ratio\n",
      "388   Harpoon Saison Various         Harpoon Saison         1.0  0.6084\n",
      "1720  Harpoon Saison Various         Saison Various         1.0  0.6084\n",
      "\n",
      "         beer_name_rateBeer      beer_name_beerAdvocate  similarity   ratio\n",
      "2736  Trafalgar Hop Nouveau  Trafalgar Hop Nouveau 2009         1.0  0.7921\n",
      "2740  Trafalgar Hop Nouveau  Trafalgar Hop Nouveau 2010         1.0  0.7921\n",
      "2744  Trafalgar Hop Nouveau  Trafalgar Hop Nouveau 2011         1.0  0.7921\n",
      "\n",
      "                 beer_name_rateBeer  \\\n",
      "3488  Shepherd Neame Christmas Ale    \n",
      "3496  Shepherd Neame Christmas Ale    \n",
      "3500  Shepherd Neame Christmas Ale    \n",
      "3504  Shepherd Neame Christmas Ale    \n",
      "3505  Shepherd Neame Christmas Ale    \n",
      "\n",
      "                           beer_name_beerAdvocate  similarity   ratio  \n",
      "3488  Shepherd Neame Christmas Ale (vintage 2009)         1.0  0.6561  \n",
      "3496  Shepherd Neame Christmas Ale (vintage 2007)         1.0  0.6561  \n",
      "3500  Shepherd Neame Christmas Ale (vintage 2010)         1.0  0.6561  \n",
      "3504  Shepherd Neame Christmas Ale (vintage 2006)         1.0  0.6561  \n",
      "3505  Shepherd Neame Christmas Ale (vintage 2008)         1.0  0.6561  \n",
      "\n",
      "       beer_name_rateBeer beer_name_beerAdvocate  similarity   ratio\n",
      "3564  Big Buck Antler Ale             Antler Ale         1.0  0.4761\n",
      "3578  Big Buck Antler Ale             Antler Ale         1.0  0.4761\n",
      "\n",
      "     beer_name_rateBeer beer_name_beerAdvocate  similarity   ratio\n",
      "3553  Big Buck Docs ESB              Doc's ESB         1.0  0.3844\n",
      "3581  Big Buck Docs ESB              Doc's ESB         1.0  0.3844\n",
      "\n",
      "              beer_name_rateBeer beer_name_beerAdvocate  similarity   ratio\n",
      "3577  Big Buck Black River Stout      Black River Stout         1.0  0.6241\n",
      "3608  Big Buck Black River Stout      Black River Stout         1.0  0.6241\n",
      "\n",
      "        beer_name_rateBeer beer_name_beerAdvocate  similarity   ratio\n",
      "3561  Big Buck Naked Light       Buck Naked Light         1.0  0.7921\n",
      "3654  Big Buck Naked Light       Buck Naked Light         1.0  0.7921\n",
      "\n",
      "            beer_name_rateBeer beer_name_beerAdvocate  similarity   ratio\n",
      "3563  Big Buck Raspberry Wheat        Raspberry Wheat         1.0  0.5929\n",
      "3655  Big Buck Raspberry Wheat        Raspberry Wheat         1.0  0.5929\n",
      "\n",
      "           beer_name_rateBeer  \\\n",
      "4472  Peoples Pint Scotch Ale   \n",
      "4719  Peoples Pint Scotch Ale   \n",
      "\n",
      "                                 beer_name_beerAdvocate  similarity   ratio  \n",
      "4472                                         Scotch Ale         1.0  0.3721  \n",
      "4719  The People's Pint Scotch Ale - McShagger's Dou...         1.0  0.3721  \n",
      "\n",
      "            beer_name_rateBeer beer_name_beerAdvocate  similarity   ratio\n",
      "4784   Zerodegrees Black Lager            Black Lager         1.0  0.4225\n",
      "10544  Zerodegrees Black Lager            Black Lager         1.0  0.4225\n",
      "\n",
      "                  beer_name_rateBeer              beer_name_beerAdvocate  \\\n",
      "13025  Jasper Murdocks Private Stock  Jasper Murdock's Private Stock '02   \n",
      "13026  Jasper Murdocks Private Stock  Jasper Murdock's Private Stock '04   \n",
      "13076  Jasper Murdocks Private Stock  Jasper Murdock's Private Stock '09   \n",
      "13083  Jasper Murdocks Private Stock  Jasper Murdock's Private Stock '03   \n",
      "\n",
      "       similarity   ratio  \n",
      "13025         1.0  0.8464  \n",
      "13026         1.0  0.8464  \n",
      "13076         1.0  0.8464  \n",
      "13083         1.0  0.8464  \n",
      "\n",
      "      beer_name_rateBeer beer_name_beerAdvocate  similarity   ratio\n",
      "13382    Harboe Pilsner     Harboe Pilsner 3,5%         1.0  0.7744\n",
      "13544    Harboe Pilsner     Harboe Pilsner 2,8%         1.0  0.7744\n",
      "\n",
      "        beer_name_rateBeer                     beer_name_beerAdvocate  \\\n",
      "13429  Bells Eccentric Ale  Bell's Eccentric Ale 2006 (Released 2007)   \n",
      "13710  Bells Eccentric Ale  Bell's Eccentric Ale 2005 (Released 2006)   \n",
      "13717  Bells Eccentric Ale  Bell's Eccentric Ale 2004 (Released 2005)   \n",
      "13739  Bells Eccentric Ale  Bell's Eccentric Ale 2009 (Released 2010)   \n",
      "13758  Bells Eccentric Ale  Bell's Eccentric Ale 2010 (Released 2011)   \n",
      "14066  Bells Eccentric Ale  Bell's Eccentric Ale 2008 (Released 2009)   \n",
      "\n",
      "       similarity   ratio  \n",
      "13429         1.0  0.3969  \n",
      "13710         1.0  0.3969  \n",
      "13717         1.0  0.3969  \n",
      "13739         1.0  0.3969  \n",
      "13758         1.0  0.3969  \n",
      "14066         1.0  0.3969  \n",
      "\n",
      "                   beer_name_rateBeer beer_name_beerAdvocate  similarity  \\\n",
      "13806  Iron Horse Brass Ass Brown Ale              Brown Ale         1.0   \n",
      "13827  Iron Horse Brass Ass Brown Ale              Brass Ass         1.0   \n",
      "\n",
      "        ratio  \n",
      "13806  0.2116  \n",
      "13827  0.2116  \n",
      "\n",
      "           beer_name_rateBeer                 beer_name_beerAdvocate  \\\n",
      "13970  Oppigårds Summer Twist  Oppigårds Summer Twist (2008 Version)   \n",
      "14128  Oppigårds Summer Twist  Oppigårds Summer Twist (2010 Version)   \n",
      "\n",
      "       similarity   ratio  \n",
      "13970         1.0  0.5625  \n",
      "14128         1.0  0.5625  \n",
      "\n",
      "           beer_name_rateBeer     beer_name_beerAdvocate  similarity   ratio\n",
      "13295  Portsmouth Hop Harvest  Portsmouth Hop Harvest #1         1.0  0.8836\n",
      "16247  Portsmouth Hop Harvest  Portsmouth Hop Harvest #2         1.0  0.8836\n",
      "\n",
      "      beer_name_rateBeer beer_name_beerAdvocate  similarity   ratio\n",
      "17970   Bulles de Vignes    Bulles De Vignes #1        0.94  0.7396\n",
      "17972   Bulles de Vignes    Bulles De Vignes #2        0.94  0.7396\n",
      "17974   Bulles de Vignes    Bulles De Vignes #3        0.94  0.7396\n",
      "\n",
      "                       beer_name_rateBeer           beer_name_beerAdvocate  \\\n",
      "20372  Baladin Super Baladin Sour Edition  Super Baladin Sour Edition 2005   \n",
      "20374  Baladin Super Baladin Sour Edition  Super Baladin Sour Edition 2004   \n",
      "\n",
      "       similarity  ratio  \n",
      "20372        0.91   0.64  \n",
      "20374        0.91   0.64  \n",
      "\n",
      "                                      beer_name_rateBeer  \\\n",
      "20498  Lucky Labrador Pavlovs Russian Imperial Stout ...   \n",
      "20507  Lucky Labrador Pavlovs Russian Imperial Stout ...   \n",
      "\n",
      "                                  beer_name_beerAdvocate  similarity   ratio  \n",
      "20498  Pavlov's Russian Imperial Stout (Pinot Noir Ba...      0.9025  0.6889  \n",
      "20507  Pavlov's Russian Imperial Stout (Port Barrel A...      0.9024  0.6889  \n",
      "\n",
      "                beer_name_rateBeer beer_name_beerAdvocate  similarity   ratio\n",
      "7710   Coniston Bluebird Bitter XB        Bluebird Bitter        1.00  0.5041\n",
      "21196  Coniston Bluebird Bitter XB     XB Bluebird Bitter        0.89  0.5041\n",
      "\n",
      "                                      beer_name_rateBeer  \\\n",
      "21282  English Ales Edinburgh Winter Ale Special Reserve   \n",
      "21295  English Ales Edinburgh Winter Ale Special Reserve   \n",
      "\n",
      "                          beer_name_beerAdvocate  similarity  ratio  \n",
      "21282  Edinburgh Winter Ale Special Reserve 2002      0.8836   0.64  \n",
      "21295  Edinburgh Winter Ale Special Reserve 2003      0.8836   0.64  \n",
      "\n",
      "         beer_name_rateBeer beer_name_beerAdvocate  similarity   ratio\n",
      "21449  Oso Belgian Dark Ale               Dark Ale        0.88  0.3249\n",
      "21476  Oso Belgian Dark Ale               Dark Ale        0.88  0.3249\n",
      "\n",
      "      beer_name_rateBeer beer_name_beerAdvocate  similarity   ratio\n",
      "22299            Laziza            Laziza Apple        0.84  0.5476\n",
      "22309            Laziza            Laziza Lemon        0.84  0.5476\n",
      "22312            Laziza            Laziza Peach        0.84  0.5476\n",
      "\n",
      "         beer_name_rateBeer beer_name_beerAdvocate  similarity   ratio\n",
      "22373  Willimantic IPA 2005   Willimantic IPA 2007    0.839325  0.9025\n",
      "22374  Willimantic IPA 2005   Willimantic IPA 2006    0.839325  0.9025\n",
      "\n",
      "          beer_name_rateBeer beer_name_beerAdvocate  similarity   ratio\n",
      "2824   Dry Dock Imperial IPA           Imperial IPA        1.00  0.5329\n",
      "22622  Dry Dock Imperial IPA           Dry Dock IPA        0.83  0.5329\n",
      "\n",
      "                      beer_name_rateBeer beer_name_beerAdvocate  similarity  \\\n",
      "11812  South Street Hop Harvest Pale Ale            Hop Harvest        1.00   \n",
      "22763  South Street Hop Harvest Pale Ale            Harvest Ale        0.82   \n",
      "\n",
      "       ratio  \n",
      "11812   0.25  \n",
      "22763   0.25  \n",
      "\n",
      "                                      beer_name_rateBeer  \\\n",
      "21500  Heater Allen Sandy Paws 2010-2011 (Baltic Porter)   \n",
      "22779  Heater Allen Sandy Paws 2010-2011 (Baltic Porter)   \n",
      "\n",
      "      beer_name_beerAdvocate  similarity   ratio  \n",
      "21500      Sandy Paws (2010)        0.88  0.2304  \n",
      "22779      Sandy Paws (2011)        0.82  0.2304  \n",
      "\n",
      "           beer_name_rateBeer        beer_name_beerAdvocate  similarity  \\\n",
      "22244  Wolavers All-American2    Wolaver's All-American Ale      0.8455   \n",
      "22909  Wolavers All-American2  Wolaver's All-American 2 Ale      0.8170   \n",
      "\n",
      "        ratio  \n",
      "22244  0.7744  \n",
      "22909  0.7744  \n",
      "\n",
      "                         beer_name_rateBeer        beer_name_beerAdvocate  \\\n",
      "23011  Dogfish Head Wet Hop American Summer  Wet Hop American Summer 2011   \n",
      "23066  Dogfish Head Wet Hop American Summer  Wet Hop American Summer 2009   \n",
      "\n",
      "       similarity   ratio  \n",
      "23011        0.81  0.5184  \n",
      "23066        0.81  0.5184  \n",
      "\n",
      "                    beer_name_rateBeer          beer_name_beerAdvocate  \\\n",
      "22505  Michigan Brewing Belgian Tripel         Michigan Brewing Tripel   \n",
      "23848  Michigan Brewing Belgian Tripel  Michigan Brewing Belgian Brown   \n",
      "\n",
      "       similarity   ratio  \n",
      "22505      0.8300  0.7225  \n",
      "23848      0.7743  0.7225  \n",
      "\n",
      "                beer_name_rateBeer      beer_name_beerAdvocate  similarity  \\\n",
      "23869  Dominion Summer Wheat (Wit)  Dominion Summer Wheat 2007      0.7735   \n",
      "23870  Dominion Summer Wheat (Wit)  Dominion Summer Wheat 2006      0.7735   \n",
      "23871  Dominion Summer Wheat (Wit)  Dominion Summer Wheat 2005      0.7735   \n",
      "23873  Dominion Summer Wheat (Wit)  Dominion Summer Wheat 2002      0.7735   \n",
      "23875  Dominion Summer Wheat (Wit)  Dominion Summer Wheat 2003      0.7735   \n",
      "23876  Dominion Summer Wheat (Wit)  Dominion Summer Wheat 2004      0.7735   \n",
      "\n",
      "        ratio  \n",
      "23869  0.6889  \n",
      "23870  0.6889  \n",
      "23871  0.6889  \n",
      "23873  0.6889  \n",
      "23875  0.6889  \n",
      "23876  0.6889  \n",
      "\n",
      "                 beer_name_rateBeer       beer_name_beerAdvocate  similarity  \\\n",
      "23827  Shiner Spring Ale Dortmunder  Spring Ale Dortmunder Style      0.7744   \n",
      "24093  Shiner Spring Ale Dortmunder            Shiner Dortmunder      0.7600   \n",
      "\n",
      "        ratio  \n",
      "23827  0.5776  \n",
      "24093  0.5776  \n",
      "\n",
      "      beer_name_rateBeer beer_name_beerAdvocate  similarity   ratio\n",
      "24211   Black Forest IPA   Black Forest Altbier      0.7568  0.6084\n",
      "24214   Black Forest IPA   Black Forest Pilsner      0.7568  0.6084\n",
      "\n",
      "               beer_name_rateBeer beer_name_beerAdvocate  similarity   ratio\n",
      "24322  Neustadt Springs 180 / 300           Neustadt 300        0.75  0.3969\n",
      "24323  Neustadt Springs 180 / 300           Neustadt 180        0.75  0.3969\n",
      "\n",
      "                   beer_name_rateBeer beer_name_beerAdvocate  similarity  \\\n",
      "24582  Town Hall 13th Anniversary Ale   Anniversary Ale 2004      0.7396   \n",
      "24583  Town Hall 13th Anniversary Ale   Anniversary Ale 2006      0.7396   \n",
      "24585  Town Hall 13th Anniversary Ale   Anniversary Ale 2007      0.7396   \n",
      "24587  Town Hall 13th Anniversary Ale   Anniversary Ale 2005      0.7396   \n",
      "24597  Town Hall 13th Anniversary Ale   Anniversary Ale 2009      0.7396   \n",
      "24598  Town Hall 13th Anniversary Ale   Anniversary Ale 2011      0.7396   \n",
      "24606  Town Hall 13th Anniversary Ale   Anniversary Ale 2010      0.7396   \n",
      "24617  Town Hall 13th Anniversary Ale   Anniversary Ale 2003      0.7396   \n",
      "\n",
      "       ratio  \n",
      "24582   0.36  \n",
      "24583   0.36  \n",
      "24585   0.36  \n",
      "24587   0.36  \n",
      "24597   0.36  \n",
      "24598   0.36  \n",
      "24606   0.36  \n",
      "24617   0.36  \n",
      "\n",
      "           beer_name_rateBeer beer_name_beerAdvocate  similarity   ratio\n",
      "24571  Wachusett Green Monsta       Green Monsta Ale      0.7396  0.3969\n",
      "24599  Wachusett Green Monsta       Green Monsta IPA      0.7396  0.3969\n",
      "\n",
      "                       beer_name_rateBeer            beer_name_beerAdvocate  \\\n",
      "25125  Green Flash Anniversary Strong Ale  Green Flash Anniversary Ale 2003   \n",
      "25127  Green Flash Anniversary Strong Ale  Green Flash Anniversary Ale 2004   \n",
      "25132  Green Flash Anniversary Strong Ale  Green Flash Anniversary Ale 2005   \n",
      "\n",
      "       similarity   ratio  \n",
      "25125      0.7176  0.6724  \n",
      "25127      0.7176  0.6724  \n",
      "25132      0.7176  0.6724  \n",
      "\n",
      "           beer_name_rateBeer beer_name_beerAdvocate  similarity   ratio\n",
      "1822   Paper City Summer Haze            Summer Haze      1.0000  0.4489\n",
      "25189  Paper City Summer Haze         Paper City ESB      0.7138  0.4489\n",
      "\n",
      "              beer_name_rateBeer beer_name_beerAdvocate  similarity   ratio\n",
      "25574  Herslev Stjerne Bryg 2004      Stjerne Bryg (9%)      0.6992  0.3844\n",
      "25579  Herslev Stjerne Bryg 2004      Stjerne Bryg (8%)      0.6992  0.3844\n",
      "\n",
      "          beer_name_rateBeer         beer_name_beerAdvocate  similarity  \\\n",
      "23127  Ringneck Nitro Porter  Ringneck Redneck Nitro Porter    0.808400   \n",
      "25659  Ringneck Nitro Porter         Ringneck 'Nilla Porter    0.695224   \n",
      "\n",
      "        ratio  \n",
      "23127  0.7056  \n",
      "25659  0.7056  \n",
      "\n",
      "             beer_name_rateBeer beer_name_beerAdvocate  similarity  ratio\n",
      "4001   Atwater Detroit Pale Ale       Detroit Pale Ale        1.00   0.64\n",
      "25706  Atwater Detroit Pale Ale       Atwater Pale Ale        0.69   0.64\n",
      "\n",
      "               beer_name_rateBeer beer_name_beerAdvocate  similarity   ratio\n",
      "21727  John Harvards Export Stout           Export Stout    0.870000  0.3969\n",
      "26079  John Harvards Export Stout        XX Export Stout    0.673641  0.3969\n",
      "\n",
      "                beer_name_rateBeer                   beer_name_beerAdvocate  \\\n",
      "26087  Drakes Bourbon Barrel Brand  Drake's Bourbon Barrel Aged Barley Wine   \n",
      "26088  Drakes Bourbon Barrel Brand  Drake's Bourbon Barrel Aged FrankenWine   \n",
      "\n",
      "       similarity   ratio  \n",
      "26087      0.6732  0.5776  \n",
      "26088      0.6732  0.5776  \n",
      "\n",
      "           beer_name_rateBeer beer_name_beerAdvocate  similarity   ratio\n",
      "26487  Pump House Barley Wine       Barley Wine 2003      0.6561  0.3364\n",
      "26488  Pump House Barley Wine       Barley Wine 2002      0.6561  0.3364\n",
      "\n",
      "                                     beer_name_rateBeer  \\\n",
      "24469  Ranger Creek Brett Barrel Mesquite Smoked Porter   \n",
      "26499  Ranger Creek Brett Barrel Mesquite Smoked Porter   \n",
      "\n",
      "                            beer_name_beerAdvocate  similarity   ratio  \n",
      "24469     Barrel Aged Brett Mesquite Smoked Porter      0.7440  0.5929  \n",
      "26499  Cabernet Barrel Aged Mesquite Smoked Porter      0.6561  0.5929  \n",
      "\n"
     ]
    }
   ],
   "source": [
    "index_to_remove = []\n",
    "for bn in duplicated_beer_names:\n",
    "    df = good_matching_beers[good_matching_beers.beer_name_rateBeer == bn]\n",
    "    ratio = []\n",
    "    for i in df.index:\n",
    "        val1 = fuzz.ratio(df.ix[i]['beer_name_beerAdvocate'], df.ix[i]['beer_name_rateBeer'])/100\n",
    "        val2 = fuzz.ratio(df.ix[i]['beer_name_rateBeer'], df.ix[i]['beer_name_beerAdvocate'])/100\n",
    "        ratio.append(val1*val2)\n",
    "    df['ratio'] = ratio \n",
    "    index_to_remove.extend(list(df.index))\n",
    "    print(df[['beer_name_rateBeer', 'beer_name_beerAdvocate', 'similarity', 'ratio']])\n",
    "    print()"
   ]
  },
  {
   "cell_type": "markdown",
   "metadata": {},
   "source": [
    "Most of the remaining duplicates are difficult to match. A good example can be this one:\n",
    "                \n",
    "                        beer_name_rateBeer         |      beer_name_beerAdvocate\n",
    "                Green Flash Anniversary Strong Ale | Green Flash Anniversary Ale 2003  \n",
    "                Green Flash Anniversary Strong Ale | Green Flash Anniversary Ale 2004\n",
    "                Green Flash Anniversary Strong Ale | Green Flash Anniversary Ale 2005\n",
    "                \n",
    "With just the name information, we cannot say which `beer_name` in the *beerAdvocate* dataset is corresponding to the one in the *rateBeer* dataset. Therefore, we decide to remove these remaining duplicates."
   ]
  },
  {
   "cell_type": "code",
   "execution_count": 68,
   "metadata": {
    "collapsed": true
   },
   "outputs": [],
   "source": [
    "good_matching_beers = good_matching_beers.drop(index_to_remove)\n",
    "good_matching_beers.index = range(len(good_matching_beers))"
   ]
  },
  {
   "cell_type": "markdown",
   "metadata": {},
   "source": [
    "We have now our **final** DataFrame of beers that matched together. We just print the number of beers we could matched and save it in a CSV file."
   ]
  },
  {
   "cell_type": "code",
   "execution_count": 75,
   "metadata": {
    "collapsed": false
   },
   "outputs": [
    {
     "name": "stdout",
     "output_type": "stream",
     "text": [
      "Number of beers that matched: 26544\n"
     ]
    }
   ],
   "source": [
    "print(\"Number of beers that matched: %i\"%len(good_matching_beers))"
   ]
  },
  {
   "cell_type": "markdown",
   "metadata": {},
   "source": [
    "We just add the ID of the *rateBeer* dataset for easier research later."
   ]
  },
  {
   "cell_type": "code",
   "execution_count": 71,
   "metadata": {
    "collapsed": false
   },
   "outputs": [],
   "source": [
    "beer_id_rateBeer = rateBeer.set_index('beer_name').to_dict()['beer_id']\n",
    "brewery_id_rateBeer = rateBeer.set_index('brewery_name').to_dict()['brewery_id']"
   ]
  },
  {
   "cell_type": "code",
   "execution_count": 72,
   "metadata": {
    "collapsed": false
   },
   "outputs": [],
   "source": [
    "beer_id_rateBeer_list = []\n",
    "brewery_id_rateBeer_list = []\n",
    "for i in range(len(good_matching_beers)):\n",
    "    beer_id_rateBeer_list.append(beer_id_rateBeer[good_matching_beers.ix[i].beer_name_rateBeer])\n",
    "    brewery_id_rateBeer_list.append(brewery_id_rateBeer[good_matching_beers.ix[i].brewery_name_rateBeer])\n",
    "good_matching_beers['beer_id_rateBeer'] = beer_id_rateBeer_list\n",
    "good_matching_beers['brewery_id_rateBeer'] = brewery_id_rateBeer_list"
   ]
  },
  {
   "cell_type": "code",
   "execution_count": 73,
   "metadata": {
    "collapsed": false
   },
   "outputs": [],
   "source": [
    "# Rearrange columns to be beautiful =)\n",
    "good_matching_beers = good_matching_beers[['beer_id_beerAdvocate', 'beer_name_beerAdvocate', 'brewery_id_beerAdvocate', 'brewery_name_beerAdvocate', 'beer_id_rateBeer', 'beer_name_rateBeer', 'brewery_id_rateBeer', 'brewery_name_rateBeer', 'similarity']]"
   ]
  },
  {
   "cell_type": "code",
   "execution_count": 74,
   "metadata": {
    "collapsed": false
   },
   "outputs": [],
   "source": [
    "# Save the Cleaned CSV\n",
    "good_matching_beers.to_csv('./data/matching_beers.csv', index=False)\n",
    "\n"
   ]
  },
  {
   "cell_type": "code",
   "execution_count": null,
   "metadata": {
    "collapsed": true
   },
   "outputs": [],
   "source": []
  }
 ],
 "metadata": {
  "anaconda-cloud": {},
  "kernelspec": {
   "display_name": "Python [conda root]",
   "language": "python",
   "name": "conda-root-py"
  },
  "language_info": {
   "codemirror_mode": {
    "name": "ipython",
    "version": 3
   },
   "file_extension": ".py",
   "mimetype": "text/x-python",
   "name": "python",
   "nbconvert_exporter": "python",
   "pygments_lexer": "ipython3",
   "version": "3.5.2"
  }
 },
 "nbformat": 4,
 "nbformat_minor": 1
}
