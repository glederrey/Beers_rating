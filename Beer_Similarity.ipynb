{
 "cells": [
  {
   "cell_type": "markdown",
   "metadata": {},
   "source": [
    "# Introduction\n",
    "\n",
    "In this notebook, we want to study the two datasets in `beerAdv_beer_brewery.tsv` and in `rateBeer_beer_brewery.tsv`. The columns of these datasets are like this:\n",
    "\n",
    "                    beer_id ¦ beer_name ¦ brewery_id ¦ brewery_name\n",
    "            \n",
    "The idea of this notebook is to create a similarity measure in order to find the same elements in both these datasets. Once we have this similarity measure, we want to find the limit X such that:\n",
    "- All pairs with a similarity value of $X' > X$ are considered as the same beer\n",
    "- All pairs with a similarity value of $X'' < X$ are not taken into account.\n",
    "\n",
    "In order to achieve this, this notebook is composed of three parts. The first part is some sort of simple Data Analysis. Then there will be the creation of the pairs and the similarity value. Finally the part to find the best value $X$."
   ]
  },
  {
   "cell_type": "code",
   "execution_count": 1,
   "metadata": {
    "collapsed": false
   },
   "outputs": [],
   "source": [
    "# Usefule imports\n",
    "import pandas as pd\n",
    "import numpy as np\n",
    "import codecs\n",
    "from IPython.display import HTML\n",
    "\n",
    "from fuzzywuzzy import fuzz\n",
    "import multiprocessing\n",
    "from joblib import Parallel, delayed\n",
    "import pickle\n",
    "\n",
    "# For the Python notebook\n",
    "%matplotlib inline\n",
    "%reload_ext autoreload\n",
    "%autoreload 2"
   ]
  },
  {
   "cell_type": "markdown",
   "metadata": {},
   "source": [
    "## Data Analysis\n",
    "\n",
    "First, we need to analyze the data. It's a simple data analysis since we only have two usefull features: `beer_name` and `brewery_name`."
   ]
  },
  {
   "cell_type": "code",
   "execution_count": 59,
   "metadata": {
    "collapsed": true
   },
   "outputs": [],
   "source": [
    "# Datasets\n",
    "beerAdvocate_dataset = './data/beerAdv_beer_brewery.tsv'\n",
    "rateBeer_dataset = './data/rateBeer_beer_brewery.tsv'"
   ]
  },
  {
   "cell_type": "code",
   "execution_count": 60,
   "metadata": {
    "collapsed": true
   },
   "outputs": [],
   "source": [
    "columns = ['beer_id', 'beer_name', 'brewery_id', 'brewery_name']"
   ]
  },
  {
   "cell_type": "code",
   "execution_count": 254,
   "metadata": {
    "collapsed": false
   },
   "outputs": [],
   "source": [
    "# Load the dataset with pandas\n",
    "beerAdvocate = pd.read_table(beerAdvocate_dataset, header=None)\n",
    "beerAdvocate.columns = columns\n",
    "rateBeer = pd.read_table(rateBeer_dataset, header=None, encoding='utf-8')\n",
    "rateBeer.columns = columns"
   ]
  },
  {
   "cell_type": "code",
   "execution_count": 298,
   "metadata": {
    "collapsed": false
   },
   "outputs": [
    {
     "data": {
      "text/plain": [
       "beer_id                                   720\n",
       "beer_name             Gambrinus Premium ?erné\n",
       "brewery_id                                115\n",
       "brewery_name    Plzensky Prazdroj (SABMiller)\n",
       "Name: 9997, dtype: object"
      ]
     },
     "execution_count": 298,
     "metadata": {},
     "output_type": "execute_result"
    }
   ],
   "source": [
    "rateBeer.ix[9997]"
   ]
  },
  {
   "cell_type": "markdown",
   "metadata": {},
   "source": [
    "Print the two datasets"
   ]
  },
  {
   "cell_type": "code",
   "execution_count": 256,
   "metadata": {
    "collapsed": false
   },
   "outputs": [
    {
     "data": {
      "text/html": [
       "<div>\n",
       "<table border=\"1\" class=\"dataframe\">\n",
       "  <thead>\n",
       "    <tr style=\"text-align: right;\">\n",
       "      <th></th>\n",
       "      <th>beer_id</th>\n",
       "      <th>beer_name</th>\n",
       "      <th>brewery_id</th>\n",
       "      <th>brewery_name</th>\n",
       "    </tr>\n",
       "  </thead>\n",
       "  <tbody>\n",
       "    <tr>\n",
       "      <th>0</th>\n",
       "      <td>14348</td>\n",
       "      <td>Eisbrau Czech</td>\n",
       "      <td>1</td>\n",
       "      <td>Plzensky Prazdroj, a. s.</td>\n",
       "    </tr>\n",
       "    <tr>\n",
       "      <th>1</th>\n",
       "      <td>19099</td>\n",
       "      <td>Primus</td>\n",
       "      <td>1</td>\n",
       "      <td>Plzensky Prazdroj, a. s.</td>\n",
       "    </tr>\n",
       "    <tr>\n",
       "      <th>2</th>\n",
       "      <td>19123</td>\n",
       "      <td>Gambrinus Pale</td>\n",
       "      <td>1</td>\n",
       "      <td>Plzensky Prazdroj, a. s.</td>\n",
       "    </tr>\n",
       "    <tr>\n",
       "      <th>3</th>\n",
       "      <td>19274</td>\n",
       "      <td>Urutislav</td>\n",
       "      <td>1</td>\n",
       "      <td>Plzensky Prazdroj, a. s.</td>\n",
       "    </tr>\n",
       "    <tr>\n",
       "      <th>4</th>\n",
       "      <td>41294</td>\n",
       "      <td>Pilsner Urquell 3.5%</td>\n",
       "      <td>1</td>\n",
       "      <td>Plzensky Prazdroj, a. s.</td>\n",
       "    </tr>\n",
       "  </tbody>\n",
       "</table>\n",
       "</div>"
      ],
      "text/plain": [
       "   beer_id             beer_name  brewery_id              brewery_name\n",
       "0    14348         Eisbrau Czech           1  Plzensky Prazdroj, a. s.\n",
       "1    19099                Primus           1  Plzensky Prazdroj, a. s.\n",
       "2    19123        Gambrinus Pale           1  Plzensky Prazdroj, a. s.\n",
       "3    19274             Urutislav           1  Plzensky Prazdroj, a. s.\n",
       "4    41294  Pilsner Urquell 3.5%           1  Plzensky Prazdroj, a. s."
      ]
     },
     "execution_count": 256,
     "metadata": {},
     "output_type": "execute_result"
    }
   ],
   "source": [
    "beerAdvocate.head()"
   ]
  },
  {
   "cell_type": "code",
   "execution_count": 257,
   "metadata": {
    "collapsed": false,
    "scrolled": false
   },
   "outputs": [
    {
     "data": {
      "text/html": [
       "<div>\n",
       "<table border=\"1\" class=\"dataframe\">\n",
       "  <thead>\n",
       "    <tr style=\"text-align: right;\">\n",
       "      <th></th>\n",
       "      <th>beer_id</th>\n",
       "      <th>beer_name</th>\n",
       "      <th>brewery_id</th>\n",
       "      <th>brewery_name</th>\n",
       "    </tr>\n",
       "  </thead>\n",
       "  <tbody>\n",
       "    <tr>\n",
       "      <th>0</th>\n",
       "      <td>4</td>\n",
       "      <td>Abita Bock</td>\n",
       "      <td>1</td>\n",
       "      <td>Abita Brewing Company</td>\n",
       "    </tr>\n",
       "    <tr>\n",
       "      <th>1</th>\n",
       "      <td>10731</td>\n",
       "      <td>Abita Louisiana Red Ale</td>\n",
       "      <td>1</td>\n",
       "      <td>Abita Brewing Company</td>\n",
       "    </tr>\n",
       "    <tr>\n",
       "      <th>2</th>\n",
       "      <td>114065</td>\n",
       "      <td>Abita Select Pecan Brown Ale</td>\n",
       "      <td>1</td>\n",
       "      <td>Abita Brewing Company</td>\n",
       "    </tr>\n",
       "    <tr>\n",
       "      <th>3</th>\n",
       "      <td>114981</td>\n",
       "      <td>Abita Select Amber Ale</td>\n",
       "      <td>1</td>\n",
       "      <td>Abita Brewing Company</td>\n",
       "    </tr>\n",
       "    <tr>\n",
       "      <th>4</th>\n",
       "      <td>117017</td>\n",
       "      <td>Abita American Wheat</td>\n",
       "      <td>1</td>\n",
       "      <td>Abita Brewing Company</td>\n",
       "    </tr>\n",
       "  </tbody>\n",
       "</table>\n",
       "</div>"
      ],
      "text/plain": [
       "   beer_id                     beer_name  brewery_id           brewery_name\n",
       "0        4                    Abita Bock           1  Abita Brewing Company\n",
       "1    10731       Abita Louisiana Red Ale           1  Abita Brewing Company\n",
       "2   114065  Abita Select Pecan Brown Ale           1  Abita Brewing Company\n",
       "3   114981        Abita Select Amber Ale           1  Abita Brewing Company\n",
       "4   117017          Abita American Wheat           1  Abita Brewing Company"
      ]
     },
     "execution_count": 257,
     "metadata": {},
     "output_type": "execute_result"
    }
   ],
   "source": [
    "rateBeer.head()"
   ]
  },
  {
   "cell_type": "markdown",
   "metadata": {},
   "source": [
    "We just stop two minutes here. We can see a problem with the encoding of the file for *beerAdvocate*. "
   ]
  },
  {
   "cell_type": "code",
   "execution_count": 258,
   "metadata": {
    "collapsed": false
   },
   "outputs": [
    {
     "name": "stdout",
     "output_type": "stream",
     "text": [
      "Master PolotmavÃ½ 13Â°\n"
     ]
    }
   ],
   "source": [
    "name = beerAdvocate.ix[12].beer_name\n",
    "print(name)"
   ]
  },
  {
   "cell_type": "markdown",
   "metadata": {},
   "source": [
    "The encoding here is **latin_1**. Therefore, we can find the UTF-8 encoding by doing this:"
   ]
  },
  {
   "cell_type": "code",
   "execution_count": 259,
   "metadata": {
    "collapsed": false
   },
   "outputs": [
    {
     "name": "stdout",
     "output_type": "stream",
     "text": [
      "Master Polotmavý 13°\n"
     ]
    }
   ],
   "source": [
    "new_name = bytes(name,'latin_1').decode('utf-8')\n",
    "print(new_name)"
   ]
  },
  {
   "cell_type": "markdown",
   "metadata": {},
   "source": [
    "Let's do it everywhere for *beerAdvocate*!"
   ]
  },
  {
   "cell_type": "code",
   "execution_count": 260,
   "metadata": {
    "collapsed": true
   },
   "outputs": [],
   "source": [
    "def decode_from_latin_1(string):\n",
    "    try:\n",
    "        return bytes(string ,'latin_1').decode('utf-8')\n",
    "    except:\n",
    "        return string"
   ]
  },
  {
   "cell_type": "code",
   "execution_count": 261,
   "metadata": {
    "collapsed": false
   },
   "outputs": [],
   "source": [
    "for i in range(len(beerAdvocate)):\n",
    "    # Change the name of the beer\n",
    "    beerAdvocate.set_value(i, 'beer_name', decode_from_latin_1(beerAdvocate.ix[i].beer_name))\n",
    "    beerAdvocate.set_value(i, 'brewery_name', decode_from_latin_1(beerAdvocate.ix[i].brewery_name))\n"
   ]
  },
  {
   "cell_type": "code",
   "execution_count": 262,
   "metadata": {
    "collapsed": false
   },
   "outputs": [
    {
     "data": {
      "text/plain": [
       "'Master Polotmavý 13°'"
      ]
     },
     "execution_count": 262,
     "metadata": {},
     "output_type": "execute_result"
    }
   ],
   "source": [
    "beerAdvocate.ix[12].beer_name"
   ]
  },
  {
   "cell_type": "markdown",
   "metadata": {},
   "source": [
    "Let's print the number of entries in each dataset."
   ]
  },
  {
   "cell_type": "code",
   "execution_count": 263,
   "metadata": {
    "collapsed": false
   },
   "outputs": [
    {
     "name": "stdout",
     "output_type": "stream",
     "text": [
      "Number of rows in beerAdvocate: 66056\n",
      "Number of rows in rateBeer: 110359\n"
     ]
    }
   ],
   "source": [
    "print(\"Number of rows in beerAdvocate: %i\"%(len(beerAdvocate)))\n",
    "print(\"Number of rows in rateBeer: %i\"%(len(rateBeer)))"
   ]
  },
  {
   "cell_type": "markdown",
   "metadata": {},
   "source": [
    "Let's check the number of **unique** beers to see if it matches the number of rows in the dataset."
   ]
  },
  {
   "cell_type": "code",
   "execution_count": 264,
   "metadata": {
    "collapsed": false
   },
   "outputs": [
    {
     "name": "stdout",
     "output_type": "stream",
     "text": [
      "Number of unique beers in beerAdvocate: 56855\n",
      "Number of unique beers in rateBeer: 110302\n"
     ]
    }
   ],
   "source": [
    "unique_beers_beerAdvocate = beerAdvocate.beer_name.unique()\n",
    "unique_beers_rateBeer = rateBeer.beer_name.unique()\n",
    "\n",
    "print(\"Number of unique beers in beerAdvocate: %i\"%(len(unique_beers_beerAdvocate)))\n",
    "print(\"Number of unique beers in rateBeer: %i\"%(len(unique_beers_rateBeer)))"
   ]
  },
  {
   "cell_type": "markdown",
   "metadata": {},
   "source": [
    "It's already interesting to see that some beers have the same name in both datasets. Let's take one of them and see if they have the same `brewery_name`."
   ]
  },
  {
   "cell_type": "code",
   "execution_count": 265,
   "metadata": {
    "collapsed": false
   },
   "outputs": [
    {
     "name": "stdout",
     "output_type": "stream",
     "text": [
      "Number of duplicated beer names in beerAdvocate: 2707\n",
      "Number of duplicated beer names in rateBeer: 55\n"
     ]
    }
   ],
   "source": [
    "duplicated_beers_beerAdvocate = beerAdvocate[beerAdvocate.beer_name.duplicated()].beer_name.unique()\n",
    "duplicated_beers_rateBeer = rateBeer[rateBeer.beer_name.duplicated()].beer_name.unique()\n",
    "\n",
    "print(\"Number of duplicated beer names in beerAdvocate: %i\"%(len(duplicated_beers_beerAdvocate)))\n",
    "print(\"Number of duplicated beer names in rateBeer: %i\"%(len(duplicated_beers_rateBeer)))"
   ]
  },
  {
   "cell_type": "code",
   "execution_count": 266,
   "metadata": {
    "collapsed": false
   },
   "outputs": [],
   "source": [
    "dup_beer_dup_brewery = []\n",
    "\n",
    "# Create list of tuples. \n",
    "#   First entry is the name of the duplicated beer\n",
    "#   Second entry is the list of Brewery that is duplicated\n",
    "#   Third entry is the list of indices to remove them easily.\n",
    "for dup_beer in duplicated_beers_beerAdvocate:\n",
    "    subdf = beerAdvocate[beerAdvocate.beer_name == dup_beer]\n",
    "    if any(subdf.brewery_name.duplicated()):\n",
    "        dup_beer_dup_brewery.append((dup_beer, list(subdf[subdf.brewery_name.duplicated()][\"brewery_name\"]), list(subdf[subdf.brewery_name.duplicated()].index)))"
   ]
  },
  {
   "cell_type": "code",
   "execution_count": 267,
   "metadata": {
    "collapsed": false,
    "scrolled": true
   },
   "outputs": [
    {
     "name": "stdout",
     "output_type": "stream",
     "text": [
      "Number of beers with duplicated brewery in beerAdvocate: 286\n"
     ]
    }
   ],
   "source": [
    "print(\"Number of beers with duplicated brewery in beerAdvocate: %i\"%(len(dup_beer_dup_brewery)))"
   ]
  },
  {
   "cell_type": "markdown",
   "metadata": {},
   "source": [
    "Just check how the function `duplicated` works. For example, if we have two times the same brewery, this means that we would have 3 times the same beer and the same brewery in the data set."
   ]
  },
  {
   "cell_type": "code",
   "execution_count": 268,
   "metadata": {
    "collapsed": false
   },
   "outputs": [
    {
     "data": {
      "text/plain": [
       "('Saison',\n",
       " ['Triumph Brewing Company', 'Triumph Brewing Company'],\n",
       " [22563, 43875])"
      ]
     },
     "execution_count": 268,
     "metadata": {},
     "output_type": "execute_result"
    }
   ],
   "source": [
    "dup_beer_dup_brewery[3]"
   ]
  },
  {
   "cell_type": "code",
   "execution_count": 269,
   "metadata": {
    "collapsed": false,
    "scrolled": false
   },
   "outputs": [
    {
     "data": {
      "text/html": [
       "<div>\n",
       "<table border=\"1\" class=\"dataframe\">\n",
       "  <thead>\n",
       "    <tr style=\"text-align: right;\">\n",
       "      <th></th>\n",
       "      <th>beer_id</th>\n",
       "      <th>beer_name</th>\n",
       "      <th>brewery_id</th>\n",
       "      <th>brewery_name</th>\n",
       "    </tr>\n",
       "  </thead>\n",
       "  <tbody>\n",
       "    <tr>\n",
       "      <th>17881</th>\n",
       "      <td>49387</td>\n",
       "      <td>Saison</td>\n",
       "      <td>1317</td>\n",
       "      <td>Triumph Brewing Company</td>\n",
       "    </tr>\n",
       "    <tr>\n",
       "      <th>22563</th>\n",
       "      <td>37383</td>\n",
       "      <td>Saison</td>\n",
       "      <td>15341</td>\n",
       "      <td>Triumph Brewing Company</td>\n",
       "    </tr>\n",
       "    <tr>\n",
       "      <th>43875</th>\n",
       "      <td>24385</td>\n",
       "      <td>Saison</td>\n",
       "      <td>4832</td>\n",
       "      <td>Triumph Brewing Company</td>\n",
       "    </tr>\n",
       "  </tbody>\n",
       "</table>\n",
       "</div>"
      ],
      "text/plain": [
       "       beer_id beer_name  brewery_id             brewery_name\n",
       "17881    49387    Saison        1317  Triumph Brewing Company\n",
       "22563    37383    Saison       15341  Triumph Brewing Company\n",
       "43875    24385    Saison        4832  Triumph Brewing Company"
      ]
     },
     "execution_count": 269,
     "metadata": {},
     "output_type": "execute_result"
    }
   ],
   "source": [
    "beerAdvocate[(beerAdvocate.beer_name == \"Saison\") & (beerAdvocate.brewery_name == \"Triumph Brewing Company\")]"
   ]
  },
  {
   "cell_type": "markdown",
   "metadata": {},
   "source": [
    "At this point, we imagine that the three entries are the same. But we directly see that the brewery_id is different. And if we go check the breweries on beerAdvocate, we see that the three Breweries are different. Therefore, we cannot say that these three beers are the same. In order to get a better similarity measure, we need to add a bit mopre information about the breweries and the beers. Here are the features we scrap from the websites:\n",
    "- For the brewery:\n",
    "    - The address\n",
    "- For the beer:\n",
    "    - The ABV (Alcohol by Volume)\n",
    "    - The Style\n",
    "\n",
    "At this point, we will not scrap the websites nor use other data. This will be done later in the project. Therefore, we just remove the duplicate indices."
   ]
  },
  {
   "cell_type": "code",
   "execution_count": 273,
   "metadata": {
    "collapsed": false
   },
   "outputs": [],
   "source": [
    "indices_to_remove = []\n",
    "for i in range(len(dup_beer_dup_brewery)):\n",
    "    indices_to_remove.extend(dup_beer_dup_brewery[i][2])"
   ]
  },
  {
   "cell_type": "code",
   "execution_count": 274,
   "metadata": {
    "collapsed": false
   },
   "outputs": [
    {
     "data": {
      "text/html": [
       "<div>\n",
       "<table border=\"1\" class=\"dataframe\">\n",
       "  <thead>\n",
       "    <tr style=\"text-align: right;\">\n",
       "      <th></th>\n",
       "      <th>beer_id</th>\n",
       "      <th>beer_name</th>\n",
       "      <th>brewery_id</th>\n",
       "      <th>brewery_name</th>\n",
       "    </tr>\n",
       "  </thead>\n",
       "  <tbody>\n",
       "    <tr>\n",
       "      <th>65668</th>\n",
       "      <td>76042</td>\n",
       "      <td>Foster's Gold</td>\n",
       "      <td>575</td>\n",
       "      <td>Foster's Group Limited</td>\n",
       "    </tr>\n",
       "    <tr>\n",
       "      <th>65669</th>\n",
       "      <td>917</td>\n",
       "      <td>Foster's Special Bitter</td>\n",
       "      <td>575</td>\n",
       "      <td>Foster's Group Limited</td>\n",
       "    </tr>\n",
       "    <tr>\n",
       "      <th>65670</th>\n",
       "      <td>918</td>\n",
       "      <td>Foster's Lager</td>\n",
       "      <td>575</td>\n",
       "      <td>Foster's Group Limited</td>\n",
       "    </tr>\n",
       "    <tr>\n",
       "      <th>65671</th>\n",
       "      <td>52642</td>\n",
       "      <td>Hefe Weissbier</td>\n",
       "      <td>5751</td>\n",
       "      <td>Bayerische Löwenbrauerei</td>\n",
       "    </tr>\n",
       "    <tr>\n",
       "      <th>65672</th>\n",
       "      <td>58058</td>\n",
       "      <td>Hefeweissbier Dunkel</td>\n",
       "      <td>5751</td>\n",
       "      <td>Bayerische Löwenbrauerei</td>\n",
       "    </tr>\n",
       "  </tbody>\n",
       "</table>\n",
       "</div>"
      ],
      "text/plain": [
       "       beer_id                beer_name  brewery_id              brewery_name\n",
       "65668    76042            Foster's Gold         575    Foster's Group Limited\n",
       "65669      917  Foster's Special Bitter         575    Foster's Group Limited\n",
       "65670      918           Foster's Lager         575    Foster's Group Limited\n",
       "65671    52642           Hefe Weissbier        5751  Bayerische Löwenbrauerei\n",
       "65672    58058     Hefeweissbier Dunkel        5751  Bayerische Löwenbrauerei"
      ]
     },
     "execution_count": 274,
     "metadata": {},
     "output_type": "execute_result"
    }
   ],
   "source": [
    "# Remove the indices in the dataset\n",
    "beerAdvocate = beerAdvocate.drop(indices_to_remove, axis=0)\n",
    "beerAdvocate.index = range(len(beerAdvocate))\n",
    "beerAdvocate.tail()"
   ]
  },
  {
   "cell_type": "markdown",
   "metadata": {},
   "source": [
    "Now, we need to the same for the rateBeer dataset."
   ]
  },
  {
   "cell_type": "code",
   "execution_count": 275,
   "metadata": {
    "collapsed": true
   },
   "outputs": [],
   "source": [
    "dup_beer_dup_brewery = []\n",
    "\n",
    "# Create list of tuples. \n",
    "#   First entry is the name of the duplicated beer\n",
    "#   Second entry is the list of Brewery that is duplicated\n",
    "#   Third entry is the list of indices to remove them easily.\n",
    "for dup_beer in duplicated_beers_rateBeer:\n",
    "    subdf = rateBeer[rateBeer.beer_name == dup_beer]\n",
    "    if any(subdf.brewery_name.duplicated()):\n",
    "        dup_beer_dup_brewery.append((dup_beer, list(subdf[subdf.brewery_name.duplicated()][\"brewery_name\"]), list(subdf[subdf.brewery_name.duplicated()].index)))"
   ]
  },
  {
   "cell_type": "code",
   "execution_count": 276,
   "metadata": {
    "collapsed": false
   },
   "outputs": [
    {
     "name": "stdout",
     "output_type": "stream",
     "text": [
      "Number of beers with duplicated brewery in beerRate: 4\n"
     ]
    }
   ],
   "source": [
    "print(\"Number of beers with duplicated brewery in beerRate: %i\"%(len(dup_beer_dup_brewery)))"
   ]
  },
  {
   "cell_type": "code",
   "execution_count": 277,
   "metadata": {
    "collapsed": false
   },
   "outputs": [
    {
     "data": {
      "text/plain": [
       "[('Traugott Simon Export', ['Udo Täubrich Betreuungs'], [9819]),\n",
       " ('Big Horn Saison',\n",
       "  ['Big Horn Brewing Company (Ram International)'],\n",
       "  [19577]),\n",
       " ('Yukon Lead Dog Ale', ['Yukon Brewing Company'], [37365]),\n",
       " ('Prison Brews Winter Ale', ['Prison Brews'], [77632])]"
      ]
     },
     "execution_count": 277,
     "metadata": {},
     "output_type": "execute_result"
    }
   ],
   "source": [
    "dup_beer_dup_brewery"
   ]
  },
  {
   "cell_type": "code",
   "execution_count": 278,
   "metadata": {
    "collapsed": true
   },
   "outputs": [],
   "source": [
    "indices_to_remove = []\n",
    "for i in range(len(dup_beer_dup_brewery)):\n",
    "    indices_to_remove.extend(dup_beer_dup_brewery[i][2])"
   ]
  },
  {
   "cell_type": "code",
   "execution_count": 279,
   "metadata": {
    "collapsed": false
   },
   "outputs": [
    {
     "data": {
      "text/html": [
       "<div>\n",
       "<table border=\"1\" class=\"dataframe\">\n",
       "  <thead>\n",
       "    <tr style=\"text-align: right;\">\n",
       "      <th></th>\n",
       "      <th>beer_id</th>\n",
       "      <th>beer_name</th>\n",
       "      <th>brewery_id</th>\n",
       "      <th>brewery_name</th>\n",
       "    </tr>\n",
       "  </thead>\n",
       "  <tbody>\n",
       "    <tr>\n",
       "      <th>110350</th>\n",
       "      <td>77397</td>\n",
       "      <td>Jelling Bryghus Frode Fredegod</td>\n",
       "      <td>8804</td>\n",
       "      <td>Jelling Bryghus</td>\n",
       "    </tr>\n",
       "    <tr>\n",
       "      <th>110351</th>\n",
       "      <td>77398</td>\n",
       "      <td>Jelling Bryghus Poppo</td>\n",
       "      <td>8804</td>\n",
       "      <td>Jelling Bryghus</td>\n",
       "    </tr>\n",
       "    <tr>\n",
       "      <th>110352</th>\n",
       "      <td>77399</td>\n",
       "      <td>Jelling Bryghus Jelling Jól</td>\n",
       "      <td>8804</td>\n",
       "      <td>Jelling Bryghus</td>\n",
       "    </tr>\n",
       "    <tr>\n",
       "      <th>110353</th>\n",
       "      <td>89887</td>\n",
       "      <td>Jelling Bryghus Jalunki</td>\n",
       "      <td>8804</td>\n",
       "      <td>Jelling Bryghus</td>\n",
       "    </tr>\n",
       "    <tr>\n",
       "      <th>110354</th>\n",
       "      <td>97191</td>\n",
       "      <td>Jelling Bryghus Sildeglimt</td>\n",
       "      <td>8804</td>\n",
       "      <td>Jelling Bryghus</td>\n",
       "    </tr>\n",
       "  </tbody>\n",
       "</table>\n",
       "</div>"
      ],
      "text/plain": [
       "        beer_id                       beer_name  brewery_id     brewery_name\n",
       "110350    77397  Jelling Bryghus Frode Fredegod        8804  Jelling Bryghus\n",
       "110351    77398           Jelling Bryghus Poppo        8804  Jelling Bryghus\n",
       "110352    77399     Jelling Bryghus Jelling Jól        8804  Jelling Bryghus\n",
       "110353    89887         Jelling Bryghus Jalunki        8804  Jelling Bryghus\n",
       "110354    97191      Jelling Bryghus Sildeglimt        8804  Jelling Bryghus"
      ]
     },
     "execution_count": 279,
     "metadata": {},
     "output_type": "execute_result"
    }
   ],
   "source": [
    "# Remove the indices in the dataset\n",
    "rateBeer = rateBeer.drop(indices_to_remove, axis=0)\n",
    "rateBeer.index = range(len(rateBeer))\n",
    "rateBeer.tail()"
   ]
  },
  {
   "cell_type": "markdown",
   "metadata": {},
   "source": [
    "### Save the cleaned data set\n",
    "\n",
    "Now that the datasets are cleaned, we can save them in a CSV format."
   ]
  },
  {
   "cell_type": "code",
   "execution_count": 280,
   "metadata": {
    "collapsed": false
   },
   "outputs": [],
   "source": [
    "beerAdvocate.to_csv('./data/beerAdvocate_cleaned.csv', index=False, encoding='utf-8')\n",
    "rateBeer.to_csv('./data/rateBeer_cleaned.csv', index=False, encoding='utf-8')"
   ]
  },
  {
   "cell_type": "markdown",
   "metadata": {},
   "source": [
    "# Similarity\n",
    "\n",
    "** YOU CAN DIRECTLY START FROM HERE. NO NEED TO REDO THE CLEANING OF THE DATASETS! **\n",
    "\n",
    "Now, we want to match beers between the two different datasets. Let's load them first. Then, we will create a matrix of size $N\\times M$, $N$ being the size of *RateBeer* dataset and $M$ being the size of *BeerAdvocate* dataset. Since $M < N$, we want to get a vector of size $M\\times 5$. (5 because we will aggregate the text columns and the id columns for each dataset and the similarity value.)"
   ]
  },
  {
   "cell_type": "code",
   "execution_count": 2,
   "metadata": {
    "collapsed": false
   },
   "outputs": [],
   "source": [
    "beerAdvocate = pd.read_csv('./data/beerAdvocate_cleaned.csv', dtype=str)\n",
    "rateBeer = pd.read_csv('./data/rateBeer_cleaned.csv', dtype=str)"
   ]
  },
  {
   "cell_type": "code",
   "execution_count": 3,
   "metadata": {
    "collapsed": false
   },
   "outputs": [
    {
     "data": {
      "text/html": [
       "<div>\n",
       "<table border=\"1\" class=\"dataframe\">\n",
       "  <thead>\n",
       "    <tr style=\"text-align: right;\">\n",
       "      <th></th>\n",
       "      <th>beer_id</th>\n",
       "      <th>beer_name</th>\n",
       "      <th>brewery_id</th>\n",
       "      <th>brewery_name</th>\n",
       "    </tr>\n",
       "  </thead>\n",
       "  <tbody>\n",
       "    <tr>\n",
       "      <th>0</th>\n",
       "      <td>14348</td>\n",
       "      <td>Eisbrau Czech</td>\n",
       "      <td>1</td>\n",
       "      <td>Plzensky Prazdroj, a. s.</td>\n",
       "    </tr>\n",
       "    <tr>\n",
       "      <th>1</th>\n",
       "      <td>19099</td>\n",
       "      <td>Primus</td>\n",
       "      <td>1</td>\n",
       "      <td>Plzensky Prazdroj, a. s.</td>\n",
       "    </tr>\n",
       "    <tr>\n",
       "      <th>2</th>\n",
       "      <td>19123</td>\n",
       "      <td>Gambrinus Pale</td>\n",
       "      <td>1</td>\n",
       "      <td>Plzensky Prazdroj, a. s.</td>\n",
       "    </tr>\n",
       "    <tr>\n",
       "      <th>3</th>\n",
       "      <td>19274</td>\n",
       "      <td>Urutislav</td>\n",
       "      <td>1</td>\n",
       "      <td>Plzensky Prazdroj, a. s.</td>\n",
       "    </tr>\n",
       "    <tr>\n",
       "      <th>4</th>\n",
       "      <td>41294</td>\n",
       "      <td>Pilsner Urquell 3.5%</td>\n",
       "      <td>1</td>\n",
       "      <td>Plzensky Prazdroj, a. s.</td>\n",
       "    </tr>\n",
       "  </tbody>\n",
       "</table>\n",
       "</div>"
      ],
      "text/plain": [
       "  beer_id             beer_name brewery_id              brewery_name\n",
       "0   14348         Eisbrau Czech          1  Plzensky Prazdroj, a. s.\n",
       "1   19099                Primus          1  Plzensky Prazdroj, a. s.\n",
       "2   19123        Gambrinus Pale          1  Plzensky Prazdroj, a. s.\n",
       "3   19274             Urutislav          1  Plzensky Prazdroj, a. s.\n",
       "4   41294  Pilsner Urquell 3.5%          1  Plzensky Prazdroj, a. s."
      ]
     },
     "execution_count": 3,
     "metadata": {},
     "output_type": "execute_result"
    }
   ],
   "source": [
    "beerAdvocate.head()"
   ]
  },
  {
   "cell_type": "code",
   "execution_count": 4,
   "metadata": {
    "collapsed": false,
    "scrolled": false
   },
   "outputs": [
    {
     "data": {
      "text/html": [
       "<div>\n",
       "<table border=\"1\" class=\"dataframe\">\n",
       "  <thead>\n",
       "    <tr style=\"text-align: right;\">\n",
       "      <th></th>\n",
       "      <th>beer_id</th>\n",
       "      <th>beer_name</th>\n",
       "      <th>brewery_id</th>\n",
       "      <th>brewery_name</th>\n",
       "    </tr>\n",
       "  </thead>\n",
       "  <tbody>\n",
       "    <tr>\n",
       "      <th>0</th>\n",
       "      <td>4</td>\n",
       "      <td>Abita Bock</td>\n",
       "      <td>1</td>\n",
       "      <td>Abita Brewing Company</td>\n",
       "    </tr>\n",
       "    <tr>\n",
       "      <th>1</th>\n",
       "      <td>10731</td>\n",
       "      <td>Abita Louisiana Red Ale</td>\n",
       "      <td>1</td>\n",
       "      <td>Abita Brewing Company</td>\n",
       "    </tr>\n",
       "    <tr>\n",
       "      <th>2</th>\n",
       "      <td>114065</td>\n",
       "      <td>Abita Select Pecan Brown Ale</td>\n",
       "      <td>1</td>\n",
       "      <td>Abita Brewing Company</td>\n",
       "    </tr>\n",
       "    <tr>\n",
       "      <th>3</th>\n",
       "      <td>114981</td>\n",
       "      <td>Abita Select Amber Ale</td>\n",
       "      <td>1</td>\n",
       "      <td>Abita Brewing Company</td>\n",
       "    </tr>\n",
       "    <tr>\n",
       "      <th>4</th>\n",
       "      <td>117017</td>\n",
       "      <td>Abita American Wheat</td>\n",
       "      <td>1</td>\n",
       "      <td>Abita Brewing Company</td>\n",
       "    </tr>\n",
       "  </tbody>\n",
       "</table>\n",
       "</div>"
      ],
      "text/plain": [
       "  beer_id                     beer_name brewery_id           brewery_name\n",
       "0       4                    Abita Bock          1  Abita Brewing Company\n",
       "1   10731       Abita Louisiana Red Ale          1  Abita Brewing Company\n",
       "2  114065  Abita Select Pecan Brown Ale          1  Abita Brewing Company\n",
       "3  114981        Abita Select Amber Ale          1  Abita Brewing Company\n",
       "4  117017          Abita American Wheat          1  Abita Brewing Company"
      ]
     },
     "execution_count": 4,
     "metadata": {},
     "output_type": "execute_result"
    }
   ],
   "source": [
    "rateBeer.head()"
   ]
  },
  {
   "cell_type": "code",
   "execution_count": 5,
   "metadata": {
    "collapsed": false
   },
   "outputs": [],
   "source": [
    "unique_rateBeer_breweries = rateBeer.brewery_name.unique()"
   ]
  },
  {
   "cell_type": "markdown",
   "metadata": {},
   "source": [
    "We can now try to see the similarity between two strings."
   ]
  },
  {
   "cell_type": "code",
   "execution_count": 6,
   "metadata": {
    "collapsed": false
   },
   "outputs": [],
   "source": [
    "def similarity_lines(line_1, line_2): \n",
    "    beer_val = fuzz.token_set_ratio(line_1.beer_name, line_2.beer_name)/100\n",
    "    brewery_val = fuzz.token_set_ratio(line_1.brewery_name, line_2.brewery_name)/100\n",
    "    return (beer_val*brewery_val)\n",
    "\n",
    "def similarity(test):\n",
    "    brewery = test.brewery_name.replace(\"'\", \"\")\n",
    "    beer = test.beer_name.replace(\"'\", \"\")\n",
    "    \n",
    "    brewery_sim = np.zeros(len(unique_rateBeer_breweries))\n",
    "    for i in range(len(unique_rateBeer_breweries)):\n",
    "        brewery_sim[i] = fuzz.token_set_ratio(brewery, unique_rateBeer_breweries[i])/100.0\n",
    "        \n",
    "    idx_best_match_brewery = np.argmax(brewery_sim)\n",
    "    best_match_brewery = np.max(brewery_sim)\n",
    "    \n",
    "    beer_names = list(rateBeer[rateBeer.brewery_name == unique_rateBeer_breweries[idx_best_match_brewery]].beer_name)\n",
    "        \n",
    "    N = len(beer_names)\n",
    "\n",
    "    test_beers = np.zeros(N)\n",
    "    for i in range(N):\n",
    "        test_beers[i] = fuzz.token_set_ratio(beer, beer_names[i])/100.0\n",
    "        \n",
    "    best_idx = np.argsort(test_beers)[::-1]\n",
    "    \n",
    "    nbr_match = 5\n",
    "    if N < 5:\n",
    "        nbr_match = N\n",
    "    \n",
    "    matches = []\n",
    "    for i in range(nbr_match):\n",
    "        matches.append((beer_names[best_idx[i]], \n",
    "                        unique_rateBeer_breweries[idx_best_match_brewery], \n",
    "                        test_beers[best_idx[i]]*best_match_brewery))\n",
    "        \n",
    "    ## Double check \n",
    "    # If the elements have the same best values, but the string is longer,\n",
    "    # we have to put it first. (Problem with this algo)\n",
    "    \n",
    "    best_sim = matches[0][2]\n",
    "    idx = [0]\n",
    "    diff_length_beer_name = [abs(len(matches[0][0])-len(beer))]\n",
    "    for i in range(1,nbr_match):\n",
    "        if matches[i][2] == best_sim:\n",
    "            idx.append(i)\n",
    "            diff_length_beer_name.append(abs(len(matches[i][0])-len(beer)))\n",
    "            \n",
    "    best_idx = np.argsort(diff_length_beer_name)\n",
    "    idx = np.asarray(idx)\n",
    "    \n",
    "    matches = np.asarray(matches)\n",
    "    \n",
    "    matches[idx] = matches[best_idx]\n",
    "            \n",
    "    return matches"
   ]
  },
  {
   "cell_type": "code",
   "execution_count": 7,
   "metadata": {
    "collapsed": false
   },
   "outputs": [
    {
     "data": {
      "text/plain": [
       "8"
      ]
     },
     "execution_count": 7,
     "metadata": {},
     "output_type": "execute_result"
    }
   ],
   "source": [
    "nbr_jobs = multiprocessing.cpu_count()\n",
    "nbr_jobs"
   ]
  },
  {
   "cell_type": "code",
   "execution_count": 12,
   "metadata": {
    "collapsed": false,
    "scrolled": true
   },
   "outputs": [
    {
     "name": "stdout",
     "output_type": "stream",
     "text": [
      "CPU times: user 48.8 s, sys: 1.6 s, total: 50.4 s\n",
      "Wall time: 43min 48s\n"
     ]
    }
   ],
   "source": [
    "%%time\n",
    "M = len(beerAdvocate)\n",
    "N = len(rateBeer)\n",
    "\n",
    "sim = Parallel(n_jobs=nbr_jobs)(delayed(similarity)(beerAdvocate.ix[idx]) for idx in range(M))"
   ]
  },
  {
   "cell_type": "code",
   "execution_count": 13,
   "metadata": {
    "collapsed": true
   },
   "outputs": [],
   "source": [
    "pickle.dump(sim, open('./data/similarity.pickle', \"wb\"))"
   ]
  },
  {
   "cell_type": "code",
   "execution_count": 14,
   "metadata": {
    "collapsed": true
   },
   "outputs": [],
   "source": [
    "sim = pickle.load(open('./data/similarity.pickle', \"rb\"))"
   ]
  },
  {
   "cell_type": "code",
   "execution_count": 15,
   "metadata": {
    "collapsed": false
   },
   "outputs": [
    {
     "data": {
      "text/plain": [
       "[array([['Harpoon Barleywine (Bourbon Barrel Aged)', 'Harpoon Brewery',\n",
       "         '0.79'],\n",
       "        ['Harpoon 100 Barrel Series #04 - Barleywine', 'Harpoon Brewery',\n",
       "         '0.67'],\n",
       "        ['Harpoon Barrel Aged Triticus ', 'Harpoon Brewery', '0.61'],\n",
       "        ['Harpoon Leviathan Barleywine Style Ale', 'Harpoon Brewery', '0.58'],\n",
       "        ['Harpoon Barrel Aged Munich Dark', 'Harpoon Brewery', '0.55']], \n",
       "       dtype='<U42'),\n",
       " array([['Harpoon UFO Pale Ale', 'Harpoon Brewery', '1.0'],\n",
       "        ['Harpoon Sour Belgian Pale Ale', 'Harpoon Brewery', '0.67'],\n",
       "        ['Harpoon KPA (Kriek Pale Ale)', 'Harpoon Brewery', '0.67'],\n",
       "        ['Harpoon Belgian Pale Ale', 'Harpoon Brewery', '0.67'],\n",
       "        ['Harpoon UFO Pumpkin', 'Harpoon Brewery', '0.55']], \n",
       "       dtype='<U29'),\n",
       " array([['Harpoon 100 Barrel Series #29 - Ginger Wheat', 'Harpoon Brewery',\n",
       "         '1.0'],\n",
       "        ['Harpoon 100 Barrel Series #26 - Catamount Maple Wheat',\n",
       "         'Harpoon Brewery', '0.86'],\n",
       "        ['Harpoon 100 Barrel Series #02 - Wit Beer', 'Harpoon Brewery',\n",
       "         '0.85'],\n",
       "        ['Harpoon 100 Barrel Series #19 - Peche', 'Harpoon Brewery', '0.85'],\n",
       "        ['Harpoon 100 Barrel Series #14 - Saison', 'Harpoon Brewery', '0.83']], \n",
       "       dtype='<U53'),\n",
       " array([['Harpoon IPA', 'Harpoon Brewery', '1.0'],\n",
       "        ['Harpoon 3B', 'Harpoon Brewery', '0.82'],\n",
       "        ['Harpoon Ale', 'Harpoon Brewery', '0.78'],\n",
       "        ['Harpoon Hop Hop', 'Harpoon Brewery', '0.78'],\n",
       "        ['Harpoon ESB', 'Harpoon Brewery', '0.78']], \n",
       "       dtype='<U15'),\n",
       " array([['Harpoon 100 Barrel Series #30 - Island Creek Oyster Stout',\n",
       "         'Harpoon Brewery', '1.0'],\n",
       "        ['Harpoon 100 Barrel Series #01 - Oatmeal Stout ',\n",
       "         'Harpoon Brewery', '0.85'],\n",
       "        ['Harpoon 100 Barrel Series #19 - Peche', 'Harpoon Brewery', '0.85'],\n",
       "        ['Harpoon 100 Barrel Series #12 - Imperial Stout',\n",
       "         'Harpoon Brewery', '0.84'],\n",
       "        ['Harpoon 100 Barrel Series #14 - Saison', 'Harpoon Brewery', '0.83']], \n",
       "       dtype='<U57'),\n",
       " array([['Harpoon Leviathan Imperial Red Ale', 'Harpoon Brewery', '1.0'],\n",
       "        ['Harpoon Ale', 'Harpoon Brewery', '1.0'],\n",
       "        ['Harpoon Leviathan Imperial IPA', 'Harpoon Brewery', '0.93'],\n",
       "        ['Harpoon Leviathan Imperial Rye', 'Harpoon Brewery', '0.93'],\n",
       "        ['Harpoon 3B', 'Harpoon Brewery', '0.82']], \n",
       "       dtype='<U34'),\n",
       " array([[\"Harpoon Vampire's Nemesis\", 'Harpoon Brewery', '0.73'],\n",
       "        ['Harpoon Saison Various', 'Harpoon Brewery', '0.47'],\n",
       "        ['Harpoon Flanders Red', 'Harpoon Brewery', '0.44'],\n",
       "        ['Harpoon Bohemian Pilsner', 'Harpoon Brewery', '0.4'],\n",
       "        ['Harpoon Varius', 'Harpoon Brewery', '0.4']], \n",
       "       dtype='<U25'),\n",
       " array([['Harpoon 100 Barrel Series #31 - Single Hop ESB',\n",
       "         'Harpoon Brewery', '1.0'],\n",
       "        ['Harpoon Hop Hop', 'Harpoon Brewery', '1.0'],\n",
       "        ['Harpoon ESB', 'Harpoon Brewery', '1.0'],\n",
       "        ['Harpoon 100 Barrel Series #19 - Peche', 'Harpoon Brewery', '0.85'],\n",
       "        ['Harpoon 100 Barrel Series #14 - Saison', 'Harpoon Brewery', '0.83']], \n",
       "       dtype='<U46'),\n",
       " array([['Harpoon IPA', 'Harpoon Brewery', '1.0'],\n",
       "        ['Harpoon 3B', 'Harpoon Brewery', '0.82'],\n",
       "        ['Harpoon Hop Hop', 'Harpoon Brewery', '0.78'],\n",
       "        ['Harpoon Ale', 'Harpoon Brewery', '0.78'],\n",
       "        ['Harpoon ESB', 'Harpoon Brewery', '0.78']], \n",
       "       dtype='<U15'),\n",
       " array([['Harpoon IPA', 'Harpoon Brewery', '1.0'],\n",
       "        ['Harpoon Leviathan Imperial IPA', 'Harpoon Brewery', '0.82'],\n",
       "        ['Harpoon 3B', 'Harpoon Brewery', '0.82'],\n",
       "        ['Harpoon Hop Hop', 'Harpoon Brewery', '0.78'],\n",
       "        ['Harpoon ESB', 'Harpoon Brewery', '0.78']], \n",
       "       dtype='<U30'),\n",
       " array([['Harpoon 100 Barrel Series #32 - Potts Landbier',\n",
       "         'Harpoon Brewery', '1.0'],\n",
       "        ['Harpoon 100 Barrel Series #19 - Peche', 'Harpoon Brewery', '0.85'],\n",
       "        ['Harpoon 100 Barrel Series #14 - Saison', 'Harpoon Brewery', '0.83'],\n",
       "        ['Harpoon 100 Barrel Series #05 - Alt Ale', 'Harpoon Brewery',\n",
       "         '0.82'],\n",
       "        ['Harpoon 100 Barrel Series #02 - Wit Beer', 'Harpoon Brewery',\n",
       "         '0.82']], \n",
       "       dtype='<U46'),\n",
       " array([['Harpoon Belgian Pale Ale', 'Harpoon Brewery', '0.57'],\n",
       "        ['Harpoon UFO Pale Ale', 'Harpoon Brewery', '0.57'],\n",
       "        ['Harpoon Leviathan Barleywine Style Ale', 'Harpoon Brewery', '0.57'],\n",
       "        ['Harpoon 100 Barrel Series #03 - Abbey Style Ale',\n",
       "         'Harpoon Brewery', '0.55'],\n",
       "        ['Harpoon 100 Barrel Series #39 - Vermont Spruce Tip Ale',\n",
       "         'Harpoon Brewery', '0.55']], \n",
       "       dtype='<U54'),\n",
       " array([['Harpoon Sour Rye Ale', 'Harpoon Brewery', '0.5'],\n",
       "        ['Harpoon 100 Barrel Series #07 - Union Street Revival Ale',\n",
       "         'Harpoon Brewery', '0.47'],\n",
       "        ['Harpoon 100 Barrel Series #16 - Frankenfest  ', 'Harpoon Brewery',\n",
       "         '0.47'],\n",
       "        ['Harpoon 100 Barrel Series #05 - Alt Ale', 'Harpoon Brewery',\n",
       "         '0.47'],\n",
       "        ['Harpoon 100 Barrel Series #23 - Old Rustys Red Rye Ale',\n",
       "         'Harpoon Brewery', '0.46']], \n",
       "       dtype='<U56'),\n",
       " array([['Harpoon Leviathan Baltic Porter', 'Harpoon Brewery', '1.0'],\n",
       "        ['Harpoon Wood Aged Baltic Porter', 'Harpoon Brewery', '0.91'],\n",
       "        ['Harpoon 3B', 'Harpoon Brewery', '0.82'],\n",
       "        ['Harpoon Barrel Aged Triticus ', 'Harpoon Brewery', '0.81'],\n",
       "        ['Harpoon ESB', 'Harpoon Brewery', '0.78']], \n",
       "       dtype='<U31'),\n",
       " array([['Harpoon Hop Hop', 'Harpoon Brewery', '1.0'],\n",
       "        ['Harpoon Ale', 'Harpoon Brewery', '1.0'],\n",
       "        ['Harpoon 100 Barrel Series #20 - Glacier Harvest Wet Hop Beer',\n",
       "         'Harpoon Brewery', '0.92'],\n",
       "        ['Harpoon 100 Barrel Series #05 - Alt Ale', 'Harpoon Brewery',\n",
       "         '0.89'],\n",
       "        ['Harpoon 100 Barrel Series #10 - Triticus', 'Harpoon Brewery',\n",
       "         '0.86']], \n",
       "       dtype='<U60'),\n",
       " array([['Harpoon Grateful Harvest', 'Harpoon Brewery', '0.8'],\n",
       "        ['Harpoon 100 Barrel Series #38 - Do?esná Czech Hop Harvest Ale',\n",
       "         'Harpoon Brewery', '0.54'],\n",
       "        ['Harpoon 100 Barrel Series #03 - Abbey Style Ale',\n",
       "         'Harpoon Brewery', '0.51'],\n",
       "        ['Harpoon 100 Barrel Series #05 - Alt Ale', 'Harpoon Brewery',\n",
       "         '0.48'],\n",
       "        ['Harpoon Belgian Pale Ale', 'Harpoon Brewery', '0.48']], \n",
       "       dtype='<U61'),\n",
       " array([['Harpoon Sour Belgian Pale Ale', 'Harpoon Brewery', '0.68'],\n",
       "        ['Harpoon Barleywine (Bourbon Barrel Aged)', 'Harpoon Brewery',\n",
       "         '0.63'],\n",
       "        ['Harpoon Barrel Aged Triticus ', 'Harpoon Brewery', '0.61'],\n",
       "        ['Harpoon Barrel Aged Munich Dark', 'Harpoon Brewery', '0.61'],\n",
       "        ['Harpoon 100 Barrel Series #34 - Oak Aged Dunkel',\n",
       "         'Harpoon Brewery', '0.61']], \n",
       "       dtype='<U47'),\n",
       " array([['Harpoon Leviathan Barleywine Style Ale', 'Harpoon Brewery', '1.0'],\n",
       "        ['Harpoon Ale', 'Harpoon Brewery', '1.0'],\n",
       "        ['Harpoon 3B', 'Harpoon Brewery', '0.82'],\n",
       "        ['Harpoon Hop Hop', 'Harpoon Brewery', '0.78'],\n",
       "        ['Harpoon IPA', 'Harpoon Brewery', '0.78']], \n",
       "       dtype='<U38'),\n",
       " array([['Harpoon 100 Barrel Series #34 - Oak Aged Dunkel',\n",
       "         'Harpoon Brewery', '1.0'],\n",
       "        ['Harpoon 100 Barrel Series #19 - Peche', 'Harpoon Brewery', '0.85'],\n",
       "        ['Harpoon 100 Barrel Series #14 - Saison', 'Harpoon Brewery', '0.83'],\n",
       "        ['Harpoon 100 Barrel Series #09 - Maibock', 'Harpoon Brewery',\n",
       "         '0.82'],\n",
       "        ['Harpoon 100 Barrel Series #05 - Alt Ale', 'Harpoon Brewery',\n",
       "         '0.82']], \n",
       "       dtype='<U47'),\n",
       " array([['Harpoon Belgian Pale Ale', 'Harpoon Brewery', '1.0'],\n",
       "        ['Harpoon Sour Belgian Pale Ale', 'Harpoon Brewery', '1.0'],\n",
       "        ['Harpoon Ale', 'Harpoon Brewery', '1.0'],\n",
       "        ['Harpoon UFO Pale Ale', 'Harpoon Brewery', '0.89'],\n",
       "        ['Harpoon Belgian Brown', 'Harpoon Brewery', '0.83']], \n",
       "       dtype='<U29'),\n",
       " array([['Harpoon Tripel', 'Harpoon Brewery', '1.0'],\n",
       "        ['Harpoon 3B', 'Harpoon Brewery', '0.82'],\n",
       "        ['Harpoon IPA', 'Harpoon Brewery', '0.8'],\n",
       "        ['Harpoon Hop Hop', 'Harpoon Brewery', '0.78'],\n",
       "        ['Harpoon ESB', 'Harpoon Brewery', '0.78']], \n",
       "       dtype='<U15'),\n",
       " array([['Harpoon 100 Barrel Series #17 - English Style Old Ale',\n",
       "         'Harpoon Brewery', '1.0'],\n",
       "        ['Harpoon Ale', 'Harpoon Brewery', '1.0'],\n",
       "        ['Harpoon 100 Barrel Series #05 - Alt Ale', 'Harpoon Brewery',\n",
       "         '0.89'],\n",
       "        ['Harpoon 100 Barrel Series #03 - Abbey Style Ale',\n",
       "         'Harpoon Brewery', '0.89'],\n",
       "        ['Harpoon 100 Barrel Series #06 - Scotch Style Ale',\n",
       "         'Harpoon Brewery', '0.88']], \n",
       "       dtype='<U53'),\n",
       " array([['Harpoon 100 Barrel Series #17 - English Style Old Ale',\n",
       "         'Harpoon Brewery', '0.81'],\n",
       "        ['Harpoon Belgian Pale Ale', 'Harpoon Brewery', '0.55'],\n",
       "        ['Harpoon Celtic Ale', 'Harpoon Brewery', '0.53'],\n",
       "        ['Harpoon Sour Belgian Pale Ale', 'Harpoon Brewery', '0.49'],\n",
       "        ['Harpoon UFO Pale Ale', 'Harpoon Brewery', '0.44']], \n",
       "       dtype='<U53'),\n",
       " array([['Harpoon Ale', 'Harpoon Brewery', '1.0'],\n",
       "        ['Harpoon Wild Hibernian', 'Harpoon Brewery', '0.86'],\n",
       "        ['Harpoon 3B', 'Harpoon Brewery', '0.82'],\n",
       "        ['Harpoon Sour Rye Ale', 'Harpoon Brewery', '0.81'],\n",
       "        ['Harpoon 100 Barrel Series #38 - Do?esná Czech Hop Harvest Ale',\n",
       "         'Harpoon Brewery', '0.81']], \n",
       "       dtype='<U61'),\n",
       " array([['Harpoon 100 Barrel Series #18 - Refsvinginge Private Stock',\n",
       "         'Harpoon Brewery', '1.0'],\n",
       "        ['Harpoon 100 Barrel Series #19 - Peche', 'Harpoon Brewery', '0.85'],\n",
       "        ['Harpoon 100 Barrel Series #14 - Saison', 'Harpoon Brewery', '0.83'],\n",
       "        ['Harpoon 3B', 'Harpoon Brewery', '0.82'],\n",
       "        ['Harpoon 100 Barrel Series #05 - Alt Ale', 'Harpoon Brewery',\n",
       "         '0.82']], \n",
       "       dtype='<U58'),\n",
       " array([['Harpoon Brown', 'Harpoon Brewery', '1.0'],\n",
       "        ['Harpoon Ale', 'Harpoon Brewery', '1.0'],\n",
       "        ['Harpoon 3B', 'Harpoon Brewery', '0.82'],\n",
       "        ['Harpoon Hop Hop', 'Harpoon Brewery', '0.78'],\n",
       "        ['Harpoon ESB', 'Harpoon Brewery', '0.78']], \n",
       "       dtype='<U15'),\n",
       " array([['Harpoon 100 Barrel Series #19 - Peche', 'Harpoon Brewery', '0.99'],\n",
       "        ['Harpoon 100 Barrel Series #26 - Catamount Maple Wheat',\n",
       "         'Harpoon Brewery', '0.86'],\n",
       "        ['Harpoon 100 Barrel Series #15 - Bohemian Pils', 'Harpoon Brewery',\n",
       "         '0.86'],\n",
       "        ['Harpoon 100 Barrel Series #02 - Wit Beer', 'Harpoon Brewery',\n",
       "         '0.86'],\n",
       "        ['Harpoon 100 Barrel Series #01 - Oatmeal Stout ',\n",
       "         'Harpoon Brewery', '0.86']], \n",
       "       dtype='<U53'),\n",
       " array([['Harpoon 100 Barrel Series #20 - Glacier Harvest Wet Hop Beer',\n",
       "         'Harpoon Brewery', '1.0'],\n",
       "        ['Harpoon Hop Hop', 'Harpoon Brewery', '1.0'],\n",
       "        ['Harpoon 100 Barrel Series #02 - Wit Beer', 'Harpoon Brewery',\n",
       "         '0.9'],\n",
       "        ['Harpoon 100 Barrel Series #19 - Peche', 'Harpoon Brewery', '0.85'],\n",
       "        ['Harpoon 100 Barrel Series #14 - Saison', 'Harpoon Brewery', '0.83']], \n",
       "       dtype='<U60'),\n",
       " array([['Harpoon 100 Barrel Series #21 - Weizenbock', 'Harpoon Brewery',\n",
       "         '1.0'],\n",
       "        ['Harpoon 100 Barrel Series #19 - Peche', 'Harpoon Brewery', '0.85'],\n",
       "        ['Harpoon 100 Barrel Series #09 - Maibock', 'Harpoon Brewery',\n",
       "         '0.85'],\n",
       "        ['Harpoon 100 Barrel Series #14 - Saison', 'Harpoon Brewery', '0.83'],\n",
       "        ['Harpoon 100 Barrel Series #05 - Alt Ale', 'Harpoon Brewery',\n",
       "         '0.82']], \n",
       "       dtype='<U42'),\n",
       " array([['Harpoon 100 Barrel Series #34 - Oak Aged Dunkel',\n",
       "         'Harpoon Brewery', '0.8'],\n",
       "        ['Harpoon Ale', 'Harpoon Brewery', '0.52'],\n",
       "        ['Harpoon Barrel Aged Munich Dark', 'Harpoon Brewery', '0.5'],\n",
       "        ['Harpoon Sour Rye Ale', 'Harpoon Brewery', '0.5'],\n",
       "        ['Harpoon UFO Pale Ale', 'Harpoon Brewery', '0.5']], \n",
       "       dtype='<U47'),\n",
       " array([['Harpoon 100 Barrel Series #22 - Steve Stewarts Firth of Forth',\n",
       "         'Harpoon Brewery', '0.96'],\n",
       "        ['Harpoon 100 Barrel Series #05 - Alt Ale', 'Harpoon Brewery',\n",
       "         '0.74'],\n",
       "        ['Harpoon 100 Barrel Series #06 - Scotch Style Ale',\n",
       "         'Harpoon Brewery', '0.67'],\n",
       "        ['Harpoon 100 Barrel Series #19 - Peche', 'Harpoon Brewery', '0.67'],\n",
       "        ['Harpoon 100 Barrel Series #14 - Saison', 'Harpoon Brewery', '0.65']], \n",
       "       dtype='<U61'),\n",
       " array([['Harpoon 100 Barrel Series #23 - Old Rustys Red Rye Ale',\n",
       "         'Harpoon Brewery', '1.0'],\n",
       "        ['Harpoon Ale', 'Harpoon Brewery', '1.0'],\n",
       "        ['Harpoon Old Rustys Sour Red Rye', 'Harpoon Brewery', '0.91'],\n",
       "        ['Harpoon 100 Barrel Series #05 - Alt Ale', 'Harpoon Brewery',\n",
       "         '0.89'],\n",
       "        ['Harpoon Sour Rye Ale', 'Harpoon Brewery', '0.86']], \n",
       "       dtype='<U54'),\n",
       " array([['Harpoon 3B', 'Harpoon Brewery', '0.82'],\n",
       "        ['Harpoon Leviathan Imperial Rye', 'Harpoon Brewery', '0.79'],\n",
       "        ['Harpoon Leviathan Belgian Quad', 'Harpoon Brewery', '0.79'],\n",
       "        ['Harpoon Leviathan Baltic Porter', 'Harpoon Brewery', '0.79'],\n",
       "        ['Harpoon Leviathan Barleywine Style Ale', 'Harpoon Brewery', '0.79']], \n",
       "       dtype='<U38'),\n",
       " array([['Harpoon Leviathan Imperial IPA', 'Harpoon Brewery', '1.0'],\n",
       "        ['Harpoon IPA', 'Harpoon Brewery', '1.0'],\n",
       "        ['Harpoon Leviathan Imperial Red Ale', 'Harpoon Brewery', '0.93'],\n",
       "        ['Harpoon Leviathan Imperial Rye', 'Harpoon Brewery', '0.93'],\n",
       "        ['Harpoon 3B', 'Harpoon Brewery', '0.82']], \n",
       "       dtype='<U34'),\n",
       " array([['Harpoon 100 Barrel Series #20 - Glacier Harvest Wet Hop Beer',\n",
       "         'Harpoon Brewery', '0.94'],\n",
       "        ['Harpoon 100 Barrel Series #02 - Wit Beer', 'Harpoon Brewery',\n",
       "         '0.75'],\n",
       "        ['Harpoon 100 Barrel Series #38 - Do?esná Czech Hop Harvest Ale',\n",
       "         'Harpoon Brewery', '0.72'],\n",
       "        ['Harpoon 100 Barrel Series #29 - Ginger Wheat', 'Harpoon Brewery',\n",
       "         '0.71'],\n",
       "        ['Harpoon 100 Barrel Series #04 - Barleywine', 'Harpoon Brewery',\n",
       "         '0.68']], \n",
       "       dtype='<U61'),\n",
       " array([['Harpoon Chocolate Stout', 'Harpoon Brewery', '1.0'],\n",
       "        ['Harpoon Belgian Chocolate Stout ', 'Harpoon Brewery', '1.0'],\n",
       "        ['Harpoon Chocolate Stout with Brett', 'Harpoon Brewery', '1.0'],\n",
       "        ['Harpoon Chocolate Orange Wit', 'Harpoon Brewery', '0.85'],\n",
       "        ['Harpoon 3B', 'Harpoon Brewery', '0.82']], \n",
       "       dtype='<U34'),\n",
       " array([['Harpoon 100 Barrel Series #25 - Rauchfetzen', 'Harpoon Brewery',\n",
       "         '1.0'],\n",
       "        ['Harpoon 100 Barrel Series #19 - Peche', 'Harpoon Brewery', '0.85'],\n",
       "        ['Harpoon 100 Barrel Series #14 - Saison', 'Harpoon Brewery', '0.83'],\n",
       "        ['Harpoon 3B', 'Harpoon Brewery', '0.82'],\n",
       "        ['Harpoon 100 Barrel Series #09 - Maibock', 'Harpoon Brewery',\n",
       "         '0.82']], \n",
       "       dtype='<U43'),\n",
       " array([['Harpoon Leviathan Baltic Porter', 'Harpoon Brewery', '1.0'],\n",
       "        ['Harpoon 3B', 'Harpoon Brewery', '0.82'],\n",
       "        ['Harpoon Wood Aged Baltic Porter', 'Harpoon Brewery', '0.81'],\n",
       "        ['Harpoon Leviathan Uber-Bock', 'Harpoon Brewery', '0.79'],\n",
       "        ['Harpoon Ale', 'Harpoon Brewery', '0.78']], \n",
       "       dtype='<U31'),\n",
       " array([['Harpoon Leviathan Belgian Quad', 'Harpoon Brewery', '1.0'],\n",
       "        ['Harpoon Leviathan Uber-Bock', 'Harpoon Brewery', '0.87'],\n",
       "        ['Harpoon Leviathan Baltic Porter', 'Harpoon Brewery', '0.87'],\n",
       "        ['Harpoon Leviathan Imperial Rye', 'Harpoon Brewery', '0.87'],\n",
       "        ['Harpoon Leviathan Barleywine Style Ale', 'Harpoon Brewery', '0.87']], \n",
       "       dtype='<U38'),\n",
       " array([['Harpoon Celtic Ale', 'Harpoon Brewery', '1.0'],\n",
       "        ['Harpoon Ale', 'Harpoon Brewery', '1.0'],\n",
       "        ['Harpoon 3B', 'Harpoon Brewery', '0.82'],\n",
       "        ['Harpoon IPA', 'Harpoon Brewery', '0.78'],\n",
       "        ['Harpoon ESB', 'Harpoon Brewery', '0.78']], \n",
       "       dtype='<U18'),\n",
       " array([['Harpoon Wild Hibernian', 'Harpoon Brewery', '1.0'],\n",
       "        ['Harpoon 3B', 'Harpoon Brewery', '0.82'],\n",
       "        ['Harpoon ESB', 'Harpoon Brewery', '0.78'],\n",
       "        ['Harpoon IPA', 'Harpoon Brewery', '0.78'],\n",
       "        ['Harpoon Ale', 'Harpoon Brewery', '0.78']], \n",
       "       dtype='<U22'),\n",
       " array([['Harpoon 100 Barrel Series #26 - Catamount Maple Wheat',\n",
       "         'Harpoon Brewery', '1.0'],\n",
       "        ['Harpoon 100 Barrel Series #29 - Ginger Wheat', 'Harpoon Brewery',\n",
       "         '0.86'],\n",
       "        ['Harpoon 100 Barrel Series #19 - Peche', 'Harpoon Brewery', '0.85'],\n",
       "        ['Harpoon 100 Barrel Series #14 - Saison', 'Harpoon Brewery', '0.83'],\n",
       "        ['Harpoon 100 Barrel Series #05 - Alt Ale', 'Harpoon Brewery',\n",
       "         '0.82']], \n",
       "       dtype='<U53'),\n",
       " array([['Harpoon Leviathan Big Bohemian Pilsner', 'Harpoon Brewery', '1.0'],\n",
       "        ['Harpoon Bohemian Pilsner', 'Harpoon Brewery', '1.0'],\n",
       "        ['Harpoon Pilsner', 'Harpoon Brewery', '1.0'],\n",
       "        ['Harpoon 3B', 'Harpoon Brewery', '0.82'],\n",
       "        ['Harpoon ESB', 'Harpoon Brewery', '0.78']], \n",
       "       dtype='<U38'),\n",
       " array([['Harpoon Crystal Wheat', 'Harpoon Brewery', '1.0'],\n",
       "        ['Harpoon 3B', 'Harpoon Brewery', '0.82'],\n",
       "        ['Harpoon IPA', 'Harpoon Brewery', '0.78'],\n",
       "        ['Harpoon Ale', 'Harpoon Brewery', '0.78'],\n",
       "        ['Harpoon ESB', 'Harpoon Brewery', '0.78']], \n",
       "       dtype='<U21'),\n",
       " array([['Harpoon Chocolate Stout', 'Harpoon Brewery', '1.0'],\n",
       "        ['Harpoon Chocolate Stout with Brett', 'Harpoon Brewery', '0.9'],\n",
       "        ['Harpoon Belgian Chocolate Stout ', 'Harpoon Brewery', '0.85'],\n",
       "        ['Harpoon 3B', 'Harpoon Brewery', '0.82'],\n",
       "        ['Harpoon ESB', 'Harpoon Brewery', '0.78']], \n",
       "       dtype='<U34'),\n",
       " array([['Harpoon Celtic Ale', 'Harpoon Brewery', '0.71'],\n",
       "        ['Harpoon 100 Barrel Series #39 - Vermont Spruce Tip Ale',\n",
       "         'Harpoon Brewery', '0.59'],\n",
       "        ['Harpoon Wood Aged Baltic Porter', 'Harpoon Brewery', '0.47'],\n",
       "        ['Harpoon Belgian Pale Ale', 'Harpoon Brewery', '0.46'],\n",
       "        ['Harpoon Sour Belgian Pale Ale', 'Harpoon Brewery', '0.45']], \n",
       "       dtype='<U54'),\n",
       " array([['Harpoon 100 Barrel Series #26 - Catamount Maple Wheat',\n",
       "         'Harpoon Brewery', '0.72'],\n",
       "        ['Harpoon Wood Aged Baltic Porter', 'Harpoon Brewery', '0.55'],\n",
       "        ['Harpoon 100 Barrel Series #08 - Smoked Porter', 'Harpoon Brewery',\n",
       "         '0.55'],\n",
       "        ['Harpoon Leviathan Baltic Porter', 'Harpoon Brewery', '0.55'],\n",
       "        ['Harpoon Poitron', 'Harpoon Brewery', '0.52']], \n",
       "       dtype='<U53'),\n",
       " array([['Harpoon Bohemian Pilsner', 'Harpoon Brewery', '1.0'],\n",
       "        ['Harpoon Pilsner', 'Harpoon Brewery', '1.0'],\n",
       "        ['Harpoon Leviathan Big Bohemian Pilsner', 'Harpoon Brewery', '1.0'],\n",
       "        ['Harpoon 3B', 'Harpoon Brewery', '0.82'],\n",
       "        ['Harpoon 100 Barrel Series #15 - Bohemian Pils', 'Harpoon Brewery',\n",
       "         '0.8']], \n",
       "       dtype='<U45'),\n",
       " array([['Harpoon Barrel Aged Munich Dark', 'Harpoon Brewery', '1.0'],\n",
       "        ['Harpoon Munich Dark', 'Harpoon Brewery', '0.73'],\n",
       "        ['Harpoon Barrel Aged Triticus ', 'Harpoon Brewery', '0.67'],\n",
       "        ['Harpoon Barleywine (Bourbon Barrel Aged)', 'Harpoon Brewery',\n",
       "         '0.65'],\n",
       "        ['Harpoon 100 Barrel Series #34 - Oak Aged Dunkel',\n",
       "         'Harpoon Brewery', '0.65']], \n",
       "       dtype='<U47'),\n",
       " array([['Harpoon Leviathan Uber-Bock', 'Harpoon Brewery', '1.0'],\n",
       "        ['Harpoon 3B', 'Harpoon Brewery', '0.82'],\n",
       "        ['Harpoon Leviathan Baltic Porter', 'Harpoon Brewery', '0.79'],\n",
       "        ['Harpoon Hop Hop', 'Harpoon Brewery', '0.78'],\n",
       "        ['Harpoon IPA', 'Harpoon Brewery', '0.78']], \n",
       "       dtype='<U31'),\n",
       " array([['Harpoon IPA', 'Harpoon Brewery', '1.0'],\n",
       "        [\"Harpoon 100 Barrel Series #37 - Rich & Dan's Rye IPA\",\n",
       "         'Harpoon Brewery', '0.99'],\n",
       "        ['Harpoon 100 Barrel Series #19 - Peche', 'Harpoon Brewery', '0.85'],\n",
       "        ['Harpoon 100 Barrel Series #14 - Saison', 'Harpoon Brewery', '0.83'],\n",
       "        ['Harpoon 3B', 'Harpoon Brewery', '0.82']], \n",
       "       dtype='<U52'),\n",
       " array([['Harpoon 100 Barrel Series #30 - Island Creek Oyster Stout',\n",
       "         'Harpoon Brewery', '0.98'],\n",
       "        ['Harpoon 100 Barrel Series #01 - Oatmeal Stout ',\n",
       "         'Harpoon Brewery', '0.85'],\n",
       "        ['Harpoon 100 Barrel Series #19 - Peche', 'Harpoon Brewery', '0.85'],\n",
       "        ['Harpoon 100 Barrel Series #12 - Imperial Stout',\n",
       "         'Harpoon Brewery', '0.84'],\n",
       "        ['Harpoon 100 Barrel Series #14 - Saison', 'Harpoon Brewery', '0.83']], \n",
       "       dtype='<U57'),\n",
       " array([['Harpoon 100 Barrel Series #26 - Catamount Maple Wheat',\n",
       "         'Harpoon Brewery', '0.69'],\n",
       "        ['Harpoon Grateful Harvest', 'Harpoon Brewery', '0.44'],\n",
       "        ['Harpoon Saison de Luca', 'Harpoon Brewery', '0.41'],\n",
       "        ['Harpoon Chocolate Stout', 'Harpoon Brewery', '0.4'],\n",
       "        ['Harpoon Mitis', 'Harpoon Brewery', '0.4']], \n",
       "       dtype='<U53'),\n",
       " array([['Harpoon Jimbo & the Technicolor Hop Sack ', 'Harpoon Brewery',\n",
       "         '1.0'],\n",
       "        ['Harpoon Hop Hop', 'Harpoon Brewery', '0.43'],\n",
       "        ['Harpoon Chocolate Stout', 'Harpoon Brewery', '0.42'],\n",
       "        ['Harpoon Leviathan Uber-Bock', 'Harpoon Brewery', '0.42'],\n",
       "        ['Harpoon Chocolate Orange Wit', 'Harpoon Brewery', '0.41']], \n",
       "       dtype='<U41'),\n",
       " array([['Harpoon Uncle Fester', 'Harpoon Brewery', '1.0'],\n",
       "        ['Harpoon Summer Beer ', 'Harpoon Brewery', '0.39'],\n",
       "        ['Harpoon Flanders Red', 'Harpoon Brewery', '0.38'],\n",
       "        ['Harpoon ESB', 'Harpoon Brewery', '0.35'],\n",
       "        ['Harpoon Peach Wit After Dark', 'Harpoon Brewery', '0.35']], \n",
       "       dtype='<U28'),\n",
       " array([['Harpoon Rodneys Solera', 'Harpoon Brewery', '1.0'],\n",
       "        ['Harpoon Pilsner', 'Harpoon Brewery', '0.48'],\n",
       "        ['Harpoon Sour Rye Ale', 'Harpoon Brewery', '0.47'],\n",
       "        [\"Harpoon Jed's Pony\", 'Harpoon Brewery', '0.44'],\n",
       "        ['Harpoon Old Rustys Sour Red Rye', 'Harpoon Brewery', '0.44']], \n",
       "       dtype='<U31'),\n",
       " array([['Harpoon 100 Barrel Series #26 - Catamount Maple Wheat',\n",
       "         'Harpoon Brewery', '0.67'],\n",
       "        ['Harpoon UFO Pale Ale', 'Harpoon Brewery', '0.63'],\n",
       "        ['Harpoon Sour Belgian Pale Ale', 'Harpoon Brewery', '0.62'],\n",
       "        ['Harpoon Belgian Pale Ale', 'Harpoon Brewery', '0.62'],\n",
       "        ['Harpoon KPA (Kriek Pale Ale)', 'Harpoon Brewery', '0.62']], \n",
       "       dtype='<U53'),\n",
       " array([['Harpoon Leviathan Imperial Rye', 'Harpoon Brewery', '1.0'],\n",
       "        ['Harpoon Leviathan Imperial IPA', 'Harpoon Brewery', '0.93'],\n",
       "        ['Harpoon Leviathan Imperial Red Ale', 'Harpoon Brewery', '0.93'],\n",
       "        ['Harpoon 3B', 'Harpoon Brewery', '0.82'],\n",
       "        ['Harpoon IPA', 'Harpoon Brewery', '0.78']], \n",
       "       dtype='<U34'),\n",
       " array([['Harpoon Leviathan Uber-Bock', 'Harpoon Brewery', '0.57'],\n",
       "        ['Harpoon 100 Barrel Series #27 - Helles Blond Bock',\n",
       "         'Harpoon Brewery', '0.57'],\n",
       "        ['Harpoon Hop Hop', 'Harpoon Brewery', '0.48'],\n",
       "        ['Harpoon Old Smoky', 'Harpoon Brewery', '0.44'],\n",
       "        ['Harpoon Brown', 'Harpoon Brewery', '0.43']], \n",
       "       dtype='<U49'),\n",
       " array([['Harpoon UFO Pumpkin', 'Harpoon Brewery', '1.0'],\n",
       "        ['Harpoon UFO Pale Ale', 'Harpoon Brewery', '0.43'],\n",
       "        ['Harpoon UFO Hefeweizen', 'Harpoon Brewery', '0.43'],\n",
       "        ['Harpoon UFO Raspberry Hefeweizen', 'Harpoon Brewery', '0.43'],\n",
       "        ['Harpoon UFO White', 'Harpoon Brewery', '0.43']], \n",
       "       dtype='<U32')]"
      ]
     },
     "execution_count": 15,
     "metadata": {},
     "output_type": "execute_result"
    }
   ],
   "source": [
    "sim[340:400]"
   ]
  },
  {
   "cell_type": "code",
   "execution_count": null,
   "metadata": {
    "collapsed": true
   },
   "outputs": [],
   "source": []
  }
 ],
 "metadata": {
  "anaconda-cloud": {},
  "kernelspec": {
   "display_name": "Python [conda root]",
   "language": "python",
   "name": "conda-root-py"
  },
  "language_info": {
   "codemirror_mode": {
    "name": "ipython",
    "version": 3
   },
   "file_extension": ".py",
   "mimetype": "text/x-python",
   "name": "python",
   "nbconvert_exporter": "python",
   "pygments_lexer": "ipython3",
   "version": "3.5.2"
  }
 },
 "nbformat": 4,
 "nbformat_minor": 1
}
