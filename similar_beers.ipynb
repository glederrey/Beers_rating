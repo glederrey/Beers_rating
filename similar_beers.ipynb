{
 "cells": [
  {
   "cell_type": "markdown",
   "metadata": {},
   "source": [
    "# Introduction\n",
    "\n",
    "In this notebook, we want to study the two datasets in `beerAdv_beer_brewery.tsv` and in `rateBeer_beer_brewery.tsv`. The columns of these datasets are like this:\n",
    "\n",
    "            beer_id ¦ beer_name ¦ brewery_id ¦ brewery_name\n",
    "            \n",
    "The idea of this notebook is to create a similarity measure in order to find the same elements in both these datasets. Once we have this similarity measure, we want to find the limit X such that:\n",
    "- All pairs with a similarity value of $X' > X$ are considered as the same beer\n",
    "- All pairs with a similarity value of $X'' < X$ are not taken into account.\n",
    "\n",
    "In order to achieve this, this notebook is composed of three parts. The first part is some sort of simple Data Analysis. Then there will be the creation of the pairs and the similarity value. Finally the part to find the best value $X$."
   ]
  },
  {
   "cell_type": "code",
   "execution_count": 1,
   "metadata": {
    "collapsed": false
   },
   "outputs": [],
   "source": [
    "# Usefule imports\n",
    "import pandas as pd\n",
    "import numpy as np\n",
    "import codecs\n",
    "\n",
    "# For the Python notebook\n",
    "%matplotlib inline\n",
    "%reload_ext autoreload\n",
    "%autoreload 2"
   ]
  },
  {
   "cell_type": "markdown",
   "metadata": {},
   "source": [
    "## Data Analysis\n",
    "\n",
    "First, we need to analyze the data. It's a simple data analysis since we only have two usefull features: `beer_name` and `brewery_name`."
   ]
  },
  {
   "cell_type": "code",
   "execution_count": 2,
   "metadata": {
    "collapsed": true
   },
   "outputs": [],
   "source": [
    "# Datasets\n",
    "beerAdvocate_dataset = './data/beerAdv_beer_brewery.tsv'\n",
    "rateBeer_dataset = './data/rateBeer_beer_brewery.tsv'"
   ]
  },
  {
   "cell_type": "code",
   "execution_count": 3,
   "metadata": {
    "collapsed": true
   },
   "outputs": [],
   "source": [
    "columns = ['beer_id', 'beer_name', 'brewery_id', 'brewery_name']"
   ]
  },
  {
   "cell_type": "code",
   "execution_count": 4,
   "metadata": {
    "collapsed": false
   },
   "outputs": [],
   "source": [
    "# Load the dataset with pandas\n",
    "beerAdvocate = pd.read_table(beerAdvocate_dataset, header=None)\n",
    "beerAdvocate.columns = columns\n",
    "rateBeer = pd.read_table(rateBeer_dataset, header=None)\n",
    "rateBeer.columns = columns"
   ]
  },
  {
   "cell_type": "markdown",
   "metadata": {},
   "source": [
    "Print the two datasets"
   ]
  },
  {
   "cell_type": "code",
   "execution_count": 5,
   "metadata": {
    "collapsed": false
   },
   "outputs": [
    {
     "data": {
      "text/html": [
       "<div>\n",
       "<table border=\"1\" class=\"dataframe\">\n",
       "  <thead>\n",
       "    <tr style=\"text-align: right;\">\n",
       "      <th></th>\n",
       "      <th>beer_id</th>\n",
       "      <th>beer_name</th>\n",
       "      <th>brewery_id</th>\n",
       "      <th>brewery_name</th>\n",
       "    </tr>\n",
       "  </thead>\n",
       "  <tbody>\n",
       "    <tr>\n",
       "      <th>0</th>\n",
       "      <td>14348</td>\n",
       "      <td>Eisbrau Czech</td>\n",
       "      <td>1</td>\n",
       "      <td>Plzensky Prazdroj, a. s.</td>\n",
       "    </tr>\n",
       "    <tr>\n",
       "      <th>1</th>\n",
       "      <td>19099</td>\n",
       "      <td>Primus</td>\n",
       "      <td>1</td>\n",
       "      <td>Plzensky Prazdroj, a. s.</td>\n",
       "    </tr>\n",
       "    <tr>\n",
       "      <th>2</th>\n",
       "      <td>19123</td>\n",
       "      <td>Gambrinus Pale</td>\n",
       "      <td>1</td>\n",
       "      <td>Plzensky Prazdroj, a. s.</td>\n",
       "    </tr>\n",
       "    <tr>\n",
       "      <th>3</th>\n",
       "      <td>19274</td>\n",
       "      <td>Urutislav</td>\n",
       "      <td>1</td>\n",
       "      <td>Plzensky Prazdroj, a. s.</td>\n",
       "    </tr>\n",
       "    <tr>\n",
       "      <th>4</th>\n",
       "      <td>41294</td>\n",
       "      <td>Pilsner Urquell 3.5%</td>\n",
       "      <td>1</td>\n",
       "      <td>Plzensky Prazdroj, a. s.</td>\n",
       "    </tr>\n",
       "  </tbody>\n",
       "</table>\n",
       "</div>"
      ],
      "text/plain": [
       "   beer_id             beer_name  brewery_id              brewery_name\n",
       "0    14348         Eisbrau Czech           1  Plzensky Prazdroj, a. s.\n",
       "1    19099                Primus           1  Plzensky Prazdroj, a. s.\n",
       "2    19123        Gambrinus Pale           1  Plzensky Prazdroj, a. s.\n",
       "3    19274             Urutislav           1  Plzensky Prazdroj, a. s.\n",
       "4    41294  Pilsner Urquell 3.5%           1  Plzensky Prazdroj, a. s."
      ]
     },
     "execution_count": 5,
     "metadata": {},
     "output_type": "execute_result"
    }
   ],
   "source": [
    "beerAdvocate.head()"
   ]
  },
  {
   "cell_type": "code",
   "execution_count": 6,
   "metadata": {
    "collapsed": false,
    "scrolled": true
   },
   "outputs": [
    {
     "data": {
      "text/html": [
       "<div>\n",
       "<table border=\"1\" class=\"dataframe\">\n",
       "  <thead>\n",
       "    <tr style=\"text-align: right;\">\n",
       "      <th></th>\n",
       "      <th>beer_id</th>\n",
       "      <th>beer_name</th>\n",
       "      <th>brewery_id</th>\n",
       "      <th>brewery_name</th>\n",
       "    </tr>\n",
       "  </thead>\n",
       "  <tbody>\n",
       "    <tr>\n",
       "      <th>0</th>\n",
       "      <td>4</td>\n",
       "      <td>Abita Bock</td>\n",
       "      <td>1</td>\n",
       "      <td>Abita Brewing Company</td>\n",
       "    </tr>\n",
       "    <tr>\n",
       "      <th>1</th>\n",
       "      <td>10731</td>\n",
       "      <td>Abita Louisiana Red Ale</td>\n",
       "      <td>1</td>\n",
       "      <td>Abita Brewing Company</td>\n",
       "    </tr>\n",
       "    <tr>\n",
       "      <th>2</th>\n",
       "      <td>114065</td>\n",
       "      <td>Abita Select Pecan Brown Ale</td>\n",
       "      <td>1</td>\n",
       "      <td>Abita Brewing Company</td>\n",
       "    </tr>\n",
       "    <tr>\n",
       "      <th>3</th>\n",
       "      <td>114981</td>\n",
       "      <td>Abita Select Amber Ale</td>\n",
       "      <td>1</td>\n",
       "      <td>Abita Brewing Company</td>\n",
       "    </tr>\n",
       "    <tr>\n",
       "      <th>4</th>\n",
       "      <td>117017</td>\n",
       "      <td>Abita American Wheat</td>\n",
       "      <td>1</td>\n",
       "      <td>Abita Brewing Company</td>\n",
       "    </tr>\n",
       "  </tbody>\n",
       "</table>\n",
       "</div>"
      ],
      "text/plain": [
       "  beer_id                     beer_name brewery_id           brewery_name\n",
       "0       4                    Abita Bock          1  Abita Brewing Company\n",
       "1   10731       Abita Louisiana Red Ale          1  Abita Brewing Company\n",
       "2  114065  Abita Select Pecan Brown Ale          1  Abita Brewing Company\n",
       "3  114981        Abita Select Amber Ale          1  Abita Brewing Company\n",
       "4  117017          Abita American Wheat          1  Abita Brewing Company"
      ]
     },
     "execution_count": 6,
     "metadata": {},
     "output_type": "execute_result"
    }
   ],
   "source": [
    "rateBeer.head()"
   ]
  },
  {
   "cell_type": "markdown",
   "metadata": {},
   "source": [
    "We know that the ids will not be the same in both datasets. Therefore, we can just drop the columns."
   ]
  },
  {
   "cell_type": "code",
   "execution_count": 7,
   "metadata": {
    "collapsed": false
   },
   "outputs": [],
   "source": [
    "beerAdvocate = beerAdvocate.drop(['beer_id', 'brewery_id'], axis=1)\n",
    "rateBeer = rateBeer.drop(['beer_id', 'brewery_id'], axis=1)"
   ]
  },
  {
   "cell_type": "markdown",
   "metadata": {},
   "source": [
    "We just stop two minutes here. We can see a problem with the encoding of the file for *beerAdvocate*. "
   ]
  },
  {
   "cell_type": "code",
   "execution_count": 8,
   "metadata": {
    "collapsed": false
   },
   "outputs": [
    {
     "name": "stdout",
     "output_type": "stream",
     "text": [
      "Master PolotmavÃ½ 13Â°\n"
     ]
    }
   ],
   "source": [
    "name = beerAdvocate.ix[12].beer_name\n",
    "print(name)"
   ]
  },
  {
   "cell_type": "markdown",
   "metadata": {},
   "source": [
    "The encoding here is **latin_1**. Therefore, we can find the UTF-8 encoding by doing this:"
   ]
  },
  {
   "cell_type": "code",
   "execution_count": 9,
   "metadata": {
    "collapsed": false
   },
   "outputs": [
    {
     "name": "stdout",
     "output_type": "stream",
     "text": [
      "Master Polotmavý 13°\n"
     ]
    }
   ],
   "source": [
    "new_name = bytes(name,'latin_1').decode('utf-8')\n",
    "print(new_name)"
   ]
  },
  {
   "cell_type": "markdown",
   "metadata": {},
   "source": [
    "Let's do it everywhere for *beerAdvocate*!"
   ]
  },
  {
   "cell_type": "code",
   "execution_count": 10,
   "metadata": {
    "collapsed": true
   },
   "outputs": [],
   "source": [
    "def decode_from_latin_1(string):\n",
    "    try:\n",
    "        return bytes(string ,'latin_1').decode('utf-8')\n",
    "    except:\n",
    "        return string"
   ]
  },
  {
   "cell_type": "code",
   "execution_count": 11,
   "metadata": {
    "collapsed": false
   },
   "outputs": [],
   "source": [
    "for i in range(len(beerAdvocate)):\n",
    "    # Change the name of the beer\n",
    "    beerAdvocate.set_value(i, 'beer_name', decode_from_latin_1(beerAdvocate.ix[i].beer_name))\n",
    "    beerAdvocate.set_value(i, 'brewery_name', decode_from_latin_1(beerAdvocate.ix[i].brewery_name))\n"
   ]
  },
  {
   "cell_type": "code",
   "execution_count": 12,
   "metadata": {
    "collapsed": false
   },
   "outputs": [
    {
     "data": {
      "text/plain": [
       "'Master Polotmavý 13°'"
      ]
     },
     "execution_count": 12,
     "metadata": {},
     "output_type": "execute_result"
    }
   ],
   "source": [
    "beerAdvocate.ix[12].beer_name"
   ]
  },
  {
   "cell_type": "markdown",
   "metadata": {},
   "source": [
    "Let's print the number of entries in each dataset."
   ]
  },
  {
   "cell_type": "code",
   "execution_count": 13,
   "metadata": {
    "collapsed": false
   },
   "outputs": [
    {
     "name": "stdout",
     "output_type": "stream",
     "text": [
      "Number of rows in beerAdvocate: 66056\n",
      "Number of rows in rateBeer: 110359\n"
     ]
    }
   ],
   "source": [
    "print(\"Number of rows in beerAdvocate: %i\"%(len(beerAdvocate)))\n",
    "print(\"Number of rows in rateBeer: %i\"%(len(rateBeer)))"
   ]
  },
  {
   "cell_type": "markdown",
   "metadata": {},
   "source": [
    "Let's check the number of **unique** beers to see if it matches the number of rows in the dataset."
   ]
  },
  {
   "cell_type": "code",
   "execution_count": 14,
   "metadata": {
    "collapsed": false
   },
   "outputs": [
    {
     "name": "stdout",
     "output_type": "stream",
     "text": [
      "Number of unique beers in beerAdvocate: 56855\n",
      "Number of unique beers in rateBeer: 110302\n"
     ]
    }
   ],
   "source": [
    "unique_beers_beerAdvocate = beerAdvocate.beer_name.unique()\n",
    "unique_beers_rateBeer = rateBeer.beer_name.unique()\n",
    "\n",
    "print(\"Number of unique beers in beerAdvocate: %i\"%(len(unique_beers_beerAdvocate)))\n",
    "print(\"Number of unique beers in rateBeer: %i\"%(len(unique_beers_rateBeer)))"
   ]
  },
  {
   "cell_type": "markdown",
   "metadata": {},
   "source": [
    "It's already interesting to see that some beers have the same name in both datasets. Let's take one of them and see if they have the same `brewery_name`."
   ]
  },
  {
   "cell_type": "code",
   "execution_count": 15,
   "metadata": {
    "collapsed": false
   },
   "outputs": [
    {
     "name": "stdout",
     "output_type": "stream",
     "text": [
      "Number of duplicated beer names in beerAdvocate: 2707\n",
      "Number of duplicated beer names in rateBeer: 55\n"
     ]
    }
   ],
   "source": [
    "duplicated_beers_beerAdvocate = beerAdvocate[beerAdvocate.beer_name.duplicated()].beer_name.unique()\n",
    "duplicated_beers_rateBeer = rateBeer[rateBeer.beer_name.duplicated()].beer_name.unique()\n",
    "\n",
    "print(\"Number of duplicated beer names in beerAdvocate: %i\"%(len(duplicated_beers_beerAdvocate)))\n",
    "print(\"Number of duplicated beer names in rateBeer: %i\"%(len(duplicated_beers_rateBeer)))"
   ]
  },
  {
   "cell_type": "code",
   "execution_count": 16,
   "metadata": {
    "collapsed": false
   },
   "outputs": [],
   "source": [
    "dup_beer_dup_brewery = []\n",
    "\n",
    "# Create list of tuples. \n",
    "#   First entry is the name of the duplicated beer\n",
    "#   Second entry is the list of Brewery that is duplicated\n",
    "#   Third entry is the list of indices to remove them easily.\n",
    "for dup_beer in duplicated_beers_beerAdvocate:\n",
    "    subdf = beerAdvocate[beerAdvocate.beer_name == dup_beer]\n",
    "    if any(subdf.brewery_name.duplicated()):\n",
    "        dup_beer_dup_brewery.append((dup_beer, list(subdf[subdf.brewery_name.duplicated()][\"brewery_name\"]), list(subdf[subdf.brewery_name.duplicated()].index)))"
   ]
  },
  {
   "cell_type": "code",
   "execution_count": 17,
   "metadata": {
    "collapsed": false,
    "scrolled": true
   },
   "outputs": [
    {
     "name": "stdout",
     "output_type": "stream",
     "text": [
      "Number of beers with duplicated brewery in beerAdvocate: 286\n"
     ]
    }
   ],
   "source": [
    "print(\"Number of beers with duplicated brewery in beerAdvocate: %i\"%(len(dup_beer_dup_brewery)))"
   ]
  },
  {
   "cell_type": "markdown",
   "metadata": {},
   "source": [
    "Just check how the function `duplicated` works. For example, if we have two times the same brewery, this means that we would have 3 times the same beer and the same brewery in the data set."
   ]
  },
  {
   "cell_type": "code",
   "execution_count": 18,
   "metadata": {
    "collapsed": false
   },
   "outputs": [
    {
     "data": {
      "text/plain": [
       "('Saison',\n",
       " ['Triumph Brewing Company', 'Triumph Brewing Company'],\n",
       " [22563, 43875])"
      ]
     },
     "execution_count": 18,
     "metadata": {},
     "output_type": "execute_result"
    }
   ],
   "source": [
    "dup_beer_dup_brewery[3]"
   ]
  },
  {
   "cell_type": "code",
   "execution_count": 19,
   "metadata": {
    "collapsed": false,
    "scrolled": true
   },
   "outputs": [
    {
     "data": {
      "text/html": [
       "<div>\n",
       "<table border=\"1\" class=\"dataframe\">\n",
       "  <thead>\n",
       "    <tr style=\"text-align: right;\">\n",
       "      <th></th>\n",
       "      <th>beer_name</th>\n",
       "      <th>brewery_name</th>\n",
       "    </tr>\n",
       "  </thead>\n",
       "  <tbody>\n",
       "    <tr>\n",
       "      <th>17881</th>\n",
       "      <td>Saison</td>\n",
       "      <td>Triumph Brewing Company</td>\n",
       "    </tr>\n",
       "    <tr>\n",
       "      <th>22563</th>\n",
       "      <td>Saison</td>\n",
       "      <td>Triumph Brewing Company</td>\n",
       "    </tr>\n",
       "    <tr>\n",
       "      <th>43875</th>\n",
       "      <td>Saison</td>\n",
       "      <td>Triumph Brewing Company</td>\n",
       "    </tr>\n",
       "  </tbody>\n",
       "</table>\n",
       "</div>"
      ],
      "text/plain": [
       "      beer_name             brewery_name\n",
       "17881    Saison  Triumph Brewing Company\n",
       "22563    Saison  Triumph Brewing Company\n",
       "43875    Saison  Triumph Brewing Company"
      ]
     },
     "execution_count": 19,
     "metadata": {},
     "output_type": "execute_result"
    }
   ],
   "source": [
    "beerAdvocate[(beerAdvocate.beer_name == \"Saison\") & (beerAdvocate.brewery_name == \"Triumph Brewing Company\")]"
   ]
  },
  {
   "cell_type": "markdown",
   "metadata": {},
   "source": [
    "Verfied. Therefore, we can just remove the indices."
   ]
  },
  {
   "cell_type": "code",
   "execution_count": 20,
   "metadata": {
    "collapsed": false
   },
   "outputs": [],
   "source": [
    "indices_to_remove = []\n",
    "for i in range(len(dup_beer_dup_brewery)):\n",
    "    indices_to_remove.extend(dup_beer_dup_brewery[i][2])"
   ]
  },
  {
   "cell_type": "code",
   "execution_count": 21,
   "metadata": {
    "collapsed": false
   },
   "outputs": [
    {
     "data": {
      "text/html": [
       "<div>\n",
       "<table border=\"1\" class=\"dataframe\">\n",
       "  <thead>\n",
       "    <tr style=\"text-align: right;\">\n",
       "      <th></th>\n",
       "      <th>beer_name</th>\n",
       "      <th>brewery_name</th>\n",
       "    </tr>\n",
       "  </thead>\n",
       "  <tbody>\n",
       "    <tr>\n",
       "      <th>65668</th>\n",
       "      <td>Foster's Gold</td>\n",
       "      <td>Foster's Group Limited</td>\n",
       "    </tr>\n",
       "    <tr>\n",
       "      <th>65669</th>\n",
       "      <td>Foster's Special Bitter</td>\n",
       "      <td>Foster's Group Limited</td>\n",
       "    </tr>\n",
       "    <tr>\n",
       "      <th>65670</th>\n",
       "      <td>Foster's Lager</td>\n",
       "      <td>Foster's Group Limited</td>\n",
       "    </tr>\n",
       "    <tr>\n",
       "      <th>65671</th>\n",
       "      <td>Hefe Weissbier</td>\n",
       "      <td>Bayerische Löwenbrauerei</td>\n",
       "    </tr>\n",
       "    <tr>\n",
       "      <th>65672</th>\n",
       "      <td>Hefeweissbier Dunkel</td>\n",
       "      <td>Bayerische Löwenbrauerei</td>\n",
       "    </tr>\n",
       "  </tbody>\n",
       "</table>\n",
       "</div>"
      ],
      "text/plain": [
       "                     beer_name              brewery_name\n",
       "65668            Foster's Gold    Foster's Group Limited\n",
       "65669  Foster's Special Bitter    Foster's Group Limited\n",
       "65670           Foster's Lager    Foster's Group Limited\n",
       "65671           Hefe Weissbier  Bayerische Löwenbrauerei\n",
       "65672     Hefeweissbier Dunkel  Bayerische Löwenbrauerei"
      ]
     },
     "execution_count": 21,
     "metadata": {},
     "output_type": "execute_result"
    }
   ],
   "source": [
    "# Remove the indices in the dataset\n",
    "beerAdvocate = beerAdvocate.drop(indices_to_remove, axis=0)\n",
    "beerAdvocate.index = range(len(beerAdvocate))\n",
    "beerAdvocate.tail()"
   ]
  },
  {
   "cell_type": "markdown",
   "metadata": {},
   "source": [
    "Now, we need to the same for the rateBeer dataset."
   ]
  },
  {
   "cell_type": "code",
   "execution_count": 22,
   "metadata": {
    "collapsed": true
   },
   "outputs": [],
   "source": [
    "dup_beer_dup_brewery = []\n",
    "\n",
    "# Create list of tuples. \n",
    "#   First entry is the name of the duplicated beer\n",
    "#   Second entry is the list of Brewery that is duplicated\n",
    "#   Third entry is the list of indices to remove them easily.\n",
    "for dup_beer in duplicated_beers_rateBeer:\n",
    "    subdf = rateBeer[rateBeer.beer_name == dup_beer]\n",
    "    if any(subdf.brewery_name.duplicated()):\n",
    "        dup_beer_dup_brewery.append((dup_beer, list(subdf[subdf.brewery_name.duplicated()][\"brewery_name\"]), list(subdf[subdf.brewery_name.duplicated()].index)))"
   ]
  },
  {
   "cell_type": "code",
   "execution_count": 23,
   "metadata": {
    "collapsed": false
   },
   "outputs": [
    {
     "name": "stdout",
     "output_type": "stream",
     "text": [
      "Number of beers with duplicated brewery in beerRate: 4\n"
     ]
    }
   ],
   "source": [
    "print(\"Number of beers with duplicated brewery in beerRate: %i\"%(len(dup_beer_dup_brewery)))"
   ]
  },
  {
   "cell_type": "code",
   "execution_count": 24,
   "metadata": {
    "collapsed": false
   },
   "outputs": [
    {
     "data": {
      "text/plain": [
       "[('Traugott Simon Export', ['Udo Täubrich Betreuungs'], [9819]),\n",
       " ('Big Horn Saison',\n",
       "  ['Big Horn Brewing Company (Ram International)'],\n",
       "  [19577]),\n",
       " ('Yukon Lead Dog Ale', ['Yukon Brewing Company'], [37365]),\n",
       " ('Prison Brews Winter Ale', ['Prison Brews'], [77632])]"
      ]
     },
     "execution_count": 24,
     "metadata": {},
     "output_type": "execute_result"
    }
   ],
   "source": [
    "dup_beer_dup_brewery"
   ]
  },
  {
   "cell_type": "code",
   "execution_count": 25,
   "metadata": {
    "collapsed": true
   },
   "outputs": [],
   "source": [
    "indices_to_remove = []\n",
    "for i in range(len(dup_beer_dup_brewery)):\n",
    "    indices_to_remove.extend(dup_beer_dup_brewery[i][2])"
   ]
  },
  {
   "cell_type": "code",
   "execution_count": 26,
   "metadata": {
    "collapsed": false
   },
   "outputs": [
    {
     "data": {
      "text/html": [
       "<div>\n",
       "<table border=\"1\" class=\"dataframe\">\n",
       "  <thead>\n",
       "    <tr style=\"text-align: right;\">\n",
       "      <th></th>\n",
       "      <th>beer_name</th>\n",
       "      <th>brewery_name</th>\n",
       "    </tr>\n",
       "  </thead>\n",
       "  <tbody>\n",
       "    <tr>\n",
       "      <th>110350</th>\n",
       "      <td>Jelling Bryghus Frode Fredegod</td>\n",
       "      <td>Jelling Bryghus</td>\n",
       "    </tr>\n",
       "    <tr>\n",
       "      <th>110351</th>\n",
       "      <td>Jelling Bryghus Poppo</td>\n",
       "      <td>Jelling Bryghus</td>\n",
       "    </tr>\n",
       "    <tr>\n",
       "      <th>110352</th>\n",
       "      <td>Jelling Bryghus Jelling Jól</td>\n",
       "      <td>Jelling Bryghus</td>\n",
       "    </tr>\n",
       "    <tr>\n",
       "      <th>110353</th>\n",
       "      <td>Jelling Bryghus Jalunki</td>\n",
       "      <td>Jelling Bryghus</td>\n",
       "    </tr>\n",
       "    <tr>\n",
       "      <th>110354</th>\n",
       "      <td>Jelling Bryghus Sildeglimt</td>\n",
       "      <td>Jelling Bryghus</td>\n",
       "    </tr>\n",
       "  </tbody>\n",
       "</table>\n",
       "</div>"
      ],
      "text/plain": [
       "                             beer_name     brewery_name\n",
       "110350  Jelling Bryghus Frode Fredegod  Jelling Bryghus\n",
       "110351           Jelling Bryghus Poppo  Jelling Bryghus\n",
       "110352     Jelling Bryghus Jelling Jól  Jelling Bryghus\n",
       "110353         Jelling Bryghus Jalunki  Jelling Bryghus\n",
       "110354      Jelling Bryghus Sildeglimt  Jelling Bryghus"
      ]
     },
     "execution_count": 26,
     "metadata": {},
     "output_type": "execute_result"
    }
   ],
   "source": [
    "# Remove the indices in the dataset\n",
    "rateBeer = rateBeer.drop(indices_to_remove, axis=0)\n",
    "rateBeer.index = range(len(rateBeer))\n",
    "rateBeer.tail()"
   ]
  },
  {
   "cell_type": "markdown",
   "metadata": {},
   "source": [
    "### Save the cleaned data set\n",
    "\n",
    "Now that the datasets are cleaned, we can save them in a CSV format."
   ]
  },
  {
   "cell_type": "code",
   "execution_count": 27,
   "metadata": {
    "collapsed": true
   },
   "outputs": [],
   "source": [
    "beerAdvocate.to_csv('./data/beerAdvocate_cleaned.csv', index=False)\n",
    "rateBeer.to_csv('./data/rateBeer_cleaned.csv', index=False)"
   ]
  },
  {
   "cell_type": "markdown",
   "metadata": {},
   "source": [
    "# Similarity\n",
    "\n",
    "** YOU CAN DIRECTLY START FROM HERE. NO NEED TO REDO THE CLEANING OF THE DATASETS! **\n",
    "\n",
    "Now, we want to match beers between the two different datasets. TO BE CONTINUED..."
   ]
  },
  {
   "cell_type": "code",
   "execution_count": 31,
   "metadata": {
    "collapsed": false
   },
   "outputs": [],
   "source": [
    "beerAdvocate = pd.read_csv('./data/beerAdvocate_cleaned.csv', encoding='latin_1')\n",
    "rateBeer = pd.read_csv('./data/rateBeer_cleaned.csv', encoding='latin_1')"
   ]
  },
  {
   "cell_type": "code",
   "execution_count": 33,
   "metadata": {
    "collapsed": false
   },
   "outputs": [
    {
     "data": {
      "text/html": [
       "<div>\n",
       "<table border=\"1\" class=\"dataframe\">\n",
       "  <thead>\n",
       "    <tr style=\"text-align: right;\">\n",
       "      <th></th>\n",
       "      <th>beer_name</th>\n",
       "      <th>brewery_name</th>\n",
       "    </tr>\n",
       "  </thead>\n",
       "  <tbody>\n",
       "    <tr>\n",
       "      <th>0</th>\n",
       "      <td>Eisbrau Czech</td>\n",
       "      <td>Plzensky Prazdroj, a. s.</td>\n",
       "    </tr>\n",
       "    <tr>\n",
       "      <th>1</th>\n",
       "      <td>Primus</td>\n",
       "      <td>Plzensky Prazdroj, a. s.</td>\n",
       "    </tr>\n",
       "    <tr>\n",
       "      <th>2</th>\n",
       "      <td>Gambrinus Pale</td>\n",
       "      <td>Plzensky Prazdroj, a. s.</td>\n",
       "    </tr>\n",
       "    <tr>\n",
       "      <th>3</th>\n",
       "      <td>Urutislav</td>\n",
       "      <td>Plzensky Prazdroj, a. s.</td>\n",
       "    </tr>\n",
       "    <tr>\n",
       "      <th>4</th>\n",
       "      <td>Pilsner Urquell 3.5%</td>\n",
       "      <td>Plzensky Prazdroj, a. s.</td>\n",
       "    </tr>\n",
       "    <tr>\n",
       "      <th>5</th>\n",
       "      <td>Pilsner Urquell</td>\n",
       "      <td>Plzensky Prazdroj, a. s.</td>\n",
       "    </tr>\n",
       "    <tr>\n",
       "      <th>6</th>\n",
       "      <td>Gambrinus Excelent (Gambrinus 11)</td>\n",
       "      <td>Plzensky Prazdroj, a. s.</td>\n",
       "    </tr>\n",
       "    <tr>\n",
       "      <th>7</th>\n",
       "      <td>Pilsner Urquell Kvasnicový (Unfiltered Yeast B...</td>\n",
       "      <td>Plzensky Prazdroj, a. s.</td>\n",
       "    </tr>\n",
       "    <tr>\n",
       "      <th>8</th>\n",
       "      <td>Gambrinus Svetly</td>\n",
       "      <td>Plzensky Prazdroj, a. s.</td>\n",
       "    </tr>\n",
       "    <tr>\n",
       "      <th>9</th>\n",
       "      <td>Gambrinus</td>\n",
       "      <td>Plzensky Prazdroj, a. s.</td>\n",
       "    </tr>\n",
       "    <tr>\n",
       "      <th>10</th>\n",
       "      <td>Master Zlatý 15°</td>\n",
       "      <td>Plzensky Prazdroj, a. s.</td>\n",
       "    </tr>\n",
       "    <tr>\n",
       "      <th>11</th>\n",
       "      <td>Master Tmavý 18°</td>\n",
       "      <td>Plzensky Prazdroj, a. s.</td>\n",
       "    </tr>\n",
       "    <tr>\n",
       "      <th>12</th>\n",
       "      <td>Master Polotmavý 13°</td>\n",
       "      <td>Plzensky Prazdroj, a. s.</td>\n",
       "    </tr>\n",
       "    <tr>\n",
       "      <th>13</th>\n",
       "      <td>Dr Johnson's Definitive</td>\n",
       "      <td>Whim Ales</td>\n",
       "    </tr>\n",
       "    <tr>\n",
       "      <th>14</th>\n",
       "      <td>Snow White</td>\n",
       "      <td>Whim Ales</td>\n",
       "    </tr>\n",
       "  </tbody>\n",
       "</table>\n",
       "</div>"
      ],
      "text/plain": [
       "                                            beer_name  \\\n",
       "0                                       Eisbrau Czech   \n",
       "1                                              Primus   \n",
       "2                                      Gambrinus Pale   \n",
       "3                                           Urutislav   \n",
       "4                                Pilsner Urquell 3.5%   \n",
       "5                                     Pilsner Urquell   \n",
       "6                   Gambrinus Excelent (Gambrinus 11)   \n",
       "7   Pilsner Urquell Kvasnicový (Unfiltered Yeast B...   \n",
       "8                                    Gambrinus Svetly   \n",
       "9                                           Gambrinus   \n",
       "10                                   Master Zlatý 15°   \n",
       "11                                   Master Tmavý 18°   \n",
       "12                               Master Polotmavý 13°   \n",
       "13                            Dr Johnson's Definitive   \n",
       "14                                         Snow White   \n",
       "\n",
       "                brewery_name  \n",
       "0   Plzensky Prazdroj, a. s.  \n",
       "1   Plzensky Prazdroj, a. s.  \n",
       "2   Plzensky Prazdroj, a. s.  \n",
       "3   Plzensky Prazdroj, a. s.  \n",
       "4   Plzensky Prazdroj, a. s.  \n",
       "5   Plzensky Prazdroj, a. s.  \n",
       "6   Plzensky Prazdroj, a. s.  \n",
       "7   Plzensky Prazdroj, a. s.  \n",
       "8   Plzensky Prazdroj, a. s.  \n",
       "9   Plzensky Prazdroj, a. s.  \n",
       "10  Plzensky Prazdroj, a. s.  \n",
       "11  Plzensky Prazdroj, a. s.  \n",
       "12  Plzensky Prazdroj, a. s.  \n",
       "13                 Whim Ales  \n",
       "14                 Whim Ales  "
      ]
     },
     "execution_count": 33,
     "metadata": {},
     "output_type": "execute_result"
    }
   ],
   "source": [
    "beerAdvocate.head(15)"
   ]
  },
  {
   "cell_type": "code",
   "execution_count": 34,
   "metadata": {
    "collapsed": false
   },
   "outputs": [
    {
     "data": {
      "text/html": [
       "<div>\n",
       "<table border=\"1\" class=\"dataframe\">\n",
       "  <thead>\n",
       "    <tr style=\"text-align: right;\">\n",
       "      <th></th>\n",
       "      <th>beer_name</th>\n",
       "      <th>brewery_name</th>\n",
       "    </tr>\n",
       "  </thead>\n",
       "  <tbody>\n",
       "    <tr>\n",
       "      <th>0</th>\n",
       "      <td>Abita Bock</td>\n",
       "      <td>Abita Brewing Company</td>\n",
       "    </tr>\n",
       "    <tr>\n",
       "      <th>1</th>\n",
       "      <td>Abita Louisiana Red Ale</td>\n",
       "      <td>Abita Brewing Company</td>\n",
       "    </tr>\n",
       "    <tr>\n",
       "      <th>2</th>\n",
       "      <td>Abita Select Pecan Brown Ale</td>\n",
       "      <td>Abita Brewing Company</td>\n",
       "    </tr>\n",
       "    <tr>\n",
       "      <th>3</th>\n",
       "      <td>Abita Select Amber Ale</td>\n",
       "      <td>Abita Brewing Company</td>\n",
       "    </tr>\n",
       "    <tr>\n",
       "      <th>4</th>\n",
       "      <td>Abita American Wheat</td>\n",
       "      <td>Abita Brewing Company</td>\n",
       "    </tr>\n",
       "    <tr>\n",
       "      <th>5</th>\n",
       "      <td>Abita Select Imperial Stout</td>\n",
       "      <td>Abita Brewing Company</td>\n",
       "    </tr>\n",
       "    <tr>\n",
       "      <th>6</th>\n",
       "      <td>Abita Select Double IPA</td>\n",
       "      <td>Abita Brewing Company</td>\n",
       "    </tr>\n",
       "    <tr>\n",
       "      <th>7</th>\n",
       "      <td>Abita Select Weizenbock</td>\n",
       "      <td>Abita Brewing Company</td>\n",
       "    </tr>\n",
       "    <tr>\n",
       "      <th>8</th>\n",
       "      <td>Abita Select Imperial Kolsch</td>\n",
       "      <td>Abita Brewing Company</td>\n",
       "    </tr>\n",
       "    <tr>\n",
       "      <th>9</th>\n",
       "      <td>Abita SOS (Save Our Shore)</td>\n",
       "      <td>Abita Brewing Company</td>\n",
       "    </tr>\n",
       "    <tr>\n",
       "      <th>10</th>\n",
       "      <td>Abita Wheat</td>\n",
       "      <td>Abita Brewing Company</td>\n",
       "    </tr>\n",
       "    <tr>\n",
       "      <th>11</th>\n",
       "      <td>Abita Select Extra Extra Strong Bitter (ESB2)</td>\n",
       "      <td>Abita Brewing Company</td>\n",
       "    </tr>\n",
       "    <tr>\n",
       "      <th>12</th>\n",
       "      <td>Abita Select Double Rye Pale Ale</td>\n",
       "      <td>Abita Brewing Company</td>\n",
       "    </tr>\n",
       "    <tr>\n",
       "      <th>13</th>\n",
       "      <td>Abita Select Vanilla Porter</td>\n",
       "      <td>Abita Brewing Company</td>\n",
       "    </tr>\n",
       "    <tr>\n",
       "      <th>14</th>\n",
       "      <td>Abita Select Black IPA</td>\n",
       "      <td>Abita Brewing Company</td>\n",
       "    </tr>\n",
       "  </tbody>\n",
       "</table>\n",
       "</div>"
      ],
      "text/plain": [
       "                                        beer_name           brewery_name\n",
       "0                                      Abita Bock  Abita Brewing Company\n",
       "1                         Abita Louisiana Red Ale  Abita Brewing Company\n",
       "2                    Abita Select Pecan Brown Ale  Abita Brewing Company\n",
       "3                          Abita Select Amber Ale  Abita Brewing Company\n",
       "4                            Abita American Wheat  Abita Brewing Company\n",
       "5                     Abita Select Imperial Stout  Abita Brewing Company\n",
       "6                         Abita Select Double IPA  Abita Brewing Company\n",
       "7                         Abita Select Weizenbock  Abita Brewing Company\n",
       "8                    Abita Select Imperial Kolsch  Abita Brewing Company\n",
       "9                      Abita SOS (Save Our Shore)  Abita Brewing Company\n",
       "10                                    Abita Wheat  Abita Brewing Company\n",
       "11  Abita Select Extra Extra Strong Bitter (ESB2)  Abita Brewing Company\n",
       "12               Abita Select Double Rye Pale Ale  Abita Brewing Company\n",
       "13                    Abita Select Vanilla Porter  Abita Brewing Company\n",
       "14                         Abita Select Black IPA  Abita Brewing Company"
      ]
     },
     "execution_count": 34,
     "metadata": {},
     "output_type": "execute_result"
    }
   ],
   "source": [
    "rateBeer.head(15)"
   ]
  },
  {
   "cell_type": "code",
   "execution_count": null,
   "metadata": {
    "collapsed": true
   },
   "outputs": [],
   "source": []
  }
 ],
 "metadata": {
  "anaconda-cloud": {},
  "kernelspec": {
   "display_name": "Python [conda root]",
   "language": "python",
   "name": "conda-root-py"
  },
  "language_info": {
   "codemirror_mode": {
    "name": "ipython",
    "version": 3
   },
   "file_extension": ".py",
   "mimetype": "text/x-python",
   "name": "python",
   "nbconvert_exporter": "python",
   "pygments_lexer": "ipython3",
   "version": "3.5.2"
  }
 },
 "nbformat": 4,
 "nbformat_minor": 1
}
