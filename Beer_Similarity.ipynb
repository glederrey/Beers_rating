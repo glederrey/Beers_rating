{
 "cells": [
  {
   "cell_type": "markdown",
   "metadata": {},
   "source": [
    "# Introduction\n",
    "\n",
    "In this notebook, we want to study the two datasets in `beerAdv_beer_brewery.tsv` and in `rateBeer_beer_brewery.tsv`. The columns of these datasets are like this:\n",
    "\n",
    "              beer_id ¦ beer_name ¦ brewery_id ¦ brewery_name\n",
    "            \n",
    "The idea of this notebook is to create a similarity measure in order to find the same elements in both these datasets. Once we have this similarity measure, we want to find the limit X such that:\n",
    "- All pairs with a similarity value of $X' > X$ are considered as the same beer\n",
    "- All pairs with a similarity value of $X'' < X$ are not taken into account.\n",
    "\n",
    "In order to achieve this, this notebook is composed of three parts. The first part is some sort of simple Data Analysis. Then there will be the creation of the pairs and the similarity value. Finally the part to find the best value $X$.\n",
    "\n",
    "## Table of contents\n",
    "\n",
    "1. [Data Analysis](#data_analysis)\n",
    "2. [Similarity Measure](#similarity)\n",
    "3. [Matching the beers](#matching) \n",
    "\n",
    "Each parts is separated. Therefore, you don't have to run the previous parts in order to run a specific part."
   ]
  },
  {
   "cell_type": "code",
   "execution_count": 163,
   "metadata": {
    "collapsed": false
   },
   "outputs": [],
   "source": [
    "# Usefule imports\n",
    "import pandas as pd\n",
    "import numpy as np\n",
    "import codecs\n",
    "from IPython.display import HTML\n",
    "import matplotlib.pyplot as plt\n",
    "import unicodedata\n",
    "import random\n",
    "\n",
    "from fuzzywuzzy import fuzz\n",
    "import multiprocessing\n",
    "from joblib import Parallel, delayed\n",
    "import pickle\n",
    "\n",
    "# For the Pyth§on notebook\n",
    "%matplotlib inline\n",
    "%reload_ext autoreload\n",
    "%autoreload 2"
   ]
  },
  {
   "cell_type": "markdown",
   "metadata": {},
   "source": [
    "<a id='data_analysis'></a>\n",
    "\n",
    "## Data Analysis\n",
    "\n",
    "First, we need to analyze the data. It's a simple data analysis since we only have two usefull features: `beer_name` and `brewery_name`."
   ]
  },
  {
   "cell_type": "code",
   "execution_count": 2,
   "metadata": {
    "collapsed": true
   },
   "outputs": [],
   "source": [
    "# Datasets\n",
    "beerAdvocate_dataset = './data/beerAdv_beer_brewery.tsv'\n",
    "rateBeer_dataset = './data/rateBeer_beer_brewery.tsv'"
   ]
  },
  {
   "cell_type": "code",
   "execution_count": 3,
   "metadata": {
    "collapsed": true
   },
   "outputs": [],
   "source": [
    "columns = ['beer_id', 'beer_name', 'brewery_id', 'brewery_name']"
   ]
  },
  {
   "cell_type": "code",
   "execution_count": 4,
   "metadata": {
    "collapsed": false
   },
   "outputs": [],
   "source": [
    "# Load the dataset with pandas\n",
    "beerAdvocate = pd.read_table(beerAdvocate_dataset, header=None)\n",
    "beerAdvocate.columns = columns\n",
    "rateBeer = pd.read_table(rateBeer_dataset, header=None, encoding='utf-8')\n",
    "rateBeer.columns = columns"
   ]
  },
  {
   "cell_type": "markdown",
   "metadata": {},
   "source": [
    "Print the two datasets"
   ]
  },
  {
   "cell_type": "code",
   "execution_count": 5,
   "metadata": {
    "collapsed": false
   },
   "outputs": [
    {
     "data": {
      "text/html": [
       "<div>\n",
       "<table border=\"1\" class=\"dataframe\">\n",
       "  <thead>\n",
       "    <tr style=\"text-align: right;\">\n",
       "      <th></th>\n",
       "      <th>beer_id</th>\n",
       "      <th>beer_name</th>\n",
       "      <th>brewery_id</th>\n",
       "      <th>brewery_name</th>\n",
       "    </tr>\n",
       "  </thead>\n",
       "  <tbody>\n",
       "    <tr>\n",
       "      <th>0</th>\n",
       "      <td>14348</td>\n",
       "      <td>Eisbrau Czech</td>\n",
       "      <td>1</td>\n",
       "      <td>Plzensky Prazdroj, a. s.</td>\n",
       "    </tr>\n",
       "    <tr>\n",
       "      <th>1</th>\n",
       "      <td>19099</td>\n",
       "      <td>Primus</td>\n",
       "      <td>1</td>\n",
       "      <td>Plzensky Prazdroj, a. s.</td>\n",
       "    </tr>\n",
       "    <tr>\n",
       "      <th>2</th>\n",
       "      <td>19123</td>\n",
       "      <td>Gambrinus Pale</td>\n",
       "      <td>1</td>\n",
       "      <td>Plzensky Prazdroj, a. s.</td>\n",
       "    </tr>\n",
       "    <tr>\n",
       "      <th>3</th>\n",
       "      <td>19274</td>\n",
       "      <td>Urutislav</td>\n",
       "      <td>1</td>\n",
       "      <td>Plzensky Prazdroj, a. s.</td>\n",
       "    </tr>\n",
       "    <tr>\n",
       "      <th>4</th>\n",
       "      <td>41294</td>\n",
       "      <td>Pilsner Urquell 3.5%</td>\n",
       "      <td>1</td>\n",
       "      <td>Plzensky Prazdroj, a. s.</td>\n",
       "    </tr>\n",
       "  </tbody>\n",
       "</table>\n",
       "</div>"
      ],
      "text/plain": [
       "   beer_id             beer_name  brewery_id              brewery_name\n",
       "0    14348         Eisbrau Czech           1  Plzensky Prazdroj, a. s.\n",
       "1    19099                Primus           1  Plzensky Prazdroj, a. s.\n",
       "2    19123        Gambrinus Pale           1  Plzensky Prazdroj, a. s.\n",
       "3    19274             Urutislav           1  Plzensky Prazdroj, a. s.\n",
       "4    41294  Pilsner Urquell 3.5%           1  Plzensky Prazdroj, a. s."
      ]
     },
     "execution_count": 5,
     "metadata": {},
     "output_type": "execute_result"
    }
   ],
   "source": [
    "beerAdvocate.head()"
   ]
  },
  {
   "cell_type": "code",
   "execution_count": 6,
   "metadata": {
    "collapsed": false,
    "scrolled": false
   },
   "outputs": [
    {
     "data": {
      "text/html": [
       "<div>\n",
       "<table border=\"1\" class=\"dataframe\">\n",
       "  <thead>\n",
       "    <tr style=\"text-align: right;\">\n",
       "      <th></th>\n",
       "      <th>beer_id</th>\n",
       "      <th>beer_name</th>\n",
       "      <th>brewery_id</th>\n",
       "      <th>brewery_name</th>\n",
       "    </tr>\n",
       "  </thead>\n",
       "  <tbody>\n",
       "    <tr>\n",
       "      <th>0</th>\n",
       "      <td>4</td>\n",
       "      <td>Abita Bock</td>\n",
       "      <td>1</td>\n",
       "      <td>Abita Brewing Company</td>\n",
       "    </tr>\n",
       "    <tr>\n",
       "      <th>1</th>\n",
       "      <td>10731</td>\n",
       "      <td>Abita Louisiana Red Ale</td>\n",
       "      <td>1</td>\n",
       "      <td>Abita Brewing Company</td>\n",
       "    </tr>\n",
       "    <tr>\n",
       "      <th>2</th>\n",
       "      <td>114065</td>\n",
       "      <td>Abita Select Pecan Brown Ale</td>\n",
       "      <td>1</td>\n",
       "      <td>Abita Brewing Company</td>\n",
       "    </tr>\n",
       "    <tr>\n",
       "      <th>3</th>\n",
       "      <td>114981</td>\n",
       "      <td>Abita Select Amber Ale</td>\n",
       "      <td>1</td>\n",
       "      <td>Abita Brewing Company</td>\n",
       "    </tr>\n",
       "    <tr>\n",
       "      <th>4</th>\n",
       "      <td>117017</td>\n",
       "      <td>Abita American Wheat</td>\n",
       "      <td>1</td>\n",
       "      <td>Abita Brewing Company</td>\n",
       "    </tr>\n",
       "  </tbody>\n",
       "</table>\n",
       "</div>"
      ],
      "text/plain": [
       "   beer_id                     beer_name  brewery_id           brewery_name\n",
       "0        4                    Abita Bock           1  Abita Brewing Company\n",
       "1    10731       Abita Louisiana Red Ale           1  Abita Brewing Company\n",
       "2   114065  Abita Select Pecan Brown Ale           1  Abita Brewing Company\n",
       "3   114981        Abita Select Amber Ale           1  Abita Brewing Company\n",
       "4   117017          Abita American Wheat           1  Abita Brewing Company"
      ]
     },
     "execution_count": 6,
     "metadata": {},
     "output_type": "execute_result"
    }
   ],
   "source": [
    "rateBeer.head()"
   ]
  },
  {
   "cell_type": "markdown",
   "metadata": {},
   "source": [
    "We just stop two minutes here. We can see a problem with the encoding of the file for *beerAdvocate*. "
   ]
  },
  {
   "cell_type": "code",
   "execution_count": 7,
   "metadata": {
    "collapsed": false
   },
   "outputs": [
    {
     "name": "stdout",
     "output_type": "stream",
     "text": [
      "Master PolotmavÃ½ 13Â°\n"
     ]
    }
   ],
   "source": [
    "name = beerAdvocate.ix[12].beer_name\n",
    "print(name)"
   ]
  },
  {
   "cell_type": "markdown",
   "metadata": {},
   "source": [
    "The encoding here is **latin_1**. Therefore, we can find the UTF-8 encoding by doing this:"
   ]
  },
  {
   "cell_type": "code",
   "execution_count": 8,
   "metadata": {
    "collapsed": false
   },
   "outputs": [
    {
     "name": "stdout",
     "output_type": "stream",
     "text": [
      "Master Polotmavý 13°\n"
     ]
    }
   ],
   "source": [
    "new_name = bytes(name,'latin_1').decode('utf-8')\n",
    "print(new_name)"
   ]
  },
  {
   "cell_type": "markdown",
   "metadata": {},
   "source": [
    "Let's do it everywhere for *beerAdvocate*!"
   ]
  },
  {
   "cell_type": "code",
   "execution_count": 9,
   "metadata": {
    "collapsed": true
   },
   "outputs": [],
   "source": [
    "def decode_from_latin_1(string):\n",
    "    try:\n",
    "        return bytes(string ,'latin_1').decode('utf-8')\n",
    "    except:\n",
    "        return string"
   ]
  },
  {
   "cell_type": "code",
   "execution_count": 10,
   "metadata": {
    "collapsed": false
   },
   "outputs": [],
   "source": [
    "for i in range(len(beerAdvocate)):\n",
    "    # Change the name of the beer\n",
    "    beerAdvocate.set_value(i, 'beer_name', decode_from_latin_1(beerAdvocate.ix[i].beer_name))\n",
    "    beerAdvocate.set_value(i, 'brewery_name', decode_from_latin_1(beerAdvocate.ix[i].brewery_name))\n"
   ]
  },
  {
   "cell_type": "code",
   "execution_count": 11,
   "metadata": {
    "collapsed": false
   },
   "outputs": [
    {
     "data": {
      "text/plain": [
       "'Master Polotmavý 13°'"
      ]
     },
     "execution_count": 11,
     "metadata": {},
     "output_type": "execute_result"
    }
   ],
   "source": [
    "beerAdvocate.ix[12].beer_name"
   ]
  },
  {
   "cell_type": "markdown",
   "metadata": {},
   "source": [
    "For string comparison, it is better to remove all the accents. You will see later that we are using a library called `fuzzywuzzy`. And if we compare two letters, one with accent and one without it won't work."
   ]
  },
  {
   "cell_type": "code",
   "execution_count": 12,
   "metadata": {
    "collapsed": false
   },
   "outputs": [
    {
     "data": {
      "text/plain": [
       "0"
      ]
     },
     "execution_count": 12,
     "metadata": {},
     "output_type": "execute_result"
    }
   ],
   "source": [
    "fuzz.ratio(\"é\", \"e\")"
   ]
  },
  {
   "cell_type": "markdown",
   "metadata": {},
   "source": [
    "So, let's remove all the accents in the datasets."
   ]
  },
  {
   "cell_type": "code",
   "execution_count": 13,
   "metadata": {
    "collapsed": true
   },
   "outputs": [],
   "source": [
    "def strip_accents(text):\n",
    "    \"\"\"\n",
    "    Strip accents from input String.\n",
    "\n",
    "    :param text: The input string.\n",
    "    :type text: String.\n",
    "\n",
    "    :returns: The processed String.\n",
    "    :rtype: String.\n",
    "    \"\"\"\n",
    "    try:\n",
    "        text = unicode(text, 'utf-8')\n",
    "    except NameError: # unicode is a default on python 3 \n",
    "        pass\n",
    "    text = unicodedata.normalize('NFD', text)\n",
    "    text = text.encode('ascii', 'ignore')\n",
    "    text = text.decode(\"utf-8\")\n",
    "    return str(text)"
   ]
  },
  {
   "cell_type": "code",
   "execution_count": 14,
   "metadata": {
    "collapsed": false
   },
   "outputs": [
    {
     "name": "stdout",
     "output_type": "stream",
     "text": [
      "Name with accents and weird char: Master Polotmavý 13°\n",
      "Name without accents and weird char: Master Polotmavy 13\n"
     ]
    }
   ],
   "source": [
    "print(\"Name with accents and weird char: %s\"%beerAdvocate.ix[12].beer_name)\n",
    "print(\"Name without accents and weird char: %s\"%strip_accents(beerAdvocate.ix[12].beer_name))"
   ]
  },
  {
   "cell_type": "markdown",
   "metadata": {},
   "source": [
    "The function `strip_accents` works pretty well. Let's apply it to all the elements in the two datasets."
   ]
  },
  {
   "cell_type": "code",
   "execution_count": 15,
   "metadata": {
    "collapsed": true
   },
   "outputs": [],
   "source": [
    "for i in range(len(beerAdvocate)):\n",
    "    # Change the name of the beer\n",
    "    beerAdvocate.set_value(i, 'beer_name', strip_accents(beerAdvocate.ix[i].beer_name))\n",
    "    beerAdvocate.set_value(i, 'brewery_name', strip_accents(beerAdvocate.ix[i].brewery_name))\n"
   ]
  },
  {
   "cell_type": "code",
   "execution_count": 16,
   "metadata": {
    "collapsed": true
   },
   "outputs": [],
   "source": [
    "for i in range(len(rateBeer)):\n",
    "    # Change the name of the beer\n",
    "    rateBeer.set_value(i, 'beer_name', strip_accents(rateBeer.ix[i].beer_name))\n",
    "    rateBeer.set_value(i, 'brewery_name', strip_accents(rateBeer.ix[i].brewery_name))\n"
   ]
  },
  {
   "cell_type": "markdown",
   "metadata": {},
   "source": [
    "Let's print the number of entries in each dataset."
   ]
  },
  {
   "cell_type": "code",
   "execution_count": 17,
   "metadata": {
    "collapsed": false
   },
   "outputs": [
    {
     "name": "stdout",
     "output_type": "stream",
     "text": [
      "Number of rows in beerAdvocate: 66056\n",
      "Number of rows in rateBeer: 110359\n"
     ]
    }
   ],
   "source": [
    "print(\"Number of rows in beerAdvocate: %i\"%(len(beerAdvocate)))\n",
    "print(\"Number of rows in rateBeer: %i\"%(len(rateBeer)))"
   ]
  },
  {
   "cell_type": "markdown",
   "metadata": {},
   "source": [
    "Let's check the number of **unique** beers to see if it matches the number of rows in the dataset."
   ]
  },
  {
   "cell_type": "code",
   "execution_count": 18,
   "metadata": {
    "collapsed": false
   },
   "outputs": [
    {
     "name": "stdout",
     "output_type": "stream",
     "text": [
      "Number of unique beers in beerAdvocate: 56814\n",
      "Number of unique beers in rateBeer: 110302\n"
     ]
    }
   ],
   "source": [
    "unique_beers_beerAdvocate = beerAdvocate.beer_name.unique()\n",
    "unique_beers_rateBeer = rateBeer.beer_name.unique()\n",
    "\n",
    "print(\"Number of unique beers in beerAdvocate: %i\"%(len(unique_beers_beerAdvocate)))\n",
    "print(\"Number of unique beers in rateBeer: %i\"%(len(unique_beers_rateBeer)))"
   ]
  },
  {
   "cell_type": "markdown",
   "metadata": {},
   "source": [
    "It's already interesting to see that some beers have the same name in both datasets. Let's take one of them and see if they have the same `brewery_name`."
   ]
  },
  {
   "cell_type": "code",
   "execution_count": 19,
   "metadata": {
    "collapsed": false
   },
   "outputs": [
    {
     "name": "stdout",
     "output_type": "stream",
     "text": [
      "Number of duplicated beer names in beerAdvocate: 2718\n",
      "Number of duplicated beer names in rateBeer: 55\n"
     ]
    }
   ],
   "source": [
    "duplicated_beers_beerAdvocate = beerAdvocate[beerAdvocate.beer_name.duplicated()].beer_name.unique()\n",
    "duplicated_beers_rateBeer = rateBeer[rateBeer.beer_name.duplicated()].beer_name.unique()\n",
    "\n",
    "print(\"Number of duplicated beer names in beerAdvocate: %i\"%(len(duplicated_beers_beerAdvocate)))\n",
    "print(\"Number of duplicated beer names in rateBeer: %i\"%(len(duplicated_beers_rateBeer)))"
   ]
  },
  {
   "cell_type": "code",
   "execution_count": 20,
   "metadata": {
    "collapsed": false
   },
   "outputs": [],
   "source": [
    "dup_beer_dup_brewery = []\n",
    "\n",
    "# Create list of tuples. \n",
    "#   First entry is the name of the duplicated beer\n",
    "#   Second entry is the list of Brewery that is duplicated\n",
    "#   Third entry is the list of indices to remove them easily.\n",
    "for dup_beer in duplicated_beers_beerAdvocate:\n",
    "    subdf = beerAdvocate[beerAdvocate.beer_name == dup_beer]\n",
    "    if any(subdf.brewery_name.duplicated()):\n",
    "        dup_beer_dup_brewery.append((dup_beer, list(subdf[subdf.brewery_name.duplicated()][\"brewery_name\"]), list(subdf[subdf.brewery_name.duplicated()].index)))"
   ]
  },
  {
   "cell_type": "code",
   "execution_count": 21,
   "metadata": {
    "collapsed": false,
    "scrolled": true
   },
   "outputs": [
    {
     "name": "stdout",
     "output_type": "stream",
     "text": [
      "Number of beers with duplicated brewery in beerAdvocate: 287\n"
     ]
    }
   ],
   "source": [
    "print(\"Number of beers with duplicated brewery in beerAdvocate: %i\"%(len(dup_beer_dup_brewery)))"
   ]
  },
  {
   "cell_type": "markdown",
   "metadata": {},
   "source": [
    "Just check how the function `duplicated` works. For example, if we have two times the same brewery, this means that we would have 3 times the same beer and the same brewery in the data set."
   ]
  },
  {
   "cell_type": "code",
   "execution_count": 22,
   "metadata": {
    "collapsed": false
   },
   "outputs": [
    {
     "data": {
      "text/plain": [
       "('Saison',\n",
       " ['Triumph Brewing Company', 'Triumph Brewing Company'],\n",
       " [22563, 43875])"
      ]
     },
     "execution_count": 22,
     "metadata": {},
     "output_type": "execute_result"
    }
   ],
   "source": [
    "dup_beer_dup_brewery[3]"
   ]
  },
  {
   "cell_type": "code",
   "execution_count": 23,
   "metadata": {
    "collapsed": false,
    "scrolled": false
   },
   "outputs": [
    {
     "data": {
      "text/html": [
       "<div>\n",
       "<table border=\"1\" class=\"dataframe\">\n",
       "  <thead>\n",
       "    <tr style=\"text-align: right;\">\n",
       "      <th></th>\n",
       "      <th>beer_id</th>\n",
       "      <th>beer_name</th>\n",
       "      <th>brewery_id</th>\n",
       "      <th>brewery_name</th>\n",
       "    </tr>\n",
       "  </thead>\n",
       "  <tbody>\n",
       "    <tr>\n",
       "      <th>17881</th>\n",
       "      <td>49387</td>\n",
       "      <td>Saison</td>\n",
       "      <td>1317</td>\n",
       "      <td>Triumph Brewing Company</td>\n",
       "    </tr>\n",
       "    <tr>\n",
       "      <th>22563</th>\n",
       "      <td>37383</td>\n",
       "      <td>Saison</td>\n",
       "      <td>15341</td>\n",
       "      <td>Triumph Brewing Company</td>\n",
       "    </tr>\n",
       "    <tr>\n",
       "      <th>43875</th>\n",
       "      <td>24385</td>\n",
       "      <td>Saison</td>\n",
       "      <td>4832</td>\n",
       "      <td>Triumph Brewing Company</td>\n",
       "    </tr>\n",
       "  </tbody>\n",
       "</table>\n",
       "</div>"
      ],
      "text/plain": [
       "       beer_id beer_name  brewery_id             brewery_name\n",
       "17881    49387    Saison        1317  Triumph Brewing Company\n",
       "22563    37383    Saison       15341  Triumph Brewing Company\n",
       "43875    24385    Saison        4832  Triumph Brewing Company"
      ]
     },
     "execution_count": 23,
     "metadata": {},
     "output_type": "execute_result"
    }
   ],
   "source": [
    "beerAdvocate[(beerAdvocate.beer_name == \"Saison\") & (beerAdvocate.brewery_name == \"Triumph Brewing Company\")]"
   ]
  },
  {
   "cell_type": "markdown",
   "metadata": {},
   "source": [
    "At this point, we imagine that the three entries are the same. But we directly see that the brewery_id is different. And if we go check the breweries on beerAdvocate, we see that the three Breweries are not at the same place but they have the same name. Therefore, we cannot say that these three beers are the same. In order to get a better similarity measure, we need to add a bit mopre information about the breweries and the beers. Here are the features we scrap from the websites:\n",
    "- For the brewery:\n",
    "    - The address\n",
    "- For the beer:\n",
    "    - The ABV (Alcohol by Volume)\n",
    "    - The Style\n",
    "\n",
    "At this point, we will not scrap the websites nor use other data. This will be done later in the project. Therefore, we just remove the duplicate indices."
   ]
  },
  {
   "cell_type": "code",
   "execution_count": 24,
   "metadata": {
    "collapsed": false
   },
   "outputs": [],
   "source": [
    "indices_to_remove = []\n",
    "for i in range(len(dup_beer_dup_brewery)):\n",
    "    indices_to_remove.extend(dup_beer_dup_brewery[i][2])"
   ]
  },
  {
   "cell_type": "code",
   "execution_count": 25,
   "metadata": {
    "collapsed": false
   },
   "outputs": [
    {
     "data": {
      "text/html": [
       "<div>\n",
       "<table border=\"1\" class=\"dataframe\">\n",
       "  <thead>\n",
       "    <tr style=\"text-align: right;\">\n",
       "      <th></th>\n",
       "      <th>beer_id</th>\n",
       "      <th>beer_name</th>\n",
       "      <th>brewery_id</th>\n",
       "      <th>brewery_name</th>\n",
       "    </tr>\n",
       "  </thead>\n",
       "  <tbody>\n",
       "    <tr>\n",
       "      <th>65667</th>\n",
       "      <td>76042</td>\n",
       "      <td>Foster's Gold</td>\n",
       "      <td>575</td>\n",
       "      <td>Foster's Group Limited</td>\n",
       "    </tr>\n",
       "    <tr>\n",
       "      <th>65668</th>\n",
       "      <td>917</td>\n",
       "      <td>Foster's Special Bitter</td>\n",
       "      <td>575</td>\n",
       "      <td>Foster's Group Limited</td>\n",
       "    </tr>\n",
       "    <tr>\n",
       "      <th>65669</th>\n",
       "      <td>918</td>\n",
       "      <td>Foster's Lager</td>\n",
       "      <td>575</td>\n",
       "      <td>Foster's Group Limited</td>\n",
       "    </tr>\n",
       "    <tr>\n",
       "      <th>65670</th>\n",
       "      <td>52642</td>\n",
       "      <td>Hefe Weissbier</td>\n",
       "      <td>5751</td>\n",
       "      <td>Bayerische Lowenbrauerei</td>\n",
       "    </tr>\n",
       "    <tr>\n",
       "      <th>65671</th>\n",
       "      <td>58058</td>\n",
       "      <td>Hefeweissbier Dunkel</td>\n",
       "      <td>5751</td>\n",
       "      <td>Bayerische Lowenbrauerei</td>\n",
       "    </tr>\n",
       "  </tbody>\n",
       "</table>\n",
       "</div>"
      ],
      "text/plain": [
       "       beer_id                beer_name  brewery_id              brewery_name\n",
       "65667    76042            Foster's Gold         575    Foster's Group Limited\n",
       "65668      917  Foster's Special Bitter         575    Foster's Group Limited\n",
       "65669      918           Foster's Lager         575    Foster's Group Limited\n",
       "65670    52642           Hefe Weissbier        5751  Bayerische Lowenbrauerei\n",
       "65671    58058     Hefeweissbier Dunkel        5751  Bayerische Lowenbrauerei"
      ]
     },
     "execution_count": 25,
     "metadata": {},
     "output_type": "execute_result"
    }
   ],
   "source": [
    "# Remove the indices in the dataset\n",
    "beerAdvocate = beerAdvocate.drop(indices_to_remove, axis=0)\n",
    "beerAdvocate.index = range(len(beerAdvocate))\n",
    "beerAdvocate.tail()"
   ]
  },
  {
   "cell_type": "markdown",
   "metadata": {},
   "source": [
    "Now, we need to the same for the rateBeer dataset."
   ]
  },
  {
   "cell_type": "code",
   "execution_count": 26,
   "metadata": {
    "collapsed": true
   },
   "outputs": [],
   "source": [
    "dup_beer_dup_brewery = []\n",
    "\n",
    "# Create list of tuples. \n",
    "#   First entry is the name of the duplicated beer\n",
    "#   Second entry is the list of Brewery that is duplicated\n",
    "#   Third entry is the list of indices to remove them easily.\n",
    "for dup_beer in duplicated_beers_rateBeer:\n",
    "    subdf = rateBeer[rateBeer.beer_name == dup_beer]\n",
    "    if any(subdf.brewery_name.duplicated()):\n",
    "        dup_beer_dup_brewery.append((dup_beer, list(subdf[subdf.brewery_name.duplicated()][\"brewery_name\"]), list(subdf[subdf.brewery_name.duplicated()].index)))"
   ]
  },
  {
   "cell_type": "code",
   "execution_count": 27,
   "metadata": {
    "collapsed": false
   },
   "outputs": [
    {
     "name": "stdout",
     "output_type": "stream",
     "text": [
      "Number of beers with duplicated brewery in beerRate: 4\n"
     ]
    }
   ],
   "source": [
    "print(\"Number of beers with duplicated brewery in beerRate: %i\"%(len(dup_beer_dup_brewery)))"
   ]
  },
  {
   "cell_type": "code",
   "execution_count": 28,
   "metadata": {
    "collapsed": false
   },
   "outputs": [
    {
     "data": {
      "text/plain": [
       "[('Traugott Simon Export', ['Udo Taubrich Betreuungs'], [9819]),\n",
       " ('Big Horn Saison',\n",
       "  ['Big Horn Brewing Company (Ram International)'],\n",
       "  [19577]),\n",
       " ('Yukon Lead Dog Ale', ['Yukon Brewing Company'], [37365]),\n",
       " ('Prison Brews Winter Ale', ['Prison Brews'], [77632])]"
      ]
     },
     "execution_count": 28,
     "metadata": {},
     "output_type": "execute_result"
    }
   ],
   "source": [
    "dup_beer_dup_brewery"
   ]
  },
  {
   "cell_type": "code",
   "execution_count": 29,
   "metadata": {
    "collapsed": true
   },
   "outputs": [],
   "source": [
    "indices_to_remove = []\n",
    "for i in range(len(dup_beer_dup_brewery)):\n",
    "    indices_to_remove.extend(dup_beer_dup_brewery[i][2])"
   ]
  },
  {
   "cell_type": "code",
   "execution_count": 30,
   "metadata": {
    "collapsed": false
   },
   "outputs": [
    {
     "data": {
      "text/html": [
       "<div>\n",
       "<table border=\"1\" class=\"dataframe\">\n",
       "  <thead>\n",
       "    <tr style=\"text-align: right;\">\n",
       "      <th></th>\n",
       "      <th>beer_id</th>\n",
       "      <th>beer_name</th>\n",
       "      <th>brewery_id</th>\n",
       "      <th>brewery_name</th>\n",
       "    </tr>\n",
       "  </thead>\n",
       "  <tbody>\n",
       "    <tr>\n",
       "      <th>110350</th>\n",
       "      <td>77397</td>\n",
       "      <td>Jelling Bryghus Frode Fredegod</td>\n",
       "      <td>8804</td>\n",
       "      <td>Jelling Bryghus</td>\n",
       "    </tr>\n",
       "    <tr>\n",
       "      <th>110351</th>\n",
       "      <td>77398</td>\n",
       "      <td>Jelling Bryghus Poppo</td>\n",
       "      <td>8804</td>\n",
       "      <td>Jelling Bryghus</td>\n",
       "    </tr>\n",
       "    <tr>\n",
       "      <th>110352</th>\n",
       "      <td>77399</td>\n",
       "      <td>Jelling Bryghus Jelling Jol</td>\n",
       "      <td>8804</td>\n",
       "      <td>Jelling Bryghus</td>\n",
       "    </tr>\n",
       "    <tr>\n",
       "      <th>110353</th>\n",
       "      <td>89887</td>\n",
       "      <td>Jelling Bryghus Jalunki</td>\n",
       "      <td>8804</td>\n",
       "      <td>Jelling Bryghus</td>\n",
       "    </tr>\n",
       "    <tr>\n",
       "      <th>110354</th>\n",
       "      <td>97191</td>\n",
       "      <td>Jelling Bryghus Sildeglimt</td>\n",
       "      <td>8804</td>\n",
       "      <td>Jelling Bryghus</td>\n",
       "    </tr>\n",
       "  </tbody>\n",
       "</table>\n",
       "</div>"
      ],
      "text/plain": [
       "        beer_id                       beer_name  brewery_id     brewery_name\n",
       "110350    77397  Jelling Bryghus Frode Fredegod        8804  Jelling Bryghus\n",
       "110351    77398           Jelling Bryghus Poppo        8804  Jelling Bryghus\n",
       "110352    77399     Jelling Bryghus Jelling Jol        8804  Jelling Bryghus\n",
       "110353    89887         Jelling Bryghus Jalunki        8804  Jelling Bryghus\n",
       "110354    97191      Jelling Bryghus Sildeglimt        8804  Jelling Bryghus"
      ]
     },
     "execution_count": 30,
     "metadata": {},
     "output_type": "execute_result"
    }
   ],
   "source": [
    "# Remove the indices in the dataset\n",
    "rateBeer = rateBeer.drop(indices_to_remove, axis=0)\n",
    "rateBeer.index = range(len(rateBeer))\n",
    "rateBeer.tail()"
   ]
  },
  {
   "cell_type": "markdown",
   "metadata": {},
   "source": [
    "### Save the cleaned data set\n",
    "\n",
    "Now that the datasets are cleaned, we can save them in a CSV format."
   ]
  },
  {
   "cell_type": "code",
   "execution_count": 31,
   "metadata": {
    "collapsed": false
   },
   "outputs": [],
   "source": [
    "beerAdvocate.to_csv('./data/beerAdvocate_cleaned.csv', index=False, encoding='utf-8')\n",
    "rateBeer.to_csv('./data/rateBeer_cleaned.csv', index=False, encoding='utf-8')"
   ]
  },
  {
   "cell_type": "markdown",
   "metadata": {},
   "source": [
    "<a id='similarity'></a>\n",
    "# Similarity\n",
    "\n",
    "In this part, we want to create a similarity measure of the beers between the two datasets. Ideally, we would create a matrix of size $N\\times M$, $N$ being the size of *RateBeer* dataset and $M$ being the size of *BeerAdvocate* dataset. But given the size of the two datasets, it's not possible. Therefore, the similarity function given [here](#sim_func) will return the five most similar objects. "
   ]
  },
  {
   "cell_type": "code",
   "execution_count": 32,
   "metadata": {
    "collapsed": false
   },
   "outputs": [],
   "source": [
    "# Read the cleaned datasets\n",
    "beerAdvocate = pd.read_csv('./data/beerAdvocate_cleaned.csv', dtype=str)\n",
    "rateBeer = pd.read_csv('./data/rateBeer_cleaned.csv', dtype=str)"
   ]
  },
  {
   "cell_type": "code",
   "execution_count": 33,
   "metadata": {
    "collapsed": false
   },
   "outputs": [
    {
     "data": {
      "text/html": [
       "<div>\n",
       "<table border=\"1\" class=\"dataframe\">\n",
       "  <thead>\n",
       "    <tr style=\"text-align: right;\">\n",
       "      <th></th>\n",
       "      <th>beer_id</th>\n",
       "      <th>beer_name</th>\n",
       "      <th>brewery_id</th>\n",
       "      <th>brewery_name</th>\n",
       "    </tr>\n",
       "  </thead>\n",
       "  <tbody>\n",
       "    <tr>\n",
       "      <th>0</th>\n",
       "      <td>14348</td>\n",
       "      <td>Eisbrau Czech</td>\n",
       "      <td>1</td>\n",
       "      <td>Plzensky Prazdroj, a. s.</td>\n",
       "    </tr>\n",
       "    <tr>\n",
       "      <th>1</th>\n",
       "      <td>19099</td>\n",
       "      <td>Primus</td>\n",
       "      <td>1</td>\n",
       "      <td>Plzensky Prazdroj, a. s.</td>\n",
       "    </tr>\n",
       "    <tr>\n",
       "      <th>2</th>\n",
       "      <td>19123</td>\n",
       "      <td>Gambrinus Pale</td>\n",
       "      <td>1</td>\n",
       "      <td>Plzensky Prazdroj, a. s.</td>\n",
       "    </tr>\n",
       "    <tr>\n",
       "      <th>3</th>\n",
       "      <td>19274</td>\n",
       "      <td>Urutislav</td>\n",
       "      <td>1</td>\n",
       "      <td>Plzensky Prazdroj, a. s.</td>\n",
       "    </tr>\n",
       "    <tr>\n",
       "      <th>4</th>\n",
       "      <td>41294</td>\n",
       "      <td>Pilsner Urquell 3.5%</td>\n",
       "      <td>1</td>\n",
       "      <td>Plzensky Prazdroj, a. s.</td>\n",
       "    </tr>\n",
       "  </tbody>\n",
       "</table>\n",
       "</div>"
      ],
      "text/plain": [
       "  beer_id             beer_name brewery_id              brewery_name\n",
       "0   14348         Eisbrau Czech          1  Plzensky Prazdroj, a. s.\n",
       "1   19099                Primus          1  Plzensky Prazdroj, a. s.\n",
       "2   19123        Gambrinus Pale          1  Plzensky Prazdroj, a. s.\n",
       "3   19274             Urutislav          1  Plzensky Prazdroj, a. s.\n",
       "4   41294  Pilsner Urquell 3.5%          1  Plzensky Prazdroj, a. s."
      ]
     },
     "execution_count": 33,
     "metadata": {},
     "output_type": "execute_result"
    }
   ],
   "source": [
    "beerAdvocate.head()"
   ]
  },
  {
   "cell_type": "code",
   "execution_count": 34,
   "metadata": {
    "collapsed": false,
    "scrolled": false
   },
   "outputs": [
    {
     "data": {
      "text/html": [
       "<div>\n",
       "<table border=\"1\" class=\"dataframe\">\n",
       "  <thead>\n",
       "    <tr style=\"text-align: right;\">\n",
       "      <th></th>\n",
       "      <th>beer_id</th>\n",
       "      <th>beer_name</th>\n",
       "      <th>brewery_id</th>\n",
       "      <th>brewery_name</th>\n",
       "    </tr>\n",
       "  </thead>\n",
       "  <tbody>\n",
       "    <tr>\n",
       "      <th>0</th>\n",
       "      <td>4</td>\n",
       "      <td>Abita Bock</td>\n",
       "      <td>1</td>\n",
       "      <td>Abita Brewing Company</td>\n",
       "    </tr>\n",
       "    <tr>\n",
       "      <th>1</th>\n",
       "      <td>10731</td>\n",
       "      <td>Abita Louisiana Red Ale</td>\n",
       "      <td>1</td>\n",
       "      <td>Abita Brewing Company</td>\n",
       "    </tr>\n",
       "    <tr>\n",
       "      <th>2</th>\n",
       "      <td>114065</td>\n",
       "      <td>Abita Select Pecan Brown Ale</td>\n",
       "      <td>1</td>\n",
       "      <td>Abita Brewing Company</td>\n",
       "    </tr>\n",
       "    <tr>\n",
       "      <th>3</th>\n",
       "      <td>114981</td>\n",
       "      <td>Abita Select Amber Ale</td>\n",
       "      <td>1</td>\n",
       "      <td>Abita Brewing Company</td>\n",
       "    </tr>\n",
       "    <tr>\n",
       "      <th>4</th>\n",
       "      <td>117017</td>\n",
       "      <td>Abita American Wheat</td>\n",
       "      <td>1</td>\n",
       "      <td>Abita Brewing Company</td>\n",
       "    </tr>\n",
       "  </tbody>\n",
       "</table>\n",
       "</div>"
      ],
      "text/plain": [
       "  beer_id                     beer_name brewery_id           brewery_name\n",
       "0       4                    Abita Bock          1  Abita Brewing Company\n",
       "1   10731       Abita Louisiana Red Ale          1  Abita Brewing Company\n",
       "2  114065  Abita Select Pecan Brown Ale          1  Abita Brewing Company\n",
       "3  114981        Abita Select Amber Ale          1  Abita Brewing Company\n",
       "4  117017          Abita American Wheat          1  Abita Brewing Company"
      ]
     },
     "execution_count": 34,
     "metadata": {},
     "output_type": "execute_result"
    }
   ],
   "source": [
    "rateBeer.head()"
   ]
  },
  {
   "cell_type": "code",
   "execution_count": 35,
   "metadata": {
    "collapsed": false
   },
   "outputs": [],
   "source": [
    "unique_rateBeer_breweries = rateBeer.brewery_name.unique()"
   ]
  },
  {
   "cell_type": "markdown",
   "metadata": {},
   "source": [
    "<a id='sim_func'></a>\n",
    "## Similarity measure\n",
    "\n",
    "The similarity measure has been thought to be the most efficient possible. Instead of computing the whole matrix of similarities, we compute the similarities using the two features separately. This function takes a line of the *beerAdvocate* dataset and test it against the *rateBeer* dataset.\n",
    "\n",
    "First, we start with the `brewery_name`. Indeed, it is possible to have beers with the same name but with different brewery. If it's the case, we cannot consider that they are the same. Therefore, we simply get the most similar `brewery_name` in the *rateBeer* dataset to the given entry of the *beerAdvocate* dataset. Then, we compute the similarity of the `beer_name` between the beers of the most similar brewery in *rateBeer* and the entry of the *beerAdvocate* dataset.\n",
    "\n",
    "To compute the similarities, we use the library [fuzzywuzzy](https://github.com/seatgeek/fuzzywuzzy). For the `brewery_name`, it's enough to use the function `token_set_ratio`. But for the beer, it's a little more complex due to all kind of changes in the name. First, we use the function `token_set_ratio`. Then, given if the name of the beer is a unique \"generic\" name or not, we use the function `ratio` or `partial_ratio` respectively. This helps to remove the elements matching together just by tokens.\n"
   ]
  },
  {
   "cell_type": "code",
   "execution_count": 74,
   "metadata": {
    "collapsed": true
   },
   "outputs": [],
   "source": [
    "def get_most_similar_brewery(brewery_test):\n",
    "    \"\"\"\n",
    "        Return the most similar brewery in the dataset rateBeer given\n",
    "        a brewery name in the beerAdvocate dataset.\n",
    "        \n",
    "        INPUT:\n",
    "            brewery_test: String of a brewery name in the beerAdvocate dataset\n",
    "            \n",
    "        OUTPUT:\n",
    "            brewery_sim: Similarity value between the brewery in the beerAdvocate dataset\n",
    "                         and the most similar brewery name in the rateBeer dataset\n",
    "                         \n",
    "            idx_best_match_brewery: Index to get the name of the brewery in the rateBeer dataset\n",
    "            \n",
    "    \n",
    "    \"\"\"\n",
    "    # Similarity of brewery_name\n",
    "    brewery_sim = np.zeros(len(unique_rateBeer_breweries))\n",
    "    for i in range(len(unique_rateBeer_breweries)):\n",
    "        brewery_sim[i] = fuzz.token_set_ratio(brewery_test, unique_rateBeer_breweries[i])/100.0\n",
    "        \n",
    "    # Get the best match\n",
    "    idx_best_match_brewery = np.argmax(brewery_sim)\n",
    "    brewery_sim = np.max(brewery_sim) \n",
    "    \n",
    "    return brewery_sim, idx_best_match_brewery\n",
    "\n",
    "def similarity_between_beers(beer_test, beers_name_beerRate):\n",
    "    \"\"\"\n",
    "        Return the list of similarity values between the beer_test from the \n",
    "        beerAdvocate dataset and a set of beers in the rateBeer dataset.\n",
    "        \n",
    "        INPUT:\n",
    "            beer_test: Name of an active beer in the beerAdvocate dataset\n",
    "            \n",
    "            beer_names_beerRate: List of beers name in the beerRate dataset\n",
    "            \n",
    "        OUTPUT:\n",
    "            beers_sim: List of similarities between the beer_test and the beers_name_beerRate\n",
    "    \n",
    "    \"\"\"\n",
    "    \n",
    "    N = len(beers_name_beerRate)\n",
    "\n",
    "    # Test the beers in previous list against beer from beerAdvocate\n",
    "    beers_sim = np.zeros(N)\n",
    "    for i in range(N):\n",
    "        # First test is done with the token_set_ratio\n",
    "        val1 = fuzz.token_set_ratio(beer_test, beers_name_beerRate[i])/100.0\n",
    "        \n",
    "        # Second test depends if the name of the beer_test has a space character.\n",
    "        # If it has a space character, a partial ratio works fine due to the possibility\n",
    "        # that the \"words\" can be swapped.\n",
    "        #\n",
    "        # If it doesn't have a space character, we need to be more strict, therefore using\n",
    "        # the ratio is better. We also add the condition that if the two names are not \n",
    "        # exactly the same, it means that the beer in beers_name_beerRate is composed\n",
    "        # of the generic name in beer_test plus some additional words => it's not the same\n",
    "        # beer. (Think about Heineken and Heinken white.)\n",
    "        \n",
    "        if \" \" in beer_test:\n",
    "            val2 = fuzz.partial_ratio(beer_test, beers_name_beerRate[i])/100.0\n",
    "        else:\n",
    "            val2 = fuzz.ratio(beer_test, beers_name_beerRate[i])/100.0\n",
    "            if val2 < 1.0:\n",
    "                val2 = val2/2.0\n",
    "\n",
    "        beers_sim[i] = val1*val2\n",
    "        \n",
    "    return beers_sim\n",
    "\n",
    "def tuple_matches(active_beer, beers_name, brewery_name, beers_sim, brewery_sim, nbr_match=5):\n",
    "    \"\"\"\n",
    "        Return a list of tuples of size number_matches with the most similar beers to the \n",
    "        test beer.\n",
    "        \n",
    "        INPUT:\n",
    "            active_beer: Name of the beer in the beerAdvocate dataset\n",
    "            \n",
    "            beer_names: List of beers name in the beerRate dataset\n",
    "            \n",
    "            breweri_name: Name of the brewery in the beerRate dataset that \n",
    "                          has the highest similarity.\n",
    "                          \n",
    "            beers_sim: List of similarity values for the beers in the beerRate dataset\n",
    "            \n",
    "            brewery_sim: Similarity value of the most matching brewery.\n",
    "            \n",
    "            number_matches: Number of best matches to return. Default is 5.\n",
    "            \n",
    "        OUTPUT:\n",
    "            matches: List of tuples with the most matching beers to the active beer\n",
    "                     in the beerAdvocate dataset.\n",
    "    \n",
    "    \"\"\" \n",
    "    \n",
    "    N = len(beers_name)\n",
    "    \n",
    "    # Get the best similarities\n",
    "    best_idx = np.argsort(beers_sim)[::-1]\n",
    "    \n",
    "    if N < 5:\n",
    "        nbr_match = N\n",
    "    \n",
    "    # Get the 5 best matches and create a tuple\n",
    "    matches = []\n",
    "    for i in range(nbr_match):\n",
    "        matches.append((beers_name[best_idx[i]], brewery_name, beers_sim[best_idx[i]]*brewery_sim))\n",
    "                \n",
    "    ## Double check \n",
    "    # If the elements have the same best values, we sort them by the \n",
    "    # difference of length between the beer names. \n",
    "    # This problem comes from the tokenisation for the similarity\n",
    "    best_sim = matches[0][2]\n",
    "    idx = [0]\n",
    "    diff_length_beer_name = [abs(len(matches[0][0])-len(active_beer))]\n",
    "    for i in range(1,nbr_match):\n",
    "        if matches[i][2] == best_sim:\n",
    "            idx.append(i)\n",
    "            diff_length_beer_name.append(abs(len(matches[i][0])-len(active_beer)))\n",
    "            \n",
    "    best_idx = np.argsort(diff_length_beer_name)\n",
    "    idx = np.asarray(idx)\n",
    "    \n",
    "    matches = np.asarray(matches)\n",
    "    \n",
    "    matches[idx] = matches[best_idx]\n",
    "    \n",
    "    return matches"
   ]
  },
  {
   "cell_type": "code",
   "execution_count": 75,
   "metadata": {
    "collapsed": false
   },
   "outputs": [],
   "source": [
    "def similarity(test):\n",
    "    \"\"\"\n",
    "        Given a line in the beerAdvocate dataset, it returns a list of tuples containing the best matches in the \n",
    "        rateBeer dataset.\n",
    "        \n",
    "        INPUT:\n",
    "            test: A line in the beerAdvocate dataset\n",
    "            \n",
    "        OUTPUT:\n",
    "            matches: a list of tuples containing the best matches in the beerRate dataset to the INPUT line.\n",
    "    \"\"\"\n",
    "    # Get brewery and beer name from beerAdvocate\n",
    "    brewery = test.brewery_name.replace(\"'\", \"\")\n",
    "    beer = test.beer_name.replace(\"'\", \"\")\n",
    "    \n",
    "    # Get the brewery in rateBeer that matches best the active brewery in the \n",
    "    # beerAdvocate dataset\n",
    "    brewery_sim, idx_best_match_brewery = get_most_similar_brewery(brewery)    \n",
    "    \n",
    "    # List of beers in rateBeer with the brewery being the best match\n",
    "    beers_name_rateBeer = list(rateBeer[rateBeer.brewery_name == unique_rateBeer_breweries[idx_best_match_brewery]].beer_name)\n",
    "    \n",
    "    # Get the similarity values for all beers in beer_names\n",
    "    beers_sim = similarity_between_beers(beer, beers_name_rateBeer)\n",
    "            \n",
    "    # Get the best matches \n",
    "    matches = tuple_matches(beer, beers_name_rateBeer, unique_rateBeer_breweries[idx_best_match_brewery], beers_sim, brewery_sim)\n",
    "                \n",
    "    return matches"
   ]
  },
  {
   "cell_type": "markdown",
   "metadata": {},
   "source": [
    "We can test here the similarity measure on single line of the *beerAdvocate* dataset."
   ]
  },
  {
   "cell_type": "code",
   "execution_count": 76,
   "metadata": {
    "collapsed": false
   },
   "outputs": [
    {
     "name": "stdout",
     "output_type": "stream",
     "text": [
      "beer_id                               1814\n",
      "beer_name       McNeill's Pullman's Porter\n",
      "brewery_id                             100\n",
      "brewery_name             McNeill's Brewery\n",
      "Name: 32, dtype: object\n",
      "\n",
      "[['McNeills Pullmans Porter' 'McNeills Brewery' '1.0']\n",
      " ['McNeills Troll' 'McNeills Brewery' '0.5767']\n",
      " ['McNeills Dubbel' 'McNeills Brewery' '0.511']\n",
      " ['McNeills Pilsner' 'McNeills Brewery' '0.5025']\n",
      " ['McNeills Kolsch' 'McNeills Brewery' '0.469']]\n"
     ]
    }
   ],
   "source": [
    "bb=32\n",
    "print(beerAdvocate.ix[bb])\n",
    "print()\n",
    "print(similarity(beerAdvocate.ix[bb]))"
   ]
  },
  {
   "cell_type": "markdown",
   "metadata": {},
   "source": [
    "Prepare the Parallel implementation"
   ]
  },
  {
   "cell_type": "code",
   "execution_count": 77,
   "metadata": {
    "collapsed": false
   },
   "outputs": [
    {
     "data": {
      "text/plain": [
       "8"
      ]
     },
     "execution_count": 77,
     "metadata": {},
     "output_type": "execute_result"
    }
   ],
   "source": [
    "nbr_jobs = multiprocessing.cpu_count()\n",
    "nbr_jobs"
   ]
  },
  {
   "cell_type": "markdown",
   "metadata": {},
   "source": [
    "Compute the list of similarities. **Warning**: On a Intel i7-6820HK CPU with 4 cores and 8 threads, it took 45 minutes."
   ]
  },
  {
   "cell_type": "code",
   "execution_count": 78,
   "metadata": {
    "collapsed": false,
    "scrolled": true
   },
   "outputs": [
    {
     "name": "stdout",
     "output_type": "stream",
     "text": [
      "CPU times: user 49.6 s, sys: 1.7 s, total: 51.3 s\n",
      "Wall time: 44min 17s\n"
     ]
    }
   ],
   "source": [
    "%%time\n",
    "M = len(beerAdvocate)\n",
    "N = len(rateBeer)\n",
    "\n",
    "sim = Parallel(n_jobs=nbr_jobs)(delayed(similarity)(beerAdvocate.ix[idx]) for idx in range(M))"
   ]
  },
  {
   "cell_type": "markdown",
   "metadata": {},
   "source": [
    "Save the list as a pickle file."
   ]
  },
  {
   "cell_type": "code",
   "execution_count": 79,
   "metadata": {
    "collapsed": true
   },
   "outputs": [],
   "source": [
    "pickle.dump(sim, open('./data/similarity.pickle', \"wb\"))"
   ]
  },
  {
   "cell_type": "markdown",
   "metadata": {},
   "source": [
    "<a id='matching'></a>\n",
    "# Matching the beers\n",
    "\n",
    "Now, we want to match the beers together and create a new pandas DataFrame with the beers that are the same in the two datasets.\n",
    "\n",
    "First, we can load the pickle file. **Warning**: Don't forget to unzip it if you did not run the [similarity](#similarity) section."
   ]
  },
  {
   "cell_type": "code",
   "execution_count": 80,
   "metadata": {
    "collapsed": true
   },
   "outputs": [],
   "source": [
    "sim = pickle.load(open('./data/similarity.pickle', \"rb\"))"
   ]
  },
  {
   "cell_type": "markdown",
   "metadata": {},
   "source": [
    "Print an example of the `sim` vector."
   ]
  },
  {
   "cell_type": "code",
   "execution_count": 81,
   "metadata": {
    "collapsed": false
   },
   "outputs": [
    {
     "data": {
      "text/plain": [
       "array([['Gambrinus Svetly 10 (Desitka)', 'Plzensky Prazdroj (SABMiller)',\n",
       "        '0.89'],\n",
       "       ['Gambrinus Premium Svetly Le?ak 12',\n",
       "        'Plzensky Prazdroj (SABMiller)', '0.6141'],\n",
       "       ['Gambrinus Dry', 'Plzensky Prazdroj (SABMiller)', '0.561946'],\n",
       "       ['Gambrinus Bile', 'Plzensky Prazdroj (SABMiller)', '0.548418'],\n",
       "       ['Gambrinus Nefiltrovane Sv?tle', 'Plzensky Prazdroj (SABMiller)',\n",
       "        '0.4806']], \n",
       "      dtype='<U33')"
      ]
     },
     "execution_count": 81,
     "metadata": {},
     "output_type": "execute_result"
    }
   ],
   "source": [
    "sim[8]"
   ]
  },
  {
   "cell_type": "markdown",
   "metadata": {},
   "source": [
    "Here, we can choose to check the first and second (or even more) best matches. But after checking many different examples, we see that if we also use the second element it won't be better. Therefore, we simply want to create the array of best maching beers and breweries by taking the first element in the `sim` list."
   ]
  },
  {
   "cell_type": "code",
   "execution_count": 82,
   "metadata": {
    "collapsed": false
   },
   "outputs": [],
   "source": [
    "best_sim = np.zeros(len(sim))\n",
    "best_match_beer = []\n",
    "best_match_brewery = []"
   ]
  },
  {
   "cell_type": "code",
   "execution_count": 83,
   "metadata": {
    "collapsed": false
   },
   "outputs": [],
   "source": [
    "for i in range(len(sim)):\n",
    "    best_sim[i] = sim[i][0][2]\n",
    "    best_match_beer.append(sim[i][0][0])\n",
    "    best_match_brewery.append(sim[i][0][1])"
   ]
  },
  {
   "cell_type": "markdown",
   "metadata": {},
   "source": [
    "Create a new DataFrame."
   ]
  },
  {
   "cell_type": "code",
   "execution_count": 84,
   "metadata": {
    "collapsed": true
   },
   "outputs": [],
   "source": [
    "matching_beers = beerAdvocate.copy()"
   ]
  },
  {
   "cell_type": "code",
   "execution_count": 85,
   "metadata": {
    "collapsed": false
   },
   "outputs": [],
   "source": [
    "matching_beers.columns = [s + '_beerAdvocate' for s in matching_beers.columns]"
   ]
  },
  {
   "cell_type": "code",
   "execution_count": 86,
   "metadata": {
    "collapsed": true
   },
   "outputs": [],
   "source": [
    "matching_beers['beer_name_rateBeer'] = best_match_beer\n",
    "matching_beers['brewery_name_rateBeer'] = best_match_brewery\n",
    "matching_beers['similarity'] = best_sim"
   ]
  },
  {
   "cell_type": "code",
   "execution_count": 87,
   "metadata": {
    "collapsed": false,
    "scrolled": false
   },
   "outputs": [
    {
     "data": {
      "text/html": [
       "<div>\n",
       "<table border=\"1\" class=\"dataframe\">\n",
       "  <thead>\n",
       "    <tr style=\"text-align: right;\">\n",
       "      <th></th>\n",
       "      <th>beer_id_beerAdvocate</th>\n",
       "      <th>beer_name_beerAdvocate</th>\n",
       "      <th>brewery_id_beerAdvocate</th>\n",
       "      <th>brewery_name_beerAdvocate</th>\n",
       "      <th>beer_name_rateBeer</th>\n",
       "      <th>brewery_name_rateBeer</th>\n",
       "      <th>similarity</th>\n",
       "    </tr>\n",
       "  </thead>\n",
       "  <tbody>\n",
       "    <tr>\n",
       "      <th>0</th>\n",
       "      <td>14348</td>\n",
       "      <td>Eisbrau Czech</td>\n",
       "      <td>1</td>\n",
       "      <td>Plzensky Prazdroj, a. s.</td>\n",
       "      <td>Eisbrau Czech</td>\n",
       "      <td>Plzensky Prazdroj (SABMiller)</td>\n",
       "      <td>0.890000</td>\n",
       "    </tr>\n",
       "    <tr>\n",
       "      <th>1</th>\n",
       "      <td>19099</td>\n",
       "      <td>Primus</td>\n",
       "      <td>1</td>\n",
       "      <td>Plzensky Prazdroj, a. s.</td>\n",
       "      <td>Primus Sv&amp;#283tle (Pale)</td>\n",
       "      <td>Plzensky Prazdroj (SABMiller)</td>\n",
       "      <td>0.178000</td>\n",
       "    </tr>\n",
       "    <tr>\n",
       "      <th>2</th>\n",
       "      <td>19123</td>\n",
       "      <td>Gambrinus Pale</td>\n",
       "      <td>1</td>\n",
       "      <td>Plzensky Prazdroj, a. s.</td>\n",
       "      <td>Gambrinus Bile</td>\n",
       "      <td>Plzensky Prazdroj (SABMiller)</td>\n",
       "      <td>0.658244</td>\n",
       "    </tr>\n",
       "    <tr>\n",
       "      <th>3</th>\n",
       "      <td>19274</td>\n",
       "      <td>Urutislav</td>\n",
       "      <td>1</td>\n",
       "      <td>Plzensky Prazdroj, a. s.</td>\n",
       "      <td>Pilsner Urquell</td>\n",
       "      <td>Plzensky Prazdroj (SABMiller)</td>\n",
       "      <td>0.046992</td>\n",
       "    </tr>\n",
       "    <tr>\n",
       "      <th>4</th>\n",
       "      <td>41294</td>\n",
       "      <td>Pilsner Urquell 3.5%</td>\n",
       "      <td>1</td>\n",
       "      <td>Plzensky Prazdroj, a. s.</td>\n",
       "      <td>Pilsner Urquell 3.5%</td>\n",
       "      <td>Plzensky Prazdroj (SABMiller)</td>\n",
       "      <td>0.890000</td>\n",
       "    </tr>\n",
       "  </tbody>\n",
       "</table>\n",
       "</div>"
      ],
      "text/plain": [
       "  beer_id_beerAdvocate beer_name_beerAdvocate brewery_id_beerAdvocate  \\\n",
       "0                14348          Eisbrau Czech                       1   \n",
       "1                19099                 Primus                       1   \n",
       "2                19123         Gambrinus Pale                       1   \n",
       "3                19274              Urutislav                       1   \n",
       "4                41294   Pilsner Urquell 3.5%                       1   \n",
       "\n",
       "  brewery_name_beerAdvocate        beer_name_rateBeer  \\\n",
       "0  Plzensky Prazdroj, a. s.             Eisbrau Czech   \n",
       "1  Plzensky Prazdroj, a. s.  Primus Sv&#283tle (Pale)   \n",
       "2  Plzensky Prazdroj, a. s.            Gambrinus Bile   \n",
       "3  Plzensky Prazdroj, a. s.          Pilsner Urquell    \n",
       "4  Plzensky Prazdroj, a. s.      Pilsner Urquell 3.5%   \n",
       "\n",
       "           brewery_name_rateBeer  similarity  \n",
       "0  Plzensky Prazdroj (SABMiller)    0.890000  \n",
       "1  Plzensky Prazdroj (SABMiller)    0.178000  \n",
       "2  Plzensky Prazdroj (SABMiller)    0.658244  \n",
       "3  Plzensky Prazdroj (SABMiller)    0.046992  \n",
       "4  Plzensky Prazdroj (SABMiller)    0.890000  "
      ]
     },
     "execution_count": 87,
     "metadata": {},
     "output_type": "execute_result"
    }
   ],
   "source": [
    "matching_beers.head()\n"
   ]
  },
  {
   "cell_type": "markdown",
   "metadata": {},
   "source": [
    "Let's sort the DataFrame by the similarity value."
   ]
  },
  {
   "cell_type": "code",
   "execution_count": 106,
   "metadata": {
    "collapsed": false
   },
   "outputs": [],
   "source": [
    "matching_beers.sort_values(by='similarity', ascending=False, inplace=True)\n",
    "matching_beers.index = range(len(matching_beers))"
   ]
  },
  {
   "cell_type": "code",
   "execution_count": 107,
   "metadata": {
    "collapsed": false,
    "scrolled": true
   },
   "outputs": [
    {
     "data": {
      "text/plain": [
       "count    65672.000000\n",
       "mean         0.540447\n",
       "std          0.371982\n",
       "min          0.000000\n",
       "25%          0.174300\n",
       "50%          0.477400\n",
       "75%          1.000000\n",
       "max          1.000000\n",
       "Name: similarity, dtype: float64"
      ]
     },
     "execution_count": 107,
     "metadata": {},
     "output_type": "execute_result"
    }
   ],
   "source": [
    "matching_beers.similarity.describe()"
   ]
  },
  {
   "cell_type": "markdown",
   "metadata": {},
   "source": [
    "Let's plot the histogram of the similarity values."
   ]
  },
  {
   "cell_type": "code",
   "execution_count": 108,
   "metadata": {
    "collapsed": false,
    "scrolled": true
   },
   "outputs": [
    {
     "data": {
      "text/plain": [
       "<function matplotlib.pyplot.show>"
      ]
     },
     "execution_count": 108,
     "metadata": {},
     "output_type": "execute_result"
    },
    {
     "data": {
      "image/png": "[encoded data removed]",
      "text/plain": [
       "<matplotlib.figure.Figure at 0x7f11e32ff5f8>"
      ]
     },
     "metadata": {},
     "output_type": "display_data"
    }
   ],
   "source": [
    "plt.hist(list(matching_beers.similarity), 50)\n",
    "plt.xlabel('Similarity value')\n",
    "plt.ylabel('Number of entries')\n",
    "plt.show"
   ]
  },
  {
   "cell_type": "markdown",
   "metadata": {},
   "source": [
    "We plot it again but without the similarity equal to 1."
   ]
  },
  {
   "cell_type": "code",
   "execution_count": 109,
   "metadata": {
    "collapsed": false
   },
   "outputs": [
    {
     "data": {
      "text/plain": [
       "<function matplotlib.pyplot.show>"
      ]
     },
     "execution_count": 109,
     "metadata": {},
     "output_type": "execute_result"
    },
    {
     "data": {
      "image/png": "[encoded data removed]",
      "text/plain": [
       "<matplotlib.figure.Figure at 0x7f11e3d3e668>"
      ]
     },
     "metadata": {},
     "output_type": "display_data"
    }
   ],
   "source": [
    "plt.hist(list(matching_beers[matching_beers.similarity < 1].similarity), 50)\n",
    "plt.xlabel('Similarity value')\n",
    "plt.ylabel('Number of entries')\n",
    "plt.show"
   ]
  },
  {
   "cell_type": "markdown",
   "metadata": {},
   "source": [
    "This histogram is really interesting. We see that we have a lot of beers where the matching is really good. So, if we want to be sure with a very high probability that the beers are the same, then we can choose to take only the entries with a similarity value of 1. But we will loose some beers.\n",
    "\n",
    "In order to choose a good threshold value, we need to compute the recall. In order to compute it, we first manually labelled some matching as `True` for True positive and `False` as False positive. The first thing we need to do is to compute intervals (on the similarity values) such that the number of entries in each interval is the same."
   ]
  },
  {
   "cell_type": "code",
   "execution_count": 225,
   "metadata": {
    "collapsed": false
   },
   "outputs": [],
   "source": [
    "def intervals(matching_beers, nbr_intervals):\n",
    "    \"\"\"\n",
    "        Create intervals with same number of entries in each interval.\n",
    "        \n",
    "        The first interval is when the similarity is equal to 1. \n",
    "    \"\"\"\n",
    "    df_without_one = matching_beers[matching_beers.similarity < 1]\n",
    "    N = len(df_without_one)\n",
    "    \n",
    "    nbr_per_interval = round(N/nbr_intervals)\n",
    "    \n",
    "    sim_values = [1.0]\n",
    "    indices = [0]\n",
    "    \n",
    "    for i in range(nbr_intervals):\n",
    "        idx = df_without_one.index[i*nbr_per_interval]\n",
    "        indices.append(idx)\n",
    "        sim_values.append(df_without_one.similarity[idx])\n",
    "        \n",
    "    idx = df_without_one.index[-1]\n",
    "    indices.append(idx+1)\n",
    "    sim_values.append(df_without_one.similarity[idx])\n",
    "    \n",
    "    return indices, sim_values \n",
    "\n",
    "def pick_random_entries(dataframe, index_start, index_end, number_entries):\n",
    "    \"\"\n",
    "    list_random_index = random.sample(range(index_start, index_end), number_entries)\n",
    "    list_random_index.sort()\n",
    "    \n",
    "    random_entries = dataframe.ix[list_random_index][['beer_name_beerAdvocate', 'beer_name_rateBeer', 'brewery_name_beerAdvocate', 'brewery_name_rateBeer']]\n",
    "    \n",
    "    for i in random_entries.index:\n",
    "        print(i)\n",
    "    \n",
    "    return random_entries\n",
    "    "
   ]
  },
  {
   "cell_type": "code",
   "execution_count": 226,
   "metadata": {
    "collapsed": false
   },
   "outputs": [
    {
     "name": "stdout",
     "output_type": "stream",
     "text": [
      "[0, 17495, 19101, 20707, 22313, 23919, 25525, 27131, 28737, 30343, 31949, 33555, 35161, 36767, 38373, 39979, 41585, 43191, 44797, 46403, 48009, 49615, 51221, 52827, 54433, 56039, 57645, 59251, 60857, 62463, 64069, 65672]\n",
      "[1.0, 0.98999999999999999, 0.93000000000000005, 0.91180000000000005, 0.88, 0.81000000000000005, 0.75, 0.69420000000000004, 0.63959999999999995, 0.57620000000000005, 0.51600000000000001, 0.44968000000000002, 0.39483099999999999, 0.34999999999999998, 0.31781399999999999, 0.28999999999999998, 0.26500000000000001, 0.24360000000000001, 0.22259999999999999, 0.20335, 0.1862, 0.1711, 0.1575, 0.14422199999999999, 0.13147200000000001, 0.1188, 0.10607999999999999, 0.092450000000000004, 0.076787999999999995, 0.055759999999999997, 0.031433999999999997, 0.0]\n"
     ]
    }
   ],
   "source": [
    "indices, sim_values = intervals(matching_beers, 30)\n",
    "print(indices)\n",
    "print(sim_values)"
   ]
  },
  {
   "cell_type": "code",
   "execution_count": 229,
   "metadata": {
    "collapsed": false
   },
   "outputs": [
    {
     "name": "stdout",
     "output_type": "stream",
     "text": [
      "20789\n",
      "20831\n",
      "20921\n",
      "20961\n",
      "20969\n",
      "21034\n",
      "21043\n",
      "21054\n",
      "21095\n",
      "21119\n",
      "21162\n",
      "21164\n",
      "21276\n",
      "21292\n",
      "21359\n",
      "21506\n",
      "21546\n",
      "21793\n",
      "21800\n",
      "21967\n"
     ]
    },
    {
     "data": {
      "text/html": [
       "<div>\n",
       "<table border=\"1\" class=\"dataframe\">\n",
       "  <thead>\n",
       "    <tr style=\"text-align: right;\">\n",
       "      <th></th>\n",
       "      <th>beer_name_beerAdvocate</th>\n",
       "      <th>beer_name_rateBeer</th>\n",
       "      <th>brewery_name_beerAdvocate</th>\n",
       "      <th>brewery_name_rateBeer</th>\n",
       "    </tr>\n",
       "  </thead>\n",
       "  <tbody>\n",
       "    <tr>\n",
       "      <th>20789</th>\n",
       "      <td>Trip XI</td>\n",
       "      <td>New Belgium The Trip XI Farmhouse Ale (Rosemar...</td>\n",
       "      <td>Elysian Brewing Company</td>\n",
       "      <td>Elysian Brewing Co.</td>\n",
       "    </tr>\n",
       "    <tr>\n",
       "      <th>20831</th>\n",
       "      <td>Double Barrel Scotch Ale</td>\n",
       "      <td>Phillips Double Barrel Scotch Ale</td>\n",
       "      <td>Phillips Brewing Company</td>\n",
       "      <td>Phillips Brewing Co.</td>\n",
       "    </tr>\n",
       "    <tr>\n",
       "      <th>20921</th>\n",
       "      <td>Ramsgate Gadds No. 3</td>\n",
       "      <td>Gadds No 3</td>\n",
       "      <td>Ramsgate Brewery</td>\n",
       "      <td>Ramsgate</td>\n",
       "    </tr>\n",
       "    <tr>\n",
       "      <th>20961</th>\n",
       "      <td>D'Ham Ambree</td>\n",
       "      <td>Les Brasseurs du Hameau dHam Ambree</td>\n",
       "      <td>Les Brasseurs du Hameau</td>\n",
       "      <td>Les Brasseurs du Hameau</td>\n",
       "    </tr>\n",
       "    <tr>\n",
       "      <th>20969</th>\n",
       "      <td>Tram Marzen</td>\n",
       "      <td>Tram-Marzen</td>\n",
       "      <td>Altes Tramdepot</td>\n",
       "      <td>Altes Tramdepot</td>\n",
       "    </tr>\n",
       "    <tr>\n",
       "      <th>21034</th>\n",
       "      <td>Chilly Invierno</td>\n",
       "      <td>Freetail Chilly Invierno</td>\n",
       "      <td>Freetail Brewing Company</td>\n",
       "      <td>Freetail Brewing Co.</td>\n",
       "    </tr>\n",
       "    <tr>\n",
       "      <th>21043</th>\n",
       "      <td>Coffee Stout</td>\n",
       "      <td>Stewarts Coffee Stout</td>\n",
       "      <td>Stewart's Brewing Co.</td>\n",
       "      <td>Stewarts Brewing Company</td>\n",
       "    </tr>\n",
       "    <tr>\n",
       "      <th>21054</th>\n",
       "      <td>Grand Cru</td>\n",
       "      <td>Stewarts Belgian Sunset Grand Cru</td>\n",
       "      <td>Stewart's Brewing Co.</td>\n",
       "      <td>Stewarts Brewing Company</td>\n",
       "    </tr>\n",
       "    <tr>\n",
       "      <th>21095</th>\n",
       "      <td>Old Yale Pale Ale</td>\n",
       "      <td>Old Yale Pale Ale</td>\n",
       "      <td>Old Yale Brewing Company</td>\n",
       "      <td>Old Yale Brewing Co</td>\n",
       "    </tr>\n",
       "    <tr>\n",
       "      <th>21119</th>\n",
       "      <td>Ovation Oktoberfest</td>\n",
       "      <td>Lindens Ovation Oktoberfest</td>\n",
       "      <td>Lindens Brewing Co.</td>\n",
       "      <td>Lindens Brewing Company</td>\n",
       "    </tr>\n",
       "    <tr>\n",
       "      <th>21162</th>\n",
       "      <td>Munich Dunkel</td>\n",
       "      <td>Ferguson Munich Dunkel</td>\n",
       "      <td>Ferguson Brewing Co.</td>\n",
       "      <td>Ferguson Brewing Company</td>\n",
       "    </tr>\n",
       "    <tr>\n",
       "      <th>21164</th>\n",
       "      <td>Cambridge House ALT-45</td>\n",
       "      <td>The Cambridge House Alt-45</td>\n",
       "      <td>The Cambridge House</td>\n",
       "      <td>The Cambridge House</td>\n",
       "    </tr>\n",
       "    <tr>\n",
       "      <th>21276</th>\n",
       "      <td>McGuire's Octoberfest</td>\n",
       "      <td>McGuires Oktoberfest</td>\n",
       "      <td>McGuire's Irish Pub</td>\n",
       "      <td>McGuires Irish Pub &amp; Brewery</td>\n",
       "    </tr>\n",
       "    <tr>\n",
       "      <th>21292</th>\n",
       "      <td>Ringneck Cream Of Wheat</td>\n",
       "      <td>Ringneck Cream of Wheat</td>\n",
       "      <td>The Brew Kettle Taproom &amp; Smokehouse / Product...</td>\n",
       "      <td>The Brew Kettle/TBK Production Works</td>\n",
       "    </tr>\n",
       "    <tr>\n",
       "      <th>21359</th>\n",
       "      <td>Abita Select Double Rye Pale Ale</td>\n",
       "      <td>Abita Select Double Rye Pale Ale</td>\n",
       "      <td>Abita Brewing Co.</td>\n",
       "      <td>Abita Brewing Company</td>\n",
       "    </tr>\n",
       "    <tr>\n",
       "      <th>21506</th>\n",
       "      <td>Schans Blond Extra</td>\n",
       "      <td>Schans Blond</td>\n",
       "      <td>Bierbrouwerij De Schans</td>\n",
       "      <td>Brouwerij de Schans</td>\n",
       "    </tr>\n",
       "    <tr>\n",
       "      <th>21546</th>\n",
       "      <td>Wynona's Big Brown Ale</td>\n",
       "      <td>Voodoo Wynonas Big Brown Ale</td>\n",
       "      <td>Voodoo Brewing Company</td>\n",
       "      <td>Voodoo Brewing Co.</td>\n",
       "    </tr>\n",
       "    <tr>\n",
       "      <th>21793</th>\n",
       "      <td>Hard Cock Ale</td>\n",
       "      <td>Erie Brewing Hard Cock Ale</td>\n",
       "      <td>Erie Brewing Co.</td>\n",
       "      <td>Erie Brewing Company</td>\n",
       "    </tr>\n",
       "    <tr>\n",
       "      <th>21800</th>\n",
       "      <td>Misery Bay IPA</td>\n",
       "      <td>Erie Brewing Misery Bay IPA</td>\n",
       "      <td>Erie Brewing Co.</td>\n",
       "      <td>Erie Brewing Company</td>\n",
       "    </tr>\n",
       "    <tr>\n",
       "      <th>21967</th>\n",
       "      <td>Oregon Trail Wit</td>\n",
       "      <td>Oregon Trail Witbier</td>\n",
       "      <td>Oregon Trail Brewery</td>\n",
       "      <td>Oregon Trail Brewery</td>\n",
       "    </tr>\n",
       "  </tbody>\n",
       "</table>\n",
       "</div>"
      ],
      "text/plain": [
       "                 beer_name_beerAdvocate  \\\n",
       "20789                           Trip XI   \n",
       "20831          Double Barrel Scotch Ale   \n",
       "20921              Ramsgate Gadds No. 3   \n",
       "20961                      D'Ham Ambree   \n",
       "20969                       Tram Marzen   \n",
       "21034                   Chilly Invierno   \n",
       "21043                      Coffee Stout   \n",
       "21054                         Grand Cru   \n",
       "21095                 Old Yale Pale Ale   \n",
       "21119               Ovation Oktoberfest   \n",
       "21162                     Munich Dunkel   \n",
       "21164            Cambridge House ALT-45   \n",
       "21276             McGuire's Octoberfest   \n",
       "21292           Ringneck Cream Of Wheat   \n",
       "21359  Abita Select Double Rye Pale Ale   \n",
       "21506                Schans Blond Extra   \n",
       "21546            Wynona's Big Brown Ale   \n",
       "21793                     Hard Cock Ale   \n",
       "21800                    Misery Bay IPA   \n",
       "21967                  Oregon Trail Wit   \n",
       "\n",
       "                                      beer_name_rateBeer  \\\n",
       "20789  New Belgium The Trip XI Farmhouse Ale (Rosemar...   \n",
       "20831                  Phillips Double Barrel Scotch Ale   \n",
       "20921                                        Gadds No 3    \n",
       "20961                Les Brasseurs du Hameau dHam Ambree   \n",
       "20969                                        Tram-Marzen   \n",
       "21034                           Freetail Chilly Invierno   \n",
       "21043                              Stewarts Coffee Stout   \n",
       "21054                  Stewarts Belgian Sunset Grand Cru   \n",
       "21095                                  Old Yale Pale Ale   \n",
       "21119                        Lindens Ovation Oktoberfest   \n",
       "21162                             Ferguson Munich Dunkel   \n",
       "21164                         The Cambridge House Alt-45   \n",
       "21276                               McGuires Oktoberfest   \n",
       "21292                            Ringneck Cream of Wheat   \n",
       "21359                   Abita Select Double Rye Pale Ale   \n",
       "21506                                       Schans Blond   \n",
       "21546                       Voodoo Wynonas Big Brown Ale   \n",
       "21793                         Erie Brewing Hard Cock Ale   \n",
       "21800                        Erie Brewing Misery Bay IPA   \n",
       "21967                               Oregon Trail Witbier   \n",
       "\n",
       "                               brewery_name_beerAdvocate  \\\n",
       "20789                            Elysian Brewing Company   \n",
       "20831                           Phillips Brewing Company   \n",
       "20921                                   Ramsgate Brewery   \n",
       "20961                            Les Brasseurs du Hameau   \n",
       "20969                                    Altes Tramdepot   \n",
       "21034                           Freetail Brewing Company   \n",
       "21043                              Stewart's Brewing Co.   \n",
       "21054                              Stewart's Brewing Co.   \n",
       "21095                           Old Yale Brewing Company   \n",
       "21119                                Lindens Brewing Co.   \n",
       "21162                               Ferguson Brewing Co.   \n",
       "21164                                The Cambridge House   \n",
       "21276                                McGuire's Irish Pub   \n",
       "21292  The Brew Kettle Taproom & Smokehouse / Product...   \n",
       "21359                                  Abita Brewing Co.   \n",
       "21506                            Bierbrouwerij De Schans   \n",
       "21546                             Voodoo Brewing Company   \n",
       "21793                                   Erie Brewing Co.   \n",
       "21800                                   Erie Brewing Co.   \n",
       "21967                               Oregon Trail Brewery   \n",
       "\n",
       "                      brewery_name_rateBeer  \n",
       "20789                   Elysian Brewing Co.  \n",
       "20831                  Phillips Brewing Co.  \n",
       "20921                              Ramsgate  \n",
       "20961               Les Brasseurs du Hameau  \n",
       "20969                       Altes Tramdepot  \n",
       "21034                  Freetail Brewing Co.  \n",
       "21043              Stewarts Brewing Company  \n",
       "21054              Stewarts Brewing Company  \n",
       "21095                   Old Yale Brewing Co  \n",
       "21119               Lindens Brewing Company  \n",
       "21162              Ferguson Brewing Company  \n",
       "21164                   The Cambridge House  \n",
       "21276          McGuires Irish Pub & Brewery  \n",
       "21292  The Brew Kettle/TBK Production Works  \n",
       "21359                 Abita Brewing Company  \n",
       "21506                   Brouwerij de Schans  \n",
       "21546                    Voodoo Brewing Co.  \n",
       "21793                  Erie Brewing Company  \n",
       "21800                  Erie Brewing Company  \n",
       "21967                  Oregon Trail Brewery  "
      ]
     },
     "execution_count": 229,
     "metadata": {},
     "output_type": "execute_result"
    }
   ],
   "source": [
    "interval = 3\n",
    "pick_random_entries(matching_beers, indices[interval], indices[interval+1]-1, 20)\n"
   ]
  },
  {
   "cell_type": "code",
   "execution_count": 215,
   "metadata": {
    "collapsed": false
   },
   "outputs": [
    {
     "data": {
      "text/html": [
       "<div>\n",
       "<table border=\"1\" class=\"dataframe\">\n",
       "  <thead>\n",
       "    <tr style=\"text-align: right;\">\n",
       "      <th></th>\n",
       "      <th>beer_id_beerAdvocate</th>\n",
       "      <th>beer_name_beerAdvocate</th>\n",
       "      <th>brewery_id_beerAdvocate</th>\n",
       "      <th>brewery_name_beerAdvocate</th>\n",
       "      <th>beer_name_rateBeer</th>\n",
       "      <th>brewery_name_rateBeer</th>\n",
       "      <th>similarity</th>\n",
       "    </tr>\n",
       "  </thead>\n",
       "  <tbody>\n",
       "    <tr>\n",
       "      <th>28365</th>\n",
       "      <td>53146</td>\n",
       "      <td>Terrapin Pumpkinfest</td>\n",
       "      <td>2372</td>\n",
       "      <td>Terrapin Beer Company</td>\n",
       "      <td>Terrapin Side Project Pumpkinfest</td>\n",
       "      <td>Terrapin Beer Company</td>\n",
       "      <td>0.65</td>\n",
       "    </tr>\n",
       "    <tr>\n",
       "      <th>28366</th>\n",
       "      <td>11874</td>\n",
       "      <td>Carolina Cask Conditioned Pale Ale</td>\n",
       "      <td>1499</td>\n",
       "      <td>Carolina Brewing Company</td>\n",
       "      <td>Carolina Pale Ale</td>\n",
       "      <td>Carolina Brewing Company</td>\n",
       "      <td>0.65</td>\n",
       "    </tr>\n",
       "    <tr>\n",
       "      <th>28367</th>\n",
       "      <td>3700</td>\n",
       "      <td>Columbus Pale Ale</td>\n",
       "      <td>341</td>\n",
       "      <td>Columbus Brewing Company</td>\n",
       "      <td>Columbus Brewing Pale Ale</td>\n",
       "      <td>Columbus Brewing Company</td>\n",
       "      <td>0.65</td>\n",
       "    </tr>\n",
       "    <tr>\n",
       "      <th>28368</th>\n",
       "      <td>76336</td>\n",
       "      <td>Devil Bird (2010)</td>\n",
       "      <td>23635</td>\n",
       "      <td>Lavery Brewing Company</td>\n",
       "      <td>Lavery Devil Bird Holiday Ale 2010</td>\n",
       "      <td>Lavery Brewing Company</td>\n",
       "      <td>0.65</td>\n",
       "    </tr>\n",
       "    <tr>\n",
       "      <th>28369</th>\n",
       "      <td>36357</td>\n",
       "      <td>Burgbrau Pilsener</td>\n",
       "      <td>7911</td>\n",
       "      <td>Jahns Brau</td>\n",
       "      <td>Burgbrau Premium Pilsener</td>\n",
       "      <td>Jahns-Brau (Christoph Jahn Erben Brauerei)</td>\n",
       "      <td>0.65</td>\n",
       "    </tr>\n",
       "    <tr>\n",
       "      <th>28370</th>\n",
       "      <td>58658</td>\n",
       "      <td>MateVeza Organic Black Lager</td>\n",
       "      <td>15886</td>\n",
       "      <td>Mateveza Brewing Company</td>\n",
       "      <td>Mateveza Black Lager</td>\n",
       "      <td>MateVeza Brewing Company</td>\n",
       "      <td>0.65</td>\n",
       "    </tr>\n",
       "    <tr>\n",
       "      <th>28371</th>\n",
       "      <td>48871</td>\n",
       "      <td>Milly's Hoplicious</td>\n",
       "      <td>1285</td>\n",
       "      <td>Milly's Tavern</td>\n",
       "      <td>Millys Tavern Hoplicious</td>\n",
       "      <td>Millys Tavern</td>\n",
       "      <td>0.65</td>\n",
       "    </tr>\n",
       "    <tr>\n",
       "      <th>28372</th>\n",
       "      <td>49971</td>\n",
       "      <td>Big River Maibock</td>\n",
       "      <td>2617</td>\n",
       "      <td>Big River Grille &amp; Brewing Works</td>\n",
       "      <td>Big River Grille Disney World Maibock</td>\n",
       "      <td>Big River Grille &amp; Brewing Works Lake Buena Vi...</td>\n",
       "      <td>0.65</td>\n",
       "    </tr>\n",
       "    <tr>\n",
       "      <th>28373</th>\n",
       "      <td>7926</td>\n",
       "      <td>Park Pirminator</td>\n",
       "      <td>2706</td>\n",
       "      <td>Parkbrauerei / Park &amp; Bellheimer AG</td>\n",
       "      <td>Park Pirminator</td>\n",
       "      <td>Parkbrauerei (Actris Group)</td>\n",
       "      <td>0.65</td>\n",
       "    </tr>\n",
       "    <tr>\n",
       "      <th>28374</th>\n",
       "      <td>24002</td>\n",
       "      <td>Altottinger Naturtrub Zwickelbier</td>\n",
       "      <td>5139</td>\n",
       "      <td>Altottinger Hell-Brau GmbH</td>\n",
       "      <td>Altottinger Zwickelbier</td>\n",
       "      <td>Altottinger Hell-Brau</td>\n",
       "      <td>0.65</td>\n",
       "    </tr>\n",
       "    <tr>\n",
       "      <th>28375</th>\n",
       "      <td>62968</td>\n",
       "      <td>Great Lakes Hop Madness (\"Quitness\")</td>\n",
       "      <td>73</td>\n",
       "      <td>Great Lakes Brewing Company</td>\n",
       "      <td>Great Lakes Quitness</td>\n",
       "      <td>Great Lakes Brewing Company</td>\n",
       "      <td>0.65</td>\n",
       "    </tr>\n",
       "    <tr>\n",
       "      <th>28376</th>\n",
       "      <td>62194</td>\n",
       "      <td>Columbus Java Porter</td>\n",
       "      <td>341</td>\n",
       "      <td>Columbus Brewing Company</td>\n",
       "      <td>Columbus Brewing Smoked Java Porter</td>\n",
       "      <td>Columbus Brewing Company</td>\n",
       "      <td>0.65</td>\n",
       "    </tr>\n",
       "    <tr>\n",
       "      <th>28377</th>\n",
       "      <td>69570</td>\n",
       "      <td>Carl Theodor Lager</td>\n",
       "      <td>2706</td>\n",
       "      <td>Parkbrauerei / Park &amp; Bellheimer AG</td>\n",
       "      <td>Frankenthaler Carl Theodor Lager</td>\n",
       "      <td>Parkbrauerei (Actris Group)</td>\n",
       "      <td>0.65</td>\n",
       "    </tr>\n",
       "    <tr>\n",
       "      <th>28378</th>\n",
       "      <td>7759</td>\n",
       "      <td>Will-Brau Ur-Bock</td>\n",
       "      <td>3291</td>\n",
       "      <td>Hochstiftliches Brauhaus</td>\n",
       "      <td>Will-Brau Original Bayerisch Ur-Bock</td>\n",
       "      <td>Will Brau (Hochstiftliches Brauhaus Fulda)</td>\n",
       "      <td>0.65</td>\n",
       "    </tr>\n",
       "    <tr>\n",
       "      <th>28379</th>\n",
       "      <td>70435</td>\n",
       "      <td>Goldhand Felsgold Premium Bier Urtyp</td>\n",
       "      <td>2706</td>\n",
       "      <td>Parkbrauerei / Park &amp; Bellheimer AG</td>\n",
       "      <td>Goldhand Felsgold Premium Bier Urtyp</td>\n",
       "      <td>Parkbrauerei (Actris Group)</td>\n",
       "      <td>0.65</td>\n",
       "    </tr>\n",
       "    <tr>\n",
       "      <th>28380</th>\n",
       "      <td>63244</td>\n",
       "      <td>Gatekeeper (Sour)</td>\n",
       "      <td>18915</td>\n",
       "      <td>Indigo Imp Brewery</td>\n",
       "      <td>Indigo Imp Gatekeeper Limited Release Special ...</td>\n",
       "      <td>Indigo Imp</td>\n",
       "      <td>0.65</td>\n",
       "    </tr>\n",
       "    <tr>\n",
       "      <th>28381</th>\n",
       "      <td>46651</td>\n",
       "      <td>Aubrac Ambree</td>\n",
       "      <td>18846</td>\n",
       "      <td>Brasserie D'Olt</td>\n",
       "      <td>Olt Biere de lAubrac Ambree</td>\n",
       "      <td>Brasserie dOlt</td>\n",
       "      <td>0.65</td>\n",
       "    </tr>\n",
       "    <tr>\n",
       "      <th>28382</th>\n",
       "      <td>12522</td>\n",
       "      <td>Charles Quint/Keizer Karel</td>\n",
       "      <td>725</td>\n",
       "      <td>Brouwerij Haacht NV</td>\n",
       "      <td>Charles Quint Blonde Doree/ Keizer Karel Goudb...</td>\n",
       "      <td>Haacht</td>\n",
       "      <td>0.65</td>\n",
       "    </tr>\n",
       "    <tr>\n",
       "      <th>28383</th>\n",
       "      <td>50127</td>\n",
       "      <td>Stout Stoat Stout</td>\n",
       "      <td>11385</td>\n",
       "      <td>Salamander Brewing Company</td>\n",
       "      <td>Salamander Stout Stoat</td>\n",
       "      <td>Salamander</td>\n",
       "      <td>0.65</td>\n",
       "    </tr>\n",
       "    <tr>\n",
       "      <th>28384</th>\n",
       "      <td>28250</td>\n",
       "      <td>Marietta Brewing Pale Ale</td>\n",
       "      <td>597</td>\n",
       "      <td>Marietta Brewing Company</td>\n",
       "      <td>Marietta Pale Ale</td>\n",
       "      <td>Marietta Brewing Company</td>\n",
       "      <td>0.65</td>\n",
       "    </tr>\n",
       "  </tbody>\n",
       "</table>\n",
       "</div>"
      ],
      "text/plain": [
       "      beer_id_beerAdvocate                beer_name_beerAdvocate  \\\n",
       "28365                53146                  Terrapin Pumpkinfest   \n",
       "28366                11874    Carolina Cask Conditioned Pale Ale   \n",
       "28367                 3700                     Columbus Pale Ale   \n",
       "28368                76336                     Devil Bird (2010)   \n",
       "28369                36357                     Burgbrau Pilsener   \n",
       "28370                58658          MateVeza Organic Black Lager   \n",
       "28371                48871                    Milly's Hoplicious   \n",
       "28372                49971                     Big River Maibock   \n",
       "28373                 7926                       Park Pirminator   \n",
       "28374                24002     Altottinger Naturtrub Zwickelbier   \n",
       "28375                62968  Great Lakes Hop Madness (\"Quitness\")   \n",
       "28376                62194                  Columbus Java Porter   \n",
       "28377                69570                    Carl Theodor Lager   \n",
       "28378                 7759                     Will-Brau Ur-Bock   \n",
       "28379                70435  Goldhand Felsgold Premium Bier Urtyp   \n",
       "28380                63244                     Gatekeeper (Sour)   \n",
       "28381                46651                         Aubrac Ambree   \n",
       "28382                12522            Charles Quint/Keizer Karel   \n",
       "28383                50127                     Stout Stoat Stout   \n",
       "28384                28250             Marietta Brewing Pale Ale   \n",
       "\n",
       "      brewery_id_beerAdvocate            brewery_name_beerAdvocate  \\\n",
       "28365                    2372                Terrapin Beer Company   \n",
       "28366                    1499             Carolina Brewing Company   \n",
       "28367                     341             Columbus Brewing Company   \n",
       "28368                   23635               Lavery Brewing Company   \n",
       "28369                    7911                           Jahns Brau   \n",
       "28370                   15886             Mateveza Brewing Company   \n",
       "28371                    1285                       Milly's Tavern   \n",
       "28372                    2617     Big River Grille & Brewing Works   \n",
       "28373                    2706  Parkbrauerei / Park & Bellheimer AG   \n",
       "28374                    5139           Altottinger Hell-Brau GmbH   \n",
       "28375                      73          Great Lakes Brewing Company   \n",
       "28376                     341             Columbus Brewing Company   \n",
       "28377                    2706  Parkbrauerei / Park & Bellheimer AG   \n",
       "28378                    3291             Hochstiftliches Brauhaus   \n",
       "28379                    2706  Parkbrauerei / Park & Bellheimer AG   \n",
       "28380                   18915                   Indigo Imp Brewery   \n",
       "28381                   18846                      Brasserie D'Olt   \n",
       "28382                     725                  Brouwerij Haacht NV   \n",
       "28383                   11385           Salamander Brewing Company   \n",
       "28384                     597             Marietta Brewing Company   \n",
       "\n",
       "                                      beer_name_rateBeer  \\\n",
       "28365                  Terrapin Side Project Pumpkinfest   \n",
       "28366                                  Carolina Pale Ale   \n",
       "28367                          Columbus Brewing Pale Ale   \n",
       "28368                 Lavery Devil Bird Holiday Ale 2010   \n",
       "28369                          Burgbrau Premium Pilsener   \n",
       "28370                               Mateveza Black Lager   \n",
       "28371                          Millys Tavern Hoplicious    \n",
       "28372              Big River Grille Disney World Maibock   \n",
       "28373                                    Park Pirminator   \n",
       "28374                            Altottinger Zwickelbier   \n",
       "28375                               Great Lakes Quitness   \n",
       "28376                Columbus Brewing Smoked Java Porter   \n",
       "28377                   Frankenthaler Carl Theodor Lager   \n",
       "28378               Will-Brau Original Bayerisch Ur-Bock   \n",
       "28379               Goldhand Felsgold Premium Bier Urtyp   \n",
       "28380  Indigo Imp Gatekeeper Limited Release Special ...   \n",
       "28381                        Olt Biere de lAubrac Ambree   \n",
       "28382  Charles Quint Blonde Doree/ Keizer Karel Goudb...   \n",
       "28383                             Salamander Stout Stoat   \n",
       "28384                                  Marietta Pale Ale   \n",
       "\n",
       "                                   brewery_name_rateBeer  similarity  \n",
       "28365                              Terrapin Beer Company        0.65  \n",
       "28366                           Carolina Brewing Company        0.65  \n",
       "28367                           Columbus Brewing Company        0.65  \n",
       "28368                             Lavery Brewing Company        0.65  \n",
       "28369         Jahns-Brau (Christoph Jahn Erben Brauerei)        0.65  \n",
       "28370                           MateVeza Brewing Company        0.65  \n",
       "28371                                      Millys Tavern        0.65  \n",
       "28372  Big River Grille & Brewing Works Lake Buena Vi...        0.65  \n",
       "28373                        Parkbrauerei (Actris Group)        0.65  \n",
       "28374                              Altottinger Hell-Brau        0.65  \n",
       "28375                        Great Lakes Brewing Company        0.65  \n",
       "28376                           Columbus Brewing Company        0.65  \n",
       "28377                        Parkbrauerei (Actris Group)        0.65  \n",
       "28378         Will Brau (Hochstiftliches Brauhaus Fulda)        0.65  \n",
       "28379                        Parkbrauerei (Actris Group)        0.65  \n",
       "28380                                         Indigo Imp        0.65  \n",
       "28381                                     Brasserie dOlt        0.65  \n",
       "28382                                             Haacht        0.65  \n",
       "28383                                         Salamander        0.65  \n",
       "28384                           Marietta Brewing Company        0.65  "
      ]
     },
     "execution_count": 215,
     "metadata": {},
     "output_type": "execute_result"
    }
   ],
   "source": [
    "matching_beers[matching_beers.similarity >= 0.65].tail(20)\n"
   ]
  },
  {
   "cell_type": "markdown",
   "metadata": {},
   "source": [
    "We found that if the similarity value is above or equal to **0.65**, the matching is pretty good. If we use a threshold of 0.6, the beers are not matching well already. "
   ]
  },
  {
   "cell_type": "code",
   "execution_count": null,
   "metadata": {
    "collapsed": false
   },
   "outputs": [],
   "source": [
    "threshold = 0.65 # Chosen empirically\n",
    "good_matching_beers = matching_beers[matching_beers.similarity >= threshold]\n",
    "good_matching_beers.index = range(len(good_matching_beers))\n",
    "print(\"Number of good matching beers: %i\"%len(good_matching_beers))"
   ]
  },
  {
   "cell_type": "markdown",
   "metadata": {},
   "source": [
    "Now, we want to be sure that we don't have duplicated values."
   ]
  },
  {
   "cell_type": "code",
   "execution_count": null,
   "metadata": {
    "collapsed": false
   },
   "outputs": [],
   "source": [
    "len(good_matching_beers[good_matching_beers.beer_name_rateBeer.duplicated()])"
   ]
  },
  {
   "cell_type": "markdown",
   "metadata": {},
   "source": [
    "Sadly, we have some duplicated values for the `beer_name_rateBeer`. Therefore, we need to find a way to remove them."
   ]
  },
  {
   "cell_type": "code",
   "execution_count": null,
   "metadata": {
    "collapsed": true
   },
   "outputs": [],
   "source": [
    "duplicated_beer_names = good_matching_beers[good_matching_beers.beer_name_rateBeer.duplicated()].beer_name_rateBeer.unique()"
   ]
  },
  {
   "cell_type": "markdown",
   "metadata": {},
   "source": [
    "We decide that we will class the duplicated beers using the function `ratio` of the `fuzzywuzzy` library. The entry with the best ratio on the `beer_name` and the `brewery_name` will stay. The other entries will be deleted.\n",
    "\n",
    "There's just a special case. The beers with a \"generic\" name. We decide that we remove all of them if the ratio is smaller then 90%. The reason is that if we don't do that, it will match the generic name to a beer with the generic name and the smallest addition. For example, the generic name being *Heineken*, the beer *Heineken dry* will be more similary than the beer *Heineken white*. And both these beers are different from the beer with the generic name."
   ]
  },
  {
   "cell_type": "code",
   "execution_count": null,
   "metadata": {
    "collapsed": false,
    "scrolled": false
   },
   "outputs": [],
   "source": [
    "index_to_remove = []\n",
    "for bn in duplicated_beer_names:\n",
    "    df = good_matching_beers[good_matching_beers.beer_name_rateBeer == bn]\n",
    "    ratio = []\n",
    "    for i in df.index:\n",
    "        val1 = fuzz.ratio(df.ix[i]['beer_name_beerAdvocate'], df.ix[i]['beer_name_rateBeer'])/100\n",
    "        val2 = fuzz.ratio(df.ix[i]['brewery_name_beerAdvocate'], df.ix[i]['brewery_name_rateBeer'])/100\n",
    "        ratio.append(val1*val2)\n",
    "    df['ratio'] = ratio\n",
    "    max_ratio = np.max(ratio)\n",
    "    beer_test = df.ix[df.index[0]].beer_name_rateBeer\n",
    "    if \" \" in beer_test:\n",
    "        index_to_remove.extend(list(df[df.ratio != max_ratio].index))\n",
    "    else:\n",
    "        if max_ratio < 0.9:\n",
    "            index_to_remove.extend(list(df.index))\n",
    "        else:\n",
    "            index_to_remove.extend(list(df[df.ratio != max_ratio].index))"
   ]
  },
  {
   "cell_type": "code",
   "execution_count": null,
   "metadata": {
    "collapsed": false
   },
   "outputs": [],
   "source": [
    "good_matching_beers = good_matching_beers.drop(index_to_remove)\n",
    "good_matching_beers.index = range(len(good_matching_beers))"
   ]
  },
  {
   "cell_type": "markdown",
   "metadata": {},
   "source": [
    "Now that we removed some duplicated beers, we will only have the beers with the same ratio left. So, let's check the duplicated beers again."
   ]
  },
  {
   "cell_type": "code",
   "execution_count": null,
   "metadata": {
    "collapsed": false
   },
   "outputs": [],
   "source": [
    "len(good_matching_beers[good_matching_beers.beer_name_rateBeer.duplicated()])"
   ]
  },
  {
   "cell_type": "code",
   "execution_count": null,
   "metadata": {
    "collapsed": true
   },
   "outputs": [],
   "source": [
    "duplicated_beer_names = good_matching_beers[good_matching_beers.beer_name_rateBeer.duplicated()].beer_name_rateBeer.unique()"
   ]
  },
  {
   "cell_type": "markdown",
   "metadata": {},
   "source": [
    "Print the duplicated beers that remain to see what is the problem."
   ]
  },
  {
   "cell_type": "code",
   "execution_count": null,
   "metadata": {
    "collapsed": false
   },
   "outputs": [],
   "source": [
    "index_to_remove = []\n",
    "for bn in duplicated_beer_names:\n",
    "    df = good_matching_beers[good_matching_beers.beer_name_rateBeer == bn]\n",
    "    ratio = []\n",
    "    for i in df.index:\n",
    "        val1 = fuzz.ratio(df.ix[i]['beer_name_beerAdvocate'], df.ix[i]['beer_name_rateBeer'])/100\n",
    "        val2 = fuzz.ratio(df.ix[i]['beer_name_rateBeer'], df.ix[i]['beer_name_beerAdvocate'])/100\n",
    "        ratio.append(val1*val2)\n",
    "    df['ratio'] = ratio \n",
    "    index_to_remove.extend(list(df.index))\n",
    "    print(df[['beer_name_rateBeer', 'beer_name_beerAdvocate', 'similarity', 'ratio']])\n",
    "    print()"
   ]
  },
  {
   "cell_type": "markdown",
   "metadata": {},
   "source": [
    "Most of the remaining duplicates are difficult to match. A good example can be this one:\n",
    "                \n",
    "                        beer_name_rateBeer         |      beer_name_beerAdvocate\n",
    "                Green Flash Anniversary Strong Ale | Green Flash Anniversary Ale 2003  \n",
    "                Green Flash Anniversary Strong Ale | Green Flash Anniversary Ale 2004\n",
    "                Green Flash Anniversary Strong Ale | Green Flash Anniversary Ale 2005\n",
    "                \n",
    "With just the name information, we cannot say which `beer_name` in the *beerAdvocate* dataset is corresponding to the one in the *rateBeer* dataset. Therefore, we decide to remove these remaining duplicates."
   ]
  },
  {
   "cell_type": "code",
   "execution_count": null,
   "metadata": {
    "collapsed": true
   },
   "outputs": [],
   "source": [
    "good_matching_beers = good_matching_beers.drop(index_to_remove)\n",
    "good_matching_beers.index = range(len(good_matching_beers))"
   ]
  },
  {
   "cell_type": "markdown",
   "metadata": {},
   "source": [
    "We have now our **final** DataFrame of beers that matched together. We just print the number of beers we could matched and save it in a CSV file."
   ]
  },
  {
   "cell_type": "code",
   "execution_count": null,
   "metadata": {
    "collapsed": false
   },
   "outputs": [],
   "source": [
    "print(\"Number of beers that matched: %i\"%len(good_matching_beers))"
   ]
  },
  {
   "cell_type": "markdown",
   "metadata": {},
   "source": [
    "We just add the ID of the *rateBeer* dataset for easier research later."
   ]
  },
  {
   "cell_type": "code",
   "execution_count": null,
   "metadata": {
    "collapsed": false
   },
   "outputs": [],
   "source": [
    "beer_id_rateBeer = rateBeer.set_index('beer_name').to_dict()['beer_id']\n",
    "brewery_id_rateBeer = rateBeer.set_index('brewery_name').to_dict()['brewery_id']"
   ]
  },
  {
   "cell_type": "code",
   "execution_count": null,
   "metadata": {
    "collapsed": false
   },
   "outputs": [],
   "source": [
    "beer_id_rateBeer_list = []\n",
    "brewery_id_rateBeer_list = []\n",
    "for i in range(len(good_matching_beers)):\n",
    "    beer_id_rateBeer_list.append(beer_id_rateBeer[good_matching_beers.ix[i].beer_name_rateBeer])\n",
    "    brewery_id_rateBeer_list.append(brewery_id_rateBeer[good_matching_beers.ix[i].brewery_name_rateBeer])\n",
    "good_matching_beers['beer_id_rateBeer'] = beer_id_rateBeer_list\n",
    "good_matching_beers['brewery_id_rateBeer'] = brewery_id_rateBeer_list"
   ]
  },
  {
   "cell_type": "code",
   "execution_count": null,
   "metadata": {
    "collapsed": false
   },
   "outputs": [],
   "source": [
    "# Rearrange columns to be beautiful =)\n",
    "good_matching_beers = good_matching_beers[['beer_id_beerAdvocate', 'beer_name_beerAdvocate', 'brewery_id_beerAdvocate', 'brewery_name_beerAdvocate', 'beer_id_rateBeer', 'beer_name_rateBeer', 'brewery_id_rateBeer', 'brewery_name_rateBeer', 'similarity']]"
   ]
  },
  {
   "cell_type": "code",
   "execution_count": null,
   "metadata": {
    "collapsed": false
   },
   "outputs": [],
   "source": [
    "# Save the Cleaned CSV\n",
    "good_matching_beers.to_csv('./data/matching_beers.csv', index=False)\n",
    "\n"
   ]
  },
  {
   "cell_type": "code",
   "execution_count": null,
   "metadata": {
    "collapsed": true
   },
   "outputs": [],
   "source": []
  }
 ],
 "metadata": {
  "anaconda-cloud": {},
  "kernelspec": {
   "display_name": "Python [conda root]",
   "language": "python",
   "name": "conda-root-py"
  },
  "language_info": {
   "codemirror_mode": {
    "name": "ipython",
    "version": 3
   },
   "file_extension": ".py",
   "mimetype": "text/x-python",
   "name": "python",
   "nbconvert_exporter": "python",
   "pygments_lexer": "ipython3",
   "version": "3.5.2"
  }
 },
 "nbformat": 4,
 "nbformat_minor": 1
}
