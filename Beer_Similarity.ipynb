{
 "cells": [
  {
   "cell_type": "markdown",
   "metadata": {},
   "source": [
    "# Introduction\n",
    "\n",
    "In this notebook, we want to study the two datasets in `beerAdv_beer_brewery.tsv` and in `rateBeer_beer_brewery.tsv`. The columns of these datasets are like this:\n",
    "\n",
    "                              beer_id ¦ beer_name ¦ brewery_id ¦ brewery_name\n",
    "            \n",
    "The idea of this notebook is to create a similarity measure in order to find the same elements in both these datasets. Once we have this similarity measure, we want to find the limit X such that:\n",
    "- All pairs with a similarity value of $X' > X$ are considered as the same beer\n",
    "- All pairs with a similarity value of $X'' < X$ are not taken into account.\n",
    "\n",
    "In order to achieve this, this notebook is composed of three parts. The first part is some sort of simple Data Analysis. Then there will be the creation of the pairs and the similarity value. Finally the part to find the best value $X$.\n",
    "\n",
    "## Table of contents\n",
    "\n",
    "1. [Data Analysis](#data_analysis)\n",
    "2. [Similarity Measure](#similarity)\n",
    "3. [Matching the beers](#matching) \n",
    "4. [Further work](#further_work)\n",
    "\n",
    "Each parts is separated. Therefore, you don't have to run the previous parts in order to run a specific part."
   ]
  },
  {
   "cell_type": "code",
   "execution_count": 3,
   "metadata": {
    "collapsed": false
   },
   "outputs": [],
   "source": [
    "# Useful imports\n",
    "import pandas as pd\n",
    "import numpy as np\n",
    "import codecs\n",
    "from IPython.display import HTML\n",
    "import matplotlib.pyplot as plt\n",
    "import unicodedata\n",
    "import random\n",
    "\n",
    "from fuzzywuzzy import fuzz\n",
    "import multiprocessing\n",
    "from joblib import Parallel, delayed\n",
    "import pickle\n",
    "\n",
    "# For the Pyth§on notebook\n",
    "%matplotlib inline\n",
    "%reload_ext autoreload\n",
    "%autoreload 2"
   ]
  },
  {
   "cell_type": "markdown",
   "metadata": {},
   "source": [
    "<a id='data_analysis'></a>\n",
    "\n",
    "## Data Analysis\n",
    "\n",
    "First, we need to analyze the data. It's a simple data analysis since we only have two usefull features: `beer_name` and `brewery_name`."
   ]
  },
  {
   "cell_type": "code",
   "execution_count": 2,
   "metadata": {
    "collapsed": true
   },
   "outputs": [],
   "source": [
    "# Datasets\n",
    "beerAdvocate_dataset = './data/beerAdv_beer_brewery.tsv'\n",
    "rateBeer_dataset = './data/rateBeer_beer_brewery.tsv'"
   ]
  },
  {
   "cell_type": "code",
   "execution_count": 3,
   "metadata": {
    "collapsed": true
   },
   "outputs": [],
   "source": [
    "columns = ['beer_id', 'beer_name', 'brewery_id', 'brewery_name']"
   ]
  },
  {
   "cell_type": "code",
   "execution_count": 4,
   "metadata": {
    "collapsed": false
   },
   "outputs": [],
   "source": [
    "# Load the dataset with pandas\n",
    "beerAdvocate = pd.read_table(beerAdvocate_dataset, header=None)\n",
    "beerAdvocate.columns = columns\n",
    "rateBeer = pd.read_table(rateBeer_dataset, header=None, encoding='utf-8')\n",
    "rateBeer.columns = columns"
   ]
  },
  {
   "cell_type": "markdown",
   "metadata": {},
   "source": [
    "Print the two datasets"
   ]
  },
  {
   "cell_type": "code",
   "execution_count": 5,
   "metadata": {
    "collapsed": false
   },
   "outputs": [
    {
     "data": {
      "text/html": [
       "<div>\n",
       "<table border=\"1\" class=\"dataframe\">\n",
       "  <thead>\n",
       "    <tr style=\"text-align: right;\">\n",
       "      <th></th>\n",
       "      <th>beer_id</th>\n",
       "      <th>beer_name</th>\n",
       "      <th>brewery_id</th>\n",
       "      <th>brewery_name</th>\n",
       "    </tr>\n",
       "  </thead>\n",
       "  <tbody>\n",
       "    <tr>\n",
       "      <th>0</th>\n",
       "      <td>14348</td>\n",
       "      <td>Eisbrau Czech</td>\n",
       "      <td>1</td>\n",
       "      <td>Plzensky Prazdroj, a. s.</td>\n",
       "    </tr>\n",
       "    <tr>\n",
       "      <th>1</th>\n",
       "      <td>19099</td>\n",
       "      <td>Primus</td>\n",
       "      <td>1</td>\n",
       "      <td>Plzensky Prazdroj, a. s.</td>\n",
       "    </tr>\n",
       "    <tr>\n",
       "      <th>2</th>\n",
       "      <td>19123</td>\n",
       "      <td>Gambrinus Pale</td>\n",
       "      <td>1</td>\n",
       "      <td>Plzensky Prazdroj, a. s.</td>\n",
       "    </tr>\n",
       "    <tr>\n",
       "      <th>3</th>\n",
       "      <td>19274</td>\n",
       "      <td>Urutislav</td>\n",
       "      <td>1</td>\n",
       "      <td>Plzensky Prazdroj, a. s.</td>\n",
       "    </tr>\n",
       "    <tr>\n",
       "      <th>4</th>\n",
       "      <td>41294</td>\n",
       "      <td>Pilsner Urquell 3.5%</td>\n",
       "      <td>1</td>\n",
       "      <td>Plzensky Prazdroj, a. s.</td>\n",
       "    </tr>\n",
       "  </tbody>\n",
       "</table>\n",
       "</div>"
      ],
      "text/plain": [
       "   beer_id             beer_name  brewery_id              brewery_name\n",
       "0    14348         Eisbrau Czech           1  Plzensky Prazdroj, a. s.\n",
       "1    19099                Primus           1  Plzensky Prazdroj, a. s.\n",
       "2    19123        Gambrinus Pale           1  Plzensky Prazdroj, a. s.\n",
       "3    19274             Urutislav           1  Plzensky Prazdroj, a. s.\n",
       "4    41294  Pilsner Urquell 3.5%           1  Plzensky Prazdroj, a. s."
      ]
     },
     "execution_count": 5,
     "metadata": {},
     "output_type": "execute_result"
    }
   ],
   "source": [
    "beerAdvocate.head()"
   ]
  },
  {
   "cell_type": "code",
   "execution_count": 6,
   "metadata": {
    "collapsed": false,
    "scrolled": false
   },
   "outputs": [
    {
     "data": {
      "text/html": [
       "<div>\n",
       "<table border=\"1\" class=\"dataframe\">\n",
       "  <thead>\n",
       "    <tr style=\"text-align: right;\">\n",
       "      <th></th>\n",
       "      <th>beer_id</th>\n",
       "      <th>beer_name</th>\n",
       "      <th>brewery_id</th>\n",
       "      <th>brewery_name</th>\n",
       "    </tr>\n",
       "  </thead>\n",
       "  <tbody>\n",
       "    <tr>\n",
       "      <th>0</th>\n",
       "      <td>4</td>\n",
       "      <td>Abita Bock</td>\n",
       "      <td>1</td>\n",
       "      <td>Abita Brewing Company</td>\n",
       "    </tr>\n",
       "    <tr>\n",
       "      <th>1</th>\n",
       "      <td>10731</td>\n",
       "      <td>Abita Louisiana Red Ale</td>\n",
       "      <td>1</td>\n",
       "      <td>Abita Brewing Company</td>\n",
       "    </tr>\n",
       "    <tr>\n",
       "      <th>2</th>\n",
       "      <td>114065</td>\n",
       "      <td>Abita Select Pecan Brown Ale</td>\n",
       "      <td>1</td>\n",
       "      <td>Abita Brewing Company</td>\n",
       "    </tr>\n",
       "    <tr>\n",
       "      <th>3</th>\n",
       "      <td>114981</td>\n",
       "      <td>Abita Select Amber Ale</td>\n",
       "      <td>1</td>\n",
       "      <td>Abita Brewing Company</td>\n",
       "    </tr>\n",
       "    <tr>\n",
       "      <th>4</th>\n",
       "      <td>117017</td>\n",
       "      <td>Abita American Wheat</td>\n",
       "      <td>1</td>\n",
       "      <td>Abita Brewing Company</td>\n",
       "    </tr>\n",
       "  </tbody>\n",
       "</table>\n",
       "</div>"
      ],
      "text/plain": [
       "   beer_id                     beer_name  brewery_id           brewery_name\n",
       "0        4                    Abita Bock           1  Abita Brewing Company\n",
       "1    10731       Abita Louisiana Red Ale           1  Abita Brewing Company\n",
       "2   114065  Abita Select Pecan Brown Ale           1  Abita Brewing Company\n",
       "3   114981        Abita Select Amber Ale           1  Abita Brewing Company\n",
       "4   117017          Abita American Wheat           1  Abita Brewing Company"
      ]
     },
     "execution_count": 6,
     "metadata": {},
     "output_type": "execute_result"
    }
   ],
   "source": [
    "rateBeer.head()"
   ]
  },
  {
   "cell_type": "markdown",
   "metadata": {},
   "source": [
    "We just stop two minutes here. We can see a problem with the encoding of the file for *beerAdvocate*. "
   ]
  },
  {
   "cell_type": "code",
   "execution_count": 7,
   "metadata": {
    "collapsed": false
   },
   "outputs": [
    {
     "name": "stdout",
     "output_type": "stream",
     "text": [
      "Master PolotmavÃ½ 13Â°\n"
     ]
    }
   ],
   "source": [
    "name = beerAdvocate.ix[12].beer_name\n",
    "print(name)"
   ]
  },
  {
   "cell_type": "markdown",
   "metadata": {},
   "source": [
    "The encoding here is **latin_1**. Therefore, we can find the UTF-8 encoding by doing this:"
   ]
  },
  {
   "cell_type": "code",
   "execution_count": 8,
   "metadata": {
    "collapsed": false
   },
   "outputs": [
    {
     "name": "stdout",
     "output_type": "stream",
     "text": [
      "Master Polotmavý 13°\n"
     ]
    }
   ],
   "source": [
    "new_name = bytes(name,'latin_1').decode('utf-8')\n",
    "print(new_name)"
   ]
  },
  {
   "cell_type": "markdown",
   "metadata": {},
   "source": [
    "Let's do it everywhere for *beerAdvocate*!"
   ]
  },
  {
   "cell_type": "code",
   "execution_count": 9,
   "metadata": {
    "collapsed": true
   },
   "outputs": [],
   "source": [
    "def decode_from_latin_1(string):\n",
    "    try:\n",
    "        return bytes(string ,'latin_1').decode('utf-8')\n",
    "    except:\n",
    "        return string"
   ]
  },
  {
   "cell_type": "code",
   "execution_count": 10,
   "metadata": {
    "collapsed": false
   },
   "outputs": [],
   "source": [
    "for i in range(len(beerAdvocate)):\n",
    "    # Change the name of the beer\n",
    "    beerAdvocate.set_value(i, 'beer_name', decode_from_latin_1(beerAdvocate.ix[i].beer_name))\n",
    "    beerAdvocate.set_value(i, 'brewery_name', decode_from_latin_1(beerAdvocate.ix[i].brewery_name))\n"
   ]
  },
  {
   "cell_type": "code",
   "execution_count": 11,
   "metadata": {
    "collapsed": false
   },
   "outputs": [
    {
     "data": {
      "text/plain": [
       "'Master Polotmavý 13°'"
      ]
     },
     "execution_count": 11,
     "metadata": {},
     "output_type": "execute_result"
    }
   ],
   "source": [
    "beerAdvocate.ix[12].beer_name"
   ]
  },
  {
   "cell_type": "markdown",
   "metadata": {},
   "source": [
    "For string comparison, it is better to remove all the accents. You will see later that we are using a library called `fuzzywuzzy`. And if we compare two letters, one with accent and one without it won't work."
   ]
  },
  {
   "cell_type": "code",
   "execution_count": 12,
   "metadata": {
    "collapsed": false
   },
   "outputs": [
    {
     "data": {
      "text/plain": [
       "0"
      ]
     },
     "execution_count": 12,
     "metadata": {},
     "output_type": "execute_result"
    }
   ],
   "source": [
    "fuzz.ratio(\"é\", \"e\")"
   ]
  },
  {
   "cell_type": "markdown",
   "metadata": {},
   "source": [
    "So, let's remove all the accents in the datasets."
   ]
  },
  {
   "cell_type": "code",
   "execution_count": 13,
   "metadata": {
    "collapsed": true
   },
   "outputs": [],
   "source": [
    "def strip_accents(text):\n",
    "    \"\"\"\n",
    "    Strip accents from input String.\n",
    "\n",
    "    :param text: The input string.\n",
    "    :type text: String.\n",
    "\n",
    "    :returns: The processed String.\n",
    "    :rtype: String.\n",
    "    \"\"\"\n",
    "    try:\n",
    "        text = unicode(text, 'utf-8')\n",
    "    except NameError: # unicode is a default on python 3 \n",
    "        pass\n",
    "    text = unicodedata.normalize('NFD', text)\n",
    "    text = text.encode('ascii', 'ignore')\n",
    "    text = text.decode(\"utf-8\")\n",
    "    return str(text)"
   ]
  },
  {
   "cell_type": "code",
   "execution_count": 14,
   "metadata": {
    "collapsed": false
   },
   "outputs": [
    {
     "name": "stdout",
     "output_type": "stream",
     "text": [
      "Name with accents and weird char: Master Polotmavý 13°\n",
      "Name without accents and weird char: Master Polotmavy 13\n"
     ]
    }
   ],
   "source": [
    "print(\"Name with accents and weird char: %s\"%beerAdvocate.ix[12].beer_name)\n",
    "print(\"Name without accents and weird char: %s\"%strip_accents(beerAdvocate.ix[12].beer_name))"
   ]
  },
  {
   "cell_type": "markdown",
   "metadata": {},
   "source": [
    "The function `strip_accents` works pretty well. Let's apply it to all the elements in the two datasets."
   ]
  },
  {
   "cell_type": "code",
   "execution_count": 15,
   "metadata": {
    "collapsed": true
   },
   "outputs": [],
   "source": [
    "for i in range(len(beerAdvocate)):\n",
    "    # Change the name of the beer\n",
    "    beerAdvocate.set_value(i, 'beer_name', strip_accents(beerAdvocate.ix[i].beer_name))\n",
    "    beerAdvocate.set_value(i, 'brewery_name', strip_accents(beerAdvocate.ix[i].brewery_name))\n"
   ]
  },
  {
   "cell_type": "code",
   "execution_count": 16,
   "metadata": {
    "collapsed": true
   },
   "outputs": [],
   "source": [
    "for i in range(len(rateBeer)):\n",
    "    # Change the name of the beer\n",
    "    rateBeer.set_value(i, 'beer_name', strip_accents(rateBeer.ix[i].beer_name))\n",
    "    rateBeer.set_value(i, 'brewery_name', strip_accents(rateBeer.ix[i].brewery_name))\n"
   ]
  },
  {
   "cell_type": "markdown",
   "metadata": {},
   "source": [
    "Let's print the number of entries in each dataset."
   ]
  },
  {
   "cell_type": "code",
   "execution_count": 17,
   "metadata": {
    "collapsed": false
   },
   "outputs": [
    {
     "name": "stdout",
     "output_type": "stream",
     "text": [
      "Number of rows in beerAdvocate: 66056\n",
      "Number of rows in rateBeer: 110359\n"
     ]
    }
   ],
   "source": [
    "print(\"Number of rows in beerAdvocate: %i\"%(len(beerAdvocate)))\n",
    "print(\"Number of rows in rateBeer: %i\"%(len(rateBeer)))"
   ]
  },
  {
   "cell_type": "markdown",
   "metadata": {},
   "source": [
    "Let's check the number of **unique** beers to see if it matches the number of rows in the dataset."
   ]
  },
  {
   "cell_type": "code",
   "execution_count": 18,
   "metadata": {
    "collapsed": false
   },
   "outputs": [
    {
     "name": "stdout",
     "output_type": "stream",
     "text": [
      "Number of unique beers in beerAdvocate: 56814\n",
      "Number of unique beers in rateBeer: 110302\n"
     ]
    }
   ],
   "source": [
    "unique_beers_beerAdvocate = beerAdvocate.beer_name.unique()\n",
    "unique_beers_rateBeer = rateBeer.beer_name.unique()\n",
    "\n",
    "print(\"Number of unique beers in beerAdvocate: %i\"%(len(unique_beers_beerAdvocate)))\n",
    "print(\"Number of unique beers in rateBeer: %i\"%(len(unique_beers_rateBeer)))"
   ]
  },
  {
   "cell_type": "markdown",
   "metadata": {},
   "source": [
    "It's already interesting to see that some beers have the same name in both datasets. Let's take one of them and see if they have the same `brewery_name`."
   ]
  },
  {
   "cell_type": "code",
   "execution_count": 19,
   "metadata": {
    "collapsed": false
   },
   "outputs": [
    {
     "name": "stdout",
     "output_type": "stream",
     "text": [
      "Number of duplicated beer names in beerAdvocate: 2718\n",
      "Number of duplicated beer names in rateBeer: 55\n"
     ]
    }
   ],
   "source": [
    "duplicated_beers_beerAdvocate = beerAdvocate[beerAdvocate.beer_name.duplicated()].beer_name.unique()\n",
    "duplicated_beers_rateBeer = rateBeer[rateBeer.beer_name.duplicated()].beer_name.unique()\n",
    "\n",
    "print(\"Number of duplicated beer names in beerAdvocate: %i\"%(len(duplicated_beers_beerAdvocate)))\n",
    "print(\"Number of duplicated beer names in rateBeer: %i\"%(len(duplicated_beers_rateBeer)))"
   ]
  },
  {
   "cell_type": "code",
   "execution_count": 20,
   "metadata": {
    "collapsed": false
   },
   "outputs": [],
   "source": [
    "dup_beer_dup_brewery = []\n",
    "\n",
    "# Create list of tuples. \n",
    "#   First entry is the name of the duplicated beer\n",
    "#   Second entry is the list of Brewery that is duplicated\n",
    "#   Third entry is the list of indices to remove them easily.\n",
    "for dup_beer in duplicated_beers_beerAdvocate:\n",
    "    subdf = beerAdvocate[beerAdvocate.beer_name == dup_beer]\n",
    "    if any(subdf.brewery_name.duplicated()):\n",
    "        dup_beer_dup_brewery.append((dup_beer, list(subdf[subdf.brewery_name.duplicated()][\"brewery_name\"]), list(subdf[subdf.brewery_name.duplicated()].index)))"
   ]
  },
  {
   "cell_type": "code",
   "execution_count": 21,
   "metadata": {
    "collapsed": false,
    "scrolled": true
   },
   "outputs": [
    {
     "name": "stdout",
     "output_type": "stream",
     "text": [
      "Number of beers with duplicated brewery in beerAdvocate: 287\n"
     ]
    }
   ],
   "source": [
    "print(\"Number of beers with duplicated brewery in beerAdvocate: %i\"%(len(dup_beer_dup_brewery)))"
   ]
  },
  {
   "cell_type": "markdown",
   "metadata": {},
   "source": [
    "Just check how the function `duplicated` works. For example, if we have two times the same brewery, this means that we would have 3 times the same beer and the same brewery in the data set."
   ]
  },
  {
   "cell_type": "code",
   "execution_count": 22,
   "metadata": {
    "collapsed": false
   },
   "outputs": [
    {
     "data": {
      "text/plain": [
       "('Saison',\n",
       " ['Triumph Brewing Company', 'Triumph Brewing Company'],\n",
       " [22563, 43875])"
      ]
     },
     "execution_count": 22,
     "metadata": {},
     "output_type": "execute_result"
    }
   ],
   "source": [
    "dup_beer_dup_brewery[3]"
   ]
  },
  {
   "cell_type": "code",
   "execution_count": 23,
   "metadata": {
    "collapsed": false,
    "scrolled": false
   },
   "outputs": [
    {
     "data": {
      "text/html": [
       "<div>\n",
       "<table border=\"1\" class=\"dataframe\">\n",
       "  <thead>\n",
       "    <tr style=\"text-align: right;\">\n",
       "      <th></th>\n",
       "      <th>beer_id</th>\n",
       "      <th>beer_name</th>\n",
       "      <th>brewery_id</th>\n",
       "      <th>brewery_name</th>\n",
       "    </tr>\n",
       "  </thead>\n",
       "  <tbody>\n",
       "    <tr>\n",
       "      <th>17881</th>\n",
       "      <td>49387</td>\n",
       "      <td>Saison</td>\n",
       "      <td>1317</td>\n",
       "      <td>Triumph Brewing Company</td>\n",
       "    </tr>\n",
       "    <tr>\n",
       "      <th>22563</th>\n",
       "      <td>37383</td>\n",
       "      <td>Saison</td>\n",
       "      <td>15341</td>\n",
       "      <td>Triumph Brewing Company</td>\n",
       "    </tr>\n",
       "    <tr>\n",
       "      <th>43875</th>\n",
       "      <td>24385</td>\n",
       "      <td>Saison</td>\n",
       "      <td>4832</td>\n",
       "      <td>Triumph Brewing Company</td>\n",
       "    </tr>\n",
       "  </tbody>\n",
       "</table>\n",
       "</div>"
      ],
      "text/plain": [
       "       beer_id beer_name  brewery_id             brewery_name\n",
       "17881    49387    Saison        1317  Triumph Brewing Company\n",
       "22563    37383    Saison       15341  Triumph Brewing Company\n",
       "43875    24385    Saison        4832  Triumph Brewing Company"
      ]
     },
     "execution_count": 23,
     "metadata": {},
     "output_type": "execute_result"
    }
   ],
   "source": [
    "beerAdvocate[(beerAdvocate.beer_name == \"Saison\") & (beerAdvocate.brewery_name == \"Triumph Brewing Company\")]"
   ]
  },
  {
   "cell_type": "markdown",
   "metadata": {},
   "source": [
    "At this point, we imagine that the three entries are the same. But we directly see that the brewery_id is different. And if we go check the breweries on beerAdvocate, we see that the three Breweries are not at the same place but they have the same name. Therefore, we cannot say that these three beers are the same. In order to get a better similarity measure, we need to add a bit mopre information about the breweries and the beers. Here are the features we scrap from the websites:\n",
    "- For the brewery:\n",
    "    - The address\n",
    "- For the beer:\n",
    "    - The ABV (Alcohol by Volume)\n",
    "    - The Style\n",
    "\n",
    "At this point, we will not scrap the websites nor use other data. This will be done later in the project. Therefore, we just remove the duplicate indices."
   ]
  },
  {
   "cell_type": "code",
   "execution_count": 24,
   "metadata": {
    "collapsed": false
   },
   "outputs": [],
   "source": [
    "indices_to_remove = []\n",
    "for i in range(len(dup_beer_dup_brewery)):\n",
    "    indices_to_remove.extend(dup_beer_dup_brewery[i][2])"
   ]
  },
  {
   "cell_type": "code",
   "execution_count": 25,
   "metadata": {
    "collapsed": false
   },
   "outputs": [
    {
     "data": {
      "text/html": [
       "<div>\n",
       "<table border=\"1\" class=\"dataframe\">\n",
       "  <thead>\n",
       "    <tr style=\"text-align: right;\">\n",
       "      <th></th>\n",
       "      <th>beer_id</th>\n",
       "      <th>beer_name</th>\n",
       "      <th>brewery_id</th>\n",
       "      <th>brewery_name</th>\n",
       "    </tr>\n",
       "  </thead>\n",
       "  <tbody>\n",
       "    <tr>\n",
       "      <th>65667</th>\n",
       "      <td>76042</td>\n",
       "      <td>Foster's Gold</td>\n",
       "      <td>575</td>\n",
       "      <td>Foster's Group Limited</td>\n",
       "    </tr>\n",
       "    <tr>\n",
       "      <th>65668</th>\n",
       "      <td>917</td>\n",
       "      <td>Foster's Special Bitter</td>\n",
       "      <td>575</td>\n",
       "      <td>Foster's Group Limited</td>\n",
       "    </tr>\n",
       "    <tr>\n",
       "      <th>65669</th>\n",
       "      <td>918</td>\n",
       "      <td>Foster's Lager</td>\n",
       "      <td>575</td>\n",
       "      <td>Foster's Group Limited</td>\n",
       "    </tr>\n",
       "    <tr>\n",
       "      <th>65670</th>\n",
       "      <td>52642</td>\n",
       "      <td>Hefe Weissbier</td>\n",
       "      <td>5751</td>\n",
       "      <td>Bayerische Lowenbrauerei</td>\n",
       "    </tr>\n",
       "    <tr>\n",
       "      <th>65671</th>\n",
       "      <td>58058</td>\n",
       "      <td>Hefeweissbier Dunkel</td>\n",
       "      <td>5751</td>\n",
       "      <td>Bayerische Lowenbrauerei</td>\n",
       "    </tr>\n",
       "  </tbody>\n",
       "</table>\n",
       "</div>"
      ],
      "text/plain": [
       "       beer_id                beer_name  brewery_id              brewery_name\n",
       "65667    76042            Foster's Gold         575    Foster's Group Limited\n",
       "65668      917  Foster's Special Bitter         575    Foster's Group Limited\n",
       "65669      918           Foster's Lager         575    Foster's Group Limited\n",
       "65670    52642           Hefe Weissbier        5751  Bayerische Lowenbrauerei\n",
       "65671    58058     Hefeweissbier Dunkel        5751  Bayerische Lowenbrauerei"
      ]
     },
     "execution_count": 25,
     "metadata": {},
     "output_type": "execute_result"
    }
   ],
   "source": [
    "# Remove the indices in the dataset\n",
    "beerAdvocate = beerAdvocate.drop(indices_to_remove, axis=0)\n",
    "beerAdvocate.index = range(len(beerAdvocate))\n",
    "beerAdvocate.tail()"
   ]
  },
  {
   "cell_type": "markdown",
   "metadata": {},
   "source": [
    "Now, we need to the same for the rateBeer dataset."
   ]
  },
  {
   "cell_type": "code",
   "execution_count": 26,
   "metadata": {
    "collapsed": true
   },
   "outputs": [],
   "source": [
    "dup_beer_dup_brewery = []\n",
    "\n",
    "# Create list of tuples. \n",
    "#   First entry is the name of the duplicated beer\n",
    "#   Second entry is the list of Brewery that is duplicated\n",
    "#   Third entry is the list of indices to remove them easily.\n",
    "for dup_beer in duplicated_beers_rateBeer:\n",
    "    subdf = rateBeer[rateBeer.beer_name == dup_beer]\n",
    "    if any(subdf.brewery_name.duplicated()):\n",
    "        dup_beer_dup_brewery.append((dup_beer, list(subdf[subdf.brewery_name.duplicated()][\"brewery_name\"]), list(subdf[subdf.brewery_name.duplicated()].index)))"
   ]
  },
  {
   "cell_type": "code",
   "execution_count": 27,
   "metadata": {
    "collapsed": false
   },
   "outputs": [
    {
     "name": "stdout",
     "output_type": "stream",
     "text": [
      "Number of beers with duplicated brewery in beerRate: 4\n"
     ]
    }
   ],
   "source": [
    "print(\"Number of beers with duplicated brewery in beerRate: %i\"%(len(dup_beer_dup_brewery)))"
   ]
  },
  {
   "cell_type": "code",
   "execution_count": 28,
   "metadata": {
    "collapsed": false
   },
   "outputs": [
    {
     "data": {
      "text/plain": [
       "[('Traugott Simon Export', ['Udo Taubrich Betreuungs'], [9819]),\n",
       " ('Big Horn Saison',\n",
       "  ['Big Horn Brewing Company (Ram International)'],\n",
       "  [19577]),\n",
       " ('Yukon Lead Dog Ale', ['Yukon Brewing Company'], [37365]),\n",
       " ('Prison Brews Winter Ale', ['Prison Brews'], [77632])]"
      ]
     },
     "execution_count": 28,
     "metadata": {},
     "output_type": "execute_result"
    }
   ],
   "source": [
    "dup_beer_dup_brewery"
   ]
  },
  {
   "cell_type": "code",
   "execution_count": 29,
   "metadata": {
    "collapsed": true
   },
   "outputs": [],
   "source": [
    "indices_to_remove = []\n",
    "for i in range(len(dup_beer_dup_brewery)):\n",
    "    indices_to_remove.extend(dup_beer_dup_brewery[i][2])"
   ]
  },
  {
   "cell_type": "code",
   "execution_count": 30,
   "metadata": {
    "collapsed": false
   },
   "outputs": [
    {
     "data": {
      "text/html": [
       "<div>\n",
       "<table border=\"1\" class=\"dataframe\">\n",
       "  <thead>\n",
       "    <tr style=\"text-align: right;\">\n",
       "      <th></th>\n",
       "      <th>beer_id</th>\n",
       "      <th>beer_name</th>\n",
       "      <th>brewery_id</th>\n",
       "      <th>brewery_name</th>\n",
       "    </tr>\n",
       "  </thead>\n",
       "  <tbody>\n",
       "    <tr>\n",
       "      <th>110350</th>\n",
       "      <td>77397</td>\n",
       "      <td>Jelling Bryghus Frode Fredegod</td>\n",
       "      <td>8804</td>\n",
       "      <td>Jelling Bryghus</td>\n",
       "    </tr>\n",
       "    <tr>\n",
       "      <th>110351</th>\n",
       "      <td>77398</td>\n",
       "      <td>Jelling Bryghus Poppo</td>\n",
       "      <td>8804</td>\n",
       "      <td>Jelling Bryghus</td>\n",
       "    </tr>\n",
       "    <tr>\n",
       "      <th>110352</th>\n",
       "      <td>77399</td>\n",
       "      <td>Jelling Bryghus Jelling Jol</td>\n",
       "      <td>8804</td>\n",
       "      <td>Jelling Bryghus</td>\n",
       "    </tr>\n",
       "    <tr>\n",
       "      <th>110353</th>\n",
       "      <td>89887</td>\n",
       "      <td>Jelling Bryghus Jalunki</td>\n",
       "      <td>8804</td>\n",
       "      <td>Jelling Bryghus</td>\n",
       "    </tr>\n",
       "    <tr>\n",
       "      <th>110354</th>\n",
       "      <td>97191</td>\n",
       "      <td>Jelling Bryghus Sildeglimt</td>\n",
       "      <td>8804</td>\n",
       "      <td>Jelling Bryghus</td>\n",
       "    </tr>\n",
       "  </tbody>\n",
       "</table>\n",
       "</div>"
      ],
      "text/plain": [
       "        beer_id                       beer_name  brewery_id     brewery_name\n",
       "110350    77397  Jelling Bryghus Frode Fredegod        8804  Jelling Bryghus\n",
       "110351    77398           Jelling Bryghus Poppo        8804  Jelling Bryghus\n",
       "110352    77399     Jelling Bryghus Jelling Jol        8804  Jelling Bryghus\n",
       "110353    89887         Jelling Bryghus Jalunki        8804  Jelling Bryghus\n",
       "110354    97191      Jelling Bryghus Sildeglimt        8804  Jelling Bryghus"
      ]
     },
     "execution_count": 30,
     "metadata": {},
     "output_type": "execute_result"
    }
   ],
   "source": [
    "# Remove the indices in the dataset\n",
    "rateBeer = rateBeer.drop(indices_to_remove, axis=0)\n",
    "rateBeer.index = range(len(rateBeer))\n",
    "rateBeer.tail()"
   ]
  },
  {
   "cell_type": "markdown",
   "metadata": {},
   "source": [
    "### Save the cleaned data set\n",
    "\n",
    "Now that the datasets are cleaned, we can save them in a CSV format."
   ]
  },
  {
   "cell_type": "code",
   "execution_count": 31,
   "metadata": {
    "collapsed": false
   },
   "outputs": [],
   "source": [
    "beerAdvocate.to_csv('./data/beerAdvocate_cleaned.csv', index=False, encoding='utf-8')\n",
    "rateBeer.to_csv('./data/rateBeer_cleaned.csv', index=False, encoding='utf-8')"
   ]
  },
  {
   "cell_type": "markdown",
   "metadata": {},
   "source": [
    "<a id='similarity'></a>\n",
    "# Similarity\n",
    "\n",
    "In this part, we want to create a similarity measure of the beers between the two datasets. Ideally, we would create a matrix of size $N\\times M$, $N$ being the size of *RateBeer* dataset and $M$ being the size of *BeerAdvocate* dataset. But given the size of the two datasets, it's not possible. Therefore, the similarity function given [here](#sim_func) will return the five most similar objects. "
   ]
  },
  {
   "cell_type": "code",
   "execution_count": 32,
   "metadata": {
    "collapsed": false
   },
   "outputs": [],
   "source": [
    "# Read the cleaned datasets\n",
    "beerAdvocate = pd.read_csv('./data/beerAdvocate_cleaned.csv', dtype=str)\n",
    "rateBeer = pd.read_csv('./data/rateBeer_cleaned.csv', dtype=str)"
   ]
  },
  {
   "cell_type": "code",
   "execution_count": 33,
   "metadata": {
    "collapsed": false
   },
   "outputs": [
    {
     "data": {
      "text/html": [
       "<div>\n",
       "<table border=\"1\" class=\"dataframe\">\n",
       "  <thead>\n",
       "    <tr style=\"text-align: right;\">\n",
       "      <th></th>\n",
       "      <th>beer_id</th>\n",
       "      <th>beer_name</th>\n",
       "      <th>brewery_id</th>\n",
       "      <th>brewery_name</th>\n",
       "    </tr>\n",
       "  </thead>\n",
       "  <tbody>\n",
       "    <tr>\n",
       "      <th>0</th>\n",
       "      <td>14348</td>\n",
       "      <td>Eisbrau Czech</td>\n",
       "      <td>1</td>\n",
       "      <td>Plzensky Prazdroj, a. s.</td>\n",
       "    </tr>\n",
       "    <tr>\n",
       "      <th>1</th>\n",
       "      <td>19099</td>\n",
       "      <td>Primus</td>\n",
       "      <td>1</td>\n",
       "      <td>Plzensky Prazdroj, a. s.</td>\n",
       "    </tr>\n",
       "    <tr>\n",
       "      <th>2</th>\n",
       "      <td>19123</td>\n",
       "      <td>Gambrinus Pale</td>\n",
       "      <td>1</td>\n",
       "      <td>Plzensky Prazdroj, a. s.</td>\n",
       "    </tr>\n",
       "    <tr>\n",
       "      <th>3</th>\n",
       "      <td>19274</td>\n",
       "      <td>Urutislav</td>\n",
       "      <td>1</td>\n",
       "      <td>Plzensky Prazdroj, a. s.</td>\n",
       "    </tr>\n",
       "    <tr>\n",
       "      <th>4</th>\n",
       "      <td>41294</td>\n",
       "      <td>Pilsner Urquell 3.5%</td>\n",
       "      <td>1</td>\n",
       "      <td>Plzensky Prazdroj, a. s.</td>\n",
       "    </tr>\n",
       "  </tbody>\n",
       "</table>\n",
       "</div>"
      ],
      "text/plain": [
       "  beer_id             beer_name brewery_id              brewery_name\n",
       "0   14348         Eisbrau Czech          1  Plzensky Prazdroj, a. s.\n",
       "1   19099                Primus          1  Plzensky Prazdroj, a. s.\n",
       "2   19123        Gambrinus Pale          1  Plzensky Prazdroj, a. s.\n",
       "3   19274             Urutislav          1  Plzensky Prazdroj, a. s.\n",
       "4   41294  Pilsner Urquell 3.5%          1  Plzensky Prazdroj, a. s."
      ]
     },
     "execution_count": 33,
     "metadata": {},
     "output_type": "execute_result"
    }
   ],
   "source": [
    "beerAdvocate.head()"
   ]
  },
  {
   "cell_type": "code",
   "execution_count": 34,
   "metadata": {
    "collapsed": false,
    "scrolled": false
   },
   "outputs": [
    {
     "data": {
      "text/html": [
       "<div>\n",
       "<table border=\"1\" class=\"dataframe\">\n",
       "  <thead>\n",
       "    <tr style=\"text-align: right;\">\n",
       "      <th></th>\n",
       "      <th>beer_id</th>\n",
       "      <th>beer_name</th>\n",
       "      <th>brewery_id</th>\n",
       "      <th>brewery_name</th>\n",
       "    </tr>\n",
       "  </thead>\n",
       "  <tbody>\n",
       "    <tr>\n",
       "      <th>0</th>\n",
       "      <td>4</td>\n",
       "      <td>Abita Bock</td>\n",
       "      <td>1</td>\n",
       "      <td>Abita Brewing Company</td>\n",
       "    </tr>\n",
       "    <tr>\n",
       "      <th>1</th>\n",
       "      <td>10731</td>\n",
       "      <td>Abita Louisiana Red Ale</td>\n",
       "      <td>1</td>\n",
       "      <td>Abita Brewing Company</td>\n",
       "    </tr>\n",
       "    <tr>\n",
       "      <th>2</th>\n",
       "      <td>114065</td>\n",
       "      <td>Abita Select Pecan Brown Ale</td>\n",
       "      <td>1</td>\n",
       "      <td>Abita Brewing Company</td>\n",
       "    </tr>\n",
       "    <tr>\n",
       "      <th>3</th>\n",
       "      <td>114981</td>\n",
       "      <td>Abita Select Amber Ale</td>\n",
       "      <td>1</td>\n",
       "      <td>Abita Brewing Company</td>\n",
       "    </tr>\n",
       "    <tr>\n",
       "      <th>4</th>\n",
       "      <td>117017</td>\n",
       "      <td>Abita American Wheat</td>\n",
       "      <td>1</td>\n",
       "      <td>Abita Brewing Company</td>\n",
       "    </tr>\n",
       "  </tbody>\n",
       "</table>\n",
       "</div>"
      ],
      "text/plain": [
       "  beer_id                     beer_name brewery_id           brewery_name\n",
       "0       4                    Abita Bock          1  Abita Brewing Company\n",
       "1   10731       Abita Louisiana Red Ale          1  Abita Brewing Company\n",
       "2  114065  Abita Select Pecan Brown Ale          1  Abita Brewing Company\n",
       "3  114981        Abita Select Amber Ale          1  Abita Brewing Company\n",
       "4  117017          Abita American Wheat          1  Abita Brewing Company"
      ]
     },
     "execution_count": 34,
     "metadata": {},
     "output_type": "execute_result"
    }
   ],
   "source": [
    "rateBeer.head()"
   ]
  },
  {
   "cell_type": "code",
   "execution_count": 35,
   "metadata": {
    "collapsed": false
   },
   "outputs": [],
   "source": [
    "unique_rateBeer_breweries = rateBeer.brewery_name.unique()"
   ]
  },
  {
   "cell_type": "markdown",
   "metadata": {},
   "source": [
    "<a id='sim_func'></a>\n",
    "## Similarity measure\n",
    "\n",
    "The similarity measure has been thought to be the most efficient possible. Instead of computing the whole matrix of similarities, we compute the similarities using the two features separately. This function takes a line of the *beerAdvocate* dataset and test it against the *rateBeer* dataset.\n",
    "\n",
    "First, we start with the `brewery_name`. Indeed, it is possible to have beers with the same name but with different brewery. If it's the case, we cannot consider that they are the same. Therefore, we simply get the most similar `brewery_name` in the *rateBeer* dataset to the given entry of the *beerAdvocate* dataset. Then, we compute the similarity of the `beer_name` between the beers of the most similar brewery in *rateBeer* and the entry of the *beerAdvocate* dataset.\n",
    "\n",
    "To compute the similarities, we use the library [fuzzywuzzy](https://github.com/seatgeek/fuzzywuzzy). For the `brewery_name`, it's enough to use the function `token_set_ratio`. But for the beer, it's a little more complex due to all kind of changes in the name. First, we use the function `token_set_ratio`. Then, given if the name of the beer is a unique \"generic\" name or not, we use the function `ratio` or `partial_ratio` respectively. This helps to remove the elements matching together just by tokens.\n"
   ]
  },
  {
   "cell_type": "code",
   "execution_count": 74,
   "metadata": {
    "collapsed": true
   },
   "outputs": [],
   "source": [
    "def get_most_similar_brewery(brewery_test):\n",
    "    \"\"\"\n",
    "        Return the most similar brewery in the dataset rateBeer given\n",
    "        a brewery name in the beerAdvocate dataset.\n",
    "        \n",
    "        INPUT:\n",
    "            brewery_test: String of a brewery name in the beerAdvocate dataset\n",
    "            \n",
    "        OUTPUT:\n",
    "            brewery_sim: Similarity value between the brewery in the beerAdvocate dataset\n",
    "                         and the most similar brewery name in the rateBeer dataset\n",
    "                         \n",
    "            idx_best_match_brewery: Index to get the name of the brewery in the rateBeer dataset\n",
    "            \n",
    "    \n",
    "    \"\"\"\n",
    "    # Similarity of brewery_name\n",
    "    brewery_sim = np.zeros(len(unique_rateBeer_breweries))\n",
    "    for i in range(len(unique_rateBeer_breweries)):\n",
    "        brewery_sim[i] = fuzz.token_set_ratio(brewery_test, unique_rateBeer_breweries[i])/100.0\n",
    "        \n",
    "    # Get the best match\n",
    "    idx_best_match_brewery = np.argmax(brewery_sim)\n",
    "    brewery_sim = np.max(brewery_sim) \n",
    "    \n",
    "    return brewery_sim, idx_best_match_brewery\n",
    "\n",
    "def similarity_between_beers(beer_test, beers_name_beerRate):\n",
    "    \"\"\"\n",
    "        Return the list of similarity values between the beer_test from the \n",
    "        beerAdvocate dataset and a set of beers in the rateBeer dataset.\n",
    "        \n",
    "        INPUT:\n",
    "            beer_test: Name of an active beer in the beerAdvocate dataset\n",
    "            \n",
    "            beer_names_beerRate: List of beers name in the beerRate dataset\n",
    "            \n",
    "        OUTPUT:\n",
    "            beers_sim: List of similarities between the beer_test and the beers_name_beerRate\n",
    "    \n",
    "    \"\"\"\n",
    "    \n",
    "    N = len(beers_name_beerRate)\n",
    "\n",
    "    # Test the beers in previous list against beer from beerAdvocate\n",
    "    beers_sim = np.zeros(N)\n",
    "    for i in range(N):\n",
    "        # First test is done with the token_set_ratio\n",
    "        val1 = fuzz.token_set_ratio(beer_test, beers_name_beerRate[i])/100.0\n",
    "        \n",
    "        # Second test depends if the name of the beer_test has a space character.\n",
    "        # If it has a space character, a partial ratio works fine due to the possibility\n",
    "        # that the \"words\" can be swapped.\n",
    "        #\n",
    "        # If it doesn't have a space character, we need to be more strict, therefore using\n",
    "        # the ratio is better. We also add the condition that if the two names are not \n",
    "        # exactly the same, it means that the beer in beers_name_beerRate is composed\n",
    "        # of the generic name in beer_test plus some additional words => it's not the same\n",
    "        # beer. (Think about Heineken and Heinken white.)\n",
    "        \n",
    "        if \" \" in beer_test:\n",
    "            val2 = fuzz.partial_ratio(beer_test, beers_name_beerRate[i])/100.0\n",
    "        else:\n",
    "            val2 = fuzz.ratio(beer_test, beers_name_beerRate[i])/100.0\n",
    "            if val2 < 1.0:\n",
    "                val2 = val2/2.0\n",
    "\n",
    "        beers_sim[i] = val1*val2\n",
    "        \n",
    "    return beers_sim\n",
    "\n",
    "def tuple_matches(active_beer, beers_name, brewery_name, beers_sim, brewery_sim, nbr_match=5):\n",
    "    \"\"\"\n",
    "        Return a list of tuples of size number_matches with the most similar beers to the \n",
    "        test beer.\n",
    "        \n",
    "        INPUT:\n",
    "            active_beer: Name of the beer in the beerAdvocate dataset\n",
    "            \n",
    "            beer_names: List of beers name in the beerRate dataset\n",
    "            \n",
    "            breweri_name: Name of the brewery in the beerRate dataset that \n",
    "                          has the highest similarity.\n",
    "                          \n",
    "            beers_sim: List of similarity values for the beers in the beerRate dataset\n",
    "            \n",
    "            brewery_sim: Similarity value of the most matching brewery.\n",
    "            \n",
    "            number_matches: Number of best matches to return. Default is 5.\n",
    "            \n",
    "        OUTPUT:\n",
    "            matches: List of tuples with the most matching beers to the active beer\n",
    "                     in the beerAdvocate dataset.\n",
    "    \n",
    "    \"\"\" \n",
    "    \n",
    "    N = len(beers_name)\n",
    "    \n",
    "    # Get the best similarities\n",
    "    best_idx = np.argsort(beers_sim)[::-1]\n",
    "    \n",
    "    if N < 5:\n",
    "        nbr_match = N\n",
    "    \n",
    "    # Get the 5 best matches and create a tuple\n",
    "    matches = []\n",
    "    for i in range(nbr_match):\n",
    "        matches.append((beers_name[best_idx[i]], brewery_name, beers_sim[best_idx[i]]*brewery_sim))\n",
    "                \n",
    "    ## Double check \n",
    "    # If the elements have the same best values, we sort them by the \n",
    "    # difference of length between the beer names. \n",
    "    # This problem comes from the tokenisation for the similarity\n",
    "    best_sim = matches[0][2]\n",
    "    idx = [0]\n",
    "    diff_length_beer_name = [abs(len(matches[0][0])-len(active_beer))]\n",
    "    for i in range(1,nbr_match):\n",
    "        if matches[i][2] == best_sim:\n",
    "            idx.append(i)\n",
    "            diff_length_beer_name.append(abs(len(matches[i][0])-len(active_beer)))\n",
    "            \n",
    "    best_idx = np.argsort(diff_length_beer_name)\n",
    "    idx = np.asarray(idx)\n",
    "    \n",
    "    matches = np.asarray(matches)\n",
    "    \n",
    "    matches[idx] = matches[best_idx]\n",
    "    \n",
    "    return matches"
   ]
  },
  {
   "cell_type": "code",
   "execution_count": 75,
   "metadata": {
    "collapsed": false
   },
   "outputs": [],
   "source": [
    "def similarity(test):\n",
    "    \"\"\"\n",
    "        Given a line in the beerAdvocate dataset, it returns a list of tuples containing the best matches in the \n",
    "        rateBeer dataset.\n",
    "        \n",
    "        INPUT:\n",
    "            test: A line in the beerAdvocate dataset\n",
    "            \n",
    "        OUTPUT:\n",
    "            matches: a list of tuples containing the best matches in the beerRate dataset to the INPUT line.\n",
    "    \"\"\"\n",
    "    # Get brewery and beer name from beerAdvocate\n",
    "    brewery = test.brewery_name.replace(\"'\", \"\")\n",
    "    beer = test.beer_name.replace(\"'\", \"\")\n",
    "    \n",
    "    # Get the brewery in rateBeer that matches best the active brewery in the \n",
    "    # beerAdvocate dataset\n",
    "    brewery_sim, idx_best_match_brewery = get_most_similar_brewery(brewery)    \n",
    "    \n",
    "    # List of beers in rateBeer with the brewery being the best match\n",
    "    beers_name_rateBeer = list(rateBeer[rateBeer.brewery_name == unique_rateBeer_breweries[idx_best_match_brewery]].beer_name)\n",
    "    \n",
    "    # Get the similarity values for all beers in beer_names\n",
    "    beers_sim = similarity_between_beers(beer, beers_name_rateBeer)\n",
    "            \n",
    "    # Get the best matches \n",
    "    matches = tuple_matches(beer, beers_name_rateBeer, unique_rateBeer_breweries[idx_best_match_brewery], beers_sim, brewery_sim)\n",
    "                \n",
    "    return matches"
   ]
  },
  {
   "cell_type": "markdown",
   "metadata": {},
   "source": [
    "We can test here the similarity measure on single line of the *beerAdvocate* dataset."
   ]
  },
  {
   "cell_type": "code",
   "execution_count": 76,
   "metadata": {
    "collapsed": false
   },
   "outputs": [
    {
     "name": "stdout",
     "output_type": "stream",
     "text": [
      "beer_id                               1814\n",
      "beer_name       McNeill's Pullman's Porter\n",
      "brewery_id                             100\n",
      "brewery_name             McNeill's Brewery\n",
      "Name: 32, dtype: object\n",
      "\n",
      "[['McNeills Pullmans Porter' 'McNeills Brewery' '1.0']\n",
      " ['McNeills Troll' 'McNeills Brewery' '0.5767']\n",
      " ['McNeills Dubbel' 'McNeills Brewery' '0.511']\n",
      " ['McNeills Pilsner' 'McNeills Brewery' '0.5025']\n",
      " ['McNeills Kolsch' 'McNeills Brewery' '0.469']]\n"
     ]
    }
   ],
   "source": [
    "bb=32\n",
    "print(beerAdvocate.ix[bb])\n",
    "print()\n",
    "print(similarity(beerAdvocate.ix[bb]))"
   ]
  },
  {
   "cell_type": "markdown",
   "metadata": {},
   "source": [
    "Prepare the Parallel implementation"
   ]
  },
  {
   "cell_type": "code",
   "execution_count": 77,
   "metadata": {
    "collapsed": false
   },
   "outputs": [
    {
     "data": {
      "text/plain": [
       "8"
      ]
     },
     "execution_count": 77,
     "metadata": {},
     "output_type": "execute_result"
    }
   ],
   "source": [
    "nbr_jobs = multiprocessing.cpu_count()\n",
    "nbr_jobs"
   ]
  },
  {
   "cell_type": "markdown",
   "metadata": {},
   "source": [
    "Compute the list of similarities. **Warning**: On a Intel i7-6820HK CPU with 4 cores and 8 threads, it took 45 minutes."
   ]
  },
  {
   "cell_type": "code",
   "execution_count": 78,
   "metadata": {
    "collapsed": false,
    "scrolled": true
   },
   "outputs": [
    {
     "name": "stdout",
     "output_type": "stream",
     "text": [
      "CPU times: user 49.6 s, sys: 1.7 s, total: 51.3 s\n",
      "Wall time: 44min 17s\n"
     ]
    }
   ],
   "source": [
    "%%time\n",
    "M = len(beerAdvocate)\n",
    "N = len(rateBeer)\n",
    "\n",
    "sim = Parallel(n_jobs=nbr_jobs)(delayed(similarity)(beerAdvocate.ix[idx]) for idx in range(M))"
   ]
  },
  {
   "cell_type": "markdown",
   "metadata": {},
   "source": [
    "Save the list as a pickle file."
   ]
  },
  {
   "cell_type": "code",
   "execution_count": 79,
   "metadata": {
    "collapsed": true
   },
   "outputs": [],
   "source": [
    "pickle.dump(sim, open('./data/similarity.pickle', \"wb\"))"
   ]
  },
  {
   "cell_type": "markdown",
   "metadata": {},
   "source": [
    "<a id='matching'></a>\n",
    "# Matching the beers\n",
    "\n",
    "Now, we want to match the beers together and create a new pandas DataFrame with the beers that are the same in the two datasets.\n",
    "\n",
    "First, we can load the pickle file. **Warning**: Don't forget to unzip it if you did not run the [similarity](#similarity) section."
   ]
  },
  {
   "cell_type": "code",
   "execution_count": 4,
   "metadata": {
    "collapsed": false
   },
   "outputs": [],
   "source": [
    "# Read the cleaned datasets\n",
    "beerAdvocate = pd.read_csv('./data/beerAdvocate_cleaned.csv', dtype=str)\n",
    "rateBeer = pd.read_csv('./data/rateBeer_cleaned.csv', dtype=str)\n",
    "\n",
    "sim = pickle.load(open('./data/similarity.pickle', \"rb\"))"
   ]
  },
  {
   "cell_type": "markdown",
   "metadata": {},
   "source": [
    "Print an example of the `sim` vector."
   ]
  },
  {
   "cell_type": "code",
   "execution_count": 5,
   "metadata": {
    "collapsed": false
   },
   "outputs": [
    {
     "data": {
      "text/plain": [
       "array([['Gambrinus Svetly 10 (Desitka)', 'Plzensky Prazdroj (SABMiller)',\n",
       "        '0.89'],\n",
       "       ['Gambrinus Premium Svetly Le?ak 12',\n",
       "        'Plzensky Prazdroj (SABMiller)', '0.6141'],\n",
       "       ['Gambrinus Dry', 'Plzensky Prazdroj (SABMiller)', '0.561946'],\n",
       "       ['Gambrinus Bile', 'Plzensky Prazdroj (SABMiller)', '0.548418'],\n",
       "       ['Gambrinus Nefiltrovane Sv?tle', 'Plzensky Prazdroj (SABMiller)',\n",
       "        '0.4806']], \n",
       "      dtype='<U33')"
      ]
     },
     "execution_count": 5,
     "metadata": {},
     "output_type": "execute_result"
    }
   ],
   "source": [
    "sim[8]"
   ]
  },
  {
   "cell_type": "markdown",
   "metadata": {},
   "source": [
    "Here, we can choose to check the first and second (or even more) best matches. But after checking many different examples, we see that if we also use the second element it won't be better. Therefore, we simply want to create the array of best maching beers and breweries by taking the first element in the `sim` list."
   ]
  },
  {
   "cell_type": "code",
   "execution_count": 6,
   "metadata": {
    "collapsed": false
   },
   "outputs": [],
   "source": [
    "best_sim = np.zeros(len(sim))\n",
    "best_match_beer = []\n",
    "best_match_brewery = []"
   ]
  },
  {
   "cell_type": "code",
   "execution_count": 7,
   "metadata": {
    "collapsed": false
   },
   "outputs": [],
   "source": [
    "for i in range(len(sim)):\n",
    "    best_sim[i] = sim[i][0][2]\n",
    "    best_match_beer.append(sim[i][0][0])\n",
    "    best_match_brewery.append(sim[i][0][1])"
   ]
  },
  {
   "cell_type": "markdown",
   "metadata": {},
   "source": [
    "Create a new DataFrame."
   ]
  },
  {
   "cell_type": "code",
   "execution_count": 8,
   "metadata": {
    "collapsed": true
   },
   "outputs": [],
   "source": [
    "matching_beers = beerAdvocate.copy()"
   ]
  },
  {
   "cell_type": "code",
   "execution_count": 9,
   "metadata": {
    "collapsed": false
   },
   "outputs": [],
   "source": [
    "matching_beers.columns = [s + '_beerAdvocate' for s in matching_beers.columns]"
   ]
  },
  {
   "cell_type": "code",
   "execution_count": 10,
   "metadata": {
    "collapsed": true
   },
   "outputs": [],
   "source": [
    "matching_beers['beer_name_rateBeer'] = best_match_beer\n",
    "matching_beers['brewery_name_rateBeer'] = best_match_brewery\n",
    "matching_beers['similarity'] = best_sim"
   ]
  },
  {
   "cell_type": "code",
   "execution_count": 11,
   "metadata": {
    "collapsed": false,
    "scrolled": false
   },
   "outputs": [
    {
     "data": {
      "text/html": [
       "<div>\n",
       "<table border=\"1\" class=\"dataframe\">\n",
       "  <thead>\n",
       "    <tr style=\"text-align: right;\">\n",
       "      <th></th>\n",
       "      <th>beer_id_beerAdvocate</th>\n",
       "      <th>beer_name_beerAdvocate</th>\n",
       "      <th>brewery_id_beerAdvocate</th>\n",
       "      <th>brewery_name_beerAdvocate</th>\n",
       "      <th>beer_name_rateBeer</th>\n",
       "      <th>brewery_name_rateBeer</th>\n",
       "      <th>similarity</th>\n",
       "    </tr>\n",
       "  </thead>\n",
       "  <tbody>\n",
       "    <tr>\n",
       "      <th>0</th>\n",
       "      <td>14348</td>\n",
       "      <td>Eisbrau Czech</td>\n",
       "      <td>1</td>\n",
       "      <td>Plzensky Prazdroj, a. s.</td>\n",
       "      <td>Eisbrau Czech</td>\n",
       "      <td>Plzensky Prazdroj (SABMiller)</td>\n",
       "      <td>0.890000</td>\n",
       "    </tr>\n",
       "    <tr>\n",
       "      <th>1</th>\n",
       "      <td>19099</td>\n",
       "      <td>Primus</td>\n",
       "      <td>1</td>\n",
       "      <td>Plzensky Prazdroj, a. s.</td>\n",
       "      <td>Primus Sv&amp;#283tle (Pale)</td>\n",
       "      <td>Plzensky Prazdroj (SABMiller)</td>\n",
       "      <td>0.178000</td>\n",
       "    </tr>\n",
       "    <tr>\n",
       "      <th>2</th>\n",
       "      <td>19123</td>\n",
       "      <td>Gambrinus Pale</td>\n",
       "      <td>1</td>\n",
       "      <td>Plzensky Prazdroj, a. s.</td>\n",
       "      <td>Gambrinus Bile</td>\n",
       "      <td>Plzensky Prazdroj (SABMiller)</td>\n",
       "      <td>0.658244</td>\n",
       "    </tr>\n",
       "    <tr>\n",
       "      <th>3</th>\n",
       "      <td>19274</td>\n",
       "      <td>Urutislav</td>\n",
       "      <td>1</td>\n",
       "      <td>Plzensky Prazdroj, a. s.</td>\n",
       "      <td>Pilsner Urquell</td>\n",
       "      <td>Plzensky Prazdroj (SABMiller)</td>\n",
       "      <td>0.046992</td>\n",
       "    </tr>\n",
       "    <tr>\n",
       "      <th>4</th>\n",
       "      <td>41294</td>\n",
       "      <td>Pilsner Urquell 3.5%</td>\n",
       "      <td>1</td>\n",
       "      <td>Plzensky Prazdroj, a. s.</td>\n",
       "      <td>Pilsner Urquell 3.5%</td>\n",
       "      <td>Plzensky Prazdroj (SABMiller)</td>\n",
       "      <td>0.890000</td>\n",
       "    </tr>\n",
       "  </tbody>\n",
       "</table>\n",
       "</div>"
      ],
      "text/plain": [
       "  beer_id_beerAdvocate beer_name_beerAdvocate brewery_id_beerAdvocate  \\\n",
       "0                14348          Eisbrau Czech                       1   \n",
       "1                19099                 Primus                       1   \n",
       "2                19123         Gambrinus Pale                       1   \n",
       "3                19274              Urutislav                       1   \n",
       "4                41294   Pilsner Urquell 3.5%                       1   \n",
       "\n",
       "  brewery_name_beerAdvocate        beer_name_rateBeer  \\\n",
       "0  Plzensky Prazdroj, a. s.             Eisbrau Czech   \n",
       "1  Plzensky Prazdroj, a. s.  Primus Sv&#283tle (Pale)   \n",
       "2  Plzensky Prazdroj, a. s.            Gambrinus Bile   \n",
       "3  Plzensky Prazdroj, a. s.          Pilsner Urquell    \n",
       "4  Plzensky Prazdroj, a. s.      Pilsner Urquell 3.5%   \n",
       "\n",
       "           brewery_name_rateBeer  similarity  \n",
       "0  Plzensky Prazdroj (SABMiller)    0.890000  \n",
       "1  Plzensky Prazdroj (SABMiller)    0.178000  \n",
       "2  Plzensky Prazdroj (SABMiller)    0.658244  \n",
       "3  Plzensky Prazdroj (SABMiller)    0.046992  \n",
       "4  Plzensky Prazdroj (SABMiller)    0.890000  "
      ]
     },
     "execution_count": 11,
     "metadata": {},
     "output_type": "execute_result"
    }
   ],
   "source": [
    "matching_beers.head()\n"
   ]
  },
  {
   "cell_type": "markdown",
   "metadata": {},
   "source": [
    "Let's sort the DataFrame by the similarity value."
   ]
  },
  {
   "cell_type": "code",
   "execution_count": 12,
   "metadata": {
    "collapsed": false
   },
   "outputs": [],
   "source": [
    "matching_beers.sort_values(by='similarity', ascending=False, inplace=True)\n",
    "matching_beers.index = range(len(matching_beers))"
   ]
  },
  {
   "cell_type": "code",
   "execution_count": 13,
   "metadata": {
    "collapsed": false,
    "scrolled": true
   },
   "outputs": [
    {
     "data": {
      "text/plain": [
       "count    65672.000000\n",
       "mean         0.540447\n",
       "std          0.371982\n",
       "min          0.000000\n",
       "25%          0.174300\n",
       "50%          0.477400\n",
       "75%          1.000000\n",
       "max          1.000000\n",
       "Name: similarity, dtype: float64"
      ]
     },
     "execution_count": 13,
     "metadata": {},
     "output_type": "execute_result"
    }
   ],
   "source": [
    "matching_beers.similarity.describe()"
   ]
  },
  {
   "cell_type": "markdown",
   "metadata": {},
   "source": [
    "Let's plot the histogram of the similarity values."
   ]
  },
  {
   "cell_type": "code",
   "execution_count": 14,
   "metadata": {
    "collapsed": false,
    "scrolled": true
   },
   "outputs": [
    {
     "data": {
      "text/plain": [
       "<function matplotlib.pyplot.show>"
      ]
     },
     "execution_count": 14,
     "metadata": {},
     "output_type": "execute_result"
    },
    {
     "data": {
      "image/png": "[encoded data removed]",
      "text/plain": [
       "<matplotlib.figure.Figure at 0x7f8a66426ba8>"
      ]
     },
     "metadata": {},
     "output_type": "display_data"
    }
   ],
   "source": [
    "plt.hist(list(matching_beers.similarity), 50)\n",
    "plt.xlabel('Similarity value')\n",
    "plt.ylabel('Number of entries')\n",
    "plt.show"
   ]
  },
  {
   "cell_type": "markdown",
   "metadata": {},
   "source": [
    "We plot it again but without the similarity equal to 1."
   ]
  },
  {
   "cell_type": "code",
   "execution_count": 15,
   "metadata": {
    "collapsed": false
   },
   "outputs": [
    {
     "data": {
      "text/plain": [
       "<function matplotlib.pyplot.show>"
      ]
     },
     "execution_count": 15,
     "metadata": {},
     "output_type": "execute_result"
    },
    {
     "data": {
      "image/png": "[encoded data removed]",
      "text/plain": [
       "<matplotlib.figure.Figure at 0x7f8a65f8d630>"
      ]
     },
     "metadata": {},
     "output_type": "display_data"
    }
   ],
   "source": [
    "plt.hist(list(matching_beers[matching_beers.similarity < 1].similarity), 50)\n",
    "plt.xlabel('Similarity value')\n",
    "plt.ylabel('Number of entries')\n",
    "plt.show"
   ]
  },
  {
   "cell_type": "markdown",
   "metadata": {},
   "source": [
    "This histogram is really interesting. We see that we have a lot of beers where the matching is really good. So, if we want to be sure with a very high probability that the beers are the same, then we can choose to take only the entries with a similarity value of 1. But we will loose some beers.\n",
    "\n",
    "In order to choose a good threshold value, we need to compute the recall and precision. In order to compute it, we first manually labelled some matching as `True` for True positive and `False` as False positive. The first thing we need to do is to compute intervals (on the similarity values) such that the number of entries in each interval is the same."
   ]
  },
  {
   "cell_type": "code",
   "execution_count": 16,
   "metadata": {
    "collapsed": false
   },
   "outputs": [],
   "source": [
    "def intervals(matching_beers, nbr_intervals):\n",
    "    \"\"\"\n",
    "        Create intervals with same number of entries in each interval.\n",
    "        \n",
    "        The first interval is when the similarity is equal to 1. \n",
    "    \"\"\"\n",
    "    df_without_one = matching_beers[matching_beers.similarity < 1]\n",
    "    N = len(df_without_one)\n",
    "    \n",
    "    nbr_per_interval = round(N/nbr_intervals)\n",
    "    \n",
    "    sim_values = [1.0]\n",
    "    indices = [0]\n",
    "    \n",
    "    for i in range(nbr_intervals):\n",
    "        idx = df_without_one.index[i*nbr_per_interval]\n",
    "        indices.append(idx)\n",
    "        sim_values.append(df_without_one.similarity[idx])\n",
    "        \n",
    "    idx = df_without_one.index[-1]\n",
    "    indices.append(idx+1)\n",
    "    sim_values.append(df_without_one.similarity[idx])\n",
    "    \n",
    "    return indices, sim_values \n",
    "\n",
    "def pick_random_entries(dataframe, index_start, index_end, number_entries):\n",
    "    \"\"\n",
    "    list_random_index = random.sample(range(index_start, index_end), number_entries)\n",
    "    list_random_index.sort()\n",
    "    \n",
    "    random_entries = dataframe.ix[list_random_index][['beer_name_beerAdvocate', 'beer_name_rateBeer', 'brewery_name_beerAdvocate', 'brewery_name_rateBeer', 'similarity']]\n",
    "    \n",
    "    for i in random_entries.index:\n",
    "        print(i)\n",
    "    \n",
    "    return random_entries\n",
    "    "
   ]
  },
  {
   "cell_type": "code",
   "execution_count": 17,
   "metadata": {
    "collapsed": false
   },
   "outputs": [
    {
     "name": "stdout",
     "output_type": "stream",
     "text": [
      "[0, 17495, 19101, 20707, 22313, 23919, 25525, 27131, 28737, 30343, 31949, 33555, 35161, 36767, 38373, 39979, 41585, 43191, 44797, 46403, 48009, 49615, 51221, 52827, 54433, 56039, 57645, 59251, 60857, 62463, 64069, 65672]\n",
      "[1.0, 0.98999999999999999, 0.93000000000000005, 0.91180000000000005, 0.88, 0.81000000000000005, 0.75, 0.69420000000000004, 0.63959999999999995, 0.57620000000000005, 0.51600000000000001, 0.44968000000000002, 0.39483099999999999, 0.34999999999999998, 0.31781399999999999, 0.28999999999999998, 0.26500000000000001, 0.24360000000000001, 0.22259999999999999, 0.20335, 0.1862, 0.1711, 0.1575, 0.14422199999999999, 0.13147200000000001, 0.1188, 0.10607999999999999, 0.092450000000000004, 0.076787999999999995, 0.055759999999999997, 0.031433999999999997, 0.0]\n"
     ]
    }
   ],
   "source": [
    "indices, sim_values = intervals(matching_beers, 30)\n",
    "print(indices)\n",
    "print(sim_values)"
   ]
  },
  {
   "cell_type": "code",
   "execution_count": 18,
   "metadata": {
    "collapsed": false,
    "scrolled": false
   },
   "outputs": [
    {
     "name": "stdout",
     "output_type": "stream",
     "text": [
      "491\n",
      "528\n",
      "1311\n",
      "3722\n",
      "3874\n",
      "4640\n",
      "5386\n",
      "5501\n",
      "6044\n",
      "6323\n",
      "7450\n",
      "8336\n",
      "9108\n",
      "11047\n",
      "11945\n",
      "13582\n",
      "14211\n",
      "16921\n",
      "17274\n",
      "17473\n"
     ]
    },
    {
     "data": {
      "text/html": [
       "<div>\n",
       "<table border=\"1\" class=\"dataframe\">\n",
       "  <thead>\n",
       "    <tr style=\"text-align: right;\">\n",
       "      <th></th>\n",
       "      <th>beer_name_beerAdvocate</th>\n",
       "      <th>beer_name_rateBeer</th>\n",
       "      <th>brewery_name_beerAdvocate</th>\n",
       "      <th>brewery_name_rateBeer</th>\n",
       "      <th>similarity</th>\n",
       "    </tr>\n",
       "  </thead>\n",
       "  <tbody>\n",
       "    <tr>\n",
       "      <th>491</th>\n",
       "      <td>Pulaski Porter</td>\n",
       "      <td>Blacksmith Pulaski Porter</td>\n",
       "      <td>Blacksmith Brewing</td>\n",
       "      <td>Blacksmith Brewing Company</td>\n",
       "      <td>1.0</td>\n",
       "    </tr>\n",
       "    <tr>\n",
       "      <th>528</th>\n",
       "      <td>Loaders Light</td>\n",
       "      <td>Six Rivers Loaders Light</td>\n",
       "      <td>Six Rivers Brewery</td>\n",
       "      <td>Six Rivers Brewery</td>\n",
       "      <td>1.0</td>\n",
       "    </tr>\n",
       "    <tr>\n",
       "      <th>1311</th>\n",
       "      <td>Victory Ale</td>\n",
       "      <td>Batemans Victory Ale (Cask)</td>\n",
       "      <td>George Bateman and Son Ltd. / Batemans Brewery</td>\n",
       "      <td>Batemans</td>\n",
       "      <td>1.0</td>\n",
       "    </tr>\n",
       "    <tr>\n",
       "      <th>3722</th>\n",
       "      <td>Belgo Sutra</td>\n",
       "      <td>Magic Hat Belgo Sutra</td>\n",
       "      <td>Magic Hat Brewing Company</td>\n",
       "      <td>Magic Hat Brewing Company</td>\n",
       "      <td>1.0</td>\n",
       "    </tr>\n",
       "    <tr>\n",
       "      <th>3874</th>\n",
       "      <td>HopCat Raging Centaur</td>\n",
       "      <td>HopCat Raging Centaur</td>\n",
       "      <td>HopCat</td>\n",
       "      <td>HopCat</td>\n",
       "      <td>1.0</td>\n",
       "    </tr>\n",
       "    <tr>\n",
       "      <th>4640</th>\n",
       "      <td>Ketterer Schutzen-Bock</td>\n",
       "      <td>Ketterer Schutzen-Bock</td>\n",
       "      <td>Privatbrauerei M. Ketterer GmbH &amp; Co.</td>\n",
       "      <td>Privatbrauerei Ketterer</td>\n",
       "      <td>1.0</td>\n",
       "    </tr>\n",
       "    <tr>\n",
       "      <th>5386</th>\n",
       "      <td>62 Pilsner</td>\n",
       "      <td>Coopers 62 Pilsner</td>\n",
       "      <td>Coopers Brewery Limited</td>\n",
       "      <td>Coopers Brewery</td>\n",
       "      <td>1.0</td>\n",
       "    </tr>\n",
       "    <tr>\n",
       "      <th>5501</th>\n",
       "      <td>Front Range</td>\n",
       "      <td>Square One Front Range</td>\n",
       "      <td>Square One Brewery</td>\n",
       "      <td>Square One Brewery</td>\n",
       "      <td>1.0</td>\n",
       "    </tr>\n",
       "    <tr>\n",
       "      <th>6044</th>\n",
       "      <td>Ice Pick Ale</td>\n",
       "      <td>Silverton Ice Pick Ale</td>\n",
       "      <td>Silverton Brewery</td>\n",
       "      <td>Silverton Brewery</td>\n",
       "      <td>1.0</td>\n",
       "    </tr>\n",
       "    <tr>\n",
       "      <th>6323</th>\n",
       "      <td>Drop Dead Red</td>\n",
       "      <td>Klamath Basin Drop Dead Red</td>\n",
       "      <td>Klamath Basin Brewing Co. - The Creamery Brew ...</td>\n",
       "      <td>Klamath Basin Brewing / The Creamery Brew Pub ...</td>\n",
       "      <td>1.0</td>\n",
       "    </tr>\n",
       "    <tr>\n",
       "      <th>7450</th>\n",
       "      <td>Fountain City Amber</td>\n",
       "      <td>75th Street Fountain City Amber</td>\n",
       "      <td>75th Street Brewery</td>\n",
       "      <td>75th Street Brewery</td>\n",
       "      <td>1.0</td>\n",
       "    </tr>\n",
       "    <tr>\n",
       "      <th>8336</th>\n",
       "      <td>Dominion Stout</td>\n",
       "      <td>Dominion Stout</td>\n",
       "      <td>Old Dominion Brewing Co.</td>\n",
       "      <td>Old Dominion Brewing Company (Coastal Brewing ...</td>\n",
       "      <td>1.0</td>\n",
       "    </tr>\n",
       "    <tr>\n",
       "      <th>9108</th>\n",
       "      <td>Wooden Ringer</td>\n",
       "      <td>Earth Wooden Ringer</td>\n",
       "      <td>Earth Bread + Brewery</td>\n",
       "      <td>Earth Bread + Brewery</td>\n",
       "      <td>1.0</td>\n",
       "    </tr>\n",
       "    <tr>\n",
       "      <th>11047</th>\n",
       "      <td>Bruch Zwickel</td>\n",
       "      <td>Bruch Zwickel</td>\n",
       "      <td>Brauerei G.A. Bruch</td>\n",
       "      <td>Brauerei G.A. Bruch</td>\n",
       "      <td>1.0</td>\n",
       "    </tr>\n",
       "    <tr>\n",
       "      <th>11945</th>\n",
       "      <td>Farmhand Ale</td>\n",
       "      <td>Driftwood Farmhand Ale</td>\n",
       "      <td>Driftwood Brewery</td>\n",
       "      <td>Driftwood Brewery ( Canada )</td>\n",
       "      <td>1.0</td>\n",
       "    </tr>\n",
       "    <tr>\n",
       "      <th>13582</th>\n",
       "      <td>Alpha Pale Ale</td>\n",
       "      <td>Matilda Bay Alpha Pale Ale</td>\n",
       "      <td>Matilda Bay Brewing Co.</td>\n",
       "      <td>Matilda Bay Brewing Co. (CUB)</td>\n",
       "      <td>1.0</td>\n",
       "    </tr>\n",
       "    <tr>\n",
       "      <th>14211</th>\n",
       "      <td>Centennial Silver Foam</td>\n",
       "      <td>Grand Rapids Centennial Silver Foam</td>\n",
       "      <td>Grand Rapids Brewing Co</td>\n",
       "      <td>Grand Rapids Brewing Co.</td>\n",
       "      <td>1.0</td>\n",
       "    </tr>\n",
       "    <tr>\n",
       "      <th>16921</th>\n",
       "      <td>Dopple Bock</td>\n",
       "      <td>Sprecher Dopple Bock</td>\n",
       "      <td>Sprecher Brewing Company</td>\n",
       "      <td>Sprecher Brewing Company</td>\n",
       "      <td>1.0</td>\n",
       "    </tr>\n",
       "    <tr>\n",
       "      <th>17274</th>\n",
       "      <td>Founders Bourbon Del Noche</td>\n",
       "      <td>Founders Bourbon Del Noche</td>\n",
       "      <td>Founders Brewing Company</td>\n",
       "      <td>Founders Brewing Company</td>\n",
       "      <td>1.0</td>\n",
       "    </tr>\n",
       "    <tr>\n",
       "      <th>17473</th>\n",
       "      <td>Founders Breakfast Stout</td>\n",
       "      <td>Founders Breakfast Stout</td>\n",
       "      <td>Founders Brewing Company</td>\n",
       "      <td>Founders Brewing Company</td>\n",
       "      <td>1.0</td>\n",
       "    </tr>\n",
       "  </tbody>\n",
       "</table>\n",
       "</div>"
      ],
      "text/plain": [
       "           beer_name_beerAdvocate                   beer_name_rateBeer  \\\n",
       "491                Pulaski Porter            Blacksmith Pulaski Porter   \n",
       "528                 Loaders Light             Six Rivers Loaders Light   \n",
       "1311                  Victory Ale          Batemans Victory Ale (Cask)   \n",
       "3722                  Belgo Sutra                Magic Hat Belgo Sutra   \n",
       "3874        HopCat Raging Centaur                HopCat Raging Centaur   \n",
       "4640       Ketterer Schutzen-Bock               Ketterer Schutzen-Bock   \n",
       "5386                   62 Pilsner                   Coopers 62 Pilsner   \n",
       "5501                  Front Range               Square One Front Range   \n",
       "6044                 Ice Pick Ale               Silverton Ice Pick Ale   \n",
       "6323                Drop Dead Red          Klamath Basin Drop Dead Red   \n",
       "7450          Fountain City Amber      75th Street Fountain City Amber   \n",
       "8336               Dominion Stout                       Dominion Stout   \n",
       "9108                Wooden Ringer                  Earth Wooden Ringer   \n",
       "11047               Bruch Zwickel                        Bruch Zwickel   \n",
       "11945                Farmhand Ale               Driftwood Farmhand Ale   \n",
       "13582              Alpha Pale Ale           Matilda Bay Alpha Pale Ale   \n",
       "14211      Centennial Silver Foam  Grand Rapids Centennial Silver Foam   \n",
       "16921                 Dopple Bock                 Sprecher Dopple Bock   \n",
       "17274  Founders Bourbon Del Noche           Founders Bourbon Del Noche   \n",
       "17473    Founders Breakfast Stout             Founders Breakfast Stout   \n",
       "\n",
       "                               brewery_name_beerAdvocate  \\\n",
       "491                                   Blacksmith Brewing   \n",
       "528                                   Six Rivers Brewery   \n",
       "1311      George Bateman and Son Ltd. / Batemans Brewery   \n",
       "3722                           Magic Hat Brewing Company   \n",
       "3874                                              HopCat   \n",
       "4640               Privatbrauerei M. Ketterer GmbH & Co.   \n",
       "5386                             Coopers Brewery Limited   \n",
       "5501                                  Square One Brewery   \n",
       "6044                                   Silverton Brewery   \n",
       "6323   Klamath Basin Brewing Co. - The Creamery Brew ...   \n",
       "7450                                 75th Street Brewery   \n",
       "8336                            Old Dominion Brewing Co.   \n",
       "9108                               Earth Bread + Brewery   \n",
       "11047                                Brauerei G.A. Bruch   \n",
       "11945                                  Driftwood Brewery   \n",
       "13582                            Matilda Bay Brewing Co.   \n",
       "14211                            Grand Rapids Brewing Co   \n",
       "16921                           Sprecher Brewing Company   \n",
       "17274                           Founders Brewing Company   \n",
       "17473                           Founders Brewing Company   \n",
       "\n",
       "                                   brewery_name_rateBeer  similarity  \n",
       "491                           Blacksmith Brewing Company         1.0  \n",
       "528                                   Six Rivers Brewery         1.0  \n",
       "1311                                            Batemans         1.0  \n",
       "3722                           Magic Hat Brewing Company         1.0  \n",
       "3874                                              HopCat         1.0  \n",
       "4640                             Privatbrauerei Ketterer         1.0  \n",
       "5386                                     Coopers Brewery         1.0  \n",
       "5501                                  Square One Brewery         1.0  \n",
       "6044                                   Silverton Brewery         1.0  \n",
       "6323   Klamath Basin Brewing / The Creamery Brew Pub ...         1.0  \n",
       "7450                                 75th Street Brewery         1.0  \n",
       "8336   Old Dominion Brewing Company (Coastal Brewing ...         1.0  \n",
       "9108                               Earth Bread + Brewery         1.0  \n",
       "11047                                Brauerei G.A. Bruch         1.0  \n",
       "11945                       Driftwood Brewery ( Canada )         1.0  \n",
       "13582                      Matilda Bay Brewing Co. (CUB)         1.0  \n",
       "14211                           Grand Rapids Brewing Co.         1.0  \n",
       "16921                           Sprecher Brewing Company         1.0  \n",
       "17274                           Founders Brewing Company         1.0  \n",
       "17473                           Founders Brewing Company         1.0  "
      ]
     },
     "execution_count": 18,
     "metadata": {},
     "output_type": "execute_result"
    }
   ],
   "source": [
    "interval = 0\n",
    "pick_random_entries(matching_beers, indices[interval], indices[interval+1]-1, 20)\n"
   ]
  },
  {
   "cell_type": "markdown",
   "metadata": {},
   "source": [
    "After doing the hand labeling, we can load the file."
   ]
  },
  {
   "cell_type": "code",
   "execution_count": 19,
   "metadata": {
    "collapsed": false,
    "scrolled": false
   },
   "outputs": [
    {
     "data": {
      "text/html": [
       "<div>\n",
       "<table border=\"1\" class=\"dataframe\">\n",
       "  <thead>\n",
       "    <tr style=\"text-align: right;\">\n",
       "      <th></th>\n",
       "      <th>indices</th>\n",
       "      <th>matching</th>\n",
       "    </tr>\n",
       "  </thead>\n",
       "  <tbody>\n",
       "    <tr>\n",
       "      <th>0</th>\n",
       "      <td>0</td>\n",
       "      <td>True</td>\n",
       "    </tr>\n",
       "    <tr>\n",
       "      <th>1</th>\n",
       "      <td>288</td>\n",
       "      <td>True</td>\n",
       "    </tr>\n",
       "    <tr>\n",
       "      <th>2</th>\n",
       "      <td>1060</td>\n",
       "      <td>True</td>\n",
       "    </tr>\n",
       "    <tr>\n",
       "      <th>3</th>\n",
       "      <td>1724</td>\n",
       "      <td>True</td>\n",
       "    </tr>\n",
       "    <tr>\n",
       "      <th>4</th>\n",
       "      <td>1897</td>\n",
       "      <td>True</td>\n",
       "    </tr>\n",
       "  </tbody>\n",
       "</table>\n",
       "</div>"
      ],
      "text/plain": [
       "   indices matching\n",
       "0        0     True\n",
       "1      288     True\n",
       "2     1060     True\n",
       "3     1724     True\n",
       "4     1897     True"
      ]
     },
     "execution_count": 19,
     "metadata": {},
     "output_type": "execute_result"
    }
   ],
   "source": [
    "handLabels = pd.read_csv('./data/hand_labels.csv')\n",
    "handLabels.head()\n"
   ]
  },
  {
   "cell_type": "markdown",
   "metadata": {},
   "source": [
    "Prepare some vectors for interprating the results and choose the threshold."
   ]
  },
  {
   "cell_type": "code",
   "execution_count": 20,
   "metadata": {
    "collapsed": false
   },
   "outputs": [],
   "source": [
    "accuracy = np.zeros(len(sim_values)-1)\n",
    "# True positive rate\n",
    "tpr = np.zeros(len(sim_values)-1)\n",
    "# False positive rate\n",
    "fpr = np.zeros(len(sim_values)-1)\n",
    "\n",
    "retrieved = 0\n",
    "true_positive = 0\n",
    "false_positive = 0\n",
    "\n",
    "for i in range(len(sim_values)-1):\n",
    "    df = handLabels[(handLabels['indices'] >= indices[i]) & (handLabels['indices'] <= indices[i+1]-1)]\n",
    "    retrieved += len(df)\n",
    "    true_positive += len(df[df.matching])\n",
    "    false_positive += len(df)-len(df[df.matching])\n",
    "    \n",
    "    accuracy[i] = (true_positive)/retrieved\n",
    "    tpr[i] = true_positive\n",
    "    fpr[i] = false_positive\n",
    "\n",
    "tpr = tpr/true_positive\n",
    "fpr = fpr/false_positive"
   ]
  },
  {
   "cell_type": "markdown",
   "metadata": {},
   "source": [
    "First, we want to evaluate the ROC curve and the area under the ROC curve.\n"
   ]
  },
  {
   "cell_type": "code",
   "execution_count": 21,
   "metadata": {
    "collapsed": false,
    "scrolled": true
   },
   "outputs": [
    {
     "data": {
      "image/png": "[encoded data removed]",
      "text/plain": [
       "<matplotlib.figure.Figure at 0x7f8a63d62c50>"
      ]
     },
     "metadata": {},
     "output_type": "display_data"
    }
   ],
   "source": [
    "area = np.trapz(tpr, fpr)\n",
    "plt.plot(fpr, tpr, '-o')\n",
    "plt.xlabel('True Positive Rate')\n",
    "plt.ylabel('False Positive Rate')\n",
    "plt.title('ROC curve - Area under the curve: %.2f'%area)\n",
    "plt.show()"
   ]
  },
  {
   "cell_type": "markdown",
   "metadata": {},
   "source": [
    "We see that the area under the ROC curve is **0.96** which is excellent. \n",
    "\n",
    "Now, in order to choose the best threshold, we want to have more than 99% of accuracy. So, let's plot the accuracy."
   ]
  },
  {
   "cell_type": "code",
   "execution_count": 22,
   "metadata": {
    "collapsed": false,
    "scrolled": false
   },
   "outputs": [
    {
     "data": {
      "image/png": "[encoded data removed]",
      "text/plain": [
       "<matplotlib.figure.Figure at 0x7f8a63d62cc0>"
      ]
     },
     "metadata": {},
     "output_type": "display_data"
    }
   ],
   "source": [
    "plt.plot(sim_values[1:], accuracy, '-o')\n",
    "plt.ylabel('Precision value')\n",
    "plt.xlabel('Threshold for similarity value')\n",
    "plt.show()"
   ]
  },
  {
   "cell_type": "code",
   "execution_count": 23,
   "metadata": {
    "collapsed": false,
    "scrolled": true
   },
   "outputs": [
    {
     "data": {
      "image/png": "[encoded data removed]",
      "text/plain": [
       "<matplotlib.figure.Figure at 0x7f8a63d56828>"
      ]
     },
     "metadata": {},
     "output_type": "display_data"
    }
   ],
   "source": [
    "plt.plot(sim_values[:7], accuracy[:7], '-o')\n",
    "plt.plot([0.75, 1], [0.99, 0.99], '--', color='k')\n",
    "plt.xticks(sim_values[:7], [\"%.2f\"%i for i in sim_values[:7]], rotation='vertical')\n",
    "plt.ylabel('Precision value')\n",
    "plt.xlabel('Threshold for similarity value')\n",
    "plt.show()"
   ]
  },
  {
   "cell_type": "markdown",
   "metadata": {},
   "source": [
    "With the last graph, we see that if we want a precision of at least 99%, then we have to choose a threshold of **0.81**."
   ]
  },
  {
   "cell_type": "code",
   "execution_count": 24,
   "metadata": {
    "collapsed": false
   },
   "outputs": [
    {
     "name": "stdout",
     "output_type": "stream",
     "text": [
      "Number of good matching beers: 24038\n"
     ]
    }
   ],
   "source": [
    "threshold = 0.81 # Chosen empirically\n",
    "good_matching_beers = matching_beers[matching_beers.similarity >= threshold]\n",
    "good_matching_beers.index = range(len(good_matching_beers))\n",
    "print(\"Number of good matching beers: %i\"%len(good_matching_beers))"
   ]
  },
  {
   "cell_type": "markdown",
   "metadata": {},
   "source": [
    "Now, we want to be sure that we don't have duplicated values."
   ]
  },
  {
   "cell_type": "code",
   "execution_count": 25,
   "metadata": {
    "collapsed": false
   },
   "outputs": [
    {
     "data": {
      "text/plain": [
       "669"
      ]
     },
     "execution_count": 25,
     "metadata": {},
     "output_type": "execute_result"
    }
   ],
   "source": [
    "len(good_matching_beers[good_matching_beers.beer_name_rateBeer.duplicated()])"
   ]
  },
  {
   "cell_type": "markdown",
   "metadata": {},
   "source": [
    "Sadly, we have some duplicated values for the `beer_name_rateBeer`. Therefore, we need to find a way to remove them."
   ]
  },
  {
   "cell_type": "code",
   "execution_count": 26,
   "metadata": {
    "collapsed": true
   },
   "outputs": [],
   "source": [
    "duplicated_beer_names = good_matching_beers[good_matching_beers.beer_name_rateBeer.duplicated()].beer_name_rateBeer.unique()"
   ]
  },
  {
   "cell_type": "markdown",
   "metadata": {},
   "source": [
    "We decide that we will class the duplicated beers using the function `ratio` of the `fuzzywuzzy` library. The entry with the best ratio on the `beer_name` and the `brewery_name` will stay. The other entries will be deleted.\n",
    "\n",
    "There's just a special case. The beers with a \"generic\" name. We decide that we remove all of them if the ratio is smaller then 90%. The reason is that if we don't do that, it will match the generic name to a beer with the generic name and the smallest addition. For example, the generic name being *Heineken*, the beer *Heineken dry* will be more similary than the beer *Heineken white*. And both these beers are different from the beer with the generic name."
   ]
  },
  {
   "cell_type": "code",
   "execution_count": 27,
   "metadata": {
    "collapsed": false,
    "scrolled": false
   },
   "outputs": [
    {
     "name": "stderr",
     "output_type": "stream",
     "text": [
      "/home/gael/anaconda3/lib/python3.5/site-packages/ipykernel/__main__.py:9: SettingWithCopyWarning: \n",
      "A value is trying to be set on a copy of a slice from a DataFrame.\n",
      "Try using .loc[row_indexer,col_indexer] = value instead\n",
      "\n",
      "See the caveats in the documentation: http://pandas.pydata.org/pandas-docs/stable/indexing.html#indexing-view-versus-copy\n"
     ]
    }
   ],
   "source": [
    "index_to_remove = []\n",
    "for bn in duplicated_beer_names:\n",
    "    df = good_matching_beers[good_matching_beers.beer_name_rateBeer == bn]\n",
    "    ratio = []\n",
    "    for i in df.index:\n",
    "        val1 = fuzz.ratio(df.ix[i]['beer_name_beerAdvocate'], df.ix[i]['beer_name_rateBeer'])/100\n",
    "        val2 = fuzz.ratio(df.ix[i]['brewery_name_beerAdvocate'], df.ix[i]['brewery_name_rateBeer'])/100\n",
    "        ratio.append(val1*val2)\n",
    "    df['ratio'] = ratio\n",
    "    max_ratio = np.max(ratio)\n",
    "    beer_test = df.ix[df.index[0]].beer_name_rateBeer\n",
    "    if \" \" in beer_test:\n",
    "        index_to_remove.extend(list(df[df.ratio != max_ratio].index))\n",
    "    else:\n",
    "        if max_ratio < 0.9:\n",
    "            index_to_remove.extend(list(df.index))\n",
    "        else:\n",
    "            index_to_remove.extend(list(df[df.ratio != max_ratio].index))"
   ]
  },
  {
   "cell_type": "code",
   "execution_count": 28,
   "metadata": {
    "collapsed": false
   },
   "outputs": [],
   "source": [
    "good_matching_beers = good_matching_beers.drop(index_to_remove)\n",
    "good_matching_beers.index = range(len(good_matching_beers))"
   ]
  },
  {
   "cell_type": "markdown",
   "metadata": {},
   "source": [
    "Now that we removed some duplicated beers, we will only have the beers with the same ratio left. So, let's check the duplicated beers again."
   ]
  },
  {
   "cell_type": "code",
   "execution_count": 29,
   "metadata": {
    "collapsed": false
   },
   "outputs": [
    {
     "data": {
      "text/plain": [
       "42"
      ]
     },
     "execution_count": 29,
     "metadata": {},
     "output_type": "execute_result"
    }
   ],
   "source": [
    "len(good_matching_beers[good_matching_beers.beer_name_rateBeer.duplicated()])"
   ]
  },
  {
   "cell_type": "code",
   "execution_count": 30,
   "metadata": {
    "collapsed": true
   },
   "outputs": [],
   "source": [
    "duplicated_beer_names = good_matching_beers[good_matching_beers.beer_name_rateBeer.duplicated()].beer_name_rateBeer.unique()"
   ]
  },
  {
   "cell_type": "markdown",
   "metadata": {},
   "source": [
    "Print the duplicated beers that remain to see what is the problem."
   ]
  },
  {
   "cell_type": "code",
   "execution_count": 31,
   "metadata": {
    "collapsed": false
   },
   "outputs": [
    {
     "name": "stderr",
     "output_type": "stream",
     "text": [
      "/home/gael/anaconda3/lib/python3.5/site-packages/ipykernel/__main__.py:9: SettingWithCopyWarning: \n",
      "A value is trying to be set on a copy of a slice from a DataFrame.\n",
      "Try using .loc[row_indexer,col_indexer] = value instead\n",
      "\n",
      "See the caveats in the documentation: http://pandas.pydata.org/pandas-docs/stable/indexing.html#indexing-view-versus-copy\n"
     ]
    },
    {
     "name": "stdout",
     "output_type": "stream",
     "text": [
      "    beer_name_rateBeer beer_name_beerAdvocate  similarity   ratio\n",
      "186    Harboe Pilsner     Harboe Pilsner 3,5%         1.0  0.7744\n",
      "207    Harboe Pilsner     Harboe Pilsner 2,8%         1.0  0.7744\n",
      "\n",
      "                beer_name_rateBeer              beer_name_beerAdvocate  \\\n",
      "97   Jasper Murdocks Private Stock  Jasper Murdock's Private Stock '09   \n",
      "485  Jasper Murdocks Private Stock  Jasper Murdock's Private Stock '03   \n",
      "508  Jasper Murdocks Private Stock  Jasper Murdock's Private Stock '04   \n",
      "509  Jasper Murdocks Private Stock  Jasper Murdock's Private Stock '02   \n",
      "\n",
      "     similarity   ratio  \n",
      "97          1.0  0.8464  \n",
      "485         1.0  0.8464  \n",
      "508         1.0  0.8464  \n",
      "509         1.0  0.8464  \n",
      "\n",
      "       beer_name_rateBeer                     beer_name_beerAdvocate  \\\n",
      "1751  Bells Eccentric Ale  Bell's Eccentric Ale 2004 (Released 2005)   \n",
      "1770  Bells Eccentric Ale  Bell's Eccentric Ale 2010 (Released 2011)   \n",
      "1813  Bells Eccentric Ale  Bell's Eccentric Ale 2005 (Released 2006)   \n",
      "1832  Bells Eccentric Ale  Bell's Eccentric Ale 2008 (Released 2009)   \n",
      "1886  Bells Eccentric Ale  Bell's Eccentric Ale 2009 (Released 2010)   \n",
      "2000  Bells Eccentric Ale  Bell's Eccentric Ale 2006 (Released 2007)   \n",
      "\n",
      "      similarity   ratio  \n",
      "1751         1.0  0.3969  \n",
      "1770         1.0  0.3969  \n",
      "1813         1.0  0.3969  \n",
      "1832         1.0  0.3969  \n",
      "1886         1.0  0.3969  \n",
      "2000         1.0  0.3969  \n",
      "\n",
      "          beer_name_rateBeer                 beer_name_beerAdvocate  \\\n",
      "2208  Oppigards Summer Twist  Oppigards Summer Twist (2010 Version)   \n",
      "2309  Oppigards Summer Twist  Oppigards Summer Twist (2008 Version)   \n",
      "\n",
      "      similarity   ratio  \n",
      "2208         1.0  0.5625  \n",
      "2309         1.0  0.5625  \n",
      "\n",
      "          beer_name_rateBeer     beer_name_beerAdvocate  similarity   ratio\n",
      "7257  Portsmouth Hop Harvest  Portsmouth Hop Harvest #1         1.0  0.8836\n",
      "7302  Portsmouth Hop Harvest  Portsmouth Hop Harvest #2         1.0  0.8836\n",
      "\n",
      "                  beer_name_rateBeer beer_name_beerAdvocate  similarity  \\\n",
      "7945  Iron Horse Brass Ass Brown Ale              Brass Ass         1.0   \n",
      "7969  Iron Horse Brass Ass Brown Ale              Brown Ale         1.0   \n",
      "\n",
      "       ratio  \n",
      "7945  0.2116  \n",
      "7969  0.2116  \n",
      "\n",
      "                 beer_name_rateBeer  \\\n",
      "9618  Shepherd Neame Christmas Ale    \n",
      "9622  Shepherd Neame Christmas Ale    \n",
      "9623  Shepherd Neame Christmas Ale    \n",
      "9625  Shepherd Neame Christmas Ale    \n",
      "9627  Shepherd Neame Christmas Ale    \n",
      "\n",
      "                           beer_name_beerAdvocate  similarity   ratio  \n",
      "9618  Shepherd Neame Christmas Ale (vintage 2007)         1.0  0.6561  \n",
      "9622  Shepherd Neame Christmas Ale (vintage 2008)         1.0  0.6561  \n",
      "9623  Shepherd Neame Christmas Ale (vintage 2006)         1.0  0.6561  \n",
      "9625  Shepherd Neame Christmas Ale (vintage 2009)         1.0  0.6561  \n",
      "9627  Shepherd Neame Christmas Ale (vintage 2010)         1.0  0.6561  \n",
      "\n",
      "             beer_name_rateBeer beer_name_beerAdvocate  similarity   ratio\n",
      "10125  Big Buck Raspberry Wheat        Raspberry Wheat         1.0  0.5929\n",
      "10131  Big Buck Raspberry Wheat        Raspberry Wheat         1.0  0.5929\n",
      "\n",
      "         beer_name_rateBeer beer_name_beerAdvocate  similarity   ratio\n",
      "10126  Big Buck Naked Light       Buck Naked Light         1.0  0.7921\n",
      "10133  Big Buck Naked Light       Buck Naked Light         1.0  0.7921\n",
      "\n",
      "      beer_name_rateBeer beer_name_beerAdvocate  similarity   ratio\n",
      "10127  Big Buck Docs ESB              Doc's ESB         1.0  0.3844\n",
      "10144  Big Buck Docs ESB              Doc's ESB         1.0  0.3844\n",
      "\n",
      "        beer_name_rateBeer beer_name_beerAdvocate  similarity   ratio\n",
      "10130  Big Buck Antler Ale             Antler Ale         1.0  0.4761\n",
      "10153  Big Buck Antler Ale             Antler Ale         1.0  0.4761\n",
      "\n",
      "               beer_name_rateBeer beer_name_beerAdvocate  similarity   ratio\n",
      "10134  Big Buck Black River Stout      Black River Stout         1.0  0.6241\n",
      "10154  Big Buck Black River Stout      Black River Stout         1.0  0.6241\n",
      "\n",
      "            beer_name_rateBeer  \\\n",
      "11451  Peoples Pint Scotch Ale   \n",
      "11472  Peoples Pint Scotch Ale   \n",
      "\n",
      "                                  beer_name_beerAdvocate  similarity   ratio  \n",
      "11451                                         Scotch Ale         1.0  0.3721  \n",
      "11472  The People's Pint Scotch Ale - McShagger's Dou...         1.0  0.3721  \n",
      "\n",
      "            beer_name_rateBeer beer_name_beerAdvocate  similarity   ratio\n",
      "6572   Zerodegrees Black Lager            Black Lager         1.0  0.4225\n",
      "11577  Zerodegrees Black Lager            Black Lager         1.0  0.4225\n",
      "\n",
      "            beer_name_rateBeer                  beer_name_beerAdvocate  \\\n",
      "12409  KB Double Chocolate Ale  KB Double Chocolate Ale Second Edition   \n",
      "12410  KB Double Chocolate Ale  KB Double Chocolate Ale  First Edition   \n",
      "\n",
      "       similarity   ratio  \n",
      "12409         1.0  0.5625  \n",
      "12410         1.0  0.5625  \n",
      "\n",
      "           beer_name_rateBeer beer_name_beerAdvocate  similarity   ratio\n",
      "12446  Harpoon Saison Various         Harpoon Saison         1.0  0.6084\n",
      "12840  Harpoon Saison Various         Saison Various         1.0  0.6084\n",
      "\n",
      "          beer_name_rateBeer      beer_name_beerAdvocate  similarity   ratio\n",
      "16223  Trafalgar Hop Nouveau  Trafalgar Hop Nouveau 2009         1.0  0.7921\n",
      "16264  Trafalgar Hop Nouveau  Trafalgar Hop Nouveau 2010         1.0  0.7921\n",
      "16312  Trafalgar Hop Nouveau  Trafalgar Hop Nouveau 2011         1.0  0.7921\n",
      "\n",
      "      beer_name_rateBeer beer_name_beerAdvocate  similarity   ratio\n",
      "18292   Bulles de Vignes    Bulles De Vignes #3        0.94  0.7396\n",
      "18319   Bulles de Vignes    Bulles De Vignes #2        0.94  0.7396\n",
      "18322   Bulles de Vignes    Bulles De Vignes #1        0.94  0.7396\n",
      "\n",
      "                       beer_name_rateBeer           beer_name_beerAdvocate  \\\n",
      "20292  Baladin Super Baladin Sour Edition  Super Baladin Sour Edition 2004   \n",
      "20312  Baladin Super Baladin Sour Edition  Super Baladin Sour Edition 2005   \n",
      "\n",
      "       similarity  ratio  \n",
      "20292        0.91   0.64  \n",
      "20312        0.91   0.64  \n",
      "\n",
      "                                      beer_name_rateBeer  \\\n",
      "20809  Lucky Labrador Pavlovs Russian Imperial Stout ...   \n",
      "20832  Lucky Labrador Pavlovs Russian Imperial Stout ...   \n",
      "\n",
      "                                  beer_name_beerAdvocate  similarity   ratio  \n",
      "20809  Pavlov's Russian Imperial Stout (Pinot Noir Ba...      0.9025  0.6889  \n",
      "20832  Pavlov's Russian Imperial Stout (Port Barrel A...      0.9024  0.6889  \n",
      "\n",
      "                beer_name_rateBeer beer_name_beerAdvocate  similarity   ratio\n",
      "14152  Coniston Bluebird Bitter XB        Bluebird Bitter        1.00  0.5041\n",
      "21468  Coniston Bluebird Bitter XB     XB Bluebird Bitter        0.89  0.5041\n",
      "\n",
      "                                      beer_name_rateBeer  \\\n",
      "21584  English Ales Edinburgh Winter Ale Special Reserve   \n",
      "21585  English Ales Edinburgh Winter Ale Special Reserve   \n",
      "\n",
      "                          beer_name_beerAdvocate  similarity  ratio  \n",
      "21584  Edinburgh Winter Ale Special Reserve 2002      0.8836   0.64  \n",
      "21585  Edinburgh Winter Ale Special Reserve 2003      0.8836   0.64  \n",
      "\n",
      "         beer_name_rateBeer beer_name_beerAdvocate  similarity   ratio\n",
      "21743  Oso Belgian Dark Ale               Dark Ale        0.88  0.3249\n",
      "21770  Oso Belgian Dark Ale               Dark Ale        0.88  0.3249\n",
      "\n",
      "      beer_name_rateBeer beer_name_beerAdvocate  similarity   ratio\n",
      "22592            Laziza            Laziza Apple        0.84  0.5476\n",
      "22603            Laziza            Laziza Lemon        0.84  0.5476\n",
      "22610            Laziza            Laziza Peach        0.84  0.5476\n",
      "\n",
      "         beer_name_rateBeer beer_name_beerAdvocate  similarity   ratio\n",
      "22677  Willimantic IPA 2005   Willimantic IPA 2007    0.839325  0.9025\n",
      "22678  Willimantic IPA 2005   Willimantic IPA 2006    0.839325  0.9025\n",
      "\n",
      "          beer_name_rateBeer beer_name_beerAdvocate  similarity   ratio\n",
      "2023   Dry Dock Imperial IPA           Imperial IPA        1.00  0.5329\n",
      "22871  Dry Dock Imperial IPA           Dry Dock IPA        0.83  0.5329\n",
      "\n",
      "                      beer_name_rateBeer beer_name_beerAdvocate  similarity  \\\n",
      "3731   South Street Hop Harvest Pale Ale            Hop Harvest        1.00   \n",
      "23047  South Street Hop Harvest Pale Ale            Harvest Ale        0.82   \n",
      "\n",
      "       ratio  \n",
      "3731    0.25  \n",
      "23047   0.25  \n",
      "\n",
      "                                      beer_name_rateBeer  \\\n",
      "21755  Heater Allen Sandy Paws 2010-2011 (Baltic Porter)   \n",
      "23055  Heater Allen Sandy Paws 2010-2011 (Baltic Porter)   \n",
      "\n",
      "      beer_name_beerAdvocate  similarity   ratio  \n",
      "21755      Sandy Paws (2010)        0.88  0.2304  \n",
      "23055      Sandy Paws (2011)        0.82  0.2304  \n",
      "\n",
      "           beer_name_rateBeer        beer_name_beerAdvocate  similarity  \\\n",
      "22563  Wolavers All-American2    Wolaver's All-American Ale      0.8455   \n",
      "23223  Wolavers All-American2  Wolaver's All-American 2 Ale      0.8170   \n",
      "\n",
      "        ratio  \n",
      "22563  0.7744  \n",
      "23223  0.7744  \n",
      "\n",
      "                         beer_name_rateBeer        beer_name_beerAdvocate  \\\n",
      "23291  Dogfish Head Wet Hop American Summer  Wet Hop American Summer 2009   \n",
      "23292  Dogfish Head Wet Hop American Summer  Wet Hop American Summer 2011   \n",
      "\n",
      "       similarity   ratio  \n",
      "23291        0.81  0.5184  \n",
      "23292        0.81  0.5184  \n",
      "\n"
     ]
    }
   ],
   "source": [
    "index_to_remove = []\n",
    "for bn in duplicated_beer_names:\n",
    "    df = good_matching_beers[good_matching_beers.beer_name_rateBeer == bn]\n",
    "    ratio = []\n",
    "    for i in df.index:\n",
    "        val1 = fuzz.ratio(df.ix[i]['beer_name_beerAdvocate'], df.ix[i]['beer_name_rateBeer'])/100\n",
    "        val2 = fuzz.ratio(df.ix[i]['beer_name_rateBeer'], df.ix[i]['beer_name_beerAdvocate'])/100\n",
    "        ratio.append(val1*val2)\n",
    "    df['ratio'] = ratio \n",
    "    index_to_remove.extend(list(df.index))\n",
    "    print(df[['beer_name_rateBeer', 'beer_name_beerAdvocate', 'similarity', 'ratio']])\n",
    "    print()"
   ]
  },
  {
   "cell_type": "markdown",
   "metadata": {},
   "source": [
    "Most of the remaining duplicates are difficult to match. A good example can be this one:\n",
    "                \n",
    "                        beer_name_rateBeer         |          beer_name_beerAdvocate\n",
    "                    KB Double Chocolate Ale        |  KB Double Chocolate Ale Second Edition   \n",
    "                    KB Double Chocolate Ale        |  KB Double Chocolate Ale  First Edition\n",
    "                \n",
    "With just the name information, we cannot say which `beer_name` in the *beerAdvocate* dataset is corresponding to the one in the *rateBeer* dataset. Therefore, we decide to remove these remaining duplicates."
   ]
  },
  {
   "cell_type": "code",
   "execution_count": 32,
   "metadata": {
    "collapsed": true
   },
   "outputs": [],
   "source": [
    "good_matching_beers = good_matching_beers.drop(index_to_remove)\n",
    "good_matching_beers.index = range(len(good_matching_beers))"
   ]
  },
  {
   "cell_type": "markdown",
   "metadata": {},
   "source": [
    "We have now our **final** DataFrame of beers that matched together. We just print the number of beers we could matched and save it in a CSV file."
   ]
  },
  {
   "cell_type": "code",
   "execution_count": 33,
   "metadata": {
    "collapsed": false
   },
   "outputs": [
    {
     "name": "stdout",
     "output_type": "stream",
     "text": [
      "Number of beers that matched: 23330\n"
     ]
    }
   ],
   "source": [
    "print(\"Number of beers that matched: %i\"%len(good_matching_beers))"
   ]
  },
  {
   "cell_type": "markdown",
   "metadata": {},
   "source": [
    "We just add the ID of the *rateBeer* dataset for easier research later."
   ]
  },
  {
   "cell_type": "code",
   "execution_count": 34,
   "metadata": {
    "collapsed": false
   },
   "outputs": [],
   "source": [
    "beer_id_rateBeer = rateBeer.set_index('beer_name').to_dict()['beer_id']\n",
    "brewery_id_rateBeer = rateBeer.set_index('brewery_name').to_dict()['brewery_id']"
   ]
  },
  {
   "cell_type": "code",
   "execution_count": 35,
   "metadata": {
    "collapsed": false
   },
   "outputs": [],
   "source": [
    "beer_id_rateBeer_list = []\n",
    "brewery_id_rateBeer_list = []\n",
    "for i in range(len(good_matching_beers)):\n",
    "    beer_id_rateBeer_list.append(beer_id_rateBeer[good_matching_beers.ix[i].beer_name_rateBeer])\n",
    "    brewery_id_rateBeer_list.append(brewery_id_rateBeer[good_matching_beers.ix[i].brewery_name_rateBeer])\n",
    "good_matching_beers['beer_id_rateBeer'] = beer_id_rateBeer_list\n",
    "good_matching_beers['brewery_id_rateBeer'] = brewery_id_rateBeer_list"
   ]
  },
  {
   "cell_type": "code",
   "execution_count": 36,
   "metadata": {
    "collapsed": false
   },
   "outputs": [],
   "source": [
    "# Rearrange columns to be beautiful =)\n",
    "good_matching_beers = good_matching_beers[['beer_id_beerAdvocate', 'beer_name_beerAdvocate', 'brewery_id_beerAdvocate', 'brewery_name_beerAdvocate', 'beer_id_rateBeer', 'beer_name_rateBeer', 'brewery_id_rateBeer', 'brewery_name_rateBeer', 'similarity']]"
   ]
  },
  {
   "cell_type": "code",
   "execution_count": 37,
   "metadata": {
    "collapsed": false
   },
   "outputs": [],
   "source": [
    "# Save the Cleaned CSV\n",
    "good_matching_beers.to_csv('./data/matching_beers.csv', index=False)\n",
    "\n"
   ]
  },
  {
   "cell_type": "markdown",
   "metadata": {
    "collapsed": true
   },
   "source": [
    "<a id='further_work'></a>\n",
    "# Further work\n",
    "\n",
    "In this notebook, we created a heuristic to match beers between two datasets given their name and the name of their brewery. Some algorithms already exists for this purpose. For example, we could use the *Hungarian algorithm* (also known as the *Kuhn–Munkres algorithm*). The problem with this algorithm is that it runs in $O(n^3)$ which is way too slow for big datasets. \n",
    "\n",
    "The heuristic we created is based on the two features we have at our disposal. It is fast because it runs in $O(N\\cdot k\\cdot l)$ where $N$ is the size of the smallest dataset, $k$ is the number of unique brewery name in the big dataset and $l$ is the mean number of beer per brewery in the big dataset. \n",
    "\n",
    "This heuristic is not perfect. Indeed, while doing the hand labeling, we saw that some beers have a small similarity value even if they are matching. It is due to the strong assumption about the generic name. Indeed, we saw that some beers have a generic name in one dataset and in the other they also have the generic name plus the brewery name. Therefore, they're matching but due to the assumption they will have a low similarity value. Thus, this needs to be corrected.\n",
    "\n",
    "We can also add more features. For example, the *ABV* (Alcohol by Volume) for the beers. We can also add the address for the breweries. \n",
    "\n",
    "In conclusion, we found a fast and powerful heuristic to match beers when we only have the brewery name and the name of the beer. But this heuristic can still be upgraded to deal better with the generic names. It will also be useful to get more information about the beers and the breweries."
   ]
  }
 ],
 "metadata": {
  "anaconda-cloud": {},
  "kernelspec": {
   "display_name": "Python [conda root]",
   "language": "python",
   "name": "conda-root-py"
  },
  "language_info": {
   "codemirror_mode": {
    "name": "ipython",
    "version": 3
   },
   "file_extension": ".py",
   "mimetype": "text/x-python",
   "name": "python",
   "nbconvert_exporter": "python",
   "pygments_lexer": "ipython3",
   "version": "3.5.2"
  }
 },
 "nbformat": 4,
 "nbformat_minor": 1
}
